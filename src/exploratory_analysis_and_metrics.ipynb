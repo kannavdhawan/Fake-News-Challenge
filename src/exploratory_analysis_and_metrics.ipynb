{
  "nbformat": 4,
  "nbformat_minor": 0,
  "metadata": {
    "colab": {
      "name": "exploratory_analysis_and_metrics.ipynb",
      "provenance": [],
      "collapsed_sections": [],
      "toc_visible": true
    },
    "kernelspec": {
      "name": "python3",
      "display_name": "Python 3"
    }
  },
  "cells": [
    {
      "cell_type": "code",
      "metadata": {
        "id": "NJU2LUKTYt5d",
        "colab_type": "code",
        "colab": {}
      },
      "source": [
        "import pandas as pd\n",
        "import numpy as np \n",
        "import matplotlib.pyplot as plt\n",
        "from sklearn.metrics import accuracy_score\n",
        "from sklearn.metrics import f1_score\n",
        "from sklearn.metrics import classification_report"
      ],
      "execution_count": null,
      "outputs": []
    },
    {
      "cell_type": "code",
      "metadata": {
        "id": "5Z9ptcywXfWX",
        "colab_type": "code",
        "colab": {
          "base_uri": "https://localhost:8080/",
          "height": 120
        },
        "outputId": "47f59043-d786-4c85-a55f-05b8bf8e175b"
      },
      "source": [
        "from google.colab import drive\n",
        "drive.mount('/content/drive')"
      ],
      "execution_count": null,
      "outputs": [
        {
          "output_type": "stream",
          "text": [
            "Go to this URL in a browser: https://accounts.google.com/o/oauth2/auth?client_id=947318989803-6bn6qk8qdgf4n4g3pfee6491hc0brc4i.apps.googleusercontent.com&redirect_uri=urn%3aietf%3awg%3aoauth%3a2.0%3aoob&response_type=code&scope=email%20https%3a%2f%2fwww.googleapis.com%2fauth%2fdocs.test%20https%3a%2f%2fwww.googleapis.com%2fauth%2fdrive%20https%3a%2f%2fwww.googleapis.com%2fauth%2fdrive.photos.readonly%20https%3a%2f%2fwww.googleapis.com%2fauth%2fpeopleapi.readonly\n",
            "\n",
            "Enter your authorization code:\n",
            "··········\n",
            "Mounted at /content/drive\n"
          ],
          "name": "stdout"
        }
      ]
    },
    {
      "cell_type": "markdown",
      "metadata": {
        "id": "5Vp4oawva6bS",
        "colab_type": "text"
      },
      "source": [
        "### Importing predicted test data csv's"
      ]
    },
    {
      "cell_type": "code",
      "metadata": {
        "id": "z5Al8Zbsa1DT",
        "colab_type": "code",
        "colab": {}
      },
      "source": [
        "cnn_50=pd.read_csv('/content/drive/My Drive/fnc-1/cnn_50.csv')\n",
        "cnn_100=pd.read_csv('/content/drive/My Drive/fnc-1/cnn_100.csv')\n",
        "cnn_150=pd.read_csv('/content/drive/My Drive/fnc-1/cnn_150.csv')\n",
        "\n",
        "lstm_50=pd.read_csv('/content/drive/My Drive/fnc-1/lstm_50.csv')\n",
        "lstm_100=pd.read_csv('/content/drive/My Drive/fnc-1/lstm_100.csv')\n",
        "lstm_150=pd.read_csv('/content/drive/My Drive/fnc-1/lstm_150.csv')\n",
        "\n",
        "bi_lstm_50=pd.read_csv('/content/drive/My Drive/fnc-1/bi_lstm_50.csv')\n",
        "bi_lstm_100=pd.read_csv('/content/drive/My Drive/fnc-1/bi_lstm_100.csv')\n",
        "bi_lstm_150=pd.read_csv('/content/drive/My Drive/fnc-1/bi_lstm_150.csv')\n",
        "\n",
        "# w2v embeddings\n",
        "\n",
        "w2v_cnn_50=pd.read_csv('/content/drive/My Drive/fnc-1/w2v_cnn_50.csv')\n",
        "w2v_lstm_50=pd.read_csv('/content/drive/My Drive/fnc-1/w2v_lstm_50.csv')\n",
        "w2v_bi_lstm_50=pd.read_csv('/content/drive/My Drive/fnc-1/w2v_bi_lstm_50.csv')\n",
        "\n",
        "gradient_boosting=pd.read_csv('/content/drive/My Drive/fnc-1/gradientboost.csv')\n",
        "logistic_regression=pd.read_csv('/content/drive/My Drive/fnc-1/logistic_regression.csv')\n",
        "random_forest=pd.read_csv('/content/drive/My Drive/fnc-1/Random_Forest.csv')\n",
        "xgboost=pd.read_csv('/content/drive/My Drive/fnc-1/XGBoost.csv')\n",
        "\n",
        "bert_base=pd.read_csv('/content/drive/My Drive/fnc-1/bert_base.csv')\n",
        "\n",
        "gb_undersample=pd.read_csv('/content/drive/My Drive/fnc-1/gb_undersampled.csv')"
      ],
      "execution_count": 106,
      "outputs": []
    },
    {
      "cell_type": "markdown",
      "metadata": {
        "id": "mHr1dLtebCH_",
        "colab_type": "text"
      },
      "source": [
        "### Importing Real labels"
      ]
    },
    {
      "cell_type": "code",
      "metadata": {
        "id": "2tw8zKoYazUA",
        "colab_type": "code",
        "colab": {}
      },
      "source": [
        "real_bodies=pd.read_csv('/content/drive/My Drive/fnc-1/competition_test_bodies.csv')\n",
        "real_stances=pd.read_csv('/content/drive/My Drive/fnc-1/competition_test_stances.csv')\n",
        "\n",
        "# Importing train stances\n",
        "real_train_stances=pd.read_csv('/content/drive/My Drive/fnc-1/train_stances.csv')"
      ],
      "execution_count": null,
      "outputs": []
    },
    {
      "cell_type": "markdown",
      "metadata": {
        "id": "19VXQtCfbWsy",
        "colab_type": "text"
      },
      "source": [
        "## Exploratory analysis"
      ]
    },
    {
      "cell_type": "code",
      "metadata": {
        "id": "6j0TJ4zcdWiQ",
        "colab_type": "code",
        "colab": {
          "base_uri": "https://localhost:8080/",
          "height": 137
        },
        "outputId": "929d090d-22b7-41ea-85ba-8eb409025896"
      },
      "source": [
        "real_stances.head(3)"
      ],
      "execution_count": null,
      "outputs": [
        {
          "output_type": "execute_result",
          "data": {
            "text/html": [
              "<div>\n",
              "<style scoped>\n",
              "    .dataframe tbody tr th:only-of-type {\n",
              "        vertical-align: middle;\n",
              "    }\n",
              "\n",
              "    .dataframe tbody tr th {\n",
              "        vertical-align: top;\n",
              "    }\n",
              "\n",
              "    .dataframe thead th {\n",
              "        text-align: right;\n",
              "    }\n",
              "</style>\n",
              "<table border=\"1\" class=\"dataframe\">\n",
              "  <thead>\n",
              "    <tr style=\"text-align: right;\">\n",
              "      <th></th>\n",
              "      <th>Headline</th>\n",
              "      <th>Body ID</th>\n",
              "      <th>Stance</th>\n",
              "    </tr>\n",
              "  </thead>\n",
              "  <tbody>\n",
              "    <tr>\n",
              "      <th>0</th>\n",
              "      <td>Ferguson riots: Pregnant woman loses eye after...</td>\n",
              "      <td>2008</td>\n",
              "      <td>unrelated</td>\n",
              "    </tr>\n",
              "    <tr>\n",
              "      <th>1</th>\n",
              "      <td>Crazy Conservatives Are Sure a Gitmo Detainee ...</td>\n",
              "      <td>1550</td>\n",
              "      <td>unrelated</td>\n",
              "    </tr>\n",
              "    <tr>\n",
              "      <th>2</th>\n",
              "      <td>A Russian Guy Says His Justin Bieber Ringtone ...</td>\n",
              "      <td>2</td>\n",
              "      <td>unrelated</td>\n",
              "    </tr>\n",
              "  </tbody>\n",
              "</table>\n",
              "</div>"
            ],
            "text/plain": [
              "                                            Headline  Body ID     Stance\n",
              "0  Ferguson riots: Pregnant woman loses eye after...     2008  unrelated\n",
              "1  Crazy Conservatives Are Sure a Gitmo Detainee ...     1550  unrelated\n",
              "2  A Russian Guy Says His Justin Bieber Ringtone ...        2  unrelated"
            ]
          },
          "metadata": {
            "tags": []
          },
          "execution_count": 81
        }
      ]
    },
    {
      "cell_type": "code",
      "metadata": {
        "id": "DGQwvS4DbcGb",
        "colab_type": "code",
        "colab": {
          "base_uri": "https://localhost:8080/",
          "height": 33
        },
        "outputId": "97d75c5a-263c-4d69-f70e-96ac8a921c1d"
      },
      "source": [
        "real_stances['Stance'].unique()"
      ],
      "execution_count": null,
      "outputs": [
        {
          "output_type": "execute_result",
          "data": {
            "text/plain": [
              "array(['unrelated', 'agree', 'discuss', 'disagree'], dtype=object)"
            ]
          },
          "metadata": {
            "tags": []
          },
          "execution_count": 76
        }
      ]
    },
    {
      "cell_type": "markdown",
      "metadata": {
        "id": "LvLt0Qrtc2xq",
        "colab_type": "text"
      },
      "source": [
        "### Test data distribution"
      ]
    },
    {
      "cell_type": "code",
      "metadata": {
        "id": "L4ryGPE7b3J6",
        "colab_type": "code",
        "colab": {
          "base_uri": "https://localhost:8080/",
          "height": 33
        },
        "outputId": "6a68a245-7598-44b3-fd79-f672b5bb1c14"
      },
      "source": [
        "import collections\n",
        "test_data_dist=collections.Counter(real_stances['Stance'])\n",
        "print(\"Test Data Distribution: \",collections.Counter(real_stances['Stance']))"
      ],
      "execution_count": null,
      "outputs": [
        {
          "output_type": "stream",
          "text": [
            "Test Data Distribution:  Counter({'unrelated': 18349, 'discuss': 4464, 'agree': 1903, 'disagree': 697})\n"
          ],
          "name": "stdout"
        }
      ]
    },
    {
      "cell_type": "markdown",
      "metadata": {
        "id": "waMTw75Qc5Zb",
        "colab_type": "text"
      },
      "source": [
        "## Train Data distribution"
      ]
    },
    {
      "cell_type": "code",
      "metadata": {
        "id": "RkK54cVMdeYh",
        "colab_type": "code",
        "colab": {
          "base_uri": "https://localhost:8080/",
          "height": 137
        },
        "outputId": "7bed1cc3-5f95-4c8b-eb94-44d6ae4fe0fd"
      },
      "source": [
        "real_train_stances.head(3)"
      ],
      "execution_count": null,
      "outputs": [
        {
          "output_type": "execute_result",
          "data": {
            "text/html": [
              "<div>\n",
              "<style scoped>\n",
              "    .dataframe tbody tr th:only-of-type {\n",
              "        vertical-align: middle;\n",
              "    }\n",
              "\n",
              "    .dataframe tbody tr th {\n",
              "        vertical-align: top;\n",
              "    }\n",
              "\n",
              "    .dataframe thead th {\n",
              "        text-align: right;\n",
              "    }\n",
              "</style>\n",
              "<table border=\"1\" class=\"dataframe\">\n",
              "  <thead>\n",
              "    <tr style=\"text-align: right;\">\n",
              "      <th></th>\n",
              "      <th>Headline</th>\n",
              "      <th>Body ID</th>\n",
              "      <th>Stance</th>\n",
              "    </tr>\n",
              "  </thead>\n",
              "  <tbody>\n",
              "    <tr>\n",
              "      <th>0</th>\n",
              "      <td>Police find mass graves with at least '15 bodi...</td>\n",
              "      <td>712</td>\n",
              "      <td>unrelated</td>\n",
              "    </tr>\n",
              "    <tr>\n",
              "      <th>1</th>\n",
              "      <td>Hundreds of Palestinians flee floods in Gaza a...</td>\n",
              "      <td>158</td>\n",
              "      <td>agree</td>\n",
              "    </tr>\n",
              "    <tr>\n",
              "      <th>2</th>\n",
              "      <td>Christian Bale passes on role of Steve Jobs, a...</td>\n",
              "      <td>137</td>\n",
              "      <td>unrelated</td>\n",
              "    </tr>\n",
              "  </tbody>\n",
              "</table>\n",
              "</div>"
            ],
            "text/plain": [
              "                                            Headline  Body ID     Stance\n",
              "0  Police find mass graves with at least '15 bodi...      712  unrelated\n",
              "1  Hundreds of Palestinians flee floods in Gaza a...      158      agree\n",
              "2  Christian Bale passes on role of Steve Jobs, a...      137  unrelated"
            ]
          },
          "metadata": {
            "tags": []
          },
          "execution_count": 82
        }
      ]
    },
    {
      "cell_type": "code",
      "metadata": {
        "id": "fNOow1WhklaH",
        "colab_type": "code",
        "colab": {
          "base_uri": "https://localhost:8080/",
          "height": 33
        },
        "outputId": "8759a2e1-b148-4c27-ae8a-7b9e743bb62a"
      },
      "source": [
        "real_train_stances.shape"
      ],
      "execution_count": null,
      "outputs": [
        {
          "output_type": "execute_result",
          "data": {
            "text/plain": [
              "(49972, 3)"
            ]
          },
          "metadata": {
            "tags": []
          },
          "execution_count": 93
        }
      ]
    },
    {
      "cell_type": "code",
      "metadata": {
        "id": "0o9_7UQ0c2Lg",
        "colab_type": "code",
        "colab": {
          "base_uri": "https://localhost:8080/",
          "height": 33
        },
        "outputId": "6952ac69-56aa-48a5-d65a-4e2a6d4e8256"
      },
      "source": [
        "train_data_dist=collections.Counter(real_train_stances['Stance'])\n",
        "print(\"Train Data Distribution: \",collections.Counter(real_train_stances['Stance']))"
      ],
      "execution_count": null,
      "outputs": [
        {
          "output_type": "stream",
          "text": [
            "Train Data Distribution:  Counter({'unrelated': 36545, 'discuss': 8909, 'agree': 3678, 'disagree': 840})\n"
          ],
          "name": "stdout"
        }
      ]
    },
    {
      "cell_type": "code",
      "metadata": {
        "id": "ADy2y9SIdsgV",
        "colab_type": "code",
        "colab": {
          "base_uri": "https://localhost:8080/",
          "height": 294
        },
        "outputId": "4b23b1a3-df3c-4bcd-8461-2e4c941e7e35"
      },
      "source": [
        "plt.bar(train_data_dist.keys(),train_data_dist.values(),color=[\n",
        "                     'seagreen', 'skyblue','pink','gray'])\n",
        "plt.xlabel(\"Stance\")\n",
        "plt.ylabel('Frequency')\n",
        "plt.title('Stance Distribution at Train set')\n",
        "plt.show()"
      ],
      "execution_count": null,
      "outputs": [
        {
          "output_type": "display_data",
          "data": {
            "image/png": "[encoded data removed]",
            "text/plain": [
              "<Figure size 432x288 with 1 Axes>"
            ]
          },
          "metadata": {
            "tags": [],
            "needs_background": "light"
          }
        }
      ]
    },
    {
      "cell_type": "code",
      "metadata": {
        "id": "TumXMOrcq-on",
        "colab_type": "code",
        "colab": {}
      },
      "source": [
        ""
      ],
      "execution_count": null,
      "outputs": []
    },
    {
      "cell_type": "markdown",
      "metadata": {
        "id": "o7a9Y1wqkeuk",
        "colab_type": "text"
      },
      "source": [
        "- Total stances: 49972\n",
        "  - unrelated: 73.1%\n",
        "  - agree: 7.3%\n",
        "  - disagree:1.6%\n",
        "  - discuss:17.8%"
      ]
    },
    {
      "cell_type": "code",
      "metadata": {
        "id": "fOCzZbzLe8TN",
        "colab_type": "code",
        "colab": {
          "base_uri": "https://localhost:8080/",
          "height": 294
        },
        "outputId": "dd182712-dfd5-48e1-ebf7-702fae209616"
      },
      "source": [
        "plt.bar(test_data_dist.keys(),test_data_dist.values(),color=[\n",
        "                     'seagreen', 'skyblue','pink','gray'])\n",
        "plt.xlabel(\"Stance\")\n",
        "plt.ylabel('Frequency')\n",
        "plt.title('Stance Distribution at Test set')\n",
        "plt.show()"
      ],
      "execution_count": null,
      "outputs": [
        {
          "output_type": "display_data",
          "data": {
            "image/png": "[encoded data removed]",
            "text/plain": [
              "<Figure size 432x288 with 1 Axes>"
            ]
          },
          "metadata": {
            "tags": [],
            "needs_background": "light"
          }
        }
      ]
    },
    {
      "cell_type": "markdown",
      "metadata": {
        "id": "nrkAeoJRdcD5",
        "colab_type": "text"
      },
      "source": [
        "## Metrics"
      ]
    },
    {
      "cell_type": "code",
      "metadata": {
        "id": "dDzOSIJ8cUsf",
        "colab_type": "code",
        "colab": {}
      },
      "source": [
        "#Adapted from https://github.com/FakeNewsChallenge/fnc-1/blob/master/scorer.py\n",
        "#Original credit - @bgalbraith\n",
        "\n",
        "LABELS = ['agree', 'disagree', 'discuss', 'unrelated']\n",
        "LABELS_RELATED = ['unrelated','related']\n",
        "RELATED = LABELS[0:3]\n",
        "\n",
        "def score_submission(gold_labels, test_labels):\n",
        "    score = 0.0\n",
        "    cm = [[0, 0, 0, 0],\n",
        "          [0, 0, 0, 0],\n",
        "          [0, 0, 0, 0],\n",
        "          [0, 0, 0, 0]]\n",
        "\n",
        "    for i, (g, t) in enumerate(zip(gold_labels, test_labels)):\n",
        "        g_stance, t_stance = g, t\n",
        "        if g_stance == t_stance:\n",
        "            score += 0.25\n",
        "            if g_stance != 'unrelated':\n",
        "                score += 0.50\n",
        "        if g_stance in RELATED and t_stance in RELATED:\n",
        "            score += 0.25\n",
        "\n",
        "        cm[LABELS.index(g_stance)][LABELS.index(t_stance)] += 1\n",
        "\n",
        "    return score, cm\n",
        "\n",
        "\n",
        "def print_confusion_matrix(cm):\n",
        "    lines = []\n",
        "    header = \"|{:^11}|{:^11}|{:^11}|{:^11}|{:^11}|\".format('', *LABELS)\n",
        "    line_len = len(header)\n",
        "    lines.append(\"-\"*line_len)\n",
        "    lines.append(header)\n",
        "    lines.append(\"-\"*line_len)\n",
        "\n",
        "    hit = 0\n",
        "    total = 0\n",
        "    for i, row in enumerate(cm):\n",
        "        hit += row[i]\n",
        "        total += sum(row)\n",
        "        lines.append(\"|{:^11}|{:^11}|{:^11}|{:^11}|{:^11}|\".format(LABELS[i],\n",
        "                                                                   *row))\n",
        "        lines.append(\"-\"*line_len)\n",
        "    print('\\n'.join(lines))\n",
        "\n",
        "\n",
        "def report_score(actual,predicted):\n",
        "    score,cm = score_submission(actual,predicted)\n",
        "    best_score, _ = score_submission(actual,actual)\n",
        "\n",
        "    print_confusion_matrix(cm)\n",
        "    print(\"Score: \" +str(score) + \" out of \" + str(best_score) + \"\\t(\"+str(score*100/best_score) + \"%)\")\n",
        "    return score*100/best_score\n"
      ],
      "execution_count": null,
      "outputs": []
    },
    {
      "cell_type": "code",
      "metadata": {
        "id": "KBjyXyc6jLzq",
        "colab_type": "code",
        "colab": {}
      },
      "source": [
        "\n",
        "def calculate_f1_scores(y_true, y_predicted):\n",
        "    \n",
        "    f1_macro = f1_score(y_true, y_predicted, average='macro')\n",
        "    f1_classwise = f1_score(y_true, y_predicted, average=None, labels=[\"agree\", \"disagree\", \"discuss\", \"unrelated\"])\n",
        "\n",
        "    resultstring = \"F1 macro: {:.3f}\".format(f1_macro * 100) + \"% \\n\"\n",
        "    resultstring += \"F1 agree: {:.3f}\".format(f1_classwise[0] * 100) + \"% \\n\"\n",
        "    resultstring += \"F1 disagree: {:.3f}\".format(f1_classwise[1] * 100) + \"% \\n\"\n",
        "    resultstring += \"F1 discuss: {:.3f}\".format(f1_classwise[2] * 100) + \"% \\n\"\n",
        "    resultstring += \"F1 unrelated: {:.3f}\".format(f1_classwise[3] * 100) + \"% \\n\"\n",
        "    return resultstring"
      ],
      "execution_count": null,
      "outputs": []
    },
    {
      "cell_type": "code",
      "metadata": {
        "id": "1_E5yRDYjQB9",
        "colab_type": "code",
        "colab": {}
      },
      "source": [
        "def class_repo(labels_test,preds_test):\n",
        "    eval_report = classification_report(labels_test, preds_test)\n",
        "    print('Test report', eval_report)"
      ],
      "execution_count": null,
      "outputs": []
    },
    {
      "cell_type": "markdown",
      "metadata": {
        "id": "bC_WE3uYdG5a",
        "colab_type": "text"
      },
      "source": [
        "## Evaluating CNN 50"
      ]
    },
    {
      "cell_type": "code",
      "metadata": {
        "id": "muWIkwvScn2j",
        "colab_type": "code",
        "colab": {
          "base_uri": "https://localhost:8080/",
          "height": 233
        },
        "outputId": "c04a605e-d967-4979-fbcb-c5d30ffc2aba"
      },
      "source": [
        "report_score(real_stances['Stance'],cnn_50['Stance'])"
      ],
      "execution_count": null,
      "outputs": [
        {
          "output_type": "stream",
          "text": [
            "-------------------------------------------------------------\n",
            "|           |   agree   | disagree  |  discuss  | unrelated |\n",
            "-------------------------------------------------------------\n",
            "|   agree   |    65     |    449    |    397    |    992    |\n",
            "-------------------------------------------------------------\n",
            "| disagree  |    30     |    132    |    101    |    434    |\n",
            "-------------------------------------------------------------\n",
            "|  discuss  |    153    |    551    |   1505    |   2255    |\n",
            "-------------------------------------------------------------\n",
            "| unrelated |    310    |   1323    |   1751    |   14965   |\n",
            "-------------------------------------------------------------\n",
            "Score: 5863.5 out of 11651.25\t(50.32507241712263%)\n"
          ],
          "name": "stdout"
        },
        {
          "output_type": "execute_result",
          "data": {
            "text/plain": [
              "50.32507241712263"
            ]
          },
          "metadata": {
            "tags": []
          },
          "execution_count": 27
        }
      ]
    },
    {
      "cell_type": "code",
      "metadata": {
        "id": "M5q0AChljifv",
        "colab_type": "code",
        "colab": {
          "base_uri": "https://localhost:8080/",
          "height": 116
        },
        "outputId": "2b068d8b-08be-4f1a-b48a-46118ae10a01"
      },
      "source": [
        "print(calculate_f1_scores(real_stances['Stance'],cnn_50['Stance']))"
      ],
      "execution_count": null,
      "outputs": [
        {
          "output_type": "stream",
          "text": [
            "F1 macro: 32.797% \n",
            "F1 agree: 5.282% \n",
            "F1 disagree: 8.376% \n",
            "F1 discuss: 36.627% \n",
            "F1 unrelated: 80.903% \n",
            "\n"
          ],
          "name": "stdout"
        }
      ]
    },
    {
      "cell_type": "code",
      "metadata": {
        "id": "B-ly-CjakUUB",
        "colab_type": "code",
        "colab": {
          "base_uri": "https://localhost:8080/",
          "height": 216
        },
        "outputId": "e9efcc88-6b65-4c7b-ef28-1c4252fcf1d2"
      },
      "source": [
        "print(class_repo(real_stances['Stance'],cnn_50['Stance']))"
      ],
      "execution_count": null,
      "outputs": [
        {
          "output_type": "stream",
          "text": [
            "Test report               precision    recall  f1-score   support\n",
            "\n",
            "       agree       0.12      0.03      0.05      1903\n",
            "    disagree       0.05      0.19      0.08       697\n",
            "     discuss       0.40      0.34      0.37      4464\n",
            "   unrelated       0.80      0.82      0.81     18349\n",
            "\n",
            "    accuracy                           0.66     25413\n",
            "   macro avg       0.34      0.34      0.33     25413\n",
            "weighted avg       0.66      0.66      0.65     25413\n",
            "\n",
            "None\n"
          ],
          "name": "stdout"
        }
      ]
    },
    {
      "cell_type": "code",
      "metadata": {
        "id": "i2_7Naw9RQ64",
        "colab_type": "code",
        "colab": {
          "base_uri": "https://localhost:8080/",
          "height": 33
        },
        "outputId": "229575b3-78c4-47f1-c984-4feaa6dc52d6"
      },
      "source": [
        "print(\" Accuracy is: \",accuracy_score(real_stances['Stance'],cnn_50['Stance']))"
      ],
      "execution_count": null,
      "outputs": [
        {
          "output_type": "stream",
          "text": [
            " Accuracy is:  0.6558454334395781\n"
          ],
          "name": "stdout"
        }
      ]
    },
    {
      "cell_type": "markdown",
      "metadata": {
        "id": "bgR2KQstdZHR",
        "colab_type": "text"
      },
      "source": [
        "## Evaluating CNN 100"
      ]
    },
    {
      "cell_type": "code",
      "metadata": {
        "id": "3bQrr1oJdRBb",
        "colab_type": "code",
        "colab": {
          "base_uri": "https://localhost:8080/",
          "height": 233
        },
        "outputId": "a94c5fd0-77b8-4b5d-b685-0bbf9017f1b9"
      },
      "source": [
        "report_score(real_stances['Stance'],cnn_100['Stance'])"
      ],
      "execution_count": null,
      "outputs": [
        {
          "output_type": "stream",
          "text": [
            "-------------------------------------------------------------\n",
            "|           |   agree   | disagree  |  discuss  | unrelated |\n",
            "-------------------------------------------------------------\n",
            "|   agree   |    21     |    330    |    352    |   1200    |\n",
            "-------------------------------------------------------------\n",
            "| disagree  |    11     |    78     |    108    |    500    |\n",
            "-------------------------------------------------------------\n",
            "|  discuss  |    36     |    402    |   1089    |   2937    |\n",
            "-------------------------------------------------------------\n",
            "| unrelated |    117    |    882    |   1333    |   16017   |\n",
            "-------------------------------------------------------------\n",
            "Score: 5502.0 out of 11651.25\t(47.22240102993241%)\n"
          ],
          "name": "stdout"
        },
        {
          "output_type": "execute_result",
          "data": {
            "text/plain": [
              "47.22240102993241"
            ]
          },
          "metadata": {
            "tags": []
          },
          "execution_count": 33
        }
      ]
    },
    {
      "cell_type": "code",
      "metadata": {
        "id": "aOZkSuW8jyP3",
        "colab_type": "code",
        "colab": {
          "base_uri": "https://localhost:8080/",
          "height": 116
        },
        "outputId": "0edb2b91-611c-4595-bf66-66056eef0738"
      },
      "source": [
        "print(calculate_f1_scores(real_stances['Stance'],cnn_100['Stance']))"
      ],
      "execution_count": null,
      "outputs": [
        {
          "output_type": "stream",
          "text": [
            "F1 macro: 30.081% \n",
            "F1 agree: 2.011% \n",
            "F1 disagree: 6.530% \n",
            "F1 discuss: 29.649% \n",
            "F1 unrelated: 82.132% \n",
            "\n"
          ],
          "name": "stdout"
        }
      ]
    },
    {
      "cell_type": "code",
      "metadata": {
        "id": "YxyQyo1ukdd_",
        "colab_type": "code",
        "colab": {
          "base_uri": "https://localhost:8080/",
          "height": 216
        },
        "outputId": "1bca2c2b-9020-4a5b-83f0-9d77c5ad9222"
      },
      "source": [
        "print(class_repo(real_stances['Stance'],cnn_100['Stance']))"
      ],
      "execution_count": null,
      "outputs": [
        {
          "output_type": "stream",
          "text": [
            "Test report               precision    recall  f1-score   support\n",
            "\n",
            "       agree       0.11      0.01      0.02      1903\n",
            "    disagree       0.05      0.11      0.07       697\n",
            "     discuss       0.38      0.24      0.30      4464\n",
            "   unrelated       0.78      0.87      0.82     18349\n",
            "\n",
            "    accuracy                           0.68     25413\n",
            "   macro avg       0.33      0.31      0.30     25413\n",
            "weighted avg       0.64      0.68      0.65     25413\n",
            "\n",
            "None\n"
          ],
          "name": "stdout"
        }
      ]
    },
    {
      "cell_type": "code",
      "metadata": {
        "id": "d1TU1ZCWSAFR",
        "colab_type": "code",
        "colab": {
          "base_uri": "https://localhost:8080/",
          "height": 33
        },
        "outputId": "6e5c1a7b-ea0e-4e81-cf43-bf6d53137024"
      },
      "source": [
        "print(\" Accuracy is: \",accuracy_score(real_stances['Stance'],cnn_100['Stance']))"
      ],
      "execution_count": null,
      "outputs": [
        {
          "output_type": "stream",
          "text": [
            " Accuracy is:  0.6770157006256641\n"
          ],
          "name": "stdout"
        }
      ]
    },
    {
      "cell_type": "markdown",
      "metadata": {
        "id": "sM9A2UaGdgb_",
        "colab_type": "text"
      },
      "source": [
        "## Evaluating CNN 150"
      ]
    },
    {
      "cell_type": "code",
      "metadata": {
        "id": "VglVFQMBdd3p",
        "colab_type": "code",
        "colab": {
          "base_uri": "https://localhost:8080/",
          "height": 233
        },
        "outputId": "cd68c73e-49cb-492a-badc-a36095569f55"
      },
      "source": [
        "report_score(real_stances['Stance'],cnn_150['Stance'])"
      ],
      "execution_count": null,
      "outputs": [
        {
          "output_type": "stream",
          "text": [
            "-------------------------------------------------------------\n",
            "|           |   agree   | disagree  |  discuss  | unrelated |\n",
            "-------------------------------------------------------------\n",
            "|   agree   |    49     |    259    |    396    |   1199    |\n",
            "-------------------------------------------------------------\n",
            "| disagree  |    21     |    99     |    106    |    471    |\n",
            "-------------------------------------------------------------\n",
            "|  discuss  |    90     |    288    |   1424    |   2662    |\n",
            "-------------------------------------------------------------\n",
            "| unrelated |    250    |    984    |   2386    |   14729   |\n",
            "-------------------------------------------------------------\n",
            "Score: 5544.25 out of 11651.25\t(47.585023066194616%)\n"
          ],
          "name": "stdout"
        },
        {
          "output_type": "execute_result",
          "data": {
            "text/plain": [
              "47.585023066194616"
            ]
          },
          "metadata": {
            "tags": []
          },
          "execution_count": 37
        }
      ]
    },
    {
      "cell_type": "code",
      "metadata": {
        "id": "OPNubdtsj1yD",
        "colab_type": "code",
        "colab": {
          "base_uri": "https://localhost:8080/",
          "height": 116
        },
        "outputId": "3e5d8522-5066-4a83-e833-111f4610f630"
      },
      "source": [
        "print(calculate_f1_scores(real_stances['Stance'],cnn_150['Stance']))"
      ],
      "execution_count": null,
      "outputs": [
        {
          "output_type": "stream",
          "text": [
            "F1 macro: 30.985% \n",
            "F1 agree: 4.237% \n",
            "F1 disagree: 8.509% \n",
            "F1 discuss: 32.452% \n",
            "F1 unrelated: 78.744% \n",
            "\n"
          ],
          "name": "stdout"
        }
      ]
    },
    {
      "cell_type": "code",
      "metadata": {
        "id": "AnHVXH4JlAS8",
        "colab_type": "code",
        "colab": {
          "base_uri": "https://localhost:8080/",
          "height": 216
        },
        "outputId": "6753c1bd-86c8-4620-d34a-d313cf831167"
      },
      "source": [
        "print(class_repo(real_stances['Stance'],cnn_150['Stance']))"
      ],
      "execution_count": null,
      "outputs": [
        {
          "output_type": "stream",
          "text": [
            "Test report               precision    recall  f1-score   support\n",
            "\n",
            "       agree       0.12      0.03      0.04      1903\n",
            "    disagree       0.06      0.14      0.09       697\n",
            "     discuss       0.33      0.32      0.32      4464\n",
            "   unrelated       0.77      0.80      0.79     18349\n",
            "\n",
            "    accuracy                           0.64     25413\n",
            "   macro avg       0.32      0.32      0.31     25413\n",
            "weighted avg       0.63      0.64      0.63     25413\n",
            "\n",
            "None\n"
          ],
          "name": "stdout"
        }
      ]
    },
    {
      "cell_type": "code",
      "metadata": {
        "id": "1p67LkygSDX6",
        "colab_type": "code",
        "colab": {
          "base_uri": "https://localhost:8080/",
          "height": 33
        },
        "outputId": "7ccbf60b-a64c-47f9-e213-1c3a77ce652b"
      },
      "source": [
        "print(\" Accuracy is: \",accuracy_score(real_stances['Stance'],cnn_150['Stance']))"
      ],
      "execution_count": null,
      "outputs": [
        {
          "output_type": "stream",
          "text": [
            " Accuracy is:  0.6414433557627985\n"
          ],
          "name": "stdout"
        }
      ]
    },
    {
      "cell_type": "markdown",
      "metadata": {
        "id": "H3D5nkdDdluk",
        "colab_type": "text"
      },
      "source": [
        "## Evaluating LSTM 50 "
      ]
    },
    {
      "cell_type": "code",
      "metadata": {
        "id": "rUKOxeBxdjN2",
        "colab_type": "code",
        "colab": {
          "base_uri": "https://localhost:8080/",
          "height": 233
        },
        "outputId": "7c3c6a00-7e38-4489-a79b-d2b7ba903d26"
      },
      "source": [
        "report_score(real_stances['Stance'],lstm_50['Stance'])"
      ],
      "execution_count": null,
      "outputs": [
        {
          "output_type": "stream",
          "text": [
            "-------------------------------------------------------------\n",
            "|           |   agree   | disagree  |  discuss  | unrelated |\n",
            "-------------------------------------------------------------\n",
            "|   agree   |    33     |    336    |    267    |   1267    |\n",
            "-------------------------------------------------------------\n",
            "| disagree  |    12     |    119    |    82     |    484    |\n",
            "-------------------------------------------------------------\n",
            "|  discuss  |    18     |    337    |   1545    |   2564    |\n",
            "-------------------------------------------------------------\n",
            "| unrelated |    82     |    643    |   1385    |   16239   |\n",
            "-------------------------------------------------------------\n",
            "Score: 6019.75 out of 11651.25\t(51.6661302435361%)\n"
          ],
          "name": "stdout"
        },
        {
          "output_type": "execute_result",
          "data": {
            "text/plain": [
              "51.6661302435361"
            ]
          },
          "metadata": {
            "tags": []
          },
          "execution_count": 41
        }
      ]
    },
    {
      "cell_type": "code",
      "metadata": {
        "id": "YbhKTfEij3pz",
        "colab_type": "code",
        "colab": {
          "base_uri": "https://localhost:8080/",
          "height": 116
        },
        "outputId": "fa7cbcee-3b72-4efa-d98b-d2ec7af687b7"
      },
      "source": [
        "print(calculate_f1_scores(real_stances['Stance'],lstm_50['Stance']))"
      ],
      "execution_count": null,
      "outputs": [
        {
          "output_type": "stream",
          "text": [
            "F1 macro: 34.444% \n",
            "F1 agree: 3.223% \n",
            "F1 disagree: 11.163% \n",
            "F1 discuss: 39.907% \n",
            "F1 unrelated: 83.485% \n",
            "\n"
          ],
          "name": "stdout"
        }
      ]
    },
    {
      "cell_type": "code",
      "metadata": {
        "id": "onBBj6tulEcy",
        "colab_type": "code",
        "colab": {
          "base_uri": "https://localhost:8080/",
          "height": 216
        },
        "outputId": "8aeae51d-0f42-46ea-ef93-dd53677fbbbf"
      },
      "source": [
        "print(class_repo(real_stances['Stance'],lstm_50['Stance']))"
      ],
      "execution_count": null,
      "outputs": [
        {
          "output_type": "stream",
          "text": [
            "Test report               precision    recall  f1-score   support\n",
            "\n",
            "       agree       0.23      0.02      0.03      1903\n",
            "    disagree       0.08      0.17      0.11       697\n",
            "     discuss       0.47      0.35      0.40      4464\n",
            "   unrelated       0.79      0.89      0.83     18349\n",
            "\n",
            "    accuracy                           0.71     25413\n",
            "   macro avg       0.39      0.35      0.34     25413\n",
            "weighted avg       0.67      0.71      0.68     25413\n",
            "\n",
            "None\n"
          ],
          "name": "stdout"
        }
      ]
    },
    {
      "cell_type": "code",
      "metadata": {
        "id": "N3SdJHdRSH-x",
        "colab_type": "code",
        "colab": {
          "base_uri": "https://localhost:8080/",
          "height": 33
        },
        "outputId": "ad1e977b-7f75-4332-fc71-2a5a8d81b60b"
      },
      "source": [
        "print(\" Accuracy is: \",accuracy_score(real_stances['Stance'],lstm_50['Stance']))"
      ],
      "execution_count": null,
      "outputs": [
        {
          "output_type": "stream",
          "text": [
            " Accuracy is:  0.7057805060402156\n"
          ],
          "name": "stdout"
        }
      ]
    },
    {
      "cell_type": "markdown",
      "metadata": {
        "id": "iGjC-rmrdqFV",
        "colab_type": "text"
      },
      "source": [
        "## Evaluating LSTM 100 "
      ]
    },
    {
      "cell_type": "code",
      "metadata": {
        "id": "f8mGrn2gdq9Y",
        "colab_type": "code",
        "colab": {
          "base_uri": "https://localhost:8080/",
          "height": 233
        },
        "outputId": "61c4e50b-c66f-411b-9637-074390a2013c"
      },
      "source": [
        "report_score(real_stances['Stance'],lstm_100['Stance'])"
      ],
      "execution_count": null,
      "outputs": [
        {
          "output_type": "stream",
          "text": [
            "-------------------------------------------------------------\n",
            "|           |   agree   | disagree  |  discuss  | unrelated |\n",
            "-------------------------------------------------------------\n",
            "|   agree   |     0     |    281    |    348    |   1274    |\n",
            "-------------------------------------------------------------\n",
            "| disagree  |     0     |    90     |    94     |    513    |\n",
            "-------------------------------------------------------------\n",
            "|  discuss  |     0     |    446    |   1375    |   2643    |\n",
            "-------------------------------------------------------------\n",
            "| unrelated |     0     |   1129    |   1665    |   15555   |\n",
            "-------------------------------------------------------------\n",
            "Score: 5646.0 out of 11651.25\t(48.45831992275507%)\n"
          ],
          "name": "stdout"
        },
        {
          "output_type": "execute_result",
          "data": {
            "text/plain": [
              "48.45831992275507"
            ]
          },
          "metadata": {
            "tags": []
          },
          "execution_count": 45
        }
      ]
    },
    {
      "cell_type": "code",
      "metadata": {
        "id": "4SxDsUdqj8z7",
        "colab_type": "code",
        "colab": {
          "base_uri": "https://localhost:8080/",
          "height": 119
        },
        "outputId": "65bfeccf-1042-4e82-b0ae-80fc798115dc"
      },
      "source": [
        "print(calculate_f1_scores(real_stances['Stance'],lstm_100['Stance']))"
      ],
      "execution_count": null,
      "outputs": [
        {
          "output_type": "stream",
          "text": [
            "F1 macro: 30.644% \n",
            "F1 agree: 0.000% \n",
            "F1 disagree: 6.810% \n",
            "F1 discuss: 34.609% \n",
            "F1 unrelated: 81.155% \n",
            "\n"
          ],
          "name": "stdout"
        }
      ]
    },
    {
      "cell_type": "code",
      "metadata": {
        "id": "htGFjCSZlImW",
        "colab_type": "code",
        "colab": {
          "base_uri": "https://localhost:8080/",
          "height": 275
        },
        "outputId": "1aefa892-593b-4c2c-a517-0f6477f30604"
      },
      "source": [
        "print(class_repo(real_stances['Stance'],lstm_100['Stance']))"
      ],
      "execution_count": null,
      "outputs": [
        {
          "output_type": "stream",
          "text": [
            "/usr/local/lib/python3.6/dist-packages/sklearn/metrics/_classification.py:1272: UndefinedMetricWarning: Precision and F-score are ill-defined and being set to 0.0 in labels with no predicted samples. Use `zero_division` parameter to control this behavior.\n",
            "  _warn_prf(average, modifier, msg_start, len(result))\n"
          ],
          "name": "stderr"
        },
        {
          "output_type": "stream",
          "text": [
            "Test report               precision    recall  f1-score   support\n",
            "\n",
            "       agree       0.00      0.00      0.00      1903\n",
            "    disagree       0.05      0.13      0.07       697\n",
            "     discuss       0.39      0.31      0.35      4464\n",
            "   unrelated       0.78      0.85      0.81     18349\n",
            "\n",
            "    accuracy                           0.67     25413\n",
            "   macro avg       0.30      0.32      0.31     25413\n",
            "weighted avg       0.63      0.67      0.65     25413\n",
            "\n",
            "None\n"
          ],
          "name": "stdout"
        }
      ]
    },
    {
      "cell_type": "code",
      "metadata": {
        "id": "LpF-VtVkSLcx",
        "colab_type": "code",
        "colab": {
          "base_uri": "https://localhost:8080/",
          "height": 33
        },
        "outputId": "39238c96-bdcd-46c9-e301-edef40688c7e"
      },
      "source": [
        "print(\" Accuracy is: \",accuracy_score(real_stances['Stance'],lstm_100['Stance']))"
      ],
      "execution_count": null,
      "outputs": [
        {
          "output_type": "stream",
          "text": [
            " Accuracy is:  0.669735961909259\n"
          ],
          "name": "stdout"
        }
      ]
    },
    {
      "cell_type": "markdown",
      "metadata": {
        "id": "tdVYy35ndrnp",
        "colab_type": "text"
      },
      "source": [
        "## Evaluating LSTM 150"
      ]
    },
    {
      "cell_type": "code",
      "metadata": {
        "id": "2TOuJ-Hvdsc3",
        "colab_type": "code",
        "colab": {
          "base_uri": "https://localhost:8080/",
          "height": 233
        },
        "outputId": "74258e80-7a10-4ffb-8c2c-b3e14ae9789e"
      },
      "source": [
        "report_score(real_stances['Stance'],lstm_150['Stance'])"
      ],
      "execution_count": null,
      "outputs": [
        {
          "output_type": "stream",
          "text": [
            "-------------------------------------------------------------\n",
            "|           |   agree   | disagree  |  discuss  | unrelated |\n",
            "-------------------------------------------------------------\n",
            "|   agree   |     1     |    455    |    432    |   1015    |\n",
            "-------------------------------------------------------------\n",
            "| disagree  |     3     |    174    |    158    |    362    |\n",
            "-------------------------------------------------------------\n",
            "|  discuss  |     4     |    486    |   1538    |   2436    |\n",
            "-------------------------------------------------------------\n",
            "| unrelated |    17     |   1379    |   1795    |   15158   |\n",
            "-------------------------------------------------------------\n",
            "Score: 5887.0 out of 11651.25\t(50.526767514215216%)\n"
          ],
          "name": "stdout"
        },
        {
          "output_type": "execute_result",
          "data": {
            "text/plain": [
              "50.526767514215216"
            ]
          },
          "metadata": {
            "tags": []
          },
          "execution_count": 49
        }
      ]
    },
    {
      "cell_type": "code",
      "metadata": {
        "id": "_pPSfXizj_K9",
        "colab_type": "code",
        "colab": {
          "base_uri": "https://localhost:8080/",
          "height": 116
        },
        "outputId": "4efd1324-94a1-4b9c-d0c0-db0c95b44049"
      },
      "source": [
        "print(calculate_f1_scores(real_stances['Stance'],lstm_150['Stance']))"
      ],
      "execution_count": null,
      "outputs": [
        {
          "output_type": "stream",
          "text": [
            "F1 macro: 32.229% \n",
            "F1 agree: 0.104% \n",
            "F1 disagree: 10.906% \n",
            "F1 discuss: 36.676% \n",
            "F1 unrelated: 81.233% \n",
            "\n"
          ],
          "name": "stdout"
        }
      ]
    },
    {
      "cell_type": "code",
      "metadata": {
        "id": "SyA5uOzJlLSu",
        "colab_type": "code",
        "colab": {
          "base_uri": "https://localhost:8080/",
          "height": 216
        },
        "outputId": "bf2d08a8-d564-437f-e57e-d359c92270e2"
      },
      "source": [
        "print(class_repo(real_stances['Stance'],lstm_150['Stance']))"
      ],
      "execution_count": null,
      "outputs": [
        {
          "output_type": "stream",
          "text": [
            "Test report               precision    recall  f1-score   support\n",
            "\n",
            "       agree       0.04      0.00      0.00      1903\n",
            "    disagree       0.07      0.25      0.11       697\n",
            "     discuss       0.39      0.34      0.37      4464\n",
            "   unrelated       0.80      0.83      0.81     18349\n",
            "\n",
            "    accuracy                           0.66     25413\n",
            "   macro avg       0.33      0.36      0.32     25413\n",
            "weighted avg       0.65      0.66      0.65     25413\n",
            "\n",
            "None\n"
          ],
          "name": "stdout"
        }
      ]
    },
    {
      "cell_type": "code",
      "metadata": {
        "id": "rciJ1WiaSTPg",
        "colab_type": "code",
        "colab": {
          "base_uri": "https://localhost:8080/",
          "height": 33
        },
        "outputId": "8c0031b2-9bc7-4722-bcbd-5b4c3a20d291"
      },
      "source": [
        "print(\" Accuracy is: \",accuracy_score(real_stances['Stance'],lstm_150['Stance']))"
      ],
      "execution_count": null,
      "outputs": [
        {
          "output_type": "stream",
          "text": [
            " Accuracy is:  0.6638728209971274\n"
          ],
          "name": "stdout"
        }
      ]
    },
    {
      "cell_type": "markdown",
      "metadata": {
        "id": "zy-hfod-eIUc",
        "colab_type": "text"
      },
      "source": [
        "## Evaluating Bi-LSTM 50"
      ]
    },
    {
      "cell_type": "code",
      "metadata": {
        "id": "7kxJmONEd1dR",
        "colab_type": "code",
        "colab": {
          "base_uri": "https://localhost:8080/",
          "height": 233
        },
        "outputId": "9d7d1122-cb0e-41ae-daa1-f9f6d532e2ce"
      },
      "source": [
        "report_score(real_stances['Stance'],bi_lstm_50['Stance'])"
      ],
      "execution_count": null,
      "outputs": [
        {
          "output_type": "stream",
          "text": [
            "-------------------------------------------------------------\n",
            "|           |   agree   | disagree  |  discuss  | unrelated |\n",
            "-------------------------------------------------------------\n",
            "|   agree   |    39     |    318    |    309    |   1237    |\n",
            "-------------------------------------------------------------\n",
            "| disagree  |    14     |    118    |    86     |    479    |\n",
            "-------------------------------------------------------------\n",
            "|  discuss  |    31     |    341    |   1701    |   2391    |\n",
            "-------------------------------------------------------------\n",
            "| unrelated |    43     |    639    |   1327    |   16340   |\n",
            "-------------------------------------------------------------\n",
            "Score: 6217.75 out of 11651.25\t(53.365518721167255%)\n"
          ],
          "name": "stdout"
        },
        {
          "output_type": "execute_result",
          "data": {
            "text/plain": [
              "53.365518721167255"
            ]
          },
          "metadata": {
            "tags": []
          },
          "execution_count": 55
        }
      ]
    },
    {
      "cell_type": "code",
      "metadata": {
        "id": "I341ozqbkEou",
        "colab_type": "code",
        "colab": {
          "base_uri": "https://localhost:8080/",
          "height": 116
        },
        "outputId": "c5d669af-d422-43ba-b7a0-cfe5e7d22acb"
      },
      "source": [
        "print(calculate_f1_scores(real_stances['Stance'],bi_lstm_50['Stance']))"
      ],
      "execution_count": null,
      "outputs": [
        {
          "output_type": "stream",
          "text": [
            "F1 macro: 35.595% \n",
            "F1 agree: 3.842% \n",
            "F1 disagree: 11.169% \n",
            "F1 discuss: 43.134% \n",
            "F1 unrelated: 84.235% \n",
            "\n"
          ],
          "name": "stdout"
        }
      ]
    },
    {
      "cell_type": "code",
      "metadata": {
        "id": "Vbgbs1hPlNnU",
        "colab_type": "code",
        "colab": {
          "base_uri": "https://localhost:8080/",
          "height": 216
        },
        "outputId": "bc31f6b7-51f6-4f93-e4a1-64c72dc27266"
      },
      "source": [
        "print(class_repo(real_stances['Stance'],bi_lstm_50['Stance']))"
      ],
      "execution_count": null,
      "outputs": [
        {
          "output_type": "stream",
          "text": [
            "Test report               precision    recall  f1-score   support\n",
            "\n",
            "       agree       0.31      0.02      0.04      1903\n",
            "    disagree       0.08      0.17      0.11       697\n",
            "     discuss       0.50      0.38      0.43      4464\n",
            "   unrelated       0.80      0.89      0.84     18349\n",
            "\n",
            "    accuracy                           0.72     25413\n",
            "   macro avg       0.42      0.37      0.36     25413\n",
            "weighted avg       0.69      0.72      0.69     25413\n",
            "\n",
            "None\n"
          ],
          "name": "stdout"
        }
      ]
    },
    {
      "cell_type": "code",
      "metadata": {
        "id": "AILzV05LYLKx",
        "colab_type": "code",
        "colab": {
          "base_uri": "https://localhost:8080/",
          "height": 33
        },
        "outputId": "e9cfc0b7-4abf-438f-b15b-f7878339597f"
      },
      "source": [
        "print(\" Accuracy is: \",accuracy_score(real_stances['Stance'],bi_lstm_50['Stance']))"
      ],
      "execution_count": null,
      "outputs": [
        {
          "output_type": "stream",
          "text": [
            " Accuracy is:  0.7160901900602054\n"
          ],
          "name": "stdout"
        }
      ]
    },
    {
      "cell_type": "markdown",
      "metadata": {
        "id": "bHFzq7yaeRTQ",
        "colab_type": "text"
      },
      "source": [
        "## Evaluating Bi-LSTM 100"
      ]
    },
    {
      "cell_type": "code",
      "metadata": {
        "id": "nCoXy-93d7Pe",
        "colab_type": "code",
        "colab": {
          "base_uri": "https://localhost:8080/",
          "height": 233
        },
        "outputId": "bc053ec8-029c-427d-fa2c-51cdd077ab62"
      },
      "source": [
        "report_score(real_stances['Stance'],bi_lstm_100['Stance'])"
      ],
      "execution_count": null,
      "outputs": [
        {
          "output_type": "stream",
          "text": [
            "-------------------------------------------------------------\n",
            "|           |   agree   | disagree  |  discuss  | unrelated |\n",
            "-------------------------------------------------------------\n",
            "|   agree   |    41     |    333    |    450    |   1079    |\n",
            "-------------------------------------------------------------\n",
            "| disagree  |    10     |    85     |    99     |    503    |\n",
            "-------------------------------------------------------------\n",
            "|  discuss  |    37     |    362    |   2043    |   2022    |\n",
            "-------------------------------------------------------------\n",
            "| unrelated |    82     |    599    |   1278    |   16390   |\n",
            "-------------------------------------------------------------\n",
            "Score: 6589.25 out of 11651.25\t(56.55401780924794%)\n"
          ],
          "name": "stdout"
        },
        {
          "output_type": "execute_result",
          "data": {
            "text/plain": [
              "56.55401780924794"
            ]
          },
          "metadata": {
            "tags": []
          },
          "execution_count": 61
        }
      ]
    },
    {
      "cell_type": "code",
      "metadata": {
        "id": "au_0r1o8kIOG",
        "colab_type": "code",
        "colab": {
          "base_uri": "https://localhost:8080/",
          "height": 116
        },
        "outputId": "2a8c19b4-e096-4473-9a02-2d88357fb963"
      },
      "source": [
        "print(calculate_f1_scores(real_stances['Stance'],bi_lstm_100['Stance']))"
      ],
      "execution_count": null,
      "outputs": [
        {
          "output_type": "stream",
          "text": [
            "F1 macro: 36.666% \n",
            "F1 agree: 3.956% \n",
            "F1 disagree: 8.189% \n",
            "F1 discuss: 49.028% \n",
            "F1 unrelated: 85.491% \n",
            "\n"
          ],
          "name": "stdout"
        }
      ]
    },
    {
      "cell_type": "code",
      "metadata": {
        "id": "gUxeGHCWlQhp",
        "colab_type": "code",
        "colab": {
          "base_uri": "https://localhost:8080/",
          "height": 216
        },
        "outputId": "44d4decb-8231-4be7-8cad-b2b7d80cbcb6"
      },
      "source": [
        "print(class_repo(real_stances['Stance'],bi_lstm_100['Stance']))"
      ],
      "execution_count": null,
      "outputs": [
        {
          "output_type": "stream",
          "text": [
            "Test report               precision    recall  f1-score   support\n",
            "\n",
            "       agree       0.24      0.02      0.04      1903\n",
            "    disagree       0.06      0.12      0.08       697\n",
            "     discuss       0.53      0.46      0.49      4464\n",
            "   unrelated       0.82      0.89      0.85     18349\n",
            "\n",
            "    accuracy                           0.73     25413\n",
            "   macro avg       0.41      0.37      0.37     25413\n",
            "weighted avg       0.70      0.73      0.71     25413\n",
            "\n",
            "None\n"
          ],
          "name": "stdout"
        }
      ]
    },
    {
      "cell_type": "code",
      "metadata": {
        "id": "fP1EXAS3YS3d",
        "colab_type": "code",
        "colab": {
          "base_uri": "https://localhost:8080/",
          "height": 33
        },
        "outputId": "8b0d18eb-7a7e-44ca-9634-9c16246d23ab"
      },
      "source": [
        "print(\" Accuracy is: \",accuracy_score(real_stances['Stance'],bi_lstm_100['Stance']))"
      ],
      "execution_count": null,
      "outputs": [
        {
          "output_type": "stream",
          "text": [
            " Accuracy is:  0.730295518041947\n"
          ],
          "name": "stdout"
        }
      ]
    },
    {
      "cell_type": "markdown",
      "metadata": {
        "id": "9nJu16-ceUQl",
        "colab_type": "text"
      },
      "source": [
        "## Evaluating Bi-LSTM 150"
      ]
    },
    {
      "cell_type": "code",
      "metadata": {
        "id": "w-F7tDcrd80q",
        "colab_type": "code",
        "colab": {
          "base_uri": "https://localhost:8080/",
          "height": 238
        },
        "outputId": "ff3070b9-dab7-49bc-d5aa-ebd05efcc722"
      },
      "source": [
        "report_score(real_stances['Stance'],bi_lstm_150['Stance'])"
      ],
      "execution_count": null,
      "outputs": [
        {
          "output_type": "stream",
          "text": [
            "-------------------------------------------------------------\n",
            "|           |   agree   | disagree  |  discuss  | unrelated |\n",
            "-------------------------------------------------------------\n",
            "|   agree   |    34     |    207    |    305    |   1357    |\n",
            "-------------------------------------------------------------\n",
            "| disagree  |    24     |    54     |    103    |    516    |\n",
            "-------------------------------------------------------------\n",
            "|  discuss  |    51     |    209    |   1614    |   2590    |\n",
            "-------------------------------------------------------------\n",
            "| unrelated |    75     |    387    |   1136    |   16751   |\n",
            "-------------------------------------------------------------\n",
            "Score: 6114.5 out of 11651.25\t(52.47934770947323%)\n"
          ],
          "name": "stdout"
        },
        {
          "output_type": "execute_result",
          "data": {
            "text/plain": [
              "52.47934770947323"
            ]
          },
          "metadata": {
            "tags": []
          },
          "execution_count": 36
        }
      ]
    },
    {
      "cell_type": "code",
      "metadata": {
        "id": "5AmrRSw9kLsx",
        "colab_type": "code",
        "colab": {
          "base_uri": "https://localhost:8080/",
          "height": 119
        },
        "outputId": "af372d8e-0af1-4d5d-ee9d-c21dcce5c1db"
      },
      "source": [
        "print(calculate_f1_scores(real_stances['Stance'],bi_lstm_150['Stance']))"
      ],
      "execution_count": null,
      "outputs": [
        {
          "output_type": "stream",
          "text": [
            "F1 macro: 34.310% \n",
            "F1 agree: 3.258% \n",
            "F1 disagree: 6.950% \n",
            "F1 discuss: 42.351% \n",
            "F1 unrelated: 84.680% \n",
            "\n"
          ],
          "name": "stdout"
        }
      ]
    },
    {
      "cell_type": "code",
      "metadata": {
        "id": "BiYvAKDIlTR5",
        "colab_type": "code",
        "colab": {
          "base_uri": "https://localhost:8080/",
          "height": 221
        },
        "outputId": "88763712-aa48-40a7-d365-4b15540bbe7d"
      },
      "source": [
        "print(class_repo(real_stances['Stance'],bi_lstm_150['Stance']))"
      ],
      "execution_count": null,
      "outputs": [
        {
          "output_type": "stream",
          "text": [
            "Test report               precision    recall  f1-score   support\n",
            "\n",
            "       agree       0.18      0.02      0.03      1903\n",
            "    disagree       0.06      0.08      0.07       697\n",
            "     discuss       0.51      0.36      0.42      4464\n",
            "   unrelated       0.79      0.91      0.85     18349\n",
            "\n",
            "    accuracy                           0.73     25413\n",
            "   macro avg       0.39      0.34      0.34     25413\n",
            "weighted avg       0.68      0.73      0.69     25413\n",
            "\n",
            "None\n"
          ],
          "name": "stdout"
        }
      ]
    },
    {
      "cell_type": "code",
      "metadata": {
        "id": "v1l1BivXYWlt",
        "colab_type": "code",
        "colab": {
          "base_uri": "https://localhost:8080/",
          "height": 33
        },
        "outputId": "af2f8f1e-cd59-424e-a598-6da80fdf3eb7"
      },
      "source": [
        "print(\" Accuracy is: \",accuracy_score(real_stances['Stance'],bi_lstm_150['Stance']))"
      ],
      "execution_count": null,
      "outputs": [
        {
          "output_type": "stream",
          "text": [
            " Accuracy is:  0.726124424507142\n"
          ],
          "name": "stdout"
        }
      ]
    },
    {
      "cell_type": "markdown",
      "metadata": {
        "id": "5zVLRbhP6_Ew",
        "colab_type": "text"
      },
      "source": [
        "## W2V CNN 50"
      ]
    },
    {
      "cell_type": "code",
      "metadata": {
        "id": "2cvNh54E7Co5",
        "colab_type": "code",
        "colab": {
          "base_uri": "https://localhost:8080/",
          "height": 238
        },
        "outputId": "1bd96f2b-168b-4fcd-acc1-981ff772f69d"
      },
      "source": [
        "report_score(real_stances['Stance'],w2v_cnn_50['Stance'])"
      ],
      "execution_count": null,
      "outputs": [
        {
          "output_type": "stream",
          "text": [
            "-------------------------------------------------------------\n",
            "|           |   agree   | disagree  |  discuss  | unrelated |\n",
            "-------------------------------------------------------------\n",
            "|   agree   |    33     |    352    |    532    |    986    |\n",
            "-------------------------------------------------------------\n",
            "| disagree  |    13     |    90     |    187    |    407    |\n",
            "-------------------------------------------------------------\n",
            "|  discuss  |    51     |    393    |   1938    |   2082    |\n",
            "-------------------------------------------------------------\n",
            "| unrelated |    182    |   1215    |   2728    |   14224   |\n",
            "-------------------------------------------------------------\n",
            "Score: 5999.0 out of 11651.25\t(51.48803776418839%)\n"
          ],
          "name": "stdout"
        },
        {
          "output_type": "execute_result",
          "data": {
            "text/plain": [
              "51.48803776418839"
            ]
          },
          "metadata": {
            "tags": []
          },
          "execution_count": 68
        }
      ]
    },
    {
      "cell_type": "code",
      "metadata": {
        "id": "YqwqhodJ7Csg",
        "colab_type": "code",
        "colab": {
          "base_uri": "https://localhost:8080/",
          "height": 119
        },
        "outputId": "a4ac74e5-6cbb-4dbe-e58b-8e5c0523d143"
      },
      "source": [
        "print(calculate_f1_scores(real_stances['Stance'],w2v_cnn_50['Stance']))"
      ],
      "execution_count": null,
      "outputs": [
        {
          "output_type": "stream",
          "text": [
            "F1 macro: 31.962% \n",
            "F1 agree: 3.025% \n",
            "F1 disagree: 6.553% \n",
            "F1 discuss: 39.354% \n",
            "F1 unrelated: 78.917% \n",
            "\n"
          ],
          "name": "stdout"
        }
      ]
    },
    {
      "cell_type": "code",
      "metadata": {
        "id": "Jbk7LkGD7C6B",
        "colab_type": "code",
        "colab": {
          "base_uri": "https://localhost:8080/",
          "height": 221
        },
        "outputId": "56e66245-8850-484d-a25d-c4452f615183"
      },
      "source": [
        "print(class_repo(real_stances['Stance'],w2v_cnn_50['Stance']))"
      ],
      "execution_count": null,
      "outputs": [
        {
          "output_type": "stream",
          "text": [
            "Test report               precision    recall  f1-score   support\n",
            "\n",
            "       agree       0.12      0.02      0.03      1903\n",
            "    disagree       0.04      0.13      0.07       697\n",
            "     discuss       0.36      0.43      0.39      4464\n",
            "   unrelated       0.80      0.78      0.79     18349\n",
            "\n",
            "    accuracy                           0.64     25413\n",
            "   macro avg       0.33      0.34      0.32     25413\n",
            "weighted avg       0.65      0.64      0.64     25413\n",
            "\n",
            "None\n"
          ],
          "name": "stdout"
        }
      ]
    },
    {
      "cell_type": "code",
      "metadata": {
        "id": "yTzjx10BYZYr",
        "colab_type": "code",
        "colab": {
          "base_uri": "https://localhost:8080/",
          "height": 33
        },
        "outputId": "a3450000-c4fa-4f50-811e-b6d8110d1866"
      },
      "source": [
        "print(\" Accuracy is: \",accuracy_score(real_stances['Stance'],w2v_cnn_50['Stance']))"
      ],
      "execution_count": null,
      "outputs": [
        {
          "output_type": "stream",
          "text": [
            " Accuracy is:  0.640813756738677\n"
          ],
          "name": "stdout"
        }
      ]
    },
    {
      "cell_type": "markdown",
      "metadata": {
        "id": "U5m6llvT7DLP",
        "colab_type": "text"
      },
      "source": [
        "## W2V LSTM 50"
      ]
    },
    {
      "cell_type": "code",
      "metadata": {
        "id": "cKQz3r6y7GKu",
        "colab_type": "code",
        "colab": {
          "base_uri": "https://localhost:8080/",
          "height": 238
        },
        "outputId": "71aafb5e-0f6d-4d58-d1e9-847cc270435f"
      },
      "source": [
        "report_score(real_stances['Stance'],w2v_lstm_50['Stance'])"
      ],
      "execution_count": null,
      "outputs": [
        {
          "output_type": "stream",
          "text": [
            "-------------------------------------------------------------\n",
            "|           |   agree   | disagree  |  discuss  | unrelated |\n",
            "-------------------------------------------------------------\n",
            "|   agree   |     8     |    213    |    281    |   1401    |\n",
            "-------------------------------------------------------------\n",
            "| disagree  |     3     |    40     |    86     |    568    |\n",
            "-------------------------------------------------------------\n",
            "|  discuss  |    20     |    226    |   1363    |   2855    |\n",
            "-------------------------------------------------------------\n",
            "| unrelated |    35     |    503    |   1348    |   16463   |\n",
            "-------------------------------------------------------------\n",
            "Score: 5734.0 out of 11651.25\t(49.213603690591135%)\n"
          ],
          "name": "stdout"
        },
        {
          "output_type": "execute_result",
          "data": {
            "text/plain": [
              "49.213603690591135"
            ]
          },
          "metadata": {
            "tags": []
          },
          "execution_count": 71
        }
      ]
    },
    {
      "cell_type": "code",
      "metadata": {
        "id": "APq8Tcud7GPi",
        "colab_type": "code",
        "colab": {
          "base_uri": "https://localhost:8080/",
          "height": 119
        },
        "outputId": "fbdc20df-ceda-41b5-df2f-39f08b67f0b1"
      },
      "source": [
        "print(calculate_f1_scores(real_stances['Stance'],w2v_lstm_50['Stance']))"
      ],
      "execution_count": null,
      "outputs": [
        {
          "output_type": "stream",
          "text": [
            "F1 macro: 31.198% \n",
            "F1 agree: 0.813% \n",
            "F1 disagree: 4.765% \n",
            "F1 discuss: 36.144% \n",
            "F1 unrelated: 83.071% \n",
            "\n"
          ],
          "name": "stdout"
        }
      ]
    },
    {
      "cell_type": "code",
      "metadata": {
        "id": "KkTmyow67GW4",
        "colab_type": "code",
        "colab": {
          "base_uri": "https://localhost:8080/",
          "height": 221
        },
        "outputId": "b485e273-1510-4731-ef0a-837b6dc34099"
      },
      "source": [
        "print(class_repo(real_stances['Stance'],w2v_lstm_50['Stance']))"
      ],
      "execution_count": null,
      "outputs": [
        {
          "output_type": "stream",
          "text": [
            "Test report               precision    recall  f1-score   support\n",
            "\n",
            "       agree       0.12      0.00      0.01      1903\n",
            "    disagree       0.04      0.06      0.05       697\n",
            "     discuss       0.44      0.31      0.36      4464\n",
            "   unrelated       0.77      0.90      0.83     18349\n",
            "\n",
            "    accuracy                           0.70     25413\n",
            "   macro avg       0.34      0.32      0.31     25413\n",
            "weighted avg       0.65      0.70      0.67     25413\n",
            "\n",
            "None\n"
          ],
          "name": "stdout"
        }
      ]
    },
    {
      "cell_type": "code",
      "metadata": {
        "id": "8OV6YIC0YetJ",
        "colab_type": "code",
        "colab": {
          "base_uri": "https://localhost:8080/",
          "height": 33
        },
        "outputId": "51408f73-fc13-44d7-d21c-009dc853fa46"
      },
      "source": [
        "print(\" Accuracy is: \",accuracy_score(real_stances['Stance'],w2v_lstm_50['Stance']))"
      ],
      "execution_count": null,
      "outputs": [
        {
          "output_type": "stream",
          "text": [
            " Accuracy is:  0.7033408098217447\n"
          ],
          "name": "stdout"
        }
      ]
    },
    {
      "cell_type": "markdown",
      "metadata": {
        "id": "qbQVR6ZE7GjD",
        "colab_type": "text"
      },
      "source": [
        "## W2V Bi-LSTM 50"
      ]
    },
    {
      "cell_type": "code",
      "metadata": {
        "id": "KkHBwvJ27HAO",
        "colab_type": "code",
        "colab": {
          "base_uri": "https://localhost:8080/",
          "height": 238
        },
        "outputId": "8e5f3bcd-fb57-479c-926c-e71c8b7e3cb5"
      },
      "source": [
        "report_score(real_stances['Stance'],w2v_bi_lstm_50['Stance'])"
      ],
      "execution_count": null,
      "outputs": [
        {
          "output_type": "stream",
          "text": [
            "-------------------------------------------------------------\n",
            "|           |   agree   | disagree  |  discuss  | unrelated |\n",
            "-------------------------------------------------------------\n",
            "|   agree   |    10     |    430    |    343    |   1120    |\n",
            "-------------------------------------------------------------\n",
            "| disagree  |     9     |    112    |    101    |    475    |\n",
            "-------------------------------------------------------------\n",
            "|  discuss  |    18     |    602    |   1552    |   2292    |\n",
            "-------------------------------------------------------------\n",
            "| unrelated |    39     |   1152    |   1453    |   15705   |\n",
            "-------------------------------------------------------------\n",
            "Score: 5976.0 out of 11651.25\t(51.29063405214033%)\n"
          ],
          "name": "stdout"
        },
        {
          "output_type": "execute_result",
          "data": {
            "text/plain": [
              "51.29063405214033"
            ]
          },
          "metadata": {
            "tags": []
          },
          "execution_count": 74
        }
      ]
    },
    {
      "cell_type": "code",
      "metadata": {
        "id": "dUDzf29m7HJ9",
        "colab_type": "code",
        "colab": {
          "base_uri": "https://localhost:8080/",
          "height": 119
        },
        "outputId": "a5959d11-1b56-44b6-dd35-a597a6b92561"
      },
      "source": [
        "print(calculate_f1_scores(real_stances['Stance'],w2v_bi_lstm_50['Stance']))"
      ],
      "execution_count": null,
      "outputs": [
        {
          "output_type": "stream",
          "text": [
            "F1 macro: 32.627% \n",
            "F1 agree: 1.011% \n",
            "F1 disagree: 7.484% \n",
            "F1 discuss: 39.227% \n",
            "F1 unrelated: 82.786% \n",
            "\n"
          ],
          "name": "stdout"
        }
      ]
    },
    {
      "cell_type": "code",
      "metadata": {
        "id": "DF0p8x_M7HXI",
        "colab_type": "code",
        "colab": {
          "base_uri": "https://localhost:8080/",
          "height": 221
        },
        "outputId": "6debbf4f-e464-46ed-fe09-57e7fdd243c9"
      },
      "source": [
        "print(class_repo(real_stances['Stance'],w2v_bi_lstm_50['Stance']))"
      ],
      "execution_count": null,
      "outputs": [
        {
          "output_type": "stream",
          "text": [
            "Test report               precision    recall  f1-score   support\n",
            "\n",
            "       agree       0.13      0.01      0.01      1903\n",
            "    disagree       0.05      0.16      0.07       697\n",
            "     discuss       0.45      0.35      0.39      4464\n",
            "   unrelated       0.80      0.86      0.83     18349\n",
            "\n",
            "    accuracy                           0.68     25413\n",
            "   macro avg       0.36      0.34      0.33     25413\n",
            "weighted avg       0.67      0.68      0.67     25413\n",
            "\n",
            "None\n"
          ],
          "name": "stdout"
        }
      ]
    },
    {
      "cell_type": "code",
      "metadata": {
        "id": "A_jo1b_VYiT5",
        "colab_type": "code",
        "colab": {
          "base_uri": "https://localhost:8080/",
          "height": 33
        },
        "outputId": "ca3ae6dd-6321-4c54-fd94-c12768a5e9d7"
      },
      "source": [
        "print(\" Accuracy is: \",accuracy_score(real_stances['Stance'],w2v_bi_lstm_50['Stance']))"
      ],
      "execution_count": null,
      "outputs": [
        {
          "output_type": "stream",
          "text": [
            " Accuracy is:  0.6838625900129854\n"
          ],
          "name": "stdout"
        }
      ]
    },
    {
      "cell_type": "markdown",
      "metadata": {
        "id": "U4tl-nG4yVEJ",
        "colab_type": "text"
      },
      "source": [
        "## Gradient Boosting"
      ]
    },
    {
      "cell_type": "code",
      "metadata": {
        "id": "rrosTQZnyVj6",
        "colab_type": "code",
        "colab": {
          "base_uri": "https://localhost:8080/",
          "height": 238
        },
        "outputId": "7d0c05cb-2393-4cf1-8503-383c4135d7ab"
      },
      "source": [
        "report_score(real_stances['Stance'],gradient_boosting['Stance'])"
      ],
      "execution_count": null,
      "outputs": [
        {
          "output_type": "stream",
          "text": [
            "-------------------------------------------------------------\n",
            "|           |   agree   | disagree  |  discuss  | unrelated |\n",
            "-------------------------------------------------------------\n",
            "|   agree   |    163    |     1     |   1542    |    197    |\n",
            "-------------------------------------------------------------\n",
            "| disagree  |    43     |     1     |    478    |    175    |\n",
            "-------------------------------------------------------------\n",
            "|  discuss  |    173    |     4     |   3830    |    457    |\n",
            "-------------------------------------------------------------\n",
            "| unrelated |     8     |     1     |    306    |   18034   |\n",
            "-------------------------------------------------------------\n",
            "Score: 9062.75 out of 11651.25\t(77.7834996245038%)\n"
          ],
          "name": "stdout"
        },
        {
          "output_type": "execute_result",
          "data": {
            "text/plain": [
              "77.7834996245038"
            ]
          },
          "metadata": {
            "tags": []
          },
          "execution_count": 77
        }
      ]
    },
    {
      "cell_type": "code",
      "metadata": {
        "id": "dJqs99mgz94j",
        "colab_type": "code",
        "colab": {
          "base_uri": "https://localhost:8080/",
          "height": 119
        },
        "outputId": "b66d5e53-c115-4e38-e0cf-c6f1ee97b135"
      },
      "source": [
        "print(calculate_f1_scores(real_stances['Stance'],gradient_boosting['Stance']))"
      ],
      "execution_count": null,
      "outputs": [
        {
          "output_type": "stream",
          "text": [
            "F1 macro: 45.893% \n",
            "F1 agree: 14.236% \n",
            "F1 disagree: 0.284% \n",
            "F1 discuss: 72.128% \n",
            "F1 unrelated: 96.926% \n",
            "\n"
          ],
          "name": "stdout"
        }
      ]
    },
    {
      "cell_type": "code",
      "metadata": {
        "id": "QmEDtUT3z98d",
        "colab_type": "code",
        "colab": {
          "base_uri": "https://localhost:8080/",
          "height": 221
        },
        "outputId": "6e609b1d-4dbd-4ab7-e9ab-251344e5424e"
      },
      "source": [
        "print(class_repo(real_stances['Stance'],gradient_boosting['Stance']))"
      ],
      "execution_count": null,
      "outputs": [
        {
          "output_type": "stream",
          "text": [
            "Test report               precision    recall  f1-score   support\n",
            "\n",
            "       agree       0.42      0.09      0.14      1903\n",
            "    disagree       0.14      0.00      0.00       697\n",
            "     discuss       0.62      0.86      0.72      4464\n",
            "   unrelated       0.96      0.98      0.97     18349\n",
            "\n",
            "    accuracy                           0.87     25413\n",
            "   macro avg       0.54      0.48      0.46     25413\n",
            "weighted avg       0.84      0.87      0.84     25413\n",
            "\n",
            "None\n"
          ],
          "name": "stdout"
        }
      ]
    },
    {
      "cell_type": "code",
      "metadata": {
        "id": "q54okKXDYnEf",
        "colab_type": "code",
        "colab": {
          "base_uri": "https://localhost:8080/",
          "height": 33
        },
        "outputId": "0223d209-a6c1-4a69-a3dd-82ee2a4befd5"
      },
      "source": [
        "print(\" Accuracy is: \",accuracy_score(real_stances['Stance'],gradient_boosting['Stance']))"
      ],
      "execution_count": null,
      "outputs": [
        {
          "output_type": "stream",
          "text": [
            " Accuracy is:  0.8668004564592925\n"
          ],
          "name": "stdout"
        }
      ]
    },
    {
      "cell_type": "markdown",
      "metadata": {
        "id": "o-xDoYXR0WR5",
        "colab_type": "text"
      },
      "source": [
        "## Random Forest"
      ]
    },
    {
      "cell_type": "code",
      "metadata": {
        "id": "tauif9mfz92Y",
        "colab_type": "code",
        "colab": {
          "base_uri": "https://localhost:8080/",
          "height": 238
        },
        "outputId": "d74ae19b-bbb3-46ae-a794-9af93eeddc8e"
      },
      "source": [
        "report_score(real_stances['Stance'],random_forest['Stance'])"
      ],
      "execution_count": null,
      "outputs": [
        {
          "output_type": "stream",
          "text": [
            "-------------------------------------------------------------\n",
            "|           |   agree   | disagree  |  discuss  | unrelated |\n",
            "-------------------------------------------------------------\n",
            "|   agree   |    96     |     0     |   1599    |    208    |\n",
            "-------------------------------------------------------------\n",
            "| disagree  |    19     |     0     |    490    |    188    |\n",
            "-------------------------------------------------------------\n",
            "|  discuss  |    104    |     0     |   3868    |    492    |\n",
            "-------------------------------------------------------------\n",
            "| unrelated |     2     |     0     |    273    |   18074   |\n",
            "-------------------------------------------------------------\n",
            "Score: 9035.5 out of 11651.25\t(77.5496191395773%)\n"
          ],
          "name": "stdout"
        },
        {
          "output_type": "execute_result",
          "data": {
            "text/plain": [
              "77.5496191395773"
            ]
          },
          "metadata": {
            "tags": []
          },
          "execution_count": 44
        }
      ]
    },
    {
      "cell_type": "code",
      "metadata": {
        "id": "aBHsUPwd0ZNT",
        "colab_type": "code",
        "colab": {
          "base_uri": "https://localhost:8080/",
          "height": 119
        },
        "outputId": "ca1eb0b7-5b66-4159-f986-f5993633fa3d"
      },
      "source": [
        "print(calculate_f1_scores(real_stances['Stance'],random_forest['Stance']))"
      ],
      "execution_count": null,
      "outputs": [
        {
          "output_type": "stream",
          "text": [
            "F1 macro: 44.566% \n",
            "F1 agree: 9.040% \n",
            "F1 disagree: 0.000% \n",
            "F1 discuss: 72.340% \n",
            "F1 unrelated: 96.883% \n",
            "\n"
          ],
          "name": "stdout"
        }
      ]
    },
    {
      "cell_type": "code",
      "metadata": {
        "id": "q7yPoXtN0rBT",
        "colab_type": "code",
        "colab": {
          "base_uri": "https://localhost:8080/",
          "height": 275
        },
        "outputId": "f96b5a95-b923-4e19-8b3b-1a5ca9c30ada"
      },
      "source": [
        "print(class_repo(real_stances['Stance'],random_forest['Stance']))"
      ],
      "execution_count": null,
      "outputs": [
        {
          "output_type": "stream",
          "text": [
            "/usr/local/lib/python3.6/dist-packages/sklearn/metrics/_classification.py:1272: UndefinedMetricWarning: Precision and F-score are ill-defined and being set to 0.0 in labels with no predicted samples. Use `zero_division` parameter to control this behavior.\n",
            "  _warn_prf(average, modifier, msg_start, len(result))\n"
          ],
          "name": "stderr"
        },
        {
          "output_type": "stream",
          "text": [
            "Test report               precision    recall  f1-score   support\n",
            "\n",
            "       agree       0.43      0.05      0.09      1903\n",
            "    disagree       0.00      0.00      0.00       697\n",
            "     discuss       0.62      0.87      0.72      4464\n",
            "   unrelated       0.95      0.99      0.97     18349\n",
            "\n",
            "    accuracy                           0.87     25413\n",
            "   macro avg       0.50      0.48      0.45     25413\n",
            "weighted avg       0.83      0.87      0.83     25413\n",
            "\n",
            "None\n"
          ],
          "name": "stdout"
        }
      ]
    },
    {
      "cell_type": "code",
      "metadata": {
        "id": "nht3r4mHYrPw",
        "colab_type": "code",
        "colab": {
          "base_uri": "https://localhost:8080/",
          "height": 33
        },
        "outputId": "f964c464-6c97-4f60-81ac-370b1f36161f"
      },
      "source": [
        "print(\" Accuracy is: \",accuracy_score(real_stances['Stance'],random_forest['Stance']))"
      ],
      "execution_count": null,
      "outputs": [
        {
          "output_type": "stream",
          "text": [
            " Accuracy is:  0.8671939558493684\n"
          ],
          "name": "stdout"
        }
      ]
    },
    {
      "cell_type": "markdown",
      "metadata": {
        "id": "T8dJsexJ07fq",
        "colab_type": "text"
      },
      "source": [
        "## Logistic Regression"
      ]
    },
    {
      "cell_type": "code",
      "metadata": {
        "id": "UgfEKRLm02AL",
        "colab_type": "code",
        "colab": {
          "base_uri": "https://localhost:8080/",
          "height": 238
        },
        "outputId": "a3218925-3d24-4ec6-fc67-bd0d39cc5e5c"
      },
      "source": [
        "report_score(real_stances['Stance'],logistic_regression['Stance'])"
      ],
      "execution_count": null,
      "outputs": [
        {
          "output_type": "stream",
          "text": [
            "-------------------------------------------------------------\n",
            "|           |   agree   | disagree  |  discuss  | unrelated |\n",
            "-------------------------------------------------------------\n",
            "|   agree   |    111    |     0     |   1579    |    213    |\n",
            "-------------------------------------------------------------\n",
            "| disagree  |    17     |     0     |    485    |    195    |\n",
            "-------------------------------------------------------------\n",
            "|  discuss  |    129    |     0     |   3820    |    515    |\n",
            "-------------------------------------------------------------\n",
            "| unrelated |     3     |     0     |    254    |   18092   |\n",
            "-------------------------------------------------------------\n",
            "Score: 9006.5 out of 11651.25\t(77.30071880699495%)\n"
          ],
          "name": "stdout"
        },
        {
          "output_type": "execute_result",
          "data": {
            "text/plain": [
              "77.30071880699495"
            ]
          },
          "metadata": {
            "tags": []
          },
          "execution_count": 49
        }
      ]
    },
    {
      "cell_type": "code",
      "metadata": {
        "id": "7H6lkVpk1MFj",
        "colab_type": "code",
        "colab": {
          "base_uri": "https://localhost:8080/",
          "height": 119
        },
        "outputId": "d648aa7d-a53a-4e2f-8b1e-ec731a6e89ae"
      },
      "source": [
        "print(calculate_f1_scores(real_stances['Stance'],logistic_regression['Stance']))"
      ],
      "execution_count": null,
      "outputs": [
        {
          "output_type": "stream",
          "text": [
            "F1 macro: 44.792% \n",
            "F1 agree: 10.264% \n",
            "F1 disagree: 0.000% \n",
            "F1 discuss: 72.062% \n",
            "F1 unrelated: 96.842% \n",
            "\n"
          ],
          "name": "stdout"
        }
      ]
    },
    {
      "cell_type": "code",
      "metadata": {
        "id": "6vzotgbs1P6F",
        "colab_type": "code",
        "colab": {
          "base_uri": "https://localhost:8080/",
          "height": 275
        },
        "outputId": "3d767e9f-0626-45cd-eff4-7bce35bd2729"
      },
      "source": [
        "print(class_repo(real_stances['Stance'],logistic_regression['Stance']))"
      ],
      "execution_count": null,
      "outputs": [
        {
          "output_type": "stream",
          "text": [
            "/usr/local/lib/python3.6/dist-packages/sklearn/metrics/_classification.py:1272: UndefinedMetricWarning: Precision and F-score are ill-defined and being set to 0.0 in labels with no predicted samples. Use `zero_division` parameter to control this behavior.\n",
            "  _warn_prf(average, modifier, msg_start, len(result))\n"
          ],
          "name": "stderr"
        },
        {
          "output_type": "stream",
          "text": [
            "Test report               precision    recall  f1-score   support\n",
            "\n",
            "       agree       0.43      0.06      0.10      1903\n",
            "    disagree       0.00      0.00      0.00       697\n",
            "     discuss       0.62      0.86      0.72      4464\n",
            "   unrelated       0.95      0.99      0.97     18349\n",
            "\n",
            "    accuracy                           0.87     25413\n",
            "   macro avg       0.50      0.48      0.45     25413\n",
            "weighted avg       0.83      0.87      0.83     25413\n",
            "\n",
            "None\n"
          ],
          "name": "stdout"
        }
      ]
    },
    {
      "cell_type": "code",
      "metadata": {
        "id": "klFu7-5sYuvT",
        "colab_type": "code",
        "colab": {
          "base_uri": "https://localhost:8080/",
          "height": 33
        },
        "outputId": "f449747d-362c-4590-f8fd-ccab9926e74b"
      },
      "source": [
        "print(\" Accuracy is: \",accuracy_score(real_stances['Stance'],logistic_regression['Stance']))"
      ],
      "execution_count": null,
      "outputs": [
        {
          "output_type": "stream",
          "text": [
            " Accuracy is:  0.8666037067642545\n"
          ],
          "name": "stdout"
        }
      ]
    },
    {
      "cell_type": "markdown",
      "metadata": {
        "id": "rPJNP7pp1fCG",
        "colab_type": "text"
      },
      "source": [
        "## XGBOOST"
      ]
    },
    {
      "cell_type": "code",
      "metadata": {
        "id": "ewgBjciD1RUv",
        "colab_type": "code",
        "colab": {
          "base_uri": "https://localhost:8080/",
          "height": 238
        },
        "outputId": "6a1b6cb2-b3fa-43ce-893a-6ed9c06fc685"
      },
      "source": [
        "report_score(real_stances['Stance'],xgboost['Stance'])"
      ],
      "execution_count": null,
      "outputs": [
        {
          "output_type": "stream",
          "text": [
            "-------------------------------------------------------------\n",
            "|           |   agree   | disagree  |  discuss  | unrelated |\n",
            "-------------------------------------------------------------\n",
            "|   agree   |    111    |     1     |   1597    |    194    |\n",
            "-------------------------------------------------------------\n",
            "| disagree  |    38     |     0     |    478    |    181    |\n",
            "-------------------------------------------------------------\n",
            "|  discuss  |    129    |     0     |   3880    |    455    |\n",
            "-------------------------------------------------------------\n",
            "| unrelated |     3     |     0     |    299    |   18047   |\n",
            "-------------------------------------------------------------\n",
            "Score: 9063.5 out of 11651.25\t(77.78993670207059%)\n"
          ],
          "name": "stdout"
        },
        {
          "output_type": "execute_result",
          "data": {
            "text/plain": [
              "77.78993670207059"
            ]
          },
          "metadata": {
            "tags": []
          },
          "execution_count": 52
        }
      ]
    },
    {
      "cell_type": "code",
      "metadata": {
        "id": "Gl5MA65z1jmg",
        "colab_type": "code",
        "colab": {
          "base_uri": "https://localhost:8080/",
          "height": 119
        },
        "outputId": "7849b5c7-3350-4d5a-a360-09d901267167"
      },
      "source": [
        "print(calculate_f1_scores(real_stances['Stance'],xgboost['Stance']))"
      ],
      "execution_count": null,
      "outputs": [
        {
          "output_type": "stream",
          "text": [
            "F1 macro: 44.881% \n",
            "F1 agree: 10.165% \n",
            "F1 disagree: 0.000% \n",
            "F1 discuss: 72.402% \n",
            "F1 unrelated: 96.959% \n",
            "\n"
          ],
          "name": "stdout"
        }
      ]
    },
    {
      "cell_type": "code",
      "metadata": {
        "id": "bQ9QAiJH1qG8",
        "colab_type": "code",
        "colab": {
          "base_uri": "https://localhost:8080/",
          "height": 221
        },
        "outputId": "85668d7f-5b19-45d6-858c-422c40de6b68"
      },
      "source": [
        "print(class_repo(real_stances['Stance'],xgboost['Stance']))"
      ],
      "execution_count": null,
      "outputs": [
        {
          "output_type": "stream",
          "text": [
            "Test report               precision    recall  f1-score   support\n",
            "\n",
            "       agree       0.40      0.06      0.10      1903\n",
            "    disagree       0.00      0.00      0.00       697\n",
            "     discuss       0.62      0.87      0.72      4464\n",
            "   unrelated       0.96      0.98      0.97     18349\n",
            "\n",
            "    accuracy                           0.87     25413\n",
            "   macro avg       0.49      0.48      0.45     25413\n",
            "weighted avg       0.83      0.87      0.83     25413\n",
            "\n",
            "None\n"
          ],
          "name": "stdout"
        }
      ]
    },
    {
      "cell_type": "code",
      "metadata": {
        "id": "jHgCmaHYYx5a",
        "colab_type": "code",
        "colab": {
          "base_uri": "https://localhost:8080/",
          "height": 33
        },
        "outputId": "4c2cdc96-8bf9-40a7-c2aa-b8aac7833c35"
      },
      "source": [
        "print(\" Accuracy is: \",accuracy_score(real_stances['Stance'],xgboost['Stance']))"
      ],
      "execution_count": null,
      "outputs": [
        {
          "output_type": "stream",
          "text": [
            " Accuracy is:  0.8671939558493684\n"
          ],
          "name": "stdout"
        }
      ]
    },
    {
      "cell_type": "markdown",
      "metadata": {
        "id": "UbigWieRwul2",
        "colab_type": "text"
      },
      "source": [
        "## Bert classifier "
      ]
    },
    {
      "cell_type": "code",
      "metadata": {
        "id": "wT-OZ69cwxPP",
        "colab_type": "code",
        "colab": {
          "base_uri": "https://localhost:8080/",
          "height": 233
        },
        "outputId": "d1488ef5-be1f-497d-cd39-de5245e7b72f"
      },
      "source": [
        "report_score(real_stances['Stance'],bert_base['Stance'])"
      ],
      "execution_count": 95,
      "outputs": [
        {
          "output_type": "stream",
          "text": [
            "-------------------------------------------------------------\n",
            "|           |   agree   | disagree  |  discuss  | unrelated |\n",
            "-------------------------------------------------------------\n",
            "|   agree   |    750    |    24     |    400    |    729    |\n",
            "-------------------------------------------------------------\n",
            "| disagree  |    202    |    42     |    113    |    340    |\n",
            "-------------------------------------------------------------\n",
            "|  discuss  |    351    |    39     |   2509    |   1565    |\n",
            "-------------------------------------------------------------\n",
            "| unrelated |    343    |    14     |    921    |   17071   |\n",
            "-------------------------------------------------------------\n",
            "Score: 7851.0 out of 11651.25\t(67.38332796910203%)\n"
          ],
          "name": "stdout"
        },
        {
          "output_type": "execute_result",
          "data": {
            "text/plain": [
              "67.38332796910203"
            ]
          },
          "metadata": {
            "tags": []
          },
          "execution_count": 95
        }
      ]
    },
    {
      "cell_type": "code",
      "metadata": {
        "id": "ygMCxRC4w84d",
        "colab_type": "code",
        "colab": {
          "base_uri": "https://localhost:8080/",
          "height": 116
        },
        "outputId": "9279f9d1-f708-437e-8157-81f581aa9118"
      },
      "source": [
        "print(calculate_f1_scores(real_stances['Stance'],bert_base['Stance']))"
      ],
      "execution_count": 96,
      "outputs": [
        {
          "output_type": "stream",
          "text": [
            "F1 macro: 50.492% \n",
            "F1 agree: 42.265% \n",
            "F1 disagree: 10.294% \n",
            "F1 discuss: 59.688% \n",
            "F1 unrelated: 89.720% \n",
            "\n"
          ],
          "name": "stdout"
        }
      ]
    },
    {
      "cell_type": "code",
      "metadata": {
        "id": "0_N9iV_Mw88l",
        "colab_type": "code",
        "colab": {
          "base_uri": "https://localhost:8080/",
          "height": 216
        },
        "outputId": "0c37e24e-9481-441d-9f6c-e974784b0758"
      },
      "source": [
        "print(class_repo(real_stances['Stance'],bert_base['Stance']))"
      ],
      "execution_count": 97,
      "outputs": [
        {
          "output_type": "stream",
          "text": [
            "Test report               precision    recall  f1-score   support\n",
            "\n",
            "       agree       0.46      0.39      0.42      1903\n",
            "    disagree       0.35      0.06      0.10       697\n",
            "     discuss       0.64      0.56      0.60      4464\n",
            "   unrelated       0.87      0.93      0.90     18349\n",
            "\n",
            "    accuracy                           0.80     25413\n",
            "   macro avg       0.58      0.49      0.50     25413\n",
            "weighted avg       0.78      0.80      0.79     25413\n",
            "\n",
            "None\n"
          ],
          "name": "stdout"
        }
      ]
    },
    {
      "cell_type": "code",
      "metadata": {
        "id": "QltCU1T0w9cy",
        "colab_type": "code",
        "colab": {
          "base_uri": "https://localhost:8080/",
          "height": 33
        },
        "outputId": "ae8525cb-8b33-42a5-8e90-662937f92bdd"
      },
      "source": [
        "print(\" Accuracy is: \",accuracy_score(real_stances['Stance'],bert_base['Stance']))"
      ],
      "execution_count": 98,
      "outputs": [
        {
          "output_type": "stream",
          "text": [
            " Accuracy is:  0.8016369574627159\n"
          ],
          "name": "stdout"
        }
      ]
    },
    {
      "cell_type": "markdown",
      "metadata": {
        "id": "NeSkgRTPxKdt",
        "colab_type": "text"
      },
      "source": [
        "## Resampled Data for training Gradient Boosting | 50% unrelated taken. Undersampling"
      ]
    },
    {
      "cell_type": "code",
      "metadata": {
        "id": "8kMg1oyBxSWA",
        "colab_type": "code",
        "colab": {
          "base_uri": "https://localhost:8080/",
          "height": 233
        },
        "outputId": "8617d323-b470-4ec1-c8e3-54ab64f49d37"
      },
      "source": [
        "report_score(real_stances['Stance'],gb_undersample['Stance'])"
      ],
      "execution_count": 107,
      "outputs": [
        {
          "output_type": "stream",
          "text": [
            "-------------------------------------------------------------\n",
            "|           |   agree   | disagree  |  discuss  | unrelated |\n",
            "-------------------------------------------------------------\n",
            "|   agree   |    269    |     9     |   1533    |    92     |\n",
            "-------------------------------------------------------------\n",
            "| disagree  |    93     |     6     |    521    |    77     |\n",
            "-------------------------------------------------------------\n",
            "|  discuss  |    328    |    11     |   3952    |    173    |\n",
            "-------------------------------------------------------------\n",
            "| unrelated |    68     |     8     |    948    |   17325   |\n",
            "-------------------------------------------------------------\n",
            "Score: 9182.0 out of 11651.25\t(78.80699495762258%)\n"
          ],
          "name": "stdout"
        },
        {
          "output_type": "execute_result",
          "data": {
            "text/plain": [
              "78.80699495762258"
            ]
          },
          "metadata": {
            "tags": []
          },
          "execution_count": 107
        }
      ]
    },
    {
      "cell_type": "code",
      "metadata": {
        "id": "ausFomFNxSei",
        "colab_type": "code",
        "colab": {
          "base_uri": "https://localhost:8080/",
          "height": 116
        },
        "outputId": "ba476d88-6405-4050-f76d-19ac652fbc50"
      },
      "source": [
        "print(calculate_f1_scores(real_stances['Stance'],gb_undersample['Stance']))"
      ],
      "execution_count": 108,
      "outputs": [
        {
          "output_type": "stream",
          "text": [
            "F1 macro: 46.823% \n",
            "F1 agree: 20.218% \n",
            "F1 disagree: 1.642% \n",
            "F1 discuss: 69.224% \n",
            "F1 unrelated: 96.207% \n",
            "\n"
          ],
          "name": "stdout"
        }
      ]
    },
    {
      "cell_type": "code",
      "metadata": {
        "id": "YOZeC1dexSlk",
        "colab_type": "code",
        "colab": {
          "base_uri": "https://localhost:8080/",
          "height": 216
        },
        "outputId": "76a18a25-67db-4e14-a086-ce1f20e4b1b1"
      },
      "source": [
        "print(class_repo(real_stances['Stance'],gb_undersample['Stance']))"
      ],
      "execution_count": 109,
      "outputs": [
        {
          "output_type": "stream",
          "text": [
            "Test report               precision    recall  f1-score   support\n",
            "\n",
            "       agree       0.35      0.14      0.20      1903\n",
            "    disagree       0.18      0.01      0.02       697\n",
            "     discuss       0.57      0.89      0.69      4464\n",
            "   unrelated       0.98      0.94      0.96     18349\n",
            "\n",
            "    accuracy                           0.85     25413\n",
            "   macro avg       0.52      0.49      0.47     25413\n",
            "weighted avg       0.84      0.85      0.83     25413\n",
            "\n",
            "None\n"
          ],
          "name": "stdout"
        }
      ]
    },
    {
      "cell_type": "code",
      "metadata": {
        "id": "9iZTmddyxSuM",
        "colab_type": "code",
        "colab": {
          "base_uri": "https://localhost:8080/",
          "height": 33
        },
        "outputId": "60ca29c9-5de1-4cf7-f40a-76f11a765902"
      },
      "source": [
        "print(\" Accuracy is: \",accuracy_score(real_stances['Stance'],gb_undersample['Stance']))"
      ],
      "execution_count": 110,
      "outputs": [
        {
          "output_type": "stream",
          "text": [
            " Accuracy is:  0.8480698854916775\n"
          ],
          "name": "stdout"
        }
      ]
    },
    {
      "cell_type": "code",
      "metadata": {
        "id": "kFIut_mT1wVg",
        "colab_type": "code",
        "colab": {
          "base_uri": "https://localhost:8080/",
          "height": 457
        },
        "outputId": "20ba4e9f-74f9-43ae-fbf6-9e301447e76f"
      },
      "source": [
        "# Horizontal Bar plot\n",
        "import numpy as np\n",
        "import matplotlib.pyplot as plt\n",
        "\n",
        "models=['CNN 50 Truncs','CNN 100 Truncs','CNN 150 Truncs',\n",
        "        'LSTM 50 Truncs','LSTM 100 Truncs','LSTM 150 Truncs',\n",
        "        'BI-LSTM 50 Truncs','BI-LSTM 100 Truncs','BI-LSTM 150 Truncs',\n",
        "        'W2V CNN 50','W2V LSTM 50','W2V BI-LSTM 50',\n",
        "        'Bert Classifier',\n",
        "        'LOGISTIC REGRESSION','RANDOM FOREST 50','GRADIENT BOOSTING','XG BOOST','GRADIENT BOOSTING | undersampled data']\n",
        "\n",
        "accuracies=np.asarray([50.3,47.2,47.5,51.6,48.5,50.5,53.3,56.5,52.4,51.4,49.2,51.2,67.4,77.3,77.5,77.8,77.8,79.0])\n",
        "plt.figure(figsize=(8,7))\n",
        "plt.barh(models,accuracies,color=['firebrick', 'black',\n",
        "                    'purple', 'seagreen', 'skyblue','pink','gray','teal'])\n",
        "plt.xlabel(\"Relative Accuracy\")\n",
        "plt.ylabel('Model')\n",
        "plt.title('Relative Accuracies at Test Set')\n",
        "plt.show()"
      ],
      "execution_count": 113,
      "outputs": [
        {
          "output_type": "display_data",
          "data": {
            "image/png": "[encoded data removed]",
            "text/plain": [
              "<Figure size 576x504 with 1 Axes>"
            ]
          },
          "metadata": {
            "tags": [],
            "needs_background": "light"
          }
        }
      ]
    },
    {
      "cell_type": "code",
      "metadata": {
        "id": "e0HwJWKlAIT8",
        "colab_type": "code",
        "colab": {}
      },
      "source": [
        ""
      ],
      "execution_count": null,
      "outputs": []
    }
  ]
}