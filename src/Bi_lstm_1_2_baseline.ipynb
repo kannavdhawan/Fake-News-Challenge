{
  "nbformat": 4,
  "nbformat_minor": 0,
  "metadata": {
    "colab": {
      "name": "Bi_lstm_1_2.ipynb",
      "provenance": [],
      "collapsed_sections": [],
      "include_colab_link": true
    },
    "kernelspec": {
      "name": "python3",
      "display_name": "Python 3"
    },
    "accelerator": "GPU"
  },
  "cells": [
    {
      "cell_type": "markdown",
      "metadata": {
        "id": "view-in-github",
        "colab_type": "text"
      },
      "source": [
        "<a href=\"https://colab.research.google.com/github/kannavdhawan/fake_news_challenge/blob/master/Bi_lstm_1_2.ipynb\" target=\"_parent\"><img src=\"https://colab.research.google.com/assets/colab-badge.svg\" alt=\"Open In Colab\"/></a>"
      ]
    },
    {
      "cell_type": "markdown",
      "metadata": {
        "id": "J9x9WTfFh8Xb",
        "colab_type": "text"
      },
      "source": [
        "### Importing libraries/\n",
        "\n",
        "\n"
      ]
    },
    {
      "cell_type": "code",
      "metadata": {
        "id": "BbE5cXefxTt6",
        "colab_type": "code",
        "colab": {
          "base_uri": "https://localhost:8080/",
          "height": 141
        },
        "outputId": "89155687-48d3-4bcd-e35a-ba400cf0449c"
      },
      "source": [
        "  \n",
        "import numpy as np\n",
        "import pandas as pd\n",
        "import os\n",
        "import re\n",
        "import csv\n",
        "from IPython.display import Image\n",
        "import pydot\n",
        "from string import punctuation\n",
        "\n",
        "# gensim dependencies\n",
        "import gensim\n",
        "from gensim.scripts.glove2word2vec import glove2word2vec\n",
        "from gensim.models import KeyedVectors\n",
        "\n",
        "# sklearn \n",
        "from sklearn.model_selection import train_test_split\n",
        "from sklearn.preprocessing import LabelEncoder\n",
        "\n",
        "\n",
        "# keras dependencies \n",
        "\n",
        "from keras.preprocessing.text import text_to_word_sequence as word_seq\n",
        "from keras.preprocessing.text import Tokenizer\n",
        "from keras.preprocessing.sequence import pad_sequences\n",
        "\n",
        "from keras.models import Sequential, Model\n",
        "from keras.layers import Input, Dense,  Activation, Bidirectional, LSTM, Embedding, Dropout, BatchNormalization\n",
        "from keras.layers.merge import concatenate\n",
        "from keras.layers.normalization import BatchNormalization\n",
        "from keras.utils import plot_model \n",
        "from keras.utils import np_utils\n",
        "\n",
        "from keras import optimizers\n",
        "from keras import backend as K\n",
        "from keras.engine.topology import Layer\n",
        "from keras import initializers, regularizers, constraints\n",
        "\n",
        "import tensorflow as tf\n",
        "\n",
        "\n",
        "# nltk \n",
        "\n",
        "import nltk\n",
        "from nltk.corpus import stopwords\n",
        "from nltk.stem import SnowballStemmer\n",
        "nltk.download('punkt')\n",
        "nltk.download('wordnet')\n",
        "nltk.download('stopwords')\n",
        "\n",
        "%matplotlib inline\n",
        "from matplotlib import pyplot as plt"
      ],
      "execution_count": null,
      "outputs": [
        {
          "output_type": "stream",
          "text": [
            "Using TensorFlow backend.\n"
          ],
          "name": "stderr"
        },
        {
          "output_type": "stream",
          "text": [
            "[nltk_data] Downloading package punkt to /root/nltk_data...\n",
            "[nltk_data]   Unzipping tokenizers/punkt.zip.\n",
            "[nltk_data] Downloading package wordnet to /root/nltk_data...\n",
            "[nltk_data]   Unzipping corpora/wordnet.zip.\n",
            "[nltk_data] Downloading package stopwords to /root/nltk_data...\n",
            "[nltk_data]   Unzipping corpora/stopwords.zip.\n"
          ],
          "name": "stdout"
        }
      ]
    },
    {
      "cell_type": "markdown",
      "metadata": {
        "id": "dr4iKRsNi2kE",
        "colab_type": "text"
      },
      "source": [
        "### Defining the hyperparameters of the neural network we are constructing"
      ]
    },
    {
      "cell_type": "code",
      "metadata": {
        "id": "Jr7ayzDLyKNw",
        "colab_type": "code",
        "colab": {}
      },
      "source": [
        "#Defining hyperparameters\n",
        "Maximum_length= 128     # maximum lenth to be padded\n",
        "Dimensions_embedding = 50   # as per glove \n",
        "seed = 1337 # reproducing the same results\n",
        "np.random.seed(seed)   ### Using seed to get same results in every run\n"
      ],
      "execution_count": null,
      "outputs": []
    },
    {
      "cell_type": "markdown",
      "metadata": {
        "id": "QhKeSVURjHzA",
        "colab_type": "text"
      },
      "source": [
        "# Loading the train bodies and test bodies from the dataset"
      ]
    },
    {
      "cell_type": "code",
      "metadata": {
        "id": "NA-TCyyGzvcN",
        "colab_type": "code",
        "colab": {
          "base_uri": "https://localhost:8080/",
          "height": 159
        },
        "outputId": "e5dd8c73-963e-4472-ea76-7af47daf4df1"
      },
      "source": [
        "# loading the articles .csv files in dataset(both in train and competition set )\n",
        "\n",
        "\n",
        "# loading body \n",
        "body_train = pd.read_csv('/content/drive/My Drive/641/'+'train_bodies.csv')\n",
        "body_test = pd.read_csv('/content/drive/My Drive/641/'+'competition_test_bodies.csv')\n",
        "\n",
        "\n",
        "### Loading the train stances and test stances from the dataset\n",
        "\n",
        "# training data is being loaded(stances)\n",
        "stances_train = pd.read_csv('/content/drive/My Drive/641/' + 'train_stances.csv')\n",
        "# testing data is being loaded(stances)\n",
        "stances_test = pd.read_csv('/content/drive/My Drive/641/'  + 'competition_test_stances.csv')\n",
        "\n",
        "# checking \n",
        "print(body_train.tail(3))\n",
        "print(body_test.tail(3))"
      ],
      "execution_count": null,
      "outputs": [
        {
          "output_type": "stream",
          "text": [
            "      Body ID                                        articleBody\n",
            "1680     2530  More than 200 schoolgirls were kidnapped in Ap...\n",
            "1681     2531  A Guantanamo Bay prisoner released last year a...\n",
            "1682     2532  ANN ARBOR, Mich. – A pizza delivery man in Mic...\n",
            "     Body ID                                        articleBody\n",
            "901     2584  Millions may lose coverage next year if Congre...\n",
            "902     2585  Come November, the grim trudge across the incr...\n",
            "903     2586  Remember how much Republicans wanted to repeal...\n"
          ],
          "name": "stdout"
        }
      ]
    },
    {
      "cell_type": "code",
      "metadata": {
        "id": "AhF9jwYs5eP2",
        "colab_type": "code",
        "colab": {
          "base_uri": "https://localhost:8080/",
          "height": 88
        },
        "outputId": "b5614638-d816-4e1a-ce86-5e55279187f1"
      },
      "source": [
        "print(\"Checking dims  body train : \", body_train.shape)\n",
        "print(\"Checking dims body test : \", body_test.shape)\n",
        "print(\"Checking dims stances train : \", stances_train.shape)\n",
        "print(\"Checking dims stances test: \", stances_test.shape)"
      ],
      "execution_count": null,
      "outputs": [
        {
          "output_type": "stream",
          "text": [
            "Checking dims  body train :  (1683, 2)\n",
            "Checking dims body test :  (904, 2)\n",
            "Checking dims stances train :  (49972, 3)\n",
            "Checking dims stances test:  (25413, 3)\n"
          ],
          "name": "stdout"
        }
      ]
    },
    {
      "cell_type": "code",
      "metadata": {
        "id": "_wER3kbmHvwu",
        "colab_type": "code",
        "colab": {
          "base_uri": "https://localhost:8080/",
          "height": 194
        },
        "outputId": "012476f7-a22a-4e72-ae91-533c3c26825d"
      },
      "source": [
        "stances_test.head()"
      ],
      "execution_count": null,
      "outputs": [
        {
          "output_type": "execute_result",
          "data": {
            "text/html": [
              "<div>\n",
              "<style scoped>\n",
              "    .dataframe tbody tr th:only-of-type {\n",
              "        vertical-align: middle;\n",
              "    }\n",
              "\n",
              "    .dataframe tbody tr th {\n",
              "        vertical-align: top;\n",
              "    }\n",
              "\n",
              "    .dataframe thead th {\n",
              "        text-align: right;\n",
              "    }\n",
              "</style>\n",
              "<table border=\"1\" class=\"dataframe\">\n",
              "  <thead>\n",
              "    <tr style=\"text-align: right;\">\n",
              "      <th></th>\n",
              "      <th>Headline</th>\n",
              "      <th>Body ID</th>\n",
              "      <th>Stance</th>\n",
              "    </tr>\n",
              "  </thead>\n",
              "  <tbody>\n",
              "    <tr>\n",
              "      <th>0</th>\n",
              "      <td>Ferguson riots: Pregnant woman loses eye after...</td>\n",
              "      <td>2008</td>\n",
              "      <td>unrelated</td>\n",
              "    </tr>\n",
              "    <tr>\n",
              "      <th>1</th>\n",
              "      <td>Crazy Conservatives Are Sure a Gitmo Detainee ...</td>\n",
              "      <td>1550</td>\n",
              "      <td>unrelated</td>\n",
              "    </tr>\n",
              "    <tr>\n",
              "      <th>2</th>\n",
              "      <td>A Russian Guy Says His Justin Bieber Ringtone ...</td>\n",
              "      <td>2</td>\n",
              "      <td>unrelated</td>\n",
              "    </tr>\n",
              "    <tr>\n",
              "      <th>3</th>\n",
              "      <td>Zombie Cat: Buried Kitty Believed Dead, Meows ...</td>\n",
              "      <td>1793</td>\n",
              "      <td>unrelated</td>\n",
              "    </tr>\n",
              "    <tr>\n",
              "      <th>4</th>\n",
              "      <td>Argentina's President Adopts Boy to End Werewo...</td>\n",
              "      <td>37</td>\n",
              "      <td>unrelated</td>\n",
              "    </tr>\n",
              "  </tbody>\n",
              "</table>\n",
              "</div>"
            ],
            "text/plain": [
              "                                            Headline  Body ID     Stance\n",
              "0  Ferguson riots: Pregnant woman loses eye after...     2008  unrelated\n",
              "1  Crazy Conservatives Are Sure a Gitmo Detainee ...     1550  unrelated\n",
              "2  A Russian Guy Says His Justin Bieber Ringtone ...        2  unrelated\n",
              "3  Zombie Cat: Buried Kitty Believed Dead, Meows ...     1793  unrelated\n",
              "4  Argentina's President Adopts Boy to End Werewo...       37  unrelated"
            ]
          },
          "metadata": {
            "tags": []
          },
          "execution_count": 5
        }
      ]
    },
    {
      "cell_type": "markdown",
      "metadata": {
        "id": "2W5WnW0xjrp4",
        "colab_type": "text"
      },
      "source": [
        "### Replacing the stances with respective integer labels"
      ]
    },
    {
      "cell_type": "code",
      "metadata": {
        "id": "LQ2FIxeM5nFo",
        "colab_type": "code",
        "colab": {}
      },
      "source": [
        "def change_labels(stances_train,stances_test):\n",
        "    # Replace the string stances with relative integer counterparts\n",
        "    stances_train.replace('unrelated',1,True)\n",
        "    stances_train.replace('agree',2,True)\n",
        "    stances_train.replace('disagree',3,True)\n",
        "    stances_train.replace('discuss',4,True)\n",
        "\n",
        "    stances_test.replace('unrelated',1,True)\n",
        "    stances_test.replace('agree',2,True)\n",
        "    stances_test.replace('disagree',3,True)\n",
        "    stances_test.replace('discuss',4,True)\n",
        "    return stances_train,stances_test"
      ],
      "execution_count": null,
      "outputs": []
    },
    {
      "cell_type": "code",
      "metadata": {
        "id": "u9vM5K--57XL",
        "colab_type": "code",
        "colab": {
          "base_uri": "https://localhost:8080/",
          "height": 194
        },
        "outputId": "6e5965e3-4a76-496d-f0a0-f024060c2e14"
      },
      "source": [
        "stances_train,stances_test=change_labels(stances_train,stances_test)\n",
        "\n",
        "stances_test.head()"
      ],
      "execution_count": null,
      "outputs": [
        {
          "output_type": "execute_result",
          "data": {
            "text/html": [
              "<div>\n",
              "<style scoped>\n",
              "    .dataframe tbody tr th:only-of-type {\n",
              "        vertical-align: middle;\n",
              "    }\n",
              "\n",
              "    .dataframe tbody tr th {\n",
              "        vertical-align: top;\n",
              "    }\n",
              "\n",
              "    .dataframe thead th {\n",
              "        text-align: right;\n",
              "    }\n",
              "</style>\n",
              "<table border=\"1\" class=\"dataframe\">\n",
              "  <thead>\n",
              "    <tr style=\"text-align: right;\">\n",
              "      <th></th>\n",
              "      <th>Headline</th>\n",
              "      <th>Body ID</th>\n",
              "      <th>Stance</th>\n",
              "    </tr>\n",
              "  </thead>\n",
              "  <tbody>\n",
              "    <tr>\n",
              "      <th>0</th>\n",
              "      <td>Ferguson riots: Pregnant woman loses eye after...</td>\n",
              "      <td>2008</td>\n",
              "      <td>1</td>\n",
              "    </tr>\n",
              "    <tr>\n",
              "      <th>1</th>\n",
              "      <td>Crazy Conservatives Are Sure a Gitmo Detainee ...</td>\n",
              "      <td>1550</td>\n",
              "      <td>1</td>\n",
              "    </tr>\n",
              "    <tr>\n",
              "      <th>2</th>\n",
              "      <td>A Russian Guy Says His Justin Bieber Ringtone ...</td>\n",
              "      <td>2</td>\n",
              "      <td>1</td>\n",
              "    </tr>\n",
              "    <tr>\n",
              "      <th>3</th>\n",
              "      <td>Zombie Cat: Buried Kitty Believed Dead, Meows ...</td>\n",
              "      <td>1793</td>\n",
              "      <td>1</td>\n",
              "    </tr>\n",
              "    <tr>\n",
              "      <th>4</th>\n",
              "      <td>Argentina's President Adopts Boy to End Werewo...</td>\n",
              "      <td>37</td>\n",
              "      <td>1</td>\n",
              "    </tr>\n",
              "  </tbody>\n",
              "</table>\n",
              "</div>"
            ],
            "text/plain": [
              "                                            Headline  Body ID  Stance\n",
              "0  Ferguson riots: Pregnant woman loses eye after...     2008       1\n",
              "1  Crazy Conservatives Are Sure a Gitmo Detainee ...     1550       1\n",
              "2  A Russian Guy Says His Justin Bieber Ringtone ...        2       1\n",
              "3  Zombie Cat: Buried Kitty Believed Dead, Meows ...     1793       1\n",
              "4  Argentina's President Adopts Boy to End Werewo...       37       1"
            ]
          },
          "metadata": {
            "tags": []
          },
          "execution_count": 7
        }
      ]
    },
    {
      "cell_type": "markdown",
      "metadata": {
        "id": "vIDgguDLj3iU",
        "colab_type": "text"
      },
      "source": [
        "### Making the combined training and testing dataframes  using dataframe.join ()method"
      ]
    },
    {
      "cell_type": "code",
      "metadata": {
        "id": "TXrdQwyh6A7-",
        "colab_type": "code",
        "colab": {}
      },
      "source": [
        "# combine bodies dataframe with stances dataframe for both train and competition test set\n",
        "full_train = stances_train.join(body_train.set_index('Body ID'), on='Body ID')\n",
        "full_test = stances_test.join(body_test.set_index('Body ID'), on='Body ID')"
      ],
      "execution_count": null,
      "outputs": []
    },
    {
      "cell_type": "code",
      "metadata": {
        "id": "XL022BJNJJkS",
        "colab_type": "code",
        "colab": {
          "base_uri": "https://localhost:8080/",
          "height": 52
        },
        "outputId": "b1841460-41c9-4cf1-aa6d-72776961d49e"
      },
      "source": [
        "print(full_train.shape)\n",
        "print(full_test.shape)"
      ],
      "execution_count": null,
      "outputs": [
        {
          "output_type": "stream",
          "text": [
            "(49972, 4)\n",
            "(25413, 4)\n"
          ],
          "name": "stdout"
        }
      ]
    },
    {
      "cell_type": "code",
      "metadata": {
        "id": "OmHKiRCqnclr",
        "colab_type": "code",
        "colab": {
          "base_uri": "https://localhost:8080/",
          "height": 135
        },
        "outputId": "e420b11c-c73d-44f9-bedf-ec5aac677e2f"
      },
      "source": [
        "full_train.head(3)"
      ],
      "execution_count": null,
      "outputs": [
        {
          "output_type": "execute_result",
          "data": {
            "text/html": [
              "<div>\n",
              "<style scoped>\n",
              "    .dataframe tbody tr th:only-of-type {\n",
              "        vertical-align: middle;\n",
              "    }\n",
              "\n",
              "    .dataframe tbody tr th {\n",
              "        vertical-align: top;\n",
              "    }\n",
              "\n",
              "    .dataframe thead th {\n",
              "        text-align: right;\n",
              "    }\n",
              "</style>\n",
              "<table border=\"1\" class=\"dataframe\">\n",
              "  <thead>\n",
              "    <tr style=\"text-align: right;\">\n",
              "      <th></th>\n",
              "      <th>Headline</th>\n",
              "      <th>Body ID</th>\n",
              "      <th>Stance</th>\n",
              "      <th>articleBody</th>\n",
              "    </tr>\n",
              "  </thead>\n",
              "  <tbody>\n",
              "    <tr>\n",
              "      <th>0</th>\n",
              "      <td>Police find mass graves with at least '15 bodi...</td>\n",
              "      <td>712</td>\n",
              "      <td>1</td>\n",
              "      <td>Danny Boyle is directing the untitled film\\n\\n...</td>\n",
              "    </tr>\n",
              "    <tr>\n",
              "      <th>1</th>\n",
              "      <td>Hundreds of Palestinians flee floods in Gaza a...</td>\n",
              "      <td>158</td>\n",
              "      <td>2</td>\n",
              "      <td>Hundreds of Palestinians were evacuated from t...</td>\n",
              "    </tr>\n",
              "    <tr>\n",
              "      <th>2</th>\n",
              "      <td>Christian Bale passes on role of Steve Jobs, a...</td>\n",
              "      <td>137</td>\n",
              "      <td>1</td>\n",
              "      <td>30-year-old Moscow resident was hospitalized w...</td>\n",
              "    </tr>\n",
              "  </tbody>\n",
              "</table>\n",
              "</div>"
            ],
            "text/plain": [
              "                                            Headline  ...                                        articleBody\n",
              "0  Police find mass graves with at least '15 bodi...  ...  Danny Boyle is directing the untitled film\\n\\n...\n",
              "1  Hundreds of Palestinians flee floods in Gaza a...  ...  Hundreds of Palestinians were evacuated from t...\n",
              "2  Christian Bale passes on role of Steve Jobs, a...  ...  30-year-old Moscow resident was hospitalized w...\n",
              "\n",
              "[3 rows x 4 columns]"
            ]
          },
          "metadata": {
            "tags": []
          },
          "execution_count": 10
        }
      ]
    },
    {
      "cell_type": "code",
      "metadata": {
        "id": "Z4jQW5VE6fyH",
        "colab_type": "code",
        "colab": {
          "base_uri": "https://localhost:8080/",
          "height": 35
        },
        "outputId": "bcbbc75c-ae68-4ce4-c17f-d56ed380c868"
      },
      "source": [
        "print(\"Unique body ids in final df :\",len(full_train['Body ID'].unique()))"
      ],
      "execution_count": null,
      "outputs": [
        {
          "output_type": "stream",
          "text": [
            "Unique body ids in final df : 1683\n"
          ],
          "name": "stdout"
        }
      ]
    },
    {
      "cell_type": "code",
      "metadata": {
        "id": "_kbeXn2uKGTt",
        "colab_type": "code",
        "colab": {
          "base_uri": "https://localhost:8080/",
          "height": 194
        },
        "outputId": "c0a242f0-eb42-45a8-c233-bf07eb9a83d0"
      },
      "source": [
        "full_train.head(5)"
      ],
      "execution_count": null,
      "outputs": [
        {
          "output_type": "execute_result",
          "data": {
            "text/html": [
              "<div>\n",
              "<style scoped>\n",
              "    .dataframe tbody tr th:only-of-type {\n",
              "        vertical-align: middle;\n",
              "    }\n",
              "\n",
              "    .dataframe tbody tr th {\n",
              "        vertical-align: top;\n",
              "    }\n",
              "\n",
              "    .dataframe thead th {\n",
              "        text-align: right;\n",
              "    }\n",
              "</style>\n",
              "<table border=\"1\" class=\"dataframe\">\n",
              "  <thead>\n",
              "    <tr style=\"text-align: right;\">\n",
              "      <th></th>\n",
              "      <th>Headline</th>\n",
              "      <th>Body ID</th>\n",
              "      <th>Stance</th>\n",
              "      <th>articleBody</th>\n",
              "    </tr>\n",
              "  </thead>\n",
              "  <tbody>\n",
              "    <tr>\n",
              "      <th>0</th>\n",
              "      <td>Police find mass graves with at least '15 bodi...</td>\n",
              "      <td>712</td>\n",
              "      <td>1</td>\n",
              "      <td>Danny Boyle is directing the untitled film\\n\\n...</td>\n",
              "    </tr>\n",
              "    <tr>\n",
              "      <th>1</th>\n",
              "      <td>Hundreds of Palestinians flee floods in Gaza a...</td>\n",
              "      <td>158</td>\n",
              "      <td>2</td>\n",
              "      <td>Hundreds of Palestinians were evacuated from t...</td>\n",
              "    </tr>\n",
              "    <tr>\n",
              "      <th>2</th>\n",
              "      <td>Christian Bale passes on role of Steve Jobs, a...</td>\n",
              "      <td>137</td>\n",
              "      <td>1</td>\n",
              "      <td>30-year-old Moscow resident was hospitalized w...</td>\n",
              "    </tr>\n",
              "    <tr>\n",
              "      <th>3</th>\n",
              "      <td>HBO and Apple in Talks for $15/Month Apple TV ...</td>\n",
              "      <td>1034</td>\n",
              "      <td>1</td>\n",
              "      <td>(Reuters) - A Canadian soldier was shot at the...</td>\n",
              "    </tr>\n",
              "    <tr>\n",
              "      <th>4</th>\n",
              "      <td>Spider burrowed through tourist's stomach and ...</td>\n",
              "      <td>1923</td>\n",
              "      <td>3</td>\n",
              "      <td>Fear not arachnophobes, the story of Bunbury's...</td>\n",
              "    </tr>\n",
              "  </tbody>\n",
              "</table>\n",
              "</div>"
            ],
            "text/plain": [
              "                                            Headline  ...                                        articleBody\n",
              "0  Police find mass graves with at least '15 bodi...  ...  Danny Boyle is directing the untitled film\\n\\n...\n",
              "1  Hundreds of Palestinians flee floods in Gaza a...  ...  Hundreds of Palestinians were evacuated from t...\n",
              "2  Christian Bale passes on role of Steve Jobs, a...  ...  30-year-old Moscow resident was hospitalized w...\n",
              "3  HBO and Apple in Talks for $15/Month Apple TV ...  ...  (Reuters) - A Canadian soldier was shot at the...\n",
              "4  Spider burrowed through tourist's stomach and ...  ...  Fear not arachnophobes, the story of Bunbury's...\n",
              "\n",
              "[5 rows x 4 columns]"
            ]
          },
          "metadata": {
            "tags": []
          },
          "execution_count": 12
        }
      ]
    },
    {
      "cell_type": "markdown",
      "metadata": {
        "id": "nrbZonW-kdqP",
        "colab_type": "text"
      },
      "source": [
        "### Here we are constructing text_to_word_sequence using keras function to form List of lists of  tokenized headlines for both train and test headings and bodies(articles)"
      ]
    },
    {
      "cell_type": "code",
      "metadata": {
        "id": "mXoiTdyI6kkP",
        "colab_type": "code",
        "colab": {}
      },
      "source": [
        "# Here we are constructing text_to_word_sequence(keras functions)(Lists of lists)\n",
        "def gen_tokens(dataset):\n",
        "    headline = [word_seq(headline) for headline in dataset['Headline']]\n",
        "    body = [word_seq(body) for body in dataset['articleBody']]\n",
        "    return headline, body "
      ],
      "execution_count": null,
      "outputs": []
    },
    {
      "cell_type": "code",
      "metadata": {
        "id": "ZKS9RrKX7Xeb",
        "colab_type": "code",
        "colab": {
          "base_uri": "https://localhost:8080/",
          "height": 72
        },
        "outputId": "b00ace2f-c212-4788-871c-63c9166547a7"
      },
      "source": [
        "tokens_headline_train, tokens_body_train=gen_tokens(full_train)\n",
        "tokens_headline_test, tokens_body_test=gen_tokens(full_test)\n",
        "\n",
        "print(tokens_headline_train[0])\n",
        "print(len(tokens_headline_train))"
      ],
      "execution_count": null,
      "outputs": [
        {
          "output_type": "stream",
          "text": [
            "['police', 'find', 'mass', 'graves', 'with', 'at', 'least', \"'15\", \"bodies'\", 'near', 'mexico', 'town', 'where', '43', 'students', 'disappeared', 'after', 'police', 'clash']\n",
            "49972\n"
          ],
          "name": "stdout"
        }
      ]
    },
    {
      "cell_type": "markdown",
      "metadata": {
        "id": "xfHwqMN8lnw6",
        "colab_type": "text"
      },
      "source": [
        "###  Adding all the train sequences together"
      ]
    },
    {
      "cell_type": "code",
      "metadata": {
        "id": "nqUk0BwL8ZdJ",
        "colab_type": "code",
        "colab": {}
      },
      "source": [
        "def gen_data_for_fit_on_texts(tokens_headline_train,tokens_body_train):\n",
        "    sequences= []\n",
        "    for i in range(len(tokens_headline_train)):\n",
        "        sequences.append(tokens_headline_train[i])\n",
        "    for i in range(len(tokens_body_train)):\n",
        "        sequences.append(tokens_body_train[i])\n",
        "    return sequences"
      ],
      "execution_count": null,
      "outputs": []
    },
    {
      "cell_type": "code",
      "metadata": {
        "id": "m6JDrGMPExQ4",
        "colab_type": "code",
        "colab": {
          "base_uri": "https://localhost:8080/",
          "height": 355
        },
        "outputId": "3c8bed31-8299-4196-c38e-d6932ddd6ac8"
      },
      "source": [
        "sequences=gen_data_for_fit_on_texts(tokens_headline_train,tokens_body_train)\n",
        "sequences[0]  # headline form train set "
      ],
      "execution_count": null,
      "outputs": [
        {
          "output_type": "execute_result",
          "data": {
            "text/plain": [
              "['police',\n",
              " 'find',\n",
              " 'mass',\n",
              " 'graves',\n",
              " 'with',\n",
              " 'at',\n",
              " 'least',\n",
              " \"'15\",\n",
              " \"bodies'\",\n",
              " 'near',\n",
              " 'mexico',\n",
              " 'town',\n",
              " 'where',\n",
              " '43',\n",
              " 'students',\n",
              " 'disappeared',\n",
              " 'after',\n",
              " 'police',\n",
              " 'clash']"
            ]
          },
          "metadata": {
            "tags": []
          },
          "execution_count": 16
        }
      ]
    },
    {
      "cell_type": "markdown",
      "metadata": {
        "id": "ucRfSYHdmHqB",
        "colab_type": "text"
      },
      "source": [
        "### Construct the keras tokenizer and apply fit on text function of it on word sequences generated"
      ]
    },
    {
      "cell_type": "code",
      "metadata": {
        "id": "1E2dffwh-Xzh",
        "colab_type": "code",
        "colab": {}
      },
      "source": [
        "def gen_tokenize(sequences):\n",
        "    # using keras tokenizer and filter_list\n",
        "    tokenizer = Tokenizer(filters= '!\"\\'#$%&()*+,-./:;<=>?@[\\\\]^_`{|}~\\t\\n')\n",
        "    tokenizer.fit_on_texts([seq for seq in sequences])\n",
        "\n",
        "    print(\"vocabulary size :\", len(tokenizer.word_index))\n",
        "    return tokenizer"
      ],
      "execution_count": null,
      "outputs": []
    },
    {
      "cell_type": "code",
      "metadata": {
        "id": "bRBRdJ38PhTw",
        "colab_type": "code",
        "colab": {
          "base_uri": "https://localhost:8080/",
          "height": 35
        },
        "outputId": "8abc26f5-eb11-4d17-c971-3e3073fec36a"
      },
      "source": [
        "tokenizer=gen_tokenize(sequences)"
      ],
      "execution_count": null,
      "outputs": [
        {
          "output_type": "stream",
          "text": [
            "vocabulary size : 27873\n"
          ],
          "name": "stdout"
        }
      ]
    },
    {
      "cell_type": "markdown",
      "metadata": {
        "id": "fX47QPNDAQyE",
        "colab_type": "text"
      },
      "source": [
        "### list of list of tokens\n",
        "- tokens_headline_train\n",
        "- tokens_body_train\n",
        "- tokens_headline_test \n",
        "- tokens_body_test"
      ]
    },
    {
      "cell_type": "code",
      "metadata": {
        "id": "YO_G-J5R-pJi",
        "colab_type": "code",
        "colab": {}
      },
      "source": [
        "def concat_head_body(headline,body):\n",
        "    #Here we are combining headlines and bodies together\n",
        "    combined_head_body=[]\n",
        "    \n",
        "    combined_head_body = [list(i) for i in headline]\n",
        "    for i in range(len(headline)):\n",
        "        # extend() modifies the original list and does not return any value\n",
        "        combined_head_body[i].extend(body[i]) \n",
        "    return combined_head_body"
      ],
      "execution_count": null,
      "outputs": []
    },
    {
      "cell_type": "code",
      "metadata": {
        "id": "hhceLkLnTSCl",
        "colab_type": "code",
        "colab": {}
      },
      "source": [
        "combined_head_body_train=concat_head_body(tokens_headline_train,tokens_body_train)\n",
        "combined_head_body_test=concat_head_body(tokens_headline_test,tokens_body_test)"
      ],
      "execution_count": null,
      "outputs": []
    },
    {
      "cell_type": "code",
      "metadata": {
        "id": "DQszYUA8BLPS",
        "colab_type": "code",
        "colab": {}
      },
      "source": [
        "# combined_head_body_train[0]"
      ],
      "execution_count": null,
      "outputs": []
    },
    {
      "cell_type": "code",
      "metadata": {
        "id": "EVtr6zVRBO5_",
        "colab_type": "code",
        "colab": {
          "base_uri": "https://localhost:8080/",
          "height": 70
        },
        "outputId": "b161b847-df32-47a3-dc7c-78a6357cfd96"
      },
      "source": [
        "print(len(combined_head_body_train))\n",
        "print(len(combined_head_body_train[0]))     # diffent length \n",
        "print(len(combined_head_body_train[1]))     # different length"
      ],
      "execution_count": null,
      "outputs": [
        {
          "output_type": "stream",
          "text": [
            "49972\n",
            "216\n",
            "445\n"
          ],
          "name": "stdout"
        }
      ]
    },
    {
      "cell_type": "markdown",
      "metadata": {
        "id": "mI6TLBekm8tb",
        "colab_type": "text"
      },
      "source": [
        "### Using keras tokenizer for text to sequence and pad sequence generation for train dataset and test dataset\n",
        "### Forming train labels  for the combined train data frame"
      ]
    },
    {
      "cell_type": "code",
      "metadata": {
        "id": "rSept9SyFzp1",
        "colab_type": "code",
        "colab": {}
      },
      "source": [
        "def generate_padded_dataset(combined_head_body,tokenizer,df):\n",
        "    # Now we will take max length to lower the length of sentences we have to deal with. \n",
        "    #It is very important beacuse as the length of sentences increases, our ability to handle many of those senetences decreases\n",
        "    # Convert the sequence of words to sequnce of indices\n",
        "    # maximum length is 128 ..\n",
        "    X = tokenizer.texts_to_sequences([' '.join(seq[:]) for seq in combined_head_body])\n",
        "    X = pad_sequences(X, maxlen=128, padding='post', truncating='post')\n",
        "    #target label from combined data frame\n",
        "    y = df['Stance']\n",
        "    return X, y"
      ],
      "execution_count": null,
      "outputs": []
    },
    {
      "cell_type": "code",
      "metadata": {
        "id": "OQdd8p1fWetc",
        "colab_type": "code",
        "colab": {}
      },
      "source": [
        "X_train,y_train=generate_padded_dataset(combined_head_body_train,tokenizer,full_train)\n",
        "X_test,y_test=generate_padded_dataset(combined_head_body_test,tokenizer,full_test)"
      ],
      "execution_count": null,
      "outputs": []
    },
    {
      "cell_type": "code",
      "metadata": {
        "id": "P2hRKaEKWzfr",
        "colab_type": "code",
        "colab": {
          "base_uri": "https://localhost:8080/",
          "height": 141
        },
        "outputId": "6f1368f6-fdb8-460f-9fdc-52b56752ba15"
      },
      "source": [
        "X_train"
      ],
      "execution_count": null,
      "outputs": [
        {
          "output_type": "execute_result",
          "data": {
            "text/plain": [
              "array([[  90,  407,  712, ...,    8,    2,  557],\n",
              "       [1060,    4, 9286, ...,  161,    4,    1],\n",
              "       [ 639,  464, 7035, ..., 2438,   35,  341],\n",
              "       ...,\n",
              "       [ 735,  110,  210, ...,    0,    0,    0],\n",
              "       [  93, 5578, 1650, ...,   84,  289,    0],\n",
              "       [ 259,  241,    5, ..., 3962, 3122,    6]], dtype=int32)"
            ]
          },
          "metadata": {
            "tags": []
          },
          "execution_count": 25
        }
      ]
    },
    {
      "cell_type": "code",
      "metadata": {
        "id": "H0InZl9mHiMG",
        "colab_type": "code",
        "colab": {
          "base_uri": "https://localhost:8080/",
          "height": 106
        },
        "outputId": "159aeb1f-d3fb-45fc-b4e9-7fd96cb9cc2a"
      },
      "source": [
        "print(X_train.shape)\n",
        "print(y_train.shape)\n",
        "print(X_test.shape)\n",
        "print(y_test.shape)\n",
        "print(y_test[0])"
      ],
      "execution_count": null,
      "outputs": [
        {
          "output_type": "stream",
          "text": [
            "(49972, 128)\n",
            "(49972,)\n",
            "(25413, 128)\n",
            "(25413,)\n",
            "1\n"
          ],
          "name": "stdout"
        }
      ]
    },
    {
      "cell_type": "markdown",
      "metadata": {
        "id": "5IkoiW7eogsV",
        "colab_type": "text"
      },
      "source": [
        "# --------\n"
      ]
    },
    {
      "cell_type": "markdown",
      "metadata": {
        "id": "7_tAw4zmn_aM",
        "colab_type": "text"
      },
      "source": [
        "### Encoding the training labels and then converting them into one-hot-encoding form"
      ]
    },
    {
      "cell_type": "code",
      "metadata": {
        "id": "0FTaVV-KpcUp",
        "colab_type": "code",
        "colab": {
          "base_uri": "https://localhost:8080/",
          "height": 230
        },
        "outputId": "526edaed-26bf-4d99-a5da-672d07073bfe"
      },
      "source": [
        "y_train"
      ],
      "execution_count": null,
      "outputs": [
        {
          "output_type": "execute_result",
          "data": {
            "text/plain": [
              "0        1\n",
              "1        2\n",
              "2        1\n",
              "3        1\n",
              "4        3\n",
              "        ..\n",
              "49967    1\n",
              "49968    1\n",
              "49969    2\n",
              "49970    4\n",
              "49971    1\n",
              "Name: Stance, Length: 49972, dtype: int64"
            ]
          },
          "metadata": {
            "tags": []
          },
          "execution_count": 27
        }
      ]
    },
    {
      "cell_type": "code",
      "metadata": {
        "id": "Vp251RFsIprM",
        "colab_type": "code",
        "colab": {
          "base_uri": "https://localhost:8080/",
          "height": 35
        },
        "outputId": "b4fee26b-7a6e-45ba-86db-1da11d73be52"
      },
      "source": [
        "# Encoding labels(train)\n",
        "# Label Encoder is used to normalize the labels between 0 and N-Classes-1\n",
        "train_encoder = LabelEncoder()\n",
        "y_train_encoded=train_encoder.fit_transform(y_train)\n",
        "print(y_train_encoded)\n",
        "# Converting labels to one-hot-encoding\n",
        "y_train = np_utils.to_categorical(y_train_encoded)"
      ],
      "execution_count": null,
      "outputs": [
        {
          "output_type": "stream",
          "text": [
            "[0 1 0 ... 1 3 0]\n"
          ],
          "name": "stdout"
        }
      ]
    },
    {
      "cell_type": "code",
      "metadata": {
        "id": "oN3qDSs0LWhQ",
        "colab_type": "code",
        "colab": {
          "base_uri": "https://localhost:8080/",
          "height": 141
        },
        "outputId": "72634717-b10f-408f-c5d3-1ddd4cb8956f"
      },
      "source": [
        "y_train"
      ],
      "execution_count": null,
      "outputs": [
        {
          "output_type": "execute_result",
          "data": {
            "text/plain": [
              "array([[1., 0., 0., 0.],\n",
              "       [0., 1., 0., 0.],\n",
              "       [1., 0., 0., 0.],\n",
              "       ...,\n",
              "       [0., 1., 0., 0.],\n",
              "       [0., 0., 0., 1.],\n",
              "       [1., 0., 0., 0.]], dtype=float32)"
            ]
          },
          "metadata": {
            "tags": []
          },
          "execution_count": 29
        }
      ]
    },
    {
      "cell_type": "markdown",
      "metadata": {
        "id": "AfyPhwvo5-TD",
        "colab_type": "text"
      },
      "source": [
        "### Encoding the testing labels and then converting them into one-hot-encoding form"
      ]
    },
    {
      "cell_type": "code",
      "metadata": {
        "id": "_aE72uXkM5F1",
        "colab_type": "code",
        "colab": {}
      },
      "source": [
        "# # Encoding labels(train)\n",
        "# Label Encoder is used to normalize the labels between 0 and N-Classes-1\n",
        "test_encoder = LabelEncoder()# predefined function taken from sklearn\n",
        "y_test_encoded=test_encoder.fit_transform(y_test)\n",
        "# convert integers to dummy variables (i.e. one hot encoded)\n",
        "y_test = np_utils.to_categorical(y_test_encoded)"
      ],
      "execution_count": null,
      "outputs": []
    },
    {
      "cell_type": "code",
      "metadata": {
        "id": "M8XeTM-aNSLb",
        "colab_type": "code",
        "colab": {
          "base_uri": "https://localhost:8080/",
          "height": 35
        },
        "outputId": "7726bc1f-840b-4534-9a3a-7ccb2502b191"
      },
      "source": [
        "y_test.shape"
      ],
      "execution_count": null,
      "outputs": [
        {
          "output_type": "execute_result",
          "data": {
            "text/plain": [
              "(25413, 4)"
            ]
          },
          "metadata": {
            "tags": []
          },
          "execution_count": 31
        }
      ]
    },
    {
      "cell_type": "markdown",
      "metadata": {
        "id": "nLS3N181q8Oh",
        "colab_type": "text"
      },
      "source": [
        "## splitting the dataset"
      ]
    },
    {
      "cell_type": "code",
      "metadata": {
        "id": "7XBbcjS-qjCz",
        "colab_type": "code",
        "colab": {}
      },
      "source": [
        "X_train, X_val, y_train, y_val= train_test_split(X_train,y_train, random_state=42, test_size=0.2)"
      ],
      "execution_count": null,
      "outputs": []
    },
    {
      "cell_type": "code",
      "metadata": {
        "id": "yGh4ZwQ6rLxk",
        "colab_type": "code",
        "colab": {
          "base_uri": "https://localhost:8080/",
          "height": 124
        },
        "outputId": "878d7c74-e67e-473e-df9a-e89c6dafae12"
      },
      "source": [
        "print(X_train.shape)\n",
        "print(y_train.shape)\n",
        "print(X_val.shape)\n",
        "print(y_val.shape)\n",
        "print(X_test.shape)\n",
        "print(y_test.shape)"
      ],
      "execution_count": null,
      "outputs": [
        {
          "output_type": "stream",
          "text": [
            "(39977, 128)\n",
            "(39977, 4)\n",
            "(9995, 128)\n",
            "(9995, 4)\n",
            "(25413, 128)\n",
            "(25413, 4)\n"
          ],
          "name": "stdout"
        }
      ]
    },
    {
      "cell_type": "markdown",
      "metadata": {
        "id": "BLVZwoMd6GFd",
        "colab_type": "text"
      },
      "source": [
        "###  Embedding matrix using glove and the word_index dict\n"
      ]
    },
    {
      "cell_type": "markdown",
      "metadata": {
        "id": "yL4FmAvguzHQ",
        "colab_type": "text"
      },
      "source": [
        "### Defining the data directory where we have  train and test dataset \n",
        "### Defing the path where we have GloVe pretrained embedding "
      ]
    },
    {
      "cell_type": "code",
      "metadata": {
        "id": "iGlSK6ecNvi1",
        "colab_type": "code",
        "colab": {
          "base_uri": "https://localhost:8080/",
          "height": 90
        },
        "outputId": "af00047c-aa4f-40f4-ad4e-65bee04e5655"
      },
      "source": [
        "# Twitter glove with 50d\n",
        "# converting the glove to word2vec \n",
        "glove2word2vec('/content/drive/My Drive/641/glove.twitter.27B.50d.txt', '/content/drive/My Drive/641/glove.50d.txt.word2vec')"
      ],
      "execution_count": null,
      "outputs": [
        {
          "output_type": "stream",
          "text": [
            "/usr/local/lib/python3.6/dist-packages/smart_open/smart_open_lib.py:254: UserWarning: This function is deprecated, use smart_open.open instead. See the migration notes for details: https://github.com/RaRe-Technologies/smart_open/blob/master/README.rst#migrating-to-the-new-open-function\n",
            "  'See the migration notes for details: %s' % _MIGRATION_NOTES_URL\n"
          ],
          "name": "stderr"
        },
        {
          "output_type": "execute_result",
          "data": {
            "text/plain": [
              "(1193514, 50)"
            ]
          },
          "metadata": {
            "tags": []
          },
          "execution_count": 34
        }
      ]
    },
    {
      "cell_type": "markdown",
      "metadata": {
        "id": "SxjzZ8O76OL8",
        "colab_type": "text"
      },
      "source": [
        "###  Here we are creating embedding matrix using our vocabulary we calculated. If the word is not in the GloVe, we take its vector as comprised of zeros"
      ]
    },
    {
      "cell_type": "code",
      "metadata": {
        "id": "0KdW-Xyfw9Yh",
        "colab_type": "code",
        "colab": {
          "base_uri": "https://localhost:8080/",
          "height": 72
        },
        "outputId": "ff539abb-b847-4e25-e3fb-3849df0f1040"
      },
      "source": [
        "# embeddings\n",
        "w2v_vectors= gensim.models.KeyedVectors.load_word2vec_format('/content/drive/My Drive/641/glove.50d.txt.word2vec', binary=False)"
      ],
      "execution_count": null,
      "outputs": [
        {
          "output_type": "stream",
          "text": [
            "/usr/local/lib/python3.6/dist-packages/smart_open/smart_open_lib.py:254: UserWarning: This function is deprecated, use smart_open.open instead. See the migration notes for details: https://github.com/RaRe-Technologies/smart_open/blob/master/README.rst#migrating-to-the-new-open-function\n",
            "  'See the migration notes for details: %s' % _MIGRATION_NOTES_URL\n"
          ],
          "name": "stderr"
        }
      ]
    },
    {
      "cell_type": "code",
      "metadata": {
        "id": "dg6yHj5YzZWj",
        "colab_type": "code",
        "colab": {
          "base_uri": "https://localhost:8080/",
          "height": 35
        },
        "outputId": "36022851-9617-4c3b-f9d0-054eb808f972"
      },
      "source": [
        "w2v_vectors['the'].shape"
      ],
      "execution_count": null,
      "outputs": [
        {
          "output_type": "execute_result",
          "data": {
            "text/plain": [
              "(50,)"
            ]
          },
          "metadata": {
            "tags": []
          },
          "execution_count": 36
        }
      ]
    },
    {
      "cell_type": "code",
      "metadata": {
        "id": "1YvQT8UPOeQa",
        "colab_type": "code",
        "colab": {}
      },
      "source": [
        "# Here we are creating embedding matrix using our vocabulary we calculated. If the word is not in the GloVe, we take its vector as comprised of zeros\n",
        "\n",
        "found_count =0\n",
        "not_found_count = 0\n",
        "embedding_matrix = np.zeros((len(tokenizer.word_index) + 1, Dimensions_embedding))\n",
        "for word, i in tokenizer.word_index.items():\n",
        "    try:\n",
        "        e_vector= w2v_vectors[word]\n",
        "    except KeyError:\n",
        "        e_vector=None\n",
        "    if e_vector is not None:          # If word exists in the Glove embedding we are using\n",
        "\n",
        "        embedding_matrix[i] = e_vector\n",
        "        found_count+=1\n",
        "    else:\n",
        "        not_found_count+=1"
      ],
      "execution_count": null,
      "outputs": []
    },
    {
      "cell_type": "code",
      "metadata": {
        "id": "eZGuXcbDz-0k",
        "colab_type": "code",
        "colab": {
          "base_uri": "https://localhost:8080/",
          "height": 52
        },
        "outputId": "8a3ca505-ab0a-4a33-9cf0-c2951b52bc4b"
      },
      "source": [
        "print(\"Found_count:\",found_count)\n",
        "print(\"Not found count:\",not_found_count)"
      ],
      "execution_count": null,
      "outputs": [
        {
          "output_type": "stream",
          "text": [
            "Found_count: 20066\n",
            "Not found count: 7807\n"
          ],
          "name": "stdout"
        }
      ]
    },
    {
      "cell_type": "markdown",
      "metadata": {
        "id": "XSqJm4hOF0kE",
        "colab_type": "text"
      },
      "source": [
        "## Model 1 - Bi lstm"
      ]
    },
    {
      "cell_type": "code",
      "metadata": {
        "id": "aBZ4lxFWtf4u",
        "colab_type": "code",
        "colab": {}
      },
      "source": [
        "model = Sequential()\n",
        "model.add(Embedding(input_dim=len(tokenizer.word_index)+1,output_dim=Dimensions_embedding,\n",
        "                          weights = [embedding_matrix], trainable=False, name='word_embedding_layer')) # trainable=True results in overfitting\n",
        "model.add(Bidirectional(LSTM(128, return_sequences=True, name='Bidrectional_lstm_layer_1')))\n",
        "model.add(Bidirectional(LSTM(64, return_sequences=False, name='Bidrectional_lstm_layer_2')))\n",
        "\n",
        "model.add(Dropout(rate=0.4, name='dropout_1'))\n",
        "model.add(Dense(32,activation='relu', name='Dense_layer'))\n",
        "\n",
        "model.add(Dropout(rate=0.2, name='dropout_2'))\n",
        "\n",
        "model.add(Dense(4, activation='softmax', name='output_layer'))"
      ],
      "execution_count": null,
      "outputs": []
    },
    {
      "cell_type": "code",
      "metadata": {
        "id": "RCrA0pRBuNf_",
        "colab_type": "code",
        "colab": {
          "base_uri": "https://localhost:8080/",
          "height": 408
        },
        "outputId": "379da588-4c54-4a2b-d756-1df10c0d2fde"
      },
      "source": [
        "model.summary()"
      ],
      "execution_count": null,
      "outputs": [
        {
          "output_type": "stream",
          "text": [
            "Model: \"sequential_3\"\n",
            "_________________________________________________________________\n",
            "Layer (type)                 Output Shape              Param #   \n",
            "=================================================================\n",
            "word_embedding_layer (Embedd (None, None, 50)          1393700   \n",
            "_________________________________________________________________\n",
            "bidirectional_2 (Bidirection (None, None, 256)         183296    \n",
            "_________________________________________________________________\n",
            "bidirectional_3 (Bidirection (None, 128)               164352    \n",
            "_________________________________________________________________\n",
            "dropout_1 (Dropout)          (None, 128)               0         \n",
            "_________________________________________________________________\n",
            "Dense_layer (Dense)          (None, 32)                4128      \n",
            "_________________________________________________________________\n",
            "dropout_2 (Dropout)          (None, 32)                0         \n",
            "_________________________________________________________________\n",
            "output_layer (Dense)         (None, 4)                 132       \n",
            "=================================================================\n",
            "Total params: 1,745,608\n",
            "Trainable params: 351,908\n",
            "Non-trainable params: 1,393,700\n",
            "_________________________________________________________________\n"
          ],
          "name": "stdout"
        }
      ]
    },
    {
      "cell_type": "markdown",
      "metadata": {
        "id": "DYQ0r_LO6tr0",
        "colab_type": "text"
      },
      "source": [
        "### Compiling the model"
      ]
    },
    {
      "cell_type": "code",
      "metadata": {
        "id": "QfvEQ3_yUUAs",
        "colab_type": "code",
        "colab": {}
      },
      "source": [
        "model.compile(loss='categorical_crossentropy',optimizer=optimizers.Adam(lr=0.005),\n",
        "              metrics=['accuracy'])"
      ],
      "execution_count": null,
      "outputs": []
    },
    {
      "cell_type": "markdown",
      "metadata": {
        "id": "MWxwIO766492",
        "colab_type": "text"
      },
      "source": [
        "### Training of the Bidirectional LSTM Model"
      ]
    },
    {
      "cell_type": "code",
      "metadata": {
        "id": "V3lfm09iUeWY",
        "colab_type": "code",
        "colab": {
          "base_uri": "https://localhost:8080/",
          "height": 1000
        },
        "outputId": "ba6f6db5-6a52-4eb7-e803-8bc7860b5f9f"
      },
      "source": [
        "# get the training history of the model in each epoch\n",
        "model_h = model.fit(X_train, y_train,batch_size=256,epochs=35,validation_data=(X_val, y_val))"
      ],
      "execution_count": null,
      "outputs": [
        {
          "output_type": "stream",
          "text": [
            "Train on 39977 samples, validate on 9995 samples\n",
            "Epoch 1/35\n",
            "39977/39977 [==============================] - 192s 5ms/step - loss: 0.8085 - accuracy: 0.7254 - val_loss: 0.7174 - val_accuracy: 0.7337\n",
            "Epoch 2/35\n",
            "39977/39977 [==============================] - 193s 5ms/step - loss: 0.6806 - accuracy: 0.7426 - val_loss: 0.5780 - val_accuracy: 0.7713\n",
            "Epoch 3/35\n",
            "39977/39977 [==============================] - 190s 5ms/step - loss: 0.5426 - accuracy: 0.7798 - val_loss: 0.4832 - val_accuracy: 0.7987\n",
            "Epoch 4/35\n",
            "39977/39977 [==============================] - 189s 5ms/step - loss: 0.4291 - accuracy: 0.8269 - val_loss: 0.3820 - val_accuracy: 0.8490\n",
            "Epoch 5/35\n",
            "39977/39977 [==============================] - 191s 5ms/step - loss: 0.3404 - accuracy: 0.8668 - val_loss: 0.3207 - val_accuracy: 0.8735\n",
            "Epoch 6/35\n",
            "39977/39977 [==============================] - 192s 5ms/step - loss: 0.2833 - accuracy: 0.8908 - val_loss: 0.2737 - val_accuracy: 0.8978\n",
            "Epoch 7/35\n",
            "39977/39977 [==============================] - 190s 5ms/step - loss: 0.2207 - accuracy: 0.9173 - val_loss: 0.2625 - val_accuracy: 0.9068\n",
            "Epoch 8/35\n",
            "39977/39977 [==============================] - 191s 5ms/step - loss: 0.1899 - accuracy: 0.9294 - val_loss: 0.2267 - val_accuracy: 0.9199\n",
            "Epoch 9/35\n",
            "39977/39977 [==============================] - 195s 5ms/step - loss: 0.1596 - accuracy: 0.9424 - val_loss: 0.2125 - val_accuracy: 0.9250\n",
            "Epoch 10/35\n",
            "39977/39977 [==============================] - 197s 5ms/step - loss: 0.1362 - accuracy: 0.9502 - val_loss: 0.1972 - val_accuracy: 0.9323\n",
            "Epoch 11/35\n",
            "39977/39977 [==============================] - 196s 5ms/step - loss: 0.1105 - accuracy: 0.9594 - val_loss: 0.1959 - val_accuracy: 0.9366\n",
            "Epoch 12/35\n",
            "39977/39977 [==============================] - 195s 5ms/step - loss: 0.0965 - accuracy: 0.9645 - val_loss: 0.2044 - val_accuracy: 0.9356\n",
            "Epoch 13/35\n",
            "39977/39977 [==============================] - 196s 5ms/step - loss: 0.0888 - accuracy: 0.9671 - val_loss: 0.2036 - val_accuracy: 0.9355\n",
            "Epoch 14/35\n",
            "39977/39977 [==============================] - 198s 5ms/step - loss: 0.0911 - accuracy: 0.9670 - val_loss: 0.1906 - val_accuracy: 0.9384\n",
            "Epoch 15/35\n",
            "39977/39977 [==============================] - 200s 5ms/step - loss: 0.0757 - accuracy: 0.9726 - val_loss: 0.1985 - val_accuracy: 0.9406\n",
            "Epoch 16/35\n",
            "39977/39977 [==============================] - 195s 5ms/step - loss: 0.0630 - accuracy: 0.9780 - val_loss: 0.2007 - val_accuracy: 0.9436\n",
            "Epoch 17/35\n",
            "39977/39977 [==============================] - 193s 5ms/step - loss: 0.0699 - accuracy: 0.9747 - val_loss: 0.1958 - val_accuracy: 0.9442\n",
            "Epoch 18/35\n",
            "39977/39977 [==============================] - 196s 5ms/step - loss: 0.0545 - accuracy: 0.9813 - val_loss: 0.2030 - val_accuracy: 0.9434\n",
            "Epoch 19/35\n",
            "39977/39977 [==============================] - 193s 5ms/step - loss: 0.0516 - accuracy: 0.9820 - val_loss: 0.2056 - val_accuracy: 0.9480\n",
            "Epoch 20/35\n",
            "39977/39977 [==============================] - 195s 5ms/step - loss: 0.0542 - accuracy: 0.9812 - val_loss: 0.2056 - val_accuracy: 0.9448\n",
            "Epoch 21/35\n",
            "39977/39977 [==============================] - 191s 5ms/step - loss: 0.0460 - accuracy: 0.9840 - val_loss: 0.2089 - val_accuracy: 0.9469\n",
            "Epoch 22/35\n",
            "39977/39977 [==============================] - 197s 5ms/step - loss: 0.0422 - accuracy: 0.9856 - val_loss: 0.2178 - val_accuracy: 0.9435\n",
            "Epoch 23/35\n",
            "39977/39977 [==============================] - 194s 5ms/step - loss: 0.0518 - accuracy: 0.9821 - val_loss: 0.2132 - val_accuracy: 0.9475\n",
            "Epoch 24/35\n",
            "39977/39977 [==============================] - 191s 5ms/step - loss: 0.0411 - accuracy: 0.9856 - val_loss: 0.2509 - val_accuracy: 0.9432\n",
            "Epoch 25/35\n",
            "39977/39977 [==============================] - 191s 5ms/step - loss: 0.0442 - accuracy: 0.9848 - val_loss: 0.2229 - val_accuracy: 0.9442\n",
            "Epoch 26/35\n",
            "39977/39977 [==============================] - 192s 5ms/step - loss: 0.0401 - accuracy: 0.9864 - val_loss: 0.2114 - val_accuracy: 0.9484\n",
            "Epoch 27/35\n",
            "39977/39977 [==============================] - 190s 5ms/step - loss: 0.0314 - accuracy: 0.9892 - val_loss: 0.2321 - val_accuracy: 0.9434\n",
            "Epoch 28/35\n",
            "39977/39977 [==============================] - 193s 5ms/step - loss: 0.0354 - accuracy: 0.9882 - val_loss: 0.2271 - val_accuracy: 0.9478\n",
            "Epoch 29/35\n",
            "39977/39977 [==============================] - 190s 5ms/step - loss: 0.0322 - accuracy: 0.9891 - val_loss: 0.2395 - val_accuracy: 0.9459\n",
            "Epoch 30/35\n",
            "39977/39977 [==============================] - 191s 5ms/step - loss: 0.0344 - accuracy: 0.9887 - val_loss: 0.2302 - val_accuracy: 0.9503\n",
            "Epoch 31/35\n",
            "39977/39977 [==============================] - 188s 5ms/step - loss: 0.0348 - accuracy: 0.9880 - val_loss: 0.2233 - val_accuracy: 0.9497\n",
            "Epoch 32/35\n",
            "39977/39977 [==============================] - 191s 5ms/step - loss: 0.0367 - accuracy: 0.9887 - val_loss: 0.2311 - val_accuracy: 0.9496\n",
            "Epoch 33/35\n",
            "39977/39977 [==============================] - 192s 5ms/step - loss: 0.0793 - accuracy: 0.9732 - val_loss: 0.2121 - val_accuracy: 0.9407\n",
            "Epoch 34/35\n",
            "39977/39977 [==============================] - 189s 5ms/step - loss: 0.0646 - accuracy: 0.9788 - val_loss: 0.2187 - val_accuracy: 0.9450\n",
            "Epoch 35/35\n",
            "39977/39977 [==============================] - 196s 5ms/step - loss: 0.0535 - accuracy: 0.9819 - val_loss: 0.2062 - val_accuracy: 0.9470\n"
          ],
          "name": "stdout"
        }
      ]
    },
    {
      "cell_type": "code",
      "metadata": {
        "id": "UsC-TovwF6_o",
        "colab_type": "code",
        "colab": {
          "base_uri": "https://localhost:8080/",
          "height": 865
        },
        "outputId": "6ade1de7-10cb-48d6-cfb8-28b6c15ce249"
      },
      "source": [
        "from keras.utils.vis_utils import plot_model\n",
        "plot_model(model, to_file='Bi_lstm_1_architecture.png', show_shapes=True, show_layer_names=True)"
      ],
      "execution_count": null,
      "outputs": [
        {
          "output_type": "execute_result",
          "data": {
            "image/png": "[encoded data removed]",
            "text/plain": [
              "<IPython.core.display.Image object>"
            ]
          },
          "metadata": {
            "tags": []
          },
          "execution_count": 47
        }
      ]
    },
    {
      "cell_type": "markdown",
      "metadata": {
        "id": "UO1U3dn87FGw",
        "colab_type": "text"
      },
      "source": [
        "### Saving the model"
      ]
    },
    {
      "cell_type": "code",
      "metadata": {
        "id": "lU8Js5Ox0GsY",
        "colab_type": "code",
        "colab": {}
      },
      "source": [
        "model.save('Bi_lstm_1.h5')"
      ],
      "execution_count": null,
      "outputs": []
    },
    {
      "cell_type": "markdown",
      "metadata": {
        "id": "lTgmtQae7Jk_",
        "colab_type": "text"
      },
      "source": [
        "- Epoch vs Accuracy Plot\n",
        "- Epoch vs loss plot"
      ]
    },
    {
      "cell_type": "code",
      "metadata": {
        "id": "CYTOM2bQzpw-",
        "colab_type": "code",
        "colab": {
          "base_uri": "https://localhost:8080/",
          "height": 934
        },
        "outputId": "dc8527ec-14f7-459f-d9a0-7eed8e9c4815"
      },
      "source": [
        "plt.figure(figsize=(8,7))\n",
        "plt.plot(model_h.history['accuracy'])\n",
        "plt.plot(model_h.history['val_accuracy'])\n",
        "plt.ylabel('Accuracy')\n",
        "plt.xlabel('Epochs')\n",
        "plt.title('Accuracy per epoch')\n",
        "plt.legend(['Train accuracy', 'Val accuracy'])\n",
        "plt.savefig(\"Bi_lstm_1_acc.png\")\n",
        "plt.show()\n",
        "\n",
        "plt.figure(figsize=(8,7))\n",
        "plt.plot(model_h.history['loss'])\n",
        "plt.plot(model_h.history['val_loss'])\n",
        "plt.ylabel('Loss')\n",
        "plt.xlabel('Epochs')\n",
        "plt.title('Loss per epoch')\n",
        "plt.legend(['Train Loss', 'Val Loss'])\n",
        "plt.savefig(\"Bi_lstm_1_loss.png\")\n",
        "plt.show()"
      ],
      "execution_count": null,
      "outputs": [
        {
          "output_type": "display_data",
          "data": {
            "image/png": "[encoded data removed]",
            "text/plain": [
              "<Figure size 576x504 with 1 Axes>"
            ]
          },
          "metadata": {
            "tags": [],
            "needs_background": "light"
          }
        },
        {
          "output_type": "display_data",
          "data": {
            "text/plain": [
              "<Figure size 432x288 with 0 Axes>"
            ]
          },
          "metadata": {
            "tags": []
          }
        },
        {
          "output_type": "display_data",
          "data": {
            "image/png": "[encoded data removed]",
            "text/plain": [
              "<Figure size 576x504 with 1 Axes>"
            ]
          },
          "metadata": {
            "tags": [],
            "needs_background": "light"
          }
        },
        {
          "output_type": "display_data",
          "data": {
            "text/plain": [
              "<Figure size 432x288 with 0 Axes>"
            ]
          },
          "metadata": {
            "tags": []
          }
        }
      ]
    },
    {
      "cell_type": "markdown",
      "metadata": {
        "id": "G19NMnXC9lMY",
        "colab_type": "text"
      },
      "source": [
        "### Test accuracy"
      ]
    },
    {
      "cell_type": "code",
      "metadata": {
        "id": "nVs4VkwY9nWX",
        "colab_type": "code",
        "colab": {
          "base_uri": "https://localhost:8080/",
          "height": 52
        },
        "outputId": "ace65cf1-1fee-4bfb-e53e-c250dfd20b76"
      },
      "source": [
        "score,acc = model.evaluate(X_test,y_test)\n",
        "print(\"Accuracy at test set is : \",acc*100)"
      ],
      "execution_count": null,
      "outputs": [
        {
          "output_type": "stream",
          "text": [
            "25413/25413 [==============================] - 78s 3ms/step\n",
            "Accuracy at test set is :  73.68276119232178\n"
          ],
          "name": "stdout"
        }
      ]
    },
    {
      "cell_type": "markdown",
      "metadata": {
        "id": "Xpwq7JVB7vVk",
        "colab_type": "text"
      },
      "source": [
        "### Predict"
      ]
    },
    {
      "cell_type": "code",
      "metadata": {
        "id": "Z0i5BUWZ19Hz",
        "colab_type": "code",
        "colab": {}
      },
      "source": [
        "def pred(features,target,model):\n",
        "    y_pred= model.predict(features)\n",
        "    y_pred= [np.argmax(pred, axis = -1) for pred in y_pred]   # categorical to single\n",
        "    y_test= [np.argmax(t, axis = -1) for t in target]             # cat to sin\n",
        "    \n",
        "    def change_labels(y):\n",
        "      # change the labels back to original categories\n",
        "        for i in range(len(y)): \n",
        "            if y[i] == 0:\n",
        "                y[i] = \"unrelated\"\n",
        "            if y[i] == 1:\n",
        "                y[i] = \"disagree\"\n",
        "            if y[i] == 2:\n",
        "                y[i] = \"agree\"\n",
        "            if y[i] == 3:\n",
        "                y[i] = \"discuss\"\n",
        "        return y\n",
        "    y_pred=change_labels(y_pred)\n",
        "    y_test=change_labels(y_test)\n",
        "\n",
        "    stance_list = y_pred\n",
        "\n",
        "    stances_test = pd.read_csv('/content/drive/My Drive/641/'  + 'competition_test_stances.csv',index_col=False)\n",
        "    df=stances_test.drop(['Stance'],axis=1)\n",
        "    df['Stance']=stance_list\n",
        "    df=df[['Headline','Body ID','Stance']]\n",
        "    df.to_csv(\"Bi_lstm_1.csv\",index=False)\n",
        "    return df"
      ],
      "execution_count": null,
      "outputs": []
    },
    {
      "cell_type": "code",
      "metadata": {
        "id": "YZO0ZnpHFujq",
        "colab_type": "code",
        "colab": {}
      },
      "source": [
        "y_pred=pred(X_test,y_test,model)"
      ],
      "execution_count": null,
      "outputs": []
    },
    {
      "cell_type": "code",
      "metadata": {
        "id": "5nJ6NrnEfAq9",
        "colab_type": "code",
        "colab": {
          "base_uri": "https://localhost:8080/",
          "height": 340
        },
        "outputId": "036f80a9-ba2c-4396-903c-e548ba483860"
      },
      "source": [
        "y_pred.iloc[10:20,:]"
      ],
      "execution_count": null,
      "outputs": [
        {
          "output_type": "execute_result",
          "data": {
            "text/html": [
              "<div>\n",
              "<style scoped>\n",
              "    .dataframe tbody tr th:only-of-type {\n",
              "        vertical-align: middle;\n",
              "    }\n",
              "\n",
              "    .dataframe tbody tr th {\n",
              "        vertical-align: top;\n",
              "    }\n",
              "\n",
              "    .dataframe thead th {\n",
              "        text-align: right;\n",
              "    }\n",
              "</style>\n",
              "<table border=\"1\" class=\"dataframe\">\n",
              "  <thead>\n",
              "    <tr style=\"text-align: right;\">\n",
              "      <th></th>\n",
              "      <th>Headline</th>\n",
              "      <th>Body ID</th>\n",
              "      <th>Stance</th>\n",
              "    </tr>\n",
              "  </thead>\n",
              "  <tbody>\n",
              "    <tr>\n",
              "      <th>10</th>\n",
              "      <td>EXCLUSIVE: Apple To Unveil The Long-Awaited Re...</td>\n",
              "      <td>1964</td>\n",
              "      <td>discuss</td>\n",
              "    </tr>\n",
              "    <tr>\n",
              "      <th>11</th>\n",
              "      <td>50 foot crab : Is this a Crabzilla spotted in ...</td>\n",
              "      <td>2279</td>\n",
              "      <td>unrelated</td>\n",
              "    </tr>\n",
              "    <tr>\n",
              "      <th>12</th>\n",
              "      <td>Found! Missing Afghan Soldiers Spotted Trying ...</td>\n",
              "      <td>2312</td>\n",
              "      <td>unrelated</td>\n",
              "    </tr>\n",
              "    <tr>\n",
              "      <th>13</th>\n",
              "      <td>Obama Orders Fed To Adopt Euro Currency</td>\n",
              "      <td>2289</td>\n",
              "      <td>unrelated</td>\n",
              "    </tr>\n",
              "    <tr>\n",
              "      <th>14</th>\n",
              "      <td>Report: Three missing Afghan soldiers caught a...</td>\n",
              "      <td>1754</td>\n",
              "      <td>discuss</td>\n",
              "    </tr>\n",
              "    <tr>\n",
              "      <th>15</th>\n",
              "      <td>3-Boobed Woman a Fake</td>\n",
              "      <td>1618</td>\n",
              "      <td>disagree</td>\n",
              "    </tr>\n",
              "    <tr>\n",
              "      <th>16</th>\n",
              "      <td>Fowler Falls For Fake Website, Makes Crazy Cla...</td>\n",
              "      <td>2173</td>\n",
              "      <td>unrelated</td>\n",
              "    </tr>\n",
              "    <tr>\n",
              "      <th>17</th>\n",
              "      <td>Hugh Hefner Dead? Fans Panic That Playboy Foun...</td>\n",
              "      <td>2320</td>\n",
              "      <td>unrelated</td>\n",
              "    </tr>\n",
              "    <tr>\n",
              "      <th>18</th>\n",
              "      <td>Hong Kong's protesters are using the \"hands up...</td>\n",
              "      <td>2183</td>\n",
              "      <td>unrelated</td>\n",
              "    </tr>\n",
              "    <tr>\n",
              "      <th>19</th>\n",
              "      <td>TV show tricks chronic catcallers into harassi...</td>\n",
              "      <td>486</td>\n",
              "      <td>unrelated</td>\n",
              "    </tr>\n",
              "  </tbody>\n",
              "</table>\n",
              "</div>"
            ],
            "text/plain": [
              "                                             Headline  Body ID     Stance\n",
              "10  EXCLUSIVE: Apple To Unveil The Long-Awaited Re...     1964    discuss\n",
              "11  50 foot crab : Is this a Crabzilla spotted in ...     2279  unrelated\n",
              "12  Found! Missing Afghan Soldiers Spotted Trying ...     2312  unrelated\n",
              "13            Obama Orders Fed To Adopt Euro Currency     2289  unrelated\n",
              "14  Report: Three missing Afghan soldiers caught a...     1754    discuss\n",
              "15                              3-Boobed Woman a Fake     1618   disagree\n",
              "16  Fowler Falls For Fake Website, Makes Crazy Cla...     2173  unrelated\n",
              "17  Hugh Hefner Dead? Fans Panic That Playboy Foun...     2320  unrelated\n",
              "18  Hong Kong's protesters are using the \"hands up...     2183  unrelated\n",
              "19  TV show tricks chronic catcallers into harassi...      486  unrelated"
            ]
          },
          "metadata": {
            "tags": []
          },
          "execution_count": 92
        }
      ]
    },
    {
      "cell_type": "markdown",
      "metadata": {
        "id": "4ugJbaejFvQm",
        "colab_type": "text"
      },
      "source": [
        "### Model 2 - Bi lstm \n",
        "- LSTM with same params as Bi-LSTM"
      ]
    },
    {
      "cell_type": "code",
      "metadata": {
        "id": "W7bwyox-c_ja",
        "colab_type": "code",
        "colab": {}
      },
      "source": [
        "model2 = Sequential()\n",
        "model2.add(Embedding(input_dim=len(tokenizer.word_index)+1,output_dim=Dimensions_embedding,\n",
        "                          weights = [embedding_matrix], trainable=False, name='word_embedding_layer')) # trainable=True results in overfitting\n",
        "model2.add(LSTM(128, return_sequences=True, name='lstm_layer_1'))\n",
        "model2.add(LSTM(64, return_sequences=False, name='lstm_layer_2'))\n",
        "\n",
        "model2.add(Dropout(rate=0.4, name='dropout_1'))\n",
        "model2.add(Dense(32,activation='relu', name='Dense_layer'))\n",
        "\n",
        "model2.add(Dropout(rate=0.2, name='dropout_2'))\n",
        "\n",
        "model2.add(Dense(4, activation='softmax', name='output_layer'))"
      ],
      "execution_count": null,
      "outputs": []
    },
    {
      "cell_type": "code",
      "metadata": {
        "id": "1e7PYjC8fJfA",
        "colab_type": "code",
        "colab": {
          "base_uri": "https://localhost:8080/",
          "height": 408
        },
        "outputId": "852bcf89-ccef-49a0-be8e-65da597bcf86"
      },
      "source": [
        "model2.summary()"
      ],
      "execution_count": null,
      "outputs": [
        {
          "output_type": "stream",
          "text": [
            "Model: \"sequential_7\"\n",
            "_________________________________________________________________\n",
            "Layer (type)                 Output Shape              Param #   \n",
            "=================================================================\n",
            "word_embedding_layer (Embedd (None, None, 50)          1393700   \n",
            "_________________________________________________________________\n",
            "lstm_layer_1 (LSTM)          (None, None, 128)         91648     \n",
            "_________________________________________________________________\n",
            "lstm_layer_2 (LSTM)          (None, 64)                49408     \n",
            "_________________________________________________________________\n",
            "dropout_1 (Dropout)          (None, 64)                0         \n",
            "_________________________________________________________________\n",
            "Dense_layer (Dense)          (None, 32)                2080      \n",
            "_________________________________________________________________\n",
            "dropout_2 (Dropout)          (None, 32)                0         \n",
            "_________________________________________________________________\n",
            "output_layer (Dense)         (None, 4)                 132       \n",
            "=================================================================\n",
            "Total params: 1,536,968\n",
            "Trainable params: 143,268\n",
            "Non-trainable params: 1,393,700\n",
            "_________________________________________________________________\n"
          ],
          "name": "stdout"
        }
      ]
    },
    {
      "cell_type": "markdown",
      "metadata": {
        "id": "V6PV7pr3f0Z3",
        "colab_type": "text"
      },
      "source": [
        "## compiling the model"
      ]
    },
    {
      "cell_type": "code",
      "metadata": {
        "id": "UfJ11JJNfKnl",
        "colab_type": "code",
        "colab": {}
      },
      "source": [
        "model2.compile(loss='categorical_crossentropy',optimizer=optimizers.Adam(lr=0.005),\n",
        "              metrics=['accuracy'])"
      ],
      "execution_count": null,
      "outputs": []
    },
    {
      "cell_type": "code",
      "metadata": {
        "id": "SD3sOdP7f5r7",
        "colab_type": "code",
        "colab": {
          "base_uri": "https://localhost:8080/",
          "height": 1000
        },
        "outputId": "e2b035a8-b773-4277-e1ed-034677386d22"
      },
      "source": [
        "model2_h = model2.fit(X_train, y_train,batch_size=256,epochs=35,validation_data=(X_val, y_val))"
      ],
      "execution_count": null,
      "outputs": [
        {
          "output_type": "stream",
          "text": [
            "Train on 39977 samples, validate on 9995 samples\n",
            "Epoch 1/35\n",
            "39977/39977 [==============================] - 102s 3ms/step - loss: 0.8309 - accuracy: 0.7245 - val_loss: 0.8027 - val_accuracy: 0.7337\n",
            "Epoch 2/35\n",
            "39977/39977 [==============================] - 100s 2ms/step - loss: 0.7997 - accuracy: 0.7307 - val_loss: 0.7871 - val_accuracy: 0.7337\n",
            "Epoch 3/35\n",
            "39977/39977 [==============================] - 101s 3ms/step - loss: 0.7904 - accuracy: 0.7307 - val_loss: 0.7452 - val_accuracy: 0.7404\n",
            "Epoch 4/35\n",
            "39977/39977 [==============================] - 102s 3ms/step - loss: 0.7581 - accuracy: 0.7372 - val_loss: 0.7191 - val_accuracy: 0.7623\n",
            "Epoch 5/35\n",
            "39977/39977 [==============================] - 100s 3ms/step - loss: 0.6923 - accuracy: 0.7642 - val_loss: 0.6225 - val_accuracy: 0.7801\n",
            "Epoch 6/35\n",
            "39977/39977 [==============================] - 101s 3ms/step - loss: 0.6072 - accuracy: 0.7843 - val_loss: 0.5681 - val_accuracy: 0.7911\n",
            "Epoch 7/35\n",
            "39977/39977 [==============================] - 102s 3ms/step - loss: 0.5321 - accuracy: 0.8036 - val_loss: 0.5157 - val_accuracy: 0.8144\n",
            "Epoch 8/35\n",
            "39977/39977 [==============================] - 102s 3ms/step - loss: 0.4684 - accuracy: 0.8240 - val_loss: 0.4656 - val_accuracy: 0.8252\n",
            "Epoch 9/35\n",
            "39977/39977 [==============================] - 101s 3ms/step - loss: 0.4158 - accuracy: 0.8417 - val_loss: 0.4213 - val_accuracy: 0.8428\n",
            "Epoch 10/35\n",
            "39977/39977 [==============================] - 101s 3ms/step - loss: 0.3624 - accuracy: 0.8606 - val_loss: 0.3894 - val_accuracy: 0.8511\n",
            "Epoch 11/35\n",
            "39977/39977 [==============================] - 102s 3ms/step - loss: 0.3338 - accuracy: 0.8706 - val_loss: 0.3973 - val_accuracy: 0.8496\n",
            "Epoch 12/35\n",
            "39977/39977 [==============================] - 102s 3ms/step - loss: 0.3006 - accuracy: 0.8854 - val_loss: 0.3502 - val_accuracy: 0.8664\n",
            "Epoch 13/35\n",
            "39977/39977 [==============================] - 100s 3ms/step - loss: 0.2731 - accuracy: 0.8945 - val_loss: 0.3652 - val_accuracy: 0.8695\n",
            "Epoch 14/35\n",
            "39977/39977 [==============================] - 100s 3ms/step - loss: 0.2467 - accuracy: 0.9058 - val_loss: 0.3332 - val_accuracy: 0.8811\n",
            "Epoch 15/35\n",
            "39977/39977 [==============================] - 103s 3ms/step - loss: 0.2249 - accuracy: 0.9139 - val_loss: 0.3327 - val_accuracy: 0.8863\n",
            "Epoch 16/35\n",
            "39977/39977 [==============================] - 100s 3ms/step - loss: 0.2131 - accuracy: 0.9196 - val_loss: 0.3419 - val_accuracy: 0.8821\n",
            "Epoch 17/35\n",
            "39977/39977 [==============================] - 101s 3ms/step - loss: 0.1949 - accuracy: 0.9270 - val_loss: 0.3138 - val_accuracy: 0.8949\n",
            "Epoch 18/35\n",
            "39977/39977 [==============================] - 101s 3ms/step - loss: 0.1910 - accuracy: 0.9281 - val_loss: 0.3255 - val_accuracy: 0.8924\n",
            "Epoch 19/35\n",
            "39977/39977 [==============================] - 100s 2ms/step - loss: 0.1731 - accuracy: 0.9347 - val_loss: 0.3107 - val_accuracy: 0.8973\n",
            "Epoch 20/35\n",
            "39977/39977 [==============================] - 102s 3ms/step - loss: 0.1568 - accuracy: 0.9401 - val_loss: 0.3048 - val_accuracy: 0.8989\n",
            "Epoch 21/35\n",
            "39977/39977 [==============================] - 100s 2ms/step - loss: 0.1651 - accuracy: 0.9384 - val_loss: 0.3324 - val_accuracy: 0.8861\n",
            "Epoch 22/35\n",
            "39977/39977 [==============================] - 100s 2ms/step - loss: 0.1732 - accuracy: 0.9362 - val_loss: 0.3090 - val_accuracy: 0.9003\n",
            "Epoch 23/35\n",
            "39977/39977 [==============================] - 101s 3ms/step - loss: 0.1457 - accuracy: 0.9466 - val_loss: 0.3015 - val_accuracy: 0.9049\n",
            "Epoch 24/35\n",
            "39977/39977 [==============================] - 99s 2ms/step - loss: 0.1288 - accuracy: 0.9515 - val_loss: 0.3368 - val_accuracy: 0.8991\n",
            "Epoch 25/35\n",
            "39977/39977 [==============================] - 99s 2ms/step - loss: 0.1251 - accuracy: 0.9519 - val_loss: 0.3371 - val_accuracy: 0.9046\n",
            "Epoch 26/35\n",
            "39977/39977 [==============================] - 102s 3ms/step - loss: 0.1193 - accuracy: 0.9557 - val_loss: 0.3380 - val_accuracy: 0.9014\n",
            "Epoch 27/35\n",
            "39977/39977 [==============================] - 101s 3ms/step - loss: 0.1259 - accuracy: 0.9539 - val_loss: 0.3568 - val_accuracy: 0.9055\n",
            "Epoch 28/35\n",
            "39977/39977 [==============================] - 98s 2ms/step - loss: 0.1173 - accuracy: 0.9568 - val_loss: 0.3452 - val_accuracy: 0.9057\n",
            "Epoch 29/35\n",
            "39977/39977 [==============================] - 103s 3ms/step - loss: 0.1036 - accuracy: 0.9629 - val_loss: 0.3576 - val_accuracy: 0.9031\n",
            "Epoch 30/35\n",
            "39977/39977 [==============================] - 102s 3ms/step - loss: 0.1182 - accuracy: 0.9556 - val_loss: 0.3434 - val_accuracy: 0.9068\n",
            "Epoch 31/35\n",
            "39977/39977 [==============================] - 101s 3ms/step - loss: 0.1028 - accuracy: 0.9625 - val_loss: 0.3604 - val_accuracy: 0.9026\n",
            "Epoch 32/35\n",
            "39977/39977 [==============================] - 98s 2ms/step - loss: 0.1116 - accuracy: 0.9599 - val_loss: 0.3480 - val_accuracy: 0.9071\n",
            "Epoch 33/35\n",
            "39977/39977 [==============================] - 102s 3ms/step - loss: 0.1299 - accuracy: 0.9533 - val_loss: 0.3213 - val_accuracy: 0.9043\n",
            "Epoch 34/35\n",
            "39977/39977 [==============================] - 101s 3ms/step - loss: 0.1053 - accuracy: 0.9619 - val_loss: 0.3219 - val_accuracy: 0.9094\n",
            "Epoch 35/35\n",
            "39977/39977 [==============================] - 103s 3ms/step - loss: 0.0902 - accuracy: 0.9664 - val_loss: 0.3439 - val_accuracy: 0.9065\n"
          ],
          "name": "stdout"
        }
      ]
    },
    {
      "cell_type": "code",
      "metadata": {
        "id": "6NDgEXMZgAnz",
        "colab_type": "code",
        "colab": {
          "base_uri": "https://localhost:8080/",
          "height": 865
        },
        "outputId": "310cf6dd-9db9-4543-d942-70b08d35ed69"
      },
      "source": [
        "from keras.utils.vis_utils import plot_model\n",
        "plot_model(model2, to_file='Lstm_2_architecture.png', show_shapes=True, show_layer_names=True)"
      ],
      "execution_count": null,
      "outputs": [
        {
          "output_type": "execute_result",
          "data": {
            "image/png": "[encoded data removed]",
            "text/plain": [
              "<IPython.core.display.Image object>"
            ]
          },
          "metadata": {
            "tags": []
          },
          "execution_count": 93
        }
      ]
    },
    {
      "cell_type": "markdown",
      "metadata": {
        "id": "wWbZlj1UgRC3",
        "colab_type": "text"
      },
      "source": [
        "## saving the model"
      ]
    },
    {
      "cell_type": "code",
      "metadata": {
        "id": "jEiriqZvgSqa",
        "colab_type": "code",
        "colab": {}
      },
      "source": [
        "model2.save('Lstm_2.h5')"
      ],
      "execution_count": null,
      "outputs": []
    },
    {
      "cell_type": "markdown",
      "metadata": {
        "id": "grrFx2yZgmzw",
        "colab_type": "text"
      },
      "source": [
        "- Epoch vs Accuracy Plot\n",
        "- Epoch vs loss plot"
      ]
    },
    {
      "cell_type": "code",
      "metadata": {
        "id": "iJu6IPOjgVh7",
        "colab_type": "code",
        "colab": {
          "base_uri": "https://localhost:8080/",
          "height": 934
        },
        "outputId": "ac6815e4-6fa1-4f21-df87-8b4b05238ad8"
      },
      "source": [
        "plt.figure(figsize=(8,7))\n",
        "plt.plot(model2_h.history['accuracy'])\n",
        "plt.plot(model2_h.history['val_accuracy'])\n",
        "plt.ylabel('Accuracy')\n",
        "plt.xlabel('Epochs')\n",
        "plt.title('Accuracy per epoch')\n",
        "plt.legend(['Train accuracy', 'Val accuracy'])\n",
        "plt.savefig(\"Lstm_2_acc.png\")\n",
        "plt.show()\n",
        "\n",
        "plt.figure(figsize=(8,7))\n",
        "plt.plot(model2_h.history['loss'])\n",
        "plt.plot(model2_h.history['val_loss'])\n",
        "plt.ylabel('Loss')\n",
        "plt.xlabel('Epochs')\n",
        "plt.title('Loss per epoch')\n",
        "plt.legend(['Train Loss', 'Val Loss'])\n",
        "plt.savefig(\"Lstm_2_loss.png\")\n",
        "plt.show()\n"
      ],
      "execution_count": null,
      "outputs": [
        {
          "output_type": "display_data",
          "data": {
            "image/png": "[encoded data removed]",
            "text/plain": [
              "<Figure size 576x504 with 1 Axes>"
            ]
          },
          "metadata": {
            "tags": [],
            "needs_background": "light"
          }
        },
        {
          "output_type": "display_data",
          "data": {
            "text/plain": [
              "<Figure size 432x288 with 0 Axes>"
            ]
          },
          "metadata": {
            "tags": []
          }
        },
        {
          "output_type": "display_data",
          "data": {
            "image/png": "[encoded data removed]",
            "text/plain": [
              "<Figure size 576x504 with 1 Axes>"
            ]
          },
          "metadata": {
            "tags": [],
            "needs_background": "light"
          }
        },
        {
          "output_type": "display_data",
          "data": {
            "text/plain": [
              "<Figure size 432x288 with 0 Axes>"
            ]
          },
          "metadata": {
            "tags": []
          }
        }
      ]
    },
    {
      "cell_type": "markdown",
      "metadata": {
        "id": "0xunSxUng3sW",
        "colab_type": "text"
      },
      "source": [
        "## Test accuracy"
      ]
    },
    {
      "cell_type": "code",
      "metadata": {
        "id": "P8C_DJLQg41Z",
        "colab_type": "code",
        "colab": {
          "base_uri": "https://localhost:8080/",
          "height": 52
        },
        "outputId": "a7fd1816-54d4-4f90-a2ea-61778263f5fe"
      },
      "source": [
        "score2,acc2 = model2.evaluate(X_test,y_test)\n",
        "print(\"Accuracy at test set is : \",acc2*100)"
      ],
      "execution_count": null,
      "outputs": [
        {
          "output_type": "stream",
          "text": [
            "25413/25413 [==============================] - 42s 2ms/step\n",
            "Accuracy at test set is :  67.2608494758606\n"
          ],
          "name": "stdout"
        }
      ]
    },
    {
      "cell_type": "markdown",
      "metadata": {
        "id": "fXD4RtKPhJbP",
        "colab_type": "text"
      },
      "source": [
        "## Predict"
      ]
    },
    {
      "cell_type": "code",
      "metadata": {
        "id": "-wGGC0GRhJ9n",
        "colab_type": "code",
        "colab": {}
      },
      "source": [
        "def pred2(features,target,model2):\n",
        "    y_pred= model2.predict(features)\n",
        "    y_pred= [np.argmax(pred, axis = -1) for pred in y_pred]   # categorical to single\n",
        "    y_test= [np.argmax(t, axis = -1) for t in target]             # cat to sin\n",
        "    \n",
        "    def change_labels(y):\n",
        "      # change the labels back to original categories\n",
        "        for i in range(len(y)): \n",
        "            if y[i] == 0:\n",
        "                y[i] = \"unrelated\"\n",
        "            if y[i] == 1:\n",
        "                y[i] = \"disagree\"\n",
        "            if y[i] == 2:\n",
        "                y[i] = \"agree\"\n",
        "            if y[i] == 3:\n",
        "                y[i] = \"discuss\"\n",
        "        return y\n",
        "    y_pred=change_labels(y_pred)\n",
        "    y_test=change_labels(y_test)\n",
        "\n",
        "    stance_list = y_pred\n",
        "    body_id = []\n",
        "    headline = []\n",
        "    \n",
        "    stances_test = pd.read_csv('/content/drive/My Drive/641/'  + 'competition_test_stances.csv',index_col=False)\n",
        "    df=stances_test.drop(['Stance'],axis=1)\n",
        "    df['Stance']=stance_list\n",
        "    df=df[['Headline','Body ID','Stance']]\n",
        "    df.to_csv(\"Lstm_2.csv\",index=False)\n",
        "    return df"
      ],
      "execution_count": null,
      "outputs": []
    },
    {
      "cell_type": "code",
      "metadata": {
        "id": "L8acProqhdWs",
        "colab_type": "code",
        "colab": {}
      },
      "source": [
        "y_pred2=pred2(X_test,y_test,model2)"
      ],
      "execution_count": null,
      "outputs": []
    },
    {
      "cell_type": "code",
      "metadata": {
        "id": "axOd65h2hehc",
        "colab_type": "code",
        "colab": {
          "base_uri": "https://localhost:8080/",
          "height": 340
        },
        "outputId": "c44301f5-3c2f-4e2f-8e53-06ccb1b410ce"
      },
      "source": [
        "y_pred2.iloc[10:20,:]"
      ],
      "execution_count": null,
      "outputs": [
        {
          "output_type": "execute_result",
          "data": {
            "text/html": [
              "<div>\n",
              "<style scoped>\n",
              "    .dataframe tbody tr th:only-of-type {\n",
              "        vertical-align: middle;\n",
              "    }\n",
              "\n",
              "    .dataframe tbody tr th {\n",
              "        vertical-align: top;\n",
              "    }\n",
              "\n",
              "    .dataframe thead th {\n",
              "        text-align: right;\n",
              "    }\n",
              "</style>\n",
              "<table border=\"1\" class=\"dataframe\">\n",
              "  <thead>\n",
              "    <tr style=\"text-align: right;\">\n",
              "      <th></th>\n",
              "      <th>Headline</th>\n",
              "      <th>Body ID</th>\n",
              "      <th>Stance</th>\n",
              "    </tr>\n",
              "  </thead>\n",
              "  <tbody>\n",
              "    <tr>\n",
              "      <th>10</th>\n",
              "      <td>EXCLUSIVE: Apple To Unveil The Long-Awaited Re...</td>\n",
              "      <td>1964</td>\n",
              "      <td>discuss</td>\n",
              "    </tr>\n",
              "    <tr>\n",
              "      <th>11</th>\n",
              "      <td>50 foot crab : Is this a Crabzilla spotted in ...</td>\n",
              "      <td>2279</td>\n",
              "      <td>unrelated</td>\n",
              "    </tr>\n",
              "    <tr>\n",
              "      <th>12</th>\n",
              "      <td>Found! Missing Afghan Soldiers Spotted Trying ...</td>\n",
              "      <td>2312</td>\n",
              "      <td>unrelated</td>\n",
              "    </tr>\n",
              "    <tr>\n",
              "      <th>13</th>\n",
              "      <td>Obama Orders Fed To Adopt Euro Currency</td>\n",
              "      <td>2289</td>\n",
              "      <td>disagree</td>\n",
              "    </tr>\n",
              "    <tr>\n",
              "      <th>14</th>\n",
              "      <td>Report: Three missing Afghan soldiers caught a...</td>\n",
              "      <td>1754</td>\n",
              "      <td>unrelated</td>\n",
              "    </tr>\n",
              "    <tr>\n",
              "      <th>15</th>\n",
              "      <td>3-Boobed Woman a Fake</td>\n",
              "      <td>1618</td>\n",
              "      <td>agree</td>\n",
              "    </tr>\n",
              "    <tr>\n",
              "      <th>16</th>\n",
              "      <td>Fowler Falls For Fake Website, Makes Crazy Cla...</td>\n",
              "      <td>2173</td>\n",
              "      <td>unrelated</td>\n",
              "    </tr>\n",
              "    <tr>\n",
              "      <th>17</th>\n",
              "      <td>Hugh Hefner Dead? Fans Panic That Playboy Foun...</td>\n",
              "      <td>2320</td>\n",
              "      <td>unrelated</td>\n",
              "    </tr>\n",
              "    <tr>\n",
              "      <th>18</th>\n",
              "      <td>Hong Kong's protesters are using the \"hands up...</td>\n",
              "      <td>2183</td>\n",
              "      <td>unrelated</td>\n",
              "    </tr>\n",
              "    <tr>\n",
              "      <th>19</th>\n",
              "      <td>TV show tricks chronic catcallers into harassi...</td>\n",
              "      <td>486</td>\n",
              "      <td>unrelated</td>\n",
              "    </tr>\n",
              "  </tbody>\n",
              "</table>\n",
              "</div>"
            ],
            "text/plain": [
              "                                             Headline  Body ID     Stance\n",
              "10  EXCLUSIVE: Apple To Unveil The Long-Awaited Re...     1964    discuss\n",
              "11  50 foot crab : Is this a Crabzilla spotted in ...     2279  unrelated\n",
              "12  Found! Missing Afghan Soldiers Spotted Trying ...     2312  unrelated\n",
              "13            Obama Orders Fed To Adopt Euro Currency     2289   disagree\n",
              "14  Report: Three missing Afghan soldiers caught a...     1754  unrelated\n",
              "15                              3-Boobed Woman a Fake     1618      agree\n",
              "16  Fowler Falls For Fake Website, Makes Crazy Cla...     2173  unrelated\n",
              "17  Hugh Hefner Dead? Fans Panic That Playboy Foun...     2320  unrelated\n",
              "18  Hong Kong's protesters are using the \"hands up...     2183  unrelated\n",
              "19  TV show tricks chronic catcallers into harassi...      486  unrelated"
            ]
          },
          "metadata": {
            "tags": []
          },
          "execution_count": 99
        }
      ]
    }
  ]
}