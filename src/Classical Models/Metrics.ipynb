{
  "nbformat": 4,
  "nbformat_minor": 0,
  "metadata": {
    "colab": {
      "name": "exploratory_analysis_and_metrics.ipynb",
      "provenance": [],
      "collapsed_sections": []
    },
    "kernelspec": {
      "name": "python3",
      "display_name": "Python 3"
    }
  },
  "cells": [
    {
      "cell_type": "code",
      "metadata": {
        "id": "NJU2LUKTYt5d",
        "colab_type": "code",
        "colab": {}
      },
      "source": [
        "import pandas as pd\n",
        "import numpy as np \n",
        "import matplotlib.pyplot as plt\n",
        "from sklearn.metrics import accuracy_score\n",
        "from sklearn.metrics import f1_score\n",
        "from sklearn.metrics import classification_report"
      ],
      "execution_count": 2,
      "outputs": []
    },
    {
      "cell_type": "code",
      "metadata": {
        "id": "5Z9ptcywXfWX",
        "colab_type": "code",
        "colab": {
          "base_uri": "https://localhost:8080/",
          "height": 33
        },
        "outputId": "972bd5f3-051d-44fd-c2f4-931546fd4f5e"
      },
      "source": [
        "from google.colab import drive\n",
        "drive.mount('/content/drive')"
      ],
      "execution_count": 3,
      "outputs": [
        {
          "output_type": "stream",
          "text": [
            "Drive already mounted at /content/drive; to attempt to forcibly remount, call drive.mount(\"/content/drive\", force_remount=True).\n"
          ],
          "name": "stdout"
        }
      ]
    },
    {
      "cell_type": "markdown",
      "metadata": {
        "id": "5Vp4oawva6bS",
        "colab_type": "text"
      },
      "source": [
        "### Importing predicted test data csv's"
      ]
    },
    {
      "cell_type": "code",
      "metadata": {
        "id": "z5Al8Zbsa1DT",
        "colab_type": "code",
        "colab": {}
      },
      "source": [
        "cnn_50=pd.read_csv('/content/drive/My Drive/fnc-1/cnn_50.csv')\n",
        "cnn_100=pd.read_csv('/content/drive/My Drive/fnc-1/cnn_100.csv')\n",
        "cnn_150=pd.read_csv('/content/drive/My Drive/fnc-1/cnn_150.csv')\n",
        "\n",
        "lstm_50=pd.read_csv('/content/drive/My Drive/fnc-1/lstm_50.csv')\n",
        "lstm_100=pd.read_csv('/content/drive/My Drive/fnc-1/lstm_100.csv')\n",
        "lstm_150=pd.read_csv('/content/drive/My Drive/fnc-1/lstm_150.csv')\n",
        "\n",
        "bi_lstm_50=pd.read_csv('/content/drive/My Drive/fnc-1/bi_lstm_50.csv')\n",
        "bi_lstm_100=pd.read_csv('/content/drive/My Drive/fnc-1/bi_lstm_100.csv')\n",
        "bi_lstm_150=pd.read_csv('/content/drive/My Drive/fnc-1/bi_lstm_150.csv')\n",
        "\n",
        "\n",
        "bi_lstm_2_nets=pd.read_csv('/content/drive/My Drive/fnc-1/bi_lstm_2_nets.csv')\n",
        "# w2v embeddings\n",
        "\n",
        "w2v_cnn_50=pd.read_csv('/content/drive/My Drive/fnc-1/w2v_cnn_50.csv')\n",
        "w2v_lstm_50=pd.read_csv('/content/drive/My Drive/fnc-1/w2v_lstm_50.csv')\n",
        "w2v_bi_lstm_50=pd.read_csv('/content/drive/My Drive/fnc-1/w2v_bi_lstm_50.csv')\n",
        "\n",
        "gradient_boosting=pd.read_csv('/content/drive/My Drive/fnc-1/gradientboost.csv')\n",
        "logistic_regression=pd.read_csv('/content/drive/My Drive/fnc-1/logistic_regression.csv')\n",
        "random_forest=pd.read_csv('/content/drive/My Drive/fnc-1/Random_Forest.csv')\n",
        "xgboost=pd.read_csv('/content/drive/My Drive/fnc-1/XGBoost.csv')\n",
        "\n",
        "bert_base=pd.read_csv('/content/drive/My Drive/fnc-1/bert_base.csv')\n",
        "\n",
        "gb_undersample=pd.read_csv('/content/drive/My Drive/fnc-1/gb_undersampled.csv')\n",
        "bi_lstm_2_undersampled=pd.read_csv('/content/drive/My Drive/fnc-1/bi_lstm_2_nets_resampled.csv')"
      ],
      "execution_count": 4,
      "outputs": []
    },
    {
      "cell_type": "markdown",
      "metadata": {
        "id": "mHr1dLtebCH_",
        "colab_type": "text"
      },
      "source": [
        "### Importing Real labels"
      ]
    },
    {
      "cell_type": "code",
      "metadata": {
        "id": "2tw8zKoYazUA",
        "colab_type": "code",
        "colab": {}
      },
      "source": [
        "real_bodies=pd.read_csv('/content/drive/My Drive/fnc-1/competition_test_bodies.csv')\n",
        "real_stances=pd.read_csv('/content/drive/My Drive/fnc-1/competition_test_stances.csv')\n",
        "\n",
        "# Importing train stances\n",
        "real_train_stances=pd.read_csv('/content/drive/My Drive/fnc-1/train_stances.csv')"
      ],
      "execution_count": 5,
      "outputs": []
    },
    {
      "cell_type": "markdown",
      "metadata": {
        "id": "19VXQtCfbWsy",
        "colab_type": "text"
      },
      "source": [
        "## Exploratory analysis"
      ]
    },
    {
      "cell_type": "code",
      "metadata": {
        "id": "6j0TJ4zcdWiQ",
        "colab_type": "code",
        "colab": {
          "base_uri": "https://localhost:8080/",
          "height": 137
        },
        "outputId": "8f4ba867-a1b6-4377-8fba-3be87496f3ed"
      },
      "source": [
        "real_stances.head(3)"
      ],
      "execution_count": 6,
      "outputs": [
        {
          "output_type": "execute_result",
          "data": {
            "text/html": [
              "<div>\n",
              "<style scoped>\n",
              "    .dataframe tbody tr th:only-of-type {\n",
              "        vertical-align: middle;\n",
              "    }\n",
              "\n",
              "    .dataframe tbody tr th {\n",
              "        vertical-align: top;\n",
              "    }\n",
              "\n",
              "    .dataframe thead th {\n",
              "        text-align: right;\n",
              "    }\n",
              "</style>\n",
              "<table border=\"1\" class=\"dataframe\">\n",
              "  <thead>\n",
              "    <tr style=\"text-align: right;\">\n",
              "      <th></th>\n",
              "      <th>Headline</th>\n",
              "      <th>Body ID</th>\n",
              "      <th>Stance</th>\n",
              "    </tr>\n",
              "  </thead>\n",
              "  <tbody>\n",
              "    <tr>\n",
              "      <th>0</th>\n",
              "      <td>Ferguson riots: Pregnant woman loses eye after...</td>\n",
              "      <td>2008</td>\n",
              "      <td>unrelated</td>\n",
              "    </tr>\n",
              "    <tr>\n",
              "      <th>1</th>\n",
              "      <td>Crazy Conservatives Are Sure a Gitmo Detainee ...</td>\n",
              "      <td>1550</td>\n",
              "      <td>unrelated</td>\n",
              "    </tr>\n",
              "    <tr>\n",
              "      <th>2</th>\n",
              "      <td>A Russian Guy Says His Justin Bieber Ringtone ...</td>\n",
              "      <td>2</td>\n",
              "      <td>unrelated</td>\n",
              "    </tr>\n",
              "  </tbody>\n",
              "</table>\n",
              "</div>"
            ],
            "text/plain": [
              "                                            Headline  Body ID     Stance\n",
              "0  Ferguson riots: Pregnant woman loses eye after...     2008  unrelated\n",
              "1  Crazy Conservatives Are Sure a Gitmo Detainee ...     1550  unrelated\n",
              "2  A Russian Guy Says His Justin Bieber Ringtone ...        2  unrelated"
            ]
          },
          "metadata": {
            "tags": []
          },
          "execution_count": 6
        }
      ]
    },
    {
      "cell_type": "code",
      "metadata": {
        "id": "DGQwvS4DbcGb",
        "colab_type": "code",
        "colab": {
          "base_uri": "https://localhost:8080/",
          "height": 33
        },
        "outputId": "e699687a-ba1e-4618-842a-a1ba35f66636"
      },
      "source": [
        "real_stances['Stance'].unique()"
      ],
      "execution_count": 7,
      "outputs": [
        {
          "output_type": "execute_result",
          "data": {
            "text/plain": [
              "array(['unrelated', 'agree', 'discuss', 'disagree'], dtype=object)"
            ]
          },
          "metadata": {
            "tags": []
          },
          "execution_count": 7
        }
      ]
    },
    {
      "cell_type": "markdown",
      "metadata": {
        "id": "LvLt0Qrtc2xq",
        "colab_type": "text"
      },
      "source": [
        "### Test data distribution"
      ]
    },
    {
      "cell_type": "code",
      "metadata": {
        "id": "L4ryGPE7b3J6",
        "colab_type": "code",
        "colab": {
          "base_uri": "https://localhost:8080/",
          "height": 33
        },
        "outputId": "971b4d47-f628-4811-947e-fec7c85cf25a"
      },
      "source": [
        "import collections\n",
        "test_data_dist=collections.Counter(real_stances['Stance'])\n",
        "print(\"Test Data Distribution: \",collections.Counter(real_stances['Stance']))"
      ],
      "execution_count": 8,
      "outputs": [
        {
          "output_type": "stream",
          "text": [
            "Test Data Distribution:  Counter({'unrelated': 18349, 'discuss': 4464, 'agree': 1903, 'disagree': 697})\n"
          ],
          "name": "stdout"
        }
      ]
    },
    {
      "cell_type": "markdown",
      "metadata": {
        "id": "waMTw75Qc5Zb",
        "colab_type": "text"
      },
      "source": [
        "## Train Data distribution"
      ]
    },
    {
      "cell_type": "code",
      "metadata": {
        "id": "RkK54cVMdeYh",
        "colab_type": "code",
        "colab": {
          "base_uri": "https://localhost:8080/",
          "height": 137
        },
        "outputId": "3875a84c-eaf6-4f2c-c516-8ba6234d741c"
      },
      "source": [
        "real_train_stances.head(3)"
      ],
      "execution_count": 9,
      "outputs": [
        {
          "output_type": "execute_result",
          "data": {
            "text/html": [
              "<div>\n",
              "<style scoped>\n",
              "    .dataframe tbody tr th:only-of-type {\n",
              "        vertical-align: middle;\n",
              "    }\n",
              "\n",
              "    .dataframe tbody tr th {\n",
              "        vertical-align: top;\n",
              "    }\n",
              "\n",
              "    .dataframe thead th {\n",
              "        text-align: right;\n",
              "    }\n",
              "</style>\n",
              "<table border=\"1\" class=\"dataframe\">\n",
              "  <thead>\n",
              "    <tr style=\"text-align: right;\">\n",
              "      <th></th>\n",
              "      <th>Headline</th>\n",
              "      <th>Body ID</th>\n",
              "      <th>Stance</th>\n",
              "    </tr>\n",
              "  </thead>\n",
              "  <tbody>\n",
              "    <tr>\n",
              "      <th>0</th>\n",
              "      <td>Police find mass graves with at least '15 bodi...</td>\n",
              "      <td>712</td>\n",
              "      <td>unrelated</td>\n",
              "    </tr>\n",
              "    <tr>\n",
              "      <th>1</th>\n",
              "      <td>Hundreds of Palestinians flee floods in Gaza a...</td>\n",
              "      <td>158</td>\n",
              "      <td>agree</td>\n",
              "    </tr>\n",
              "    <tr>\n",
              "      <th>2</th>\n",
              "      <td>Christian Bale passes on role of Steve Jobs, a...</td>\n",
              "      <td>137</td>\n",
              "      <td>unrelated</td>\n",
              "    </tr>\n",
              "  </tbody>\n",
              "</table>\n",
              "</div>"
            ],
            "text/plain": [
              "                                            Headline  Body ID     Stance\n",
              "0  Police find mass graves with at least '15 bodi...      712  unrelated\n",
              "1  Hundreds of Palestinians flee floods in Gaza a...      158      agree\n",
              "2  Christian Bale passes on role of Steve Jobs, a...      137  unrelated"
            ]
          },
          "metadata": {
            "tags": []
          },
          "execution_count": 9
        }
      ]
    },
    {
      "cell_type": "code",
      "metadata": {
        "id": "fNOow1WhklaH",
        "colab_type": "code",
        "colab": {
          "base_uri": "https://localhost:8080/",
          "height": 33
        },
        "outputId": "5593c564-07df-4307-8f86-53a250dc9541"
      },
      "source": [
        "real_train_stances.shape"
      ],
      "execution_count": 10,
      "outputs": [
        {
          "output_type": "execute_result",
          "data": {
            "text/plain": [
              "(49972, 3)"
            ]
          },
          "metadata": {
            "tags": []
          },
          "execution_count": 10
        }
      ]
    },
    {
      "cell_type": "code",
      "metadata": {
        "id": "0o9_7UQ0c2Lg",
        "colab_type": "code",
        "colab": {
          "base_uri": "https://localhost:8080/",
          "height": 33
        },
        "outputId": "465a227b-1597-4c70-f852-a88227ff1f6a"
      },
      "source": [
        "train_data_dist=collections.Counter(real_train_stances['Stance'])\n",
        "print(\"Train Data Distribution: \",collections.Counter(real_train_stances['Stance']))"
      ],
      "execution_count": 11,
      "outputs": [
        {
          "output_type": "stream",
          "text": [
            "Train Data Distribution:  Counter({'unrelated': 36545, 'discuss': 8909, 'agree': 3678, 'disagree': 840})\n"
          ],
          "name": "stdout"
        }
      ]
    },
    {
      "cell_type": "code",
      "metadata": {
        "id": "ADy2y9SIdsgV",
        "colab_type": "code",
        "colab": {
          "base_uri": "https://localhost:8080/",
          "height": 294
        },
        "outputId": "390bda97-1350-4e9a-e61b-f962af4d58f5"
      },
      "source": [
        "plt.bar(train_data_dist.keys(),train_data_dist.values(),color=[\n",
        "                     'seagreen', 'skyblue','pink','gray'])\n",
        "plt.xlabel(\"Stance\")\n",
        "plt.ylabel('Frequency')\n",
        "plt.title('Stance Distribution at Train set')\n",
        "plt.show()"
      ],
      "execution_count": 12,
      "outputs": [
        {
          "output_type": "display_data",
          "data": {
            "image/png": "[encoded data removed]",
            "text/plain": [
              "<Figure size 432x288 with 1 Axes>"
            ]
          },
          "metadata": {
            "tags": [],
            "needs_background": "light"
          }
        }
      ]
    },
    {
      "cell_type": "markdown",
      "metadata": {
        "id": "o7a9Y1wqkeuk",
        "colab_type": "text"
      },
      "source": [
        "- Total stances: 49972\n",
        "  - unrelated: 73.1%\n",
        "  - agree: 7.3%\n",
        "  - disagree:1.6%\n",
        "  - discuss:17.8%"
      ]
    },
    {
      "cell_type": "code",
      "metadata": {
        "id": "fOCzZbzLe8TN",
        "colab_type": "code",
        "colab": {
          "base_uri": "https://localhost:8080/",
          "height": 294
        },
        "outputId": "24df34e2-cc70-4a54-b87d-1b95ddad7df3"
      },
      "source": [
        "plt.bar(test_data_dist.keys(),test_data_dist.values(),color=[\n",
        "                     'seagreen', 'skyblue','pink','gray'])\n",
        "plt.xlabel(\"Stance\")\n",
        "plt.ylabel('Frequency')\n",
        "plt.title('Stance Distribution at Test set')\n",
        "plt.show()"
      ],
      "execution_count": 14,
      "outputs": [
        {
          "output_type": "display_data",
          "data": {
            "image/png": "[encoded data removed]",
            "text/plain": [
              "<Figure size 432x288 with 1 Axes>"
            ]
          },
          "metadata": {
            "tags": [],
            "needs_background": "light"
          }
        }
      ]
    },
    {
      "cell_type": "markdown",
      "metadata": {
        "id": "nrkAeoJRdcD5",
        "colab_type": "text"
      },
      "source": [
        "## Metrics"
      ]
    },
    {
      "cell_type": "code",
      "metadata": {
        "id": "dDzOSIJ8cUsf",
        "colab_type": "code",
        "colab": {}
      },
      "source": [
        "#Adapted from https://github.com/FakeNewsChallenge/fnc-1/blob/master/scorer.py\n",
        "#Original credit - @bgalbraith\n",
        "\n",
        "LABELS = ['agree', 'disagree', 'discuss', 'unrelated']\n",
        "LABELS_RELATED = ['unrelated','related']\n",
        "RELATED = LABELS[0:3]\n",
        "\n",
        "def score_submission(gold_labels, test_labels):\n",
        "    score = 0.0\n",
        "    cm = [[0, 0, 0, 0],\n",
        "          [0, 0, 0, 0],\n",
        "          [0, 0, 0, 0],\n",
        "          [0, 0, 0, 0]]\n",
        "\n",
        "    for i, (g, t) in enumerate(zip(gold_labels, test_labels)):\n",
        "        g_stance, t_stance = g, t\n",
        "        if g_stance == t_stance:\n",
        "            score += 0.25\n",
        "            if g_stance != 'unrelated':\n",
        "                score += 0.50\n",
        "        if g_stance in RELATED and t_stance in RELATED:\n",
        "            score += 0.25\n",
        "\n",
        "        cm[LABELS.index(g_stance)][LABELS.index(t_stance)] += 1\n",
        "\n",
        "    return score, cm\n",
        "\n",
        "\n",
        "def print_confusion_matrix(cm):\n",
        "    lines = []\n",
        "    header = \"|{:^11}|{:^11}|{:^11}|{:^11}|{:^11}|\".format('', *LABELS)\n",
        "    line_len = len(header)\n",
        "    lines.append(\"-\"*line_len)\n",
        "    lines.append(header)\n",
        "    lines.append(\"-\"*line_len)\n",
        "\n",
        "    hit = 0\n",
        "    total = 0\n",
        "    for i, row in enumerate(cm):\n",
        "        hit += row[i]\n",
        "        total += sum(row)\n",
        "        lines.append(\"|{:^11}|{:^11}|{:^11}|{:^11}|{:^11}|\".format(LABELS[i],\n",
        "                                                                   *row))\n",
        "        lines.append(\"-\"*line_len)\n",
        "    print('\\n'.join(lines))\n",
        "\n",
        "\n",
        "def report_score(actual,predicted):\n",
        "    score,cm = score_submission(actual,predicted)\n",
        "    best_score, _ = score_submission(actual,actual)\n",
        "\n",
        "    print_confusion_matrix(cm)\n",
        "    print(\"Score: \" +str(score) + \" out of \" + str(best_score) + \"\\t(\"+str(score*100/best_score) + \"%)\")\n",
        "    return score*100/best_score\n"
      ],
      "execution_count": 15,
      "outputs": []
    },
    {
      "cell_type": "code",
      "metadata": {
        "id": "KBjyXyc6jLzq",
        "colab_type": "code",
        "colab": {}
      },
      "source": [
        "\n",
        "def calculate_f1_scores(y_true, y_predicted):\n",
        "    \n",
        "    f1_macro = f1_score(y_true, y_predicted, average='macro')\n",
        "    f1_classwise = f1_score(y_true, y_predicted, average=None, labels=[\"agree\", \"disagree\", \"discuss\", \"unrelated\"])\n",
        "\n",
        "    resultstring = \"F1 macro: {:.3f}\".format(f1_macro * 100) + \"% \\n\"\n",
        "    resultstring += \"F1 agree: {:.3f}\".format(f1_classwise[0] * 100) + \"% \\n\"\n",
        "    resultstring += \"F1 disagree: {:.3f}\".format(f1_classwise[1] * 100) + \"% \\n\"\n",
        "    resultstring += \"F1 discuss: {:.3f}\".format(f1_classwise[2] * 100) + \"% \\n\"\n",
        "    resultstring += \"F1 unrelated: {:.3f}\".format(f1_classwise[3] * 100) + \"% \\n\"\n",
        "    return resultstring"
      ],
      "execution_count": 16,
      "outputs": []
    },
    {
      "cell_type": "code",
      "metadata": {
        "id": "1_E5yRDYjQB9",
        "colab_type": "code",
        "colab": {}
      },
      "source": [
        "def class_repo(labels_test,preds_test):\n",
        "    eval_report = classification_report(labels_test, preds_test)\n",
        "    print('Test report', eval_report)"
      ],
      "execution_count": 17,
      "outputs": []
    },
    {
      "cell_type": "markdown",
      "metadata": {
        "id": "bC_WE3uYdG5a",
        "colab_type": "text"
      },
      "source": [
        "## Evaluating CNN 50"
      ]
    },
    {
      "cell_type": "code",
      "metadata": {
        "id": "muWIkwvScn2j",
        "colab_type": "code",
        "colab": {
          "base_uri": "https://localhost:8080/",
          "height": 233
        },
        "outputId": "becb574b-7987-438b-c5d1-e88bcaf8d8c2"
      },
      "source": [
        "report_score(real_stances['Stance'],cnn_50['Stance'])"
      ],
      "execution_count": 18,
      "outputs": [
        {
          "output_type": "stream",
          "text": [
            "-------------------------------------------------------------\n",
            "|           |   agree   | disagree  |  discuss  | unrelated |\n",
            "-------------------------------------------------------------\n",
            "|   agree   |    65     |    449    |    397    |    992    |\n",
            "-------------------------------------------------------------\n",
            "| disagree  |    30     |    132    |    101    |    434    |\n",
            "-------------------------------------------------------------\n",
            "|  discuss  |    153    |    551    |   1505    |   2255    |\n",
            "-------------------------------------------------------------\n",
            "| unrelated |    310    |   1323    |   1751    |   14965   |\n",
            "-------------------------------------------------------------\n",
            "Score: 5863.5 out of 11651.25\t(50.32507241712263%)\n"
          ],
          "name": "stdout"
        },
        {
          "output_type": "execute_result",
          "data": {
            "text/plain": [
              "50.32507241712263"
            ]
          },
          "metadata": {
            "tags": []
          },
          "execution_count": 18
        }
      ]
    },
    {
      "cell_type": "code",
      "metadata": {
        "id": "M5q0AChljifv",
        "colab_type": "code",
        "colab": {
          "base_uri": "https://localhost:8080/",
          "height": 116
        },
        "outputId": "a0cd55fc-8c3d-44fb-98f3-d09ca32966d0"
      },
      "source": [
        "print(calculate_f1_scores(real_stances['Stance'],cnn_50['Stance']))"
      ],
      "execution_count": 19,
      "outputs": [
        {
          "output_type": "stream",
          "text": [
            "F1 macro: 32.797% \n",
            "F1 agree: 5.282% \n",
            "F1 disagree: 8.376% \n",
            "F1 discuss: 36.627% \n",
            "F1 unrelated: 80.903% \n",
            "\n"
          ],
          "name": "stdout"
        }
      ]
    },
    {
      "cell_type": "code",
      "metadata": {
        "id": "B-ly-CjakUUB",
        "colab_type": "code",
        "colab": {
          "base_uri": "https://localhost:8080/",
          "height": 216
        },
        "outputId": "4e0128b8-2702-4b23-8c77-2b712af262ea"
      },
      "source": [
        "print(class_repo(real_stances['Stance'],cnn_50['Stance']))"
      ],
      "execution_count": 20,
      "outputs": [
        {
          "output_type": "stream",
          "text": [
            "Test report               precision    recall  f1-score   support\n",
            "\n",
            "       agree       0.12      0.03      0.05      1903\n",
            "    disagree       0.05      0.19      0.08       697\n",
            "     discuss       0.40      0.34      0.37      4464\n",
            "   unrelated       0.80      0.82      0.81     18349\n",
            "\n",
            "    accuracy                           0.66     25413\n",
            "   macro avg       0.34      0.34      0.33     25413\n",
            "weighted avg       0.66      0.66      0.65     25413\n",
            "\n",
            "None\n"
          ],
          "name": "stdout"
        }
      ]
    },
    {
      "cell_type": "code",
      "metadata": {
        "id": "i2_7Naw9RQ64",
        "colab_type": "code",
        "colab": {
          "base_uri": "https://localhost:8080/",
          "height": 33
        },
        "outputId": "9d1ed6e4-2782-48c8-ccbe-bf3b0dc6f830"
      },
      "source": [
        "print(\" Accuracy is: \",accuracy_score(real_stances['Stance'],cnn_50['Stance']))"
      ],
      "execution_count": 21,
      "outputs": [
        {
          "output_type": "stream",
          "text": [
            " Accuracy is:  0.6558454334395781\n"
          ],
          "name": "stdout"
        }
      ]
    },
    {
      "cell_type": "markdown",
      "metadata": {
        "id": "bgR2KQstdZHR",
        "colab_type": "text"
      },
      "source": [
        "## Evaluating CNN 100"
      ]
    },
    {
      "cell_type": "code",
      "metadata": {
        "id": "3bQrr1oJdRBb",
        "colab_type": "code",
        "colab": {
          "base_uri": "https://localhost:8080/",
          "height": 233
        },
        "outputId": "fbe877a2-5833-4dab-dc5c-78b7f426fb82"
      },
      "source": [
        "report_score(real_stances['Stance'],cnn_100['Stance'])"
      ],
      "execution_count": 22,
      "outputs": [
        {
          "output_type": "stream",
          "text": [
            "-------------------------------------------------------------\n",
            "|           |   agree   | disagree  |  discuss  | unrelated |\n",
            "-------------------------------------------------------------\n",
            "|   agree   |    21     |    330    |    352    |   1200    |\n",
            "-------------------------------------------------------------\n",
            "| disagree  |    11     |    78     |    108    |    500    |\n",
            "-------------------------------------------------------------\n",
            "|  discuss  |    36     |    402    |   1089    |   2937    |\n",
            "-------------------------------------------------------------\n",
            "| unrelated |    117    |    882    |   1333    |   16017   |\n",
            "-------------------------------------------------------------\n",
            "Score: 5502.0 out of 11651.25\t(47.22240102993241%)\n"
          ],
          "name": "stdout"
        },
        {
          "output_type": "execute_result",
          "data": {
            "text/plain": [
              "47.22240102993241"
            ]
          },
          "metadata": {
            "tags": []
          },
          "execution_count": 22
        }
      ]
    },
    {
      "cell_type": "code",
      "metadata": {
        "id": "aOZkSuW8jyP3",
        "colab_type": "code",
        "colab": {
          "base_uri": "https://localhost:8080/",
          "height": 116
        },
        "outputId": "bba4ab50-830b-4d20-8267-1519b558572d"
      },
      "source": [
        "print(calculate_f1_scores(real_stances['Stance'],cnn_100['Stance']))"
      ],
      "execution_count": 23,
      "outputs": [
        {
          "output_type": "stream",
          "text": [
            "F1 macro: 30.081% \n",
            "F1 agree: 2.011% \n",
            "F1 disagree: 6.530% \n",
            "F1 discuss: 29.649% \n",
            "F1 unrelated: 82.132% \n",
            "\n"
          ],
          "name": "stdout"
        }
      ]
    },
    {
      "cell_type": "code",
      "metadata": {
        "id": "YxyQyo1ukdd_",
        "colab_type": "code",
        "colab": {
          "base_uri": "https://localhost:8080/",
          "height": 216
        },
        "outputId": "e5f6f552-5e53-4c9b-fea4-bb4458452a65"
      },
      "source": [
        "print(class_repo(real_stances['Stance'],cnn_100['Stance']))"
      ],
      "execution_count": 24,
      "outputs": [
        {
          "output_type": "stream",
          "text": [
            "Test report               precision    recall  f1-score   support\n",
            "\n",
            "       agree       0.11      0.01      0.02      1903\n",
            "    disagree       0.05      0.11      0.07       697\n",
            "     discuss       0.38      0.24      0.30      4464\n",
            "   unrelated       0.78      0.87      0.82     18349\n",
            "\n",
            "    accuracy                           0.68     25413\n",
            "   macro avg       0.33      0.31      0.30     25413\n",
            "weighted avg       0.64      0.68      0.65     25413\n",
            "\n",
            "None\n"
          ],
          "name": "stdout"
        }
      ]
    },
    {
      "cell_type": "code",
      "metadata": {
        "id": "d1TU1ZCWSAFR",
        "colab_type": "code",
        "colab": {
          "base_uri": "https://localhost:8080/",
          "height": 33
        },
        "outputId": "1c1cc168-8b45-41b4-dee5-6f559f462593"
      },
      "source": [
        "print(\" Accuracy is: \",accuracy_score(real_stances['Stance'],cnn_100['Stance']))"
      ],
      "execution_count": 25,
      "outputs": [
        {
          "output_type": "stream",
          "text": [
            " Accuracy is:  0.6770157006256641\n"
          ],
          "name": "stdout"
        }
      ]
    },
    {
      "cell_type": "markdown",
      "metadata": {
        "id": "sM9A2UaGdgb_",
        "colab_type": "text"
      },
      "source": [
        "## Evaluating CNN 150"
      ]
    },
    {
      "cell_type": "code",
      "metadata": {
        "id": "VglVFQMBdd3p",
        "colab_type": "code",
        "colab": {
          "base_uri": "https://localhost:8080/",
          "height": 233
        },
        "outputId": "d1c45052-47e9-416e-a526-3628fdc93d4b"
      },
      "source": [
        "report_score(real_stances['Stance'],cnn_150['Stance'])"
      ],
      "execution_count": 26,
      "outputs": [
        {
          "output_type": "stream",
          "text": [
            "-------------------------------------------------------------\n",
            "|           |   agree   | disagree  |  discuss  | unrelated |\n",
            "-------------------------------------------------------------\n",
            "|   agree   |    49     |    259    |    396    |   1199    |\n",
            "-------------------------------------------------------------\n",
            "| disagree  |    21     |    99     |    106    |    471    |\n",
            "-------------------------------------------------------------\n",
            "|  discuss  |    90     |    288    |   1424    |   2662    |\n",
            "-------------------------------------------------------------\n",
            "| unrelated |    250    |    984    |   2386    |   14729   |\n",
            "-------------------------------------------------------------\n",
            "Score: 5544.25 out of 11651.25\t(47.585023066194616%)\n"
          ],
          "name": "stdout"
        },
        {
          "output_type": "execute_result",
          "data": {
            "text/plain": [
              "47.585023066194616"
            ]
          },
          "metadata": {
            "tags": []
          },
          "execution_count": 26
        }
      ]
    },
    {
      "cell_type": "code",
      "metadata": {
        "id": "OPNubdtsj1yD",
        "colab_type": "code",
        "colab": {
          "base_uri": "https://localhost:8080/",
          "height": 116
        },
        "outputId": "e45c296f-142c-43ca-e9cf-9fe12fffa8f6"
      },
      "source": [
        "print(calculate_f1_scores(real_stances['Stance'],cnn_150['Stance']))"
      ],
      "execution_count": 27,
      "outputs": [
        {
          "output_type": "stream",
          "text": [
            "F1 macro: 30.985% \n",
            "F1 agree: 4.237% \n",
            "F1 disagree: 8.509% \n",
            "F1 discuss: 32.452% \n",
            "F1 unrelated: 78.744% \n",
            "\n"
          ],
          "name": "stdout"
        }
      ]
    },
    {
      "cell_type": "code",
      "metadata": {
        "id": "AnHVXH4JlAS8",
        "colab_type": "code",
        "colab": {
          "base_uri": "https://localhost:8080/",
          "height": 216
        },
        "outputId": "2b308b50-1197-4e3b-ce5b-59ff3f3975db"
      },
      "source": [
        "print(class_repo(real_stances['Stance'],cnn_150['Stance']))"
      ],
      "execution_count": 28,
      "outputs": [
        {
          "output_type": "stream",
          "text": [
            "Test report               precision    recall  f1-score   support\n",
            "\n",
            "       agree       0.12      0.03      0.04      1903\n",
            "    disagree       0.06      0.14      0.09       697\n",
            "     discuss       0.33      0.32      0.32      4464\n",
            "   unrelated       0.77      0.80      0.79     18349\n",
            "\n",
            "    accuracy                           0.64     25413\n",
            "   macro avg       0.32      0.32      0.31     25413\n",
            "weighted avg       0.63      0.64      0.63     25413\n",
            "\n",
            "None\n"
          ],
          "name": "stdout"
        }
      ]
    },
    {
      "cell_type": "code",
      "metadata": {
        "id": "1p67LkygSDX6",
        "colab_type": "code",
        "colab": {
          "base_uri": "https://localhost:8080/",
          "height": 33
        },
        "outputId": "233c6399-8715-4a88-8c48-56270a1f51c6"
      },
      "source": [
        "print(\" Accuracy is: \",accuracy_score(real_stances['Stance'],cnn_150['Stance']))"
      ],
      "execution_count": 29,
      "outputs": [
        {
          "output_type": "stream",
          "text": [
            " Accuracy is:  0.6414433557627985\n"
          ],
          "name": "stdout"
        }
      ]
    },
    {
      "cell_type": "markdown",
      "metadata": {
        "id": "H3D5nkdDdluk",
        "colab_type": "text"
      },
      "source": [
        "## Evaluating LSTM 50 "
      ]
    },
    {
      "cell_type": "code",
      "metadata": {
        "id": "rUKOxeBxdjN2",
        "colab_type": "code",
        "colab": {
          "base_uri": "https://localhost:8080/",
          "height": 233
        },
        "outputId": "2c442811-97db-435e-f961-1cf7bc5bd612"
      },
      "source": [
        "report_score(real_stances['Stance'],lstm_50['Stance'])"
      ],
      "execution_count": 30,
      "outputs": [
        {
          "output_type": "stream",
          "text": [
            "-------------------------------------------------------------\n",
            "|           |   agree   | disagree  |  discuss  | unrelated |\n",
            "-------------------------------------------------------------\n",
            "|   agree   |    33     |    336    |    267    |   1267    |\n",
            "-------------------------------------------------------------\n",
            "| disagree  |    12     |    119    |    82     |    484    |\n",
            "-------------------------------------------------------------\n",
            "|  discuss  |    18     |    337    |   1545    |   2564    |\n",
            "-------------------------------------------------------------\n",
            "| unrelated |    82     |    643    |   1385    |   16239   |\n",
            "-------------------------------------------------------------\n",
            "Score: 6019.75 out of 11651.25\t(51.6661302435361%)\n"
          ],
          "name": "stdout"
        },
        {
          "output_type": "execute_result",
          "data": {
            "text/plain": [
              "51.6661302435361"
            ]
          },
          "metadata": {
            "tags": []
          },
          "execution_count": 30
        }
      ]
    },
    {
      "cell_type": "code",
      "metadata": {
        "id": "YbhKTfEij3pz",
        "colab_type": "code",
        "colab": {
          "base_uri": "https://localhost:8080/",
          "height": 116
        },
        "outputId": "add11dde-2ef3-4756-96c4-fd0d7713b053"
      },
      "source": [
        "print(calculate_f1_scores(real_stances['Stance'],lstm_50['Stance']))"
      ],
      "execution_count": 31,
      "outputs": [
        {
          "output_type": "stream",
          "text": [
            "F1 macro: 34.444% \n",
            "F1 agree: 3.223% \n",
            "F1 disagree: 11.163% \n",
            "F1 discuss: 39.907% \n",
            "F1 unrelated: 83.485% \n",
            "\n"
          ],
          "name": "stdout"
        }
      ]
    },
    {
      "cell_type": "code",
      "metadata": {
        "id": "onBBj6tulEcy",
        "colab_type": "code",
        "colab": {
          "base_uri": "https://localhost:8080/",
          "height": 216
        },
        "outputId": "928eb397-414d-4e44-fb84-19653f877134"
      },
      "source": [
        "print(class_repo(real_stances['Stance'],lstm_50['Stance']))"
      ],
      "execution_count": 32,
      "outputs": [
        {
          "output_type": "stream",
          "text": [
            "Test report               precision    recall  f1-score   support\n",
            "\n",
            "       agree       0.23      0.02      0.03      1903\n",
            "    disagree       0.08      0.17      0.11       697\n",
            "     discuss       0.47      0.35      0.40      4464\n",
            "   unrelated       0.79      0.89      0.83     18349\n",
            "\n",
            "    accuracy                           0.71     25413\n",
            "   macro avg       0.39      0.35      0.34     25413\n",
            "weighted avg       0.67      0.71      0.68     25413\n",
            "\n",
            "None\n"
          ],
          "name": "stdout"
        }
      ]
    },
    {
      "cell_type": "code",
      "metadata": {
        "id": "N3SdJHdRSH-x",
        "colab_type": "code",
        "colab": {
          "base_uri": "https://localhost:8080/",
          "height": 33
        },
        "outputId": "51bee1fc-4ce3-4250-8dcb-34c269e27cc6"
      },
      "source": [
        "print(\" Accuracy is: \",accuracy_score(real_stances['Stance'],lstm_50['Stance']))"
      ],
      "execution_count": 33,
      "outputs": [
        {
          "output_type": "stream",
          "text": [
            " Accuracy is:  0.7057805060402156\n"
          ],
          "name": "stdout"
        }
      ]
    },
    {
      "cell_type": "markdown",
      "metadata": {
        "id": "iGjC-rmrdqFV",
        "colab_type": "text"
      },
      "source": [
        "## Evaluating LSTM 100 "
      ]
    },
    {
      "cell_type": "code",
      "metadata": {
        "id": "f8mGrn2gdq9Y",
        "colab_type": "code",
        "colab": {
          "base_uri": "https://localhost:8080/",
          "height": 233
        },
        "outputId": "3c55fb3c-1a1b-4b04-d1dd-2b203318bf6c"
      },
      "source": [
        "report_score(real_stances['Stance'],lstm_100['Stance'])"
      ],
      "execution_count": 34,
      "outputs": [
        {
          "output_type": "stream",
          "text": [
            "-------------------------------------------------------------\n",
            "|           |   agree   | disagree  |  discuss  | unrelated |\n",
            "-------------------------------------------------------------\n",
            "|   agree   |     0     |    281    |    348    |   1274    |\n",
            "-------------------------------------------------------------\n",
            "| disagree  |     0     |    90     |    94     |    513    |\n",
            "-------------------------------------------------------------\n",
            "|  discuss  |     0     |    446    |   1375    |   2643    |\n",
            "-------------------------------------------------------------\n",
            "| unrelated |     0     |   1129    |   1665    |   15555   |\n",
            "-------------------------------------------------------------\n",
            "Score: 5646.0 out of 11651.25\t(48.45831992275507%)\n"
          ],
          "name": "stdout"
        },
        {
          "output_type": "execute_result",
          "data": {
            "text/plain": [
              "48.45831992275507"
            ]
          },
          "metadata": {
            "tags": []
          },
          "execution_count": 34
        }
      ]
    },
    {
      "cell_type": "code",
      "metadata": {
        "id": "4SxDsUdqj8z7",
        "colab_type": "code",
        "colab": {
          "base_uri": "https://localhost:8080/",
          "height": 116
        },
        "outputId": "38d17149-4ed6-4ac4-d1ba-c84b8a18ad7e"
      },
      "source": [
        "print(calculate_f1_scores(real_stances['Stance'],lstm_100['Stance']))"
      ],
      "execution_count": 35,
      "outputs": [
        {
          "output_type": "stream",
          "text": [
            "F1 macro: 30.644% \n",
            "F1 agree: 0.000% \n",
            "F1 disagree: 6.810% \n",
            "F1 discuss: 34.609% \n",
            "F1 unrelated: 81.155% \n",
            "\n"
          ],
          "name": "stdout"
        }
      ]
    },
    {
      "cell_type": "code",
      "metadata": {
        "id": "htGFjCSZlImW",
        "colab_type": "code",
        "colab": {
          "base_uri": "https://localhost:8080/",
          "height": 270
        },
        "outputId": "aaaffc05-bb4a-4abc-9af3-24fc3ad625f6"
      },
      "source": [
        "print(class_repo(real_stances['Stance'],lstm_100['Stance']))"
      ],
      "execution_count": 36,
      "outputs": [
        {
          "output_type": "stream",
          "text": [
            "/usr/local/lib/python3.6/dist-packages/sklearn/metrics/_classification.py:1272: UndefinedMetricWarning: Precision and F-score are ill-defined and being set to 0.0 in labels with no predicted samples. Use `zero_division` parameter to control this behavior.\n",
            "  _warn_prf(average, modifier, msg_start, len(result))\n"
          ],
          "name": "stderr"
        },
        {
          "output_type": "stream",
          "text": [
            "Test report               precision    recall  f1-score   support\n",
            "\n",
            "       agree       0.00      0.00      0.00      1903\n",
            "    disagree       0.05      0.13      0.07       697\n",
            "     discuss       0.39      0.31      0.35      4464\n",
            "   unrelated       0.78      0.85      0.81     18349\n",
            "\n",
            "    accuracy                           0.67     25413\n",
            "   macro avg       0.30      0.32      0.31     25413\n",
            "weighted avg       0.63      0.67      0.65     25413\n",
            "\n",
            "None\n"
          ],
          "name": "stdout"
        }
      ]
    },
    {
      "cell_type": "code",
      "metadata": {
        "id": "LpF-VtVkSLcx",
        "colab_type": "code",
        "colab": {
          "base_uri": "https://localhost:8080/",
          "height": 33
        },
        "outputId": "9e4214d4-fc54-4657-bd4a-221e7d19abe3"
      },
      "source": [
        "print(\" Accuracy is: \",accuracy_score(real_stances['Stance'],lstm_100['Stance']))"
      ],
      "execution_count": 37,
      "outputs": [
        {
          "output_type": "stream",
          "text": [
            " Accuracy is:  0.669735961909259\n"
          ],
          "name": "stdout"
        }
      ]
    },
    {
      "cell_type": "markdown",
      "metadata": {
        "id": "tdVYy35ndrnp",
        "colab_type": "text"
      },
      "source": [
        "## Evaluating LSTM 150"
      ]
    },
    {
      "cell_type": "code",
      "metadata": {
        "id": "2TOuJ-Hvdsc3",
        "colab_type": "code",
        "colab": {
          "base_uri": "https://localhost:8080/",
          "height": 233
        },
        "outputId": "48b3ad0e-91ed-43a4-dc1d-5706ca8b1436"
      },
      "source": [
        "report_score(real_stances['Stance'],lstm_150['Stance'])"
      ],
      "execution_count": 38,
      "outputs": [
        {
          "output_type": "stream",
          "text": [
            "-------------------------------------------------------------\n",
            "|           |   agree   | disagree  |  discuss  | unrelated |\n",
            "-------------------------------------------------------------\n",
            "|   agree   |     1     |    455    |    432    |   1015    |\n",
            "-------------------------------------------------------------\n",
            "| disagree  |     3     |    174    |    158    |    362    |\n",
            "-------------------------------------------------------------\n",
            "|  discuss  |     4     |    486    |   1538    |   2436    |\n",
            "-------------------------------------------------------------\n",
            "| unrelated |    17     |   1379    |   1795    |   15158   |\n",
            "-------------------------------------------------------------\n",
            "Score: 5887.0 out of 11651.25\t(50.526767514215216%)\n"
          ],
          "name": "stdout"
        },
        {
          "output_type": "execute_result",
          "data": {
            "text/plain": [
              "50.526767514215216"
            ]
          },
          "metadata": {
            "tags": []
          },
          "execution_count": 38
        }
      ]
    },
    {
      "cell_type": "code",
      "metadata": {
        "id": "_pPSfXizj_K9",
        "colab_type": "code",
        "colab": {
          "base_uri": "https://localhost:8080/",
          "height": 116
        },
        "outputId": "df2e0809-26d7-4163-e553-04654b0382eb"
      },
      "source": [
        "print(calculate_f1_scores(real_stances['Stance'],lstm_150['Stance']))"
      ],
      "execution_count": 39,
      "outputs": [
        {
          "output_type": "stream",
          "text": [
            "F1 macro: 32.229% \n",
            "F1 agree: 0.104% \n",
            "F1 disagree: 10.906% \n",
            "F1 discuss: 36.676% \n",
            "F1 unrelated: 81.233% \n",
            "\n"
          ],
          "name": "stdout"
        }
      ]
    },
    {
      "cell_type": "code",
      "metadata": {
        "id": "SyA5uOzJlLSu",
        "colab_type": "code",
        "colab": {
          "base_uri": "https://localhost:8080/",
          "height": 216
        },
        "outputId": "675f9ef0-a8ab-45a9-8130-b9b2bc92012e"
      },
      "source": [
        "print(class_repo(real_stances['Stance'],lstm_150['Stance']))"
      ],
      "execution_count": 40,
      "outputs": [
        {
          "output_type": "stream",
          "text": [
            "Test report               precision    recall  f1-score   support\n",
            "\n",
            "       agree       0.04      0.00      0.00      1903\n",
            "    disagree       0.07      0.25      0.11       697\n",
            "     discuss       0.39      0.34      0.37      4464\n",
            "   unrelated       0.80      0.83      0.81     18349\n",
            "\n",
            "    accuracy                           0.66     25413\n",
            "   macro avg       0.33      0.36      0.32     25413\n",
            "weighted avg       0.65      0.66      0.65     25413\n",
            "\n",
            "None\n"
          ],
          "name": "stdout"
        }
      ]
    },
    {
      "cell_type": "code",
      "metadata": {
        "id": "rciJ1WiaSTPg",
        "colab_type": "code",
        "colab": {
          "base_uri": "https://localhost:8080/",
          "height": 33
        },
        "outputId": "af487215-533c-4a0d-9d93-b9c1e3478b67"
      },
      "source": [
        "print(\" Accuracy is: \",accuracy_score(real_stances['Stance'],lstm_150['Stance']))"
      ],
      "execution_count": 41,
      "outputs": [
        {
          "output_type": "stream",
          "text": [
            " Accuracy is:  0.6638728209971274\n"
          ],
          "name": "stdout"
        }
      ]
    },
    {
      "cell_type": "markdown",
      "metadata": {
        "id": "zy-hfod-eIUc",
        "colab_type": "text"
      },
      "source": [
        "## Evaluating Bi-LSTM 50"
      ]
    },
    {
      "cell_type": "code",
      "metadata": {
        "id": "7kxJmONEd1dR",
        "colab_type": "code",
        "colab": {
          "base_uri": "https://localhost:8080/",
          "height": 233
        },
        "outputId": "9f70f673-c539-4481-f347-8277c2c6fc12"
      },
      "source": [
        "report_score(real_stances['Stance'],bi_lstm_50['Stance'])"
      ],
      "execution_count": 42,
      "outputs": [
        {
          "output_type": "stream",
          "text": [
            "-------------------------------------------------------------\n",
            "|           |   agree   | disagree  |  discuss  | unrelated |\n",
            "-------------------------------------------------------------\n",
            "|   agree   |    39     |    318    |    309    |   1237    |\n",
            "-------------------------------------------------------------\n",
            "| disagree  |    14     |    118    |    86     |    479    |\n",
            "-------------------------------------------------------------\n",
            "|  discuss  |    31     |    341    |   1701    |   2391    |\n",
            "-------------------------------------------------------------\n",
            "| unrelated |    43     |    639    |   1327    |   16340   |\n",
            "-------------------------------------------------------------\n",
            "Score: 6217.75 out of 11651.25\t(53.365518721167255%)\n"
          ],
          "name": "stdout"
        },
        {
          "output_type": "execute_result",
          "data": {
            "text/plain": [
              "53.365518721167255"
            ]
          },
          "metadata": {
            "tags": []
          },
          "execution_count": 42
        }
      ]
    },
    {
      "cell_type": "code",
      "metadata": {
        "id": "I341ozqbkEou",
        "colab_type": "code",
        "colab": {
          "base_uri": "https://localhost:8080/",
          "height": 116
        },
        "outputId": "fa428324-6c32-4153-8128-ce401c96c39c"
      },
      "source": [
        "print(calculate_f1_scores(real_stances['Stance'],bi_lstm_50['Stance']))"
      ],
      "execution_count": 43,
      "outputs": [
        {
          "output_type": "stream",
          "text": [
            "F1 macro: 35.595% \n",
            "F1 agree: 3.842% \n",
            "F1 disagree: 11.169% \n",
            "F1 discuss: 43.134% \n",
            "F1 unrelated: 84.235% \n",
            "\n"
          ],
          "name": "stdout"
        }
      ]
    },
    {
      "cell_type": "code",
      "metadata": {
        "id": "Vbgbs1hPlNnU",
        "colab_type": "code",
        "colab": {
          "base_uri": "https://localhost:8080/",
          "height": 216
        },
        "outputId": "3bf56d42-ae52-456f-bd75-6adffff276e7"
      },
      "source": [
        "print(class_repo(real_stances['Stance'],bi_lstm_50['Stance']))"
      ],
      "execution_count": 44,
      "outputs": [
        {
          "output_type": "stream",
          "text": [
            "Test report               precision    recall  f1-score   support\n",
            "\n",
            "       agree       0.31      0.02      0.04      1903\n",
            "    disagree       0.08      0.17      0.11       697\n",
            "     discuss       0.50      0.38      0.43      4464\n",
            "   unrelated       0.80      0.89      0.84     18349\n",
            "\n",
            "    accuracy                           0.72     25413\n",
            "   macro avg       0.42      0.37      0.36     25413\n",
            "weighted avg       0.69      0.72      0.69     25413\n",
            "\n",
            "None\n"
          ],
          "name": "stdout"
        }
      ]
    },
    {
      "cell_type": "code",
      "metadata": {
        "id": "AILzV05LYLKx",
        "colab_type": "code",
        "colab": {
          "base_uri": "https://localhost:8080/",
          "height": 33
        },
        "outputId": "6a86cd22-1b26-431f-d07b-7994e044c302"
      },
      "source": [
        "print(\" Accuracy is: \",accuracy_score(real_stances['Stance'],bi_lstm_50['Stance']))"
      ],
      "execution_count": 45,
      "outputs": [
        {
          "output_type": "stream",
          "text": [
            " Accuracy is:  0.7160901900602054\n"
          ],
          "name": "stdout"
        }
      ]
    },
    {
      "cell_type": "markdown",
      "metadata": {
        "id": "bHFzq7yaeRTQ",
        "colab_type": "text"
      },
      "source": [
        "## Evaluating Bi-LSTM 100"
      ]
    },
    {
      "cell_type": "code",
      "metadata": {
        "id": "nCoXy-93d7Pe",
        "colab_type": "code",
        "colab": {
          "base_uri": "https://localhost:8080/",
          "height": 233
        },
        "outputId": "c9b83a88-b2a8-4862-d98f-a2fa5654ee72"
      },
      "source": [
        "report_score(real_stances['Stance'],bi_lstm_100['Stance'])"
      ],
      "execution_count": 46,
      "outputs": [
        {
          "output_type": "stream",
          "text": [
            "-------------------------------------------------------------\n",
            "|           |   agree   | disagree  |  discuss  | unrelated |\n",
            "-------------------------------------------------------------\n",
            "|   agree   |    41     |    333    |    450    |   1079    |\n",
            "-------------------------------------------------------------\n",
            "| disagree  |    10     |    85     |    99     |    503    |\n",
            "-------------------------------------------------------------\n",
            "|  discuss  |    37     |    362    |   2043    |   2022    |\n",
            "-------------------------------------------------------------\n",
            "| unrelated |    82     |    599    |   1278    |   16390   |\n",
            "-------------------------------------------------------------\n",
            "Score: 6589.25 out of 11651.25\t(56.55401780924794%)\n"
          ],
          "name": "stdout"
        },
        {
          "output_type": "execute_result",
          "data": {
            "text/plain": [
              "56.55401780924794"
            ]
          },
          "metadata": {
            "tags": []
          },
          "execution_count": 46
        }
      ]
    },
    {
      "cell_type": "code",
      "metadata": {
        "id": "au_0r1o8kIOG",
        "colab_type": "code",
        "colab": {
          "base_uri": "https://localhost:8080/",
          "height": 116
        },
        "outputId": "4d86c256-8fb8-4a94-ab9e-b8d0d39be88c"
      },
      "source": [
        "print(calculate_f1_scores(real_stances['Stance'],bi_lstm_100['Stance']))"
      ],
      "execution_count": 47,
      "outputs": [
        {
          "output_type": "stream",
          "text": [
            "F1 macro: 36.666% \n",
            "F1 agree: 3.956% \n",
            "F1 disagree: 8.189% \n",
            "F1 discuss: 49.028% \n",
            "F1 unrelated: 85.491% \n",
            "\n"
          ],
          "name": "stdout"
        }
      ]
    },
    {
      "cell_type": "code",
      "metadata": {
        "id": "gUxeGHCWlQhp",
        "colab_type": "code",
        "colab": {
          "base_uri": "https://localhost:8080/",
          "height": 216
        },
        "outputId": "ea9244be-0607-4301-9d5b-a8d54f803bfd"
      },
      "source": [
        "print(class_repo(real_stances['Stance'],bi_lstm_100['Stance']))"
      ],
      "execution_count": 48,
      "outputs": [
        {
          "output_type": "stream",
          "text": [
            "Test report               precision    recall  f1-score   support\n",
            "\n",
            "       agree       0.24      0.02      0.04      1903\n",
            "    disagree       0.06      0.12      0.08       697\n",
            "     discuss       0.53      0.46      0.49      4464\n",
            "   unrelated       0.82      0.89      0.85     18349\n",
            "\n",
            "    accuracy                           0.73     25413\n",
            "   macro avg       0.41      0.37      0.37     25413\n",
            "weighted avg       0.70      0.73      0.71     25413\n",
            "\n",
            "None\n"
          ],
          "name": "stdout"
        }
      ]
    },
    {
      "cell_type": "code",
      "metadata": {
        "id": "fP1EXAS3YS3d",
        "colab_type": "code",
        "colab": {
          "base_uri": "https://localhost:8080/",
          "height": 33
        },
        "outputId": "8f9fa644-fe53-4f44-f0e2-5af503a09f5f"
      },
      "source": [
        "print(\" Accuracy is: \",accuracy_score(real_stances['Stance'],bi_lstm_100['Stance']))"
      ],
      "execution_count": 49,
      "outputs": [
        {
          "output_type": "stream",
          "text": [
            " Accuracy is:  0.730295518041947\n"
          ],
          "name": "stdout"
        }
      ]
    },
    {
      "cell_type": "markdown",
      "metadata": {
        "id": "9nJu16-ceUQl",
        "colab_type": "text"
      },
      "source": [
        "## Evaluating Bi-LSTM 150"
      ]
    },
    {
      "cell_type": "code",
      "metadata": {
        "id": "w-F7tDcrd80q",
        "colab_type": "code",
        "colab": {
          "base_uri": "https://localhost:8080/",
          "height": 233
        },
        "outputId": "93b7edca-9e63-47d9-b48a-eacd89f2f02a"
      },
      "source": [
        "report_score(real_stances['Stance'],bi_lstm_150['Stance'])"
      ],
      "execution_count": 50,
      "outputs": [
        {
          "output_type": "stream",
          "text": [
            "-------------------------------------------------------------\n",
            "|           |   agree   | disagree  |  discuss  | unrelated |\n",
            "-------------------------------------------------------------\n",
            "|   agree   |    34     |    207    |    305    |   1357    |\n",
            "-------------------------------------------------------------\n",
            "| disagree  |    24     |    54     |    103    |    516    |\n",
            "-------------------------------------------------------------\n",
            "|  discuss  |    51     |    209    |   1614    |   2590    |\n",
            "-------------------------------------------------------------\n",
            "| unrelated |    75     |    387    |   1136    |   16751   |\n",
            "-------------------------------------------------------------\n",
            "Score: 6114.5 out of 11651.25\t(52.47934770947323%)\n"
          ],
          "name": "stdout"
        },
        {
          "output_type": "execute_result",
          "data": {
            "text/plain": [
              "52.47934770947323"
            ]
          },
          "metadata": {
            "tags": []
          },
          "execution_count": 50
        }
      ]
    },
    {
      "cell_type": "code",
      "metadata": {
        "id": "5AmrRSw9kLsx",
        "colab_type": "code",
        "colab": {
          "base_uri": "https://localhost:8080/",
          "height": 116
        },
        "outputId": "e02effa9-db99-41dd-ae6f-cb0753b52e14"
      },
      "source": [
        "print(calculate_f1_scores(real_stances['Stance'],bi_lstm_150['Stance']))"
      ],
      "execution_count": 51,
      "outputs": [
        {
          "output_type": "stream",
          "text": [
            "F1 macro: 34.310% \n",
            "F1 agree: 3.258% \n",
            "F1 disagree: 6.950% \n",
            "F1 discuss: 42.351% \n",
            "F1 unrelated: 84.680% \n",
            "\n"
          ],
          "name": "stdout"
        }
      ]
    },
    {
      "cell_type": "code",
      "metadata": {
        "id": "BiYvAKDIlTR5",
        "colab_type": "code",
        "colab": {
          "base_uri": "https://localhost:8080/",
          "height": 216
        },
        "outputId": "502748ed-6a2d-4ad4-bd19-c7b46ae6e7fe"
      },
      "source": [
        "print(class_repo(real_stances['Stance'],bi_lstm_150['Stance']))"
      ],
      "execution_count": 52,
      "outputs": [
        {
          "output_type": "stream",
          "text": [
            "Test report               precision    recall  f1-score   support\n",
            "\n",
            "       agree       0.18      0.02      0.03      1903\n",
            "    disagree       0.06      0.08      0.07       697\n",
            "     discuss       0.51      0.36      0.42      4464\n",
            "   unrelated       0.79      0.91      0.85     18349\n",
            "\n",
            "    accuracy                           0.73     25413\n",
            "   macro avg       0.39      0.34      0.34     25413\n",
            "weighted avg       0.68      0.73      0.69     25413\n",
            "\n",
            "None\n"
          ],
          "name": "stdout"
        }
      ]
    },
    {
      "cell_type": "code",
      "metadata": {
        "id": "v1l1BivXYWlt",
        "colab_type": "code",
        "colab": {
          "base_uri": "https://localhost:8080/",
          "height": 33
        },
        "outputId": "9fa2b312-27c5-40a4-e7cb-ba6a0e2d1f5e"
      },
      "source": [
        "print(\" Accuracy is: \",accuracy_score(real_stances['Stance'],bi_lstm_150['Stance']))"
      ],
      "execution_count": 53,
      "outputs": [
        {
          "output_type": "stream",
          "text": [
            " Accuracy is:  0.726124424507142\n"
          ],
          "name": "stdout"
        }
      ]
    },
    {
      "cell_type": "markdown",
      "metadata": {
        "id": "5zVLRbhP6_Ew",
        "colab_type": "text"
      },
      "source": [
        "## W2V CNN 50"
      ]
    },
    {
      "cell_type": "code",
      "metadata": {
        "id": "2cvNh54E7Co5",
        "colab_type": "code",
        "colab": {
          "base_uri": "https://localhost:8080/",
          "height": 233
        },
        "outputId": "c6b4d4f9-d29c-484f-cd16-f63909e4f7fa"
      },
      "source": [
        "report_score(real_stances['Stance'],w2v_cnn_50['Stance'])"
      ],
      "execution_count": 54,
      "outputs": [
        {
          "output_type": "stream",
          "text": [
            "-------------------------------------------------------------\n",
            "|           |   agree   | disagree  |  discuss  | unrelated |\n",
            "-------------------------------------------------------------\n",
            "|   agree   |    33     |    352    |    532    |    986    |\n",
            "-------------------------------------------------------------\n",
            "| disagree  |    13     |    90     |    187    |    407    |\n",
            "-------------------------------------------------------------\n",
            "|  discuss  |    51     |    393    |   1938    |   2082    |\n",
            "-------------------------------------------------------------\n",
            "| unrelated |    182    |   1215    |   2728    |   14224   |\n",
            "-------------------------------------------------------------\n",
            "Score: 5999.0 out of 11651.25\t(51.48803776418839%)\n"
          ],
          "name": "stdout"
        },
        {
          "output_type": "execute_result",
          "data": {
            "text/plain": [
              "51.48803776418839"
            ]
          },
          "metadata": {
            "tags": []
          },
          "execution_count": 54
        }
      ]
    },
    {
      "cell_type": "code",
      "metadata": {
        "id": "YqwqhodJ7Csg",
        "colab_type": "code",
        "colab": {
          "base_uri": "https://localhost:8080/",
          "height": 116
        },
        "outputId": "7129e839-9ae6-4854-9c29-42a6c9d79f24"
      },
      "source": [
        "print(calculate_f1_scores(real_stances['Stance'],w2v_cnn_50['Stance']))"
      ],
      "execution_count": 55,
      "outputs": [
        {
          "output_type": "stream",
          "text": [
            "F1 macro: 31.962% \n",
            "F1 agree: 3.025% \n",
            "F1 disagree: 6.553% \n",
            "F1 discuss: 39.354% \n",
            "F1 unrelated: 78.917% \n",
            "\n"
          ],
          "name": "stdout"
        }
      ]
    },
    {
      "cell_type": "code",
      "metadata": {
        "id": "Jbk7LkGD7C6B",
        "colab_type": "code",
        "colab": {
          "base_uri": "https://localhost:8080/",
          "height": 216
        },
        "outputId": "c960146b-307a-4651-9e07-1e585c2f31b1"
      },
      "source": [
        "print(class_repo(real_stances['Stance'],w2v_cnn_50['Stance']))"
      ],
      "execution_count": 56,
      "outputs": [
        {
          "output_type": "stream",
          "text": [
            "Test report               precision    recall  f1-score   support\n",
            "\n",
            "       agree       0.12      0.02      0.03      1903\n",
            "    disagree       0.04      0.13      0.07       697\n",
            "     discuss       0.36      0.43      0.39      4464\n",
            "   unrelated       0.80      0.78      0.79     18349\n",
            "\n",
            "    accuracy                           0.64     25413\n",
            "   macro avg       0.33      0.34      0.32     25413\n",
            "weighted avg       0.65      0.64      0.64     25413\n",
            "\n",
            "None\n"
          ],
          "name": "stdout"
        }
      ]
    },
    {
      "cell_type": "code",
      "metadata": {
        "id": "yTzjx10BYZYr",
        "colab_type": "code",
        "colab": {
          "base_uri": "https://localhost:8080/",
          "height": 33
        },
        "outputId": "16b749ed-c6d6-499a-b523-0599bd7d9379"
      },
      "source": [
        "print(\" Accuracy is: \",accuracy_score(real_stances['Stance'],w2v_cnn_50['Stance']))"
      ],
      "execution_count": 57,
      "outputs": [
        {
          "output_type": "stream",
          "text": [
            " Accuracy is:  0.640813756738677\n"
          ],
          "name": "stdout"
        }
      ]
    },
    {
      "cell_type": "markdown",
      "metadata": {
        "id": "U5m6llvT7DLP",
        "colab_type": "text"
      },
      "source": [
        "## W2V LSTM 50"
      ]
    },
    {
      "cell_type": "code",
      "metadata": {
        "id": "cKQz3r6y7GKu",
        "colab_type": "code",
        "colab": {
          "base_uri": "https://localhost:8080/",
          "height": 233
        },
        "outputId": "27d76d52-07a7-4108-b825-f8817c19ee4c"
      },
      "source": [
        "report_score(real_stances['Stance'],w2v_lstm_50['Stance'])"
      ],
      "execution_count": 58,
      "outputs": [
        {
          "output_type": "stream",
          "text": [
            "-------------------------------------------------------------\n",
            "|           |   agree   | disagree  |  discuss  | unrelated |\n",
            "-------------------------------------------------------------\n",
            "|   agree   |     8     |    213    |    281    |   1401    |\n",
            "-------------------------------------------------------------\n",
            "| disagree  |     3     |    40     |    86     |    568    |\n",
            "-------------------------------------------------------------\n",
            "|  discuss  |    20     |    226    |   1363    |   2855    |\n",
            "-------------------------------------------------------------\n",
            "| unrelated |    35     |    503    |   1348    |   16463   |\n",
            "-------------------------------------------------------------\n",
            "Score: 5734.0 out of 11651.25\t(49.213603690591135%)\n"
          ],
          "name": "stdout"
        },
        {
          "output_type": "execute_result",
          "data": {
            "text/plain": [
              "49.213603690591135"
            ]
          },
          "metadata": {
            "tags": []
          },
          "execution_count": 58
        }
      ]
    },
    {
      "cell_type": "code",
      "metadata": {
        "id": "APq8Tcud7GPi",
        "colab_type": "code",
        "colab": {
          "base_uri": "https://localhost:8080/",
          "height": 116
        },
        "outputId": "0f821c61-8083-426d-d440-eff579b3bfaf"
      },
      "source": [
        "print(calculate_f1_scores(real_stances['Stance'],w2v_lstm_50['Stance']))"
      ],
      "execution_count": 59,
      "outputs": [
        {
          "output_type": "stream",
          "text": [
            "F1 macro: 31.198% \n",
            "F1 agree: 0.813% \n",
            "F1 disagree: 4.765% \n",
            "F1 discuss: 36.144% \n",
            "F1 unrelated: 83.071% \n",
            "\n"
          ],
          "name": "stdout"
        }
      ]
    },
    {
      "cell_type": "code",
      "metadata": {
        "id": "KkTmyow67GW4",
        "colab_type": "code",
        "colab": {
          "base_uri": "https://localhost:8080/",
          "height": 216
        },
        "outputId": "5b4bef26-5c8b-4652-ac35-808391f371ce"
      },
      "source": [
        "print(class_repo(real_stances['Stance'],w2v_lstm_50['Stance']))"
      ],
      "execution_count": 60,
      "outputs": [
        {
          "output_type": "stream",
          "text": [
            "Test report               precision    recall  f1-score   support\n",
            "\n",
            "       agree       0.12      0.00      0.01      1903\n",
            "    disagree       0.04      0.06      0.05       697\n",
            "     discuss       0.44      0.31      0.36      4464\n",
            "   unrelated       0.77      0.90      0.83     18349\n",
            "\n",
            "    accuracy                           0.70     25413\n",
            "   macro avg       0.34      0.32      0.31     25413\n",
            "weighted avg       0.65      0.70      0.67     25413\n",
            "\n",
            "None\n"
          ],
          "name": "stdout"
        }
      ]
    },
    {
      "cell_type": "code",
      "metadata": {
        "id": "8OV6YIC0YetJ",
        "colab_type": "code",
        "colab": {
          "base_uri": "https://localhost:8080/",
          "height": 33
        },
        "outputId": "8fbe9e3b-cf44-4784-8504-f328af0a723d"
      },
      "source": [
        "print(\" Accuracy is: \",accuracy_score(real_stances['Stance'],w2v_lstm_50['Stance']))"
      ],
      "execution_count": 61,
      "outputs": [
        {
          "output_type": "stream",
          "text": [
            " Accuracy is:  0.7033408098217447\n"
          ],
          "name": "stdout"
        }
      ]
    },
    {
      "cell_type": "markdown",
      "metadata": {
        "id": "qbQVR6ZE7GjD",
        "colab_type": "text"
      },
      "source": [
        "## W2V Bi-LSTM 50"
      ]
    },
    {
      "cell_type": "code",
      "metadata": {
        "id": "KkHBwvJ27HAO",
        "colab_type": "code",
        "colab": {
          "base_uri": "https://localhost:8080/",
          "height": 233
        },
        "outputId": "60522c81-577f-4f83-f4bf-a901530f86d3"
      },
      "source": [
        "report_score(real_stances['Stance'],w2v_bi_lstm_50['Stance'])"
      ],
      "execution_count": 62,
      "outputs": [
        {
          "output_type": "stream",
          "text": [
            "-------------------------------------------------------------\n",
            "|           |   agree   | disagree  |  discuss  | unrelated |\n",
            "-------------------------------------------------------------\n",
            "|   agree   |    10     |    430    |    343    |   1120    |\n",
            "-------------------------------------------------------------\n",
            "| disagree  |     9     |    112    |    101    |    475    |\n",
            "-------------------------------------------------------------\n",
            "|  discuss  |    18     |    602    |   1552    |   2292    |\n",
            "-------------------------------------------------------------\n",
            "| unrelated |    39     |   1152    |   1453    |   15705   |\n",
            "-------------------------------------------------------------\n",
            "Score: 5976.0 out of 11651.25\t(51.29063405214033%)\n"
          ],
          "name": "stdout"
        },
        {
          "output_type": "execute_result",
          "data": {
            "text/plain": [
              "51.29063405214033"
            ]
          },
          "metadata": {
            "tags": []
          },
          "execution_count": 62
        }
      ]
    },
    {
      "cell_type": "code",
      "metadata": {
        "id": "dUDzf29m7HJ9",
        "colab_type": "code",
        "colab": {
          "base_uri": "https://localhost:8080/",
          "height": 116
        },
        "outputId": "6f77882e-1111-42ad-fbc9-66a5c89bba08"
      },
      "source": [
        "print(calculate_f1_scores(real_stances['Stance'],w2v_bi_lstm_50['Stance']))"
      ],
      "execution_count": 63,
      "outputs": [
        {
          "output_type": "stream",
          "text": [
            "F1 macro: 32.627% \n",
            "F1 agree: 1.011% \n",
            "F1 disagree: 7.484% \n",
            "F1 discuss: 39.227% \n",
            "F1 unrelated: 82.786% \n",
            "\n"
          ],
          "name": "stdout"
        }
      ]
    },
    {
      "cell_type": "code",
      "metadata": {
        "id": "DF0p8x_M7HXI",
        "colab_type": "code",
        "colab": {
          "base_uri": "https://localhost:8080/",
          "height": 216
        },
        "outputId": "02e2006a-53d9-4060-b5ef-ea4a7d969713"
      },
      "source": [
        "print(class_repo(real_stances['Stance'],w2v_bi_lstm_50['Stance']))"
      ],
      "execution_count": 64,
      "outputs": [
        {
          "output_type": "stream",
          "text": [
            "Test report               precision    recall  f1-score   support\n",
            "\n",
            "       agree       0.13      0.01      0.01      1903\n",
            "    disagree       0.05      0.16      0.07       697\n",
            "     discuss       0.45      0.35      0.39      4464\n",
            "   unrelated       0.80      0.86      0.83     18349\n",
            "\n",
            "    accuracy                           0.68     25413\n",
            "   macro avg       0.36      0.34      0.33     25413\n",
            "weighted avg       0.67      0.68      0.67     25413\n",
            "\n",
            "None\n"
          ],
          "name": "stdout"
        }
      ]
    },
    {
      "cell_type": "code",
      "metadata": {
        "id": "A_jo1b_VYiT5",
        "colab_type": "code",
        "colab": {
          "base_uri": "https://localhost:8080/",
          "height": 33
        },
        "outputId": "f519585c-2afd-4ebc-a773-9f944e225e0e"
      },
      "source": [
        "print(\" Accuracy is: \",accuracy_score(real_stances['Stance'],w2v_bi_lstm_50['Stance']))"
      ],
      "execution_count": 65,
      "outputs": [
        {
          "output_type": "stream",
          "text": [
            " Accuracy is:  0.6838625900129854\n"
          ],
          "name": "stdout"
        }
      ]
    },
    {
      "cell_type": "markdown",
      "metadata": {
        "id": "U4tl-nG4yVEJ",
        "colab_type": "text"
      },
      "source": [
        "## Gradient Boosting"
      ]
    },
    {
      "cell_type": "code",
      "metadata": {
        "id": "rrosTQZnyVj6",
        "colab_type": "code",
        "colab": {
          "base_uri": "https://localhost:8080/",
          "height": 233
        },
        "outputId": "c0ff5889-15b8-417a-8e44-1eacd696d822"
      },
      "source": [
        "report_score(real_stances['Stance'],gradient_boosting['Stance'])"
      ],
      "execution_count": 66,
      "outputs": [
        {
          "output_type": "stream",
          "text": [
            "-------------------------------------------------------------\n",
            "|           |   agree   | disagree  |  discuss  | unrelated |\n",
            "-------------------------------------------------------------\n",
            "|   agree   |    163    |     1     |   1542    |    197    |\n",
            "-------------------------------------------------------------\n",
            "| disagree  |    43     |     1     |    478    |    175    |\n",
            "-------------------------------------------------------------\n",
            "|  discuss  |    173    |     4     |   3830    |    457    |\n",
            "-------------------------------------------------------------\n",
            "| unrelated |     8     |     1     |    306    |   18034   |\n",
            "-------------------------------------------------------------\n",
            "Score: 9062.75 out of 11651.25\t(77.7834996245038%)\n"
          ],
          "name": "stdout"
        },
        {
          "output_type": "execute_result",
          "data": {
            "text/plain": [
              "77.7834996245038"
            ]
          },
          "metadata": {
            "tags": []
          },
          "execution_count": 66
        }
      ]
    },
    {
      "cell_type": "code",
      "metadata": {
        "id": "dJqs99mgz94j",
        "colab_type": "code",
        "colab": {
          "base_uri": "https://localhost:8080/",
          "height": 116
        },
        "outputId": "9c178888-d4d9-4bce-aba2-f098c5125249"
      },
      "source": [
        "print(calculate_f1_scores(real_stances['Stance'],gradient_boosting['Stance']))"
      ],
      "execution_count": 67,
      "outputs": [
        {
          "output_type": "stream",
          "text": [
            "F1 macro: 45.893% \n",
            "F1 agree: 14.236% \n",
            "F1 disagree: 0.284% \n",
            "F1 discuss: 72.128% \n",
            "F1 unrelated: 96.926% \n",
            "\n"
          ],
          "name": "stdout"
        }
      ]
    },
    {
      "cell_type": "code",
      "metadata": {
        "id": "QmEDtUT3z98d",
        "colab_type": "code",
        "colab": {
          "base_uri": "https://localhost:8080/",
          "height": 216
        },
        "outputId": "31f20503-b9c4-473c-ae60-51c99eb005c8"
      },
      "source": [
        "print(class_repo(real_stances['Stance'],gradient_boosting['Stance']))"
      ],
      "execution_count": 68,
      "outputs": [
        {
          "output_type": "stream",
          "text": [
            "Test report               precision    recall  f1-score   support\n",
            "\n",
            "       agree       0.42      0.09      0.14      1903\n",
            "    disagree       0.14      0.00      0.00       697\n",
            "     discuss       0.62      0.86      0.72      4464\n",
            "   unrelated       0.96      0.98      0.97     18349\n",
            "\n",
            "    accuracy                           0.87     25413\n",
            "   macro avg       0.54      0.48      0.46     25413\n",
            "weighted avg       0.84      0.87      0.84     25413\n",
            "\n",
            "None\n"
          ],
          "name": "stdout"
        }
      ]
    },
    {
      "cell_type": "code",
      "metadata": {
        "id": "q54okKXDYnEf",
        "colab_type": "code",
        "colab": {
          "base_uri": "https://localhost:8080/",
          "height": 33
        },
        "outputId": "812f0ccf-60c1-470d-94d9-8620978f3128"
      },
      "source": [
        "print(\" Accuracy is: \",accuracy_score(real_stances['Stance'],gradient_boosting['Stance']))"
      ],
      "execution_count": 69,
      "outputs": [
        {
          "output_type": "stream",
          "text": [
            " Accuracy is:  0.8668004564592925\n"
          ],
          "name": "stdout"
        }
      ]
    },
    {
      "cell_type": "markdown",
      "metadata": {
        "id": "o-xDoYXR0WR5",
        "colab_type": "text"
      },
      "source": [
        "## Random Forest"
      ]
    },
    {
      "cell_type": "code",
      "metadata": {
        "id": "tauif9mfz92Y",
        "colab_type": "code",
        "colab": {
          "base_uri": "https://localhost:8080/",
          "height": 233
        },
        "outputId": "5448f51b-5b1a-4e40-ba78-5155ba8d1392"
      },
      "source": [
        "report_score(real_stances['Stance'],random_forest['Stance'])"
      ],
      "execution_count": 70,
      "outputs": [
        {
          "output_type": "stream",
          "text": [
            "-------------------------------------------------------------\n",
            "|           |   agree   | disagree  |  discuss  | unrelated |\n",
            "-------------------------------------------------------------\n",
            "|   agree   |    96     |     0     |   1599    |    208    |\n",
            "-------------------------------------------------------------\n",
            "| disagree  |    19     |     0     |    490    |    188    |\n",
            "-------------------------------------------------------------\n",
            "|  discuss  |    104    |     0     |   3868    |    492    |\n",
            "-------------------------------------------------------------\n",
            "| unrelated |     2     |     0     |    273    |   18074   |\n",
            "-------------------------------------------------------------\n",
            "Score: 9035.5 out of 11651.25\t(77.5496191395773%)\n"
          ],
          "name": "stdout"
        },
        {
          "output_type": "execute_result",
          "data": {
            "text/plain": [
              "77.5496191395773"
            ]
          },
          "metadata": {
            "tags": []
          },
          "execution_count": 70
        }
      ]
    },
    {
      "cell_type": "code",
      "metadata": {
        "id": "aBHsUPwd0ZNT",
        "colab_type": "code",
        "colab": {
          "base_uri": "https://localhost:8080/",
          "height": 116
        },
        "outputId": "1844309b-92e6-417f-b20f-4650c00dc755"
      },
      "source": [
        "print(calculate_f1_scores(real_stances['Stance'],random_forest['Stance']))"
      ],
      "execution_count": 71,
      "outputs": [
        {
          "output_type": "stream",
          "text": [
            "F1 macro: 44.566% \n",
            "F1 agree: 9.040% \n",
            "F1 disagree: 0.000% \n",
            "F1 discuss: 72.340% \n",
            "F1 unrelated: 96.883% \n",
            "\n"
          ],
          "name": "stdout"
        }
      ]
    },
    {
      "cell_type": "code",
      "metadata": {
        "id": "q7yPoXtN0rBT",
        "colab_type": "code",
        "colab": {
          "base_uri": "https://localhost:8080/",
          "height": 270
        },
        "outputId": "c61adb71-c63b-4385-839e-19a4512ef782"
      },
      "source": [
        "print(class_repo(real_stances['Stance'],random_forest['Stance']))"
      ],
      "execution_count": 72,
      "outputs": [
        {
          "output_type": "stream",
          "text": [
            "/usr/local/lib/python3.6/dist-packages/sklearn/metrics/_classification.py:1272: UndefinedMetricWarning: Precision and F-score are ill-defined and being set to 0.0 in labels with no predicted samples. Use `zero_division` parameter to control this behavior.\n",
            "  _warn_prf(average, modifier, msg_start, len(result))\n"
          ],
          "name": "stderr"
        },
        {
          "output_type": "stream",
          "text": [
            "Test report               precision    recall  f1-score   support\n",
            "\n",
            "       agree       0.43      0.05      0.09      1903\n",
            "    disagree       0.00      0.00      0.00       697\n",
            "     discuss       0.62      0.87      0.72      4464\n",
            "   unrelated       0.95      0.99      0.97     18349\n",
            "\n",
            "    accuracy                           0.87     25413\n",
            "   macro avg       0.50      0.48      0.45     25413\n",
            "weighted avg       0.83      0.87      0.83     25413\n",
            "\n",
            "None\n"
          ],
          "name": "stdout"
        }
      ]
    },
    {
      "cell_type": "code",
      "metadata": {
        "id": "nht3r4mHYrPw",
        "colab_type": "code",
        "colab": {
          "base_uri": "https://localhost:8080/",
          "height": 33
        },
        "outputId": "c30d0e40-6a28-4adb-dff6-e6d2cdcbded2"
      },
      "source": [
        "print(\" Accuracy is: \",accuracy_score(real_stances['Stance'],random_forest['Stance']))"
      ],
      "execution_count": 73,
      "outputs": [
        {
          "output_type": "stream",
          "text": [
            " Accuracy is:  0.8671939558493684\n"
          ],
          "name": "stdout"
        }
      ]
    },
    {
      "cell_type": "markdown",
      "metadata": {
        "id": "T8dJsexJ07fq",
        "colab_type": "text"
      },
      "source": [
        "## Logistic Regression"
      ]
    },
    {
      "cell_type": "code",
      "metadata": {
        "id": "UgfEKRLm02AL",
        "colab_type": "code",
        "colab": {
          "base_uri": "https://localhost:8080/",
          "height": 233
        },
        "outputId": "68f64bf2-0f78-457c-8857-d58605ab2552"
      },
      "source": [
        "report_score(real_stances['Stance'],logistic_regression['Stance'])"
      ],
      "execution_count": 74,
      "outputs": [
        {
          "output_type": "stream",
          "text": [
            "-------------------------------------------------------------\n",
            "|           |   agree   | disagree  |  discuss  | unrelated |\n",
            "-------------------------------------------------------------\n",
            "|   agree   |    111    |     0     |   1579    |    213    |\n",
            "-------------------------------------------------------------\n",
            "| disagree  |    17     |     0     |    485    |    195    |\n",
            "-------------------------------------------------------------\n",
            "|  discuss  |    129    |     0     |   3820    |    515    |\n",
            "-------------------------------------------------------------\n",
            "| unrelated |     3     |     0     |    254    |   18092   |\n",
            "-------------------------------------------------------------\n",
            "Score: 9006.5 out of 11651.25\t(77.30071880699495%)\n"
          ],
          "name": "stdout"
        },
        {
          "output_type": "execute_result",
          "data": {
            "text/plain": [
              "77.30071880699495"
            ]
          },
          "metadata": {
            "tags": []
          },
          "execution_count": 74
        }
      ]
    },
    {
      "cell_type": "code",
      "metadata": {
        "id": "7H6lkVpk1MFj",
        "colab_type": "code",
        "colab": {
          "base_uri": "https://localhost:8080/",
          "height": 116
        },
        "outputId": "ee53fd46-9f66-4469-d138-1cf14ef1cf04"
      },
      "source": [
        "print(calculate_f1_scores(real_stances['Stance'],logistic_regression['Stance']))"
      ],
      "execution_count": 75,
      "outputs": [
        {
          "output_type": "stream",
          "text": [
            "F1 macro: 44.792% \n",
            "F1 agree: 10.264% \n",
            "F1 disagree: 0.000% \n",
            "F1 discuss: 72.062% \n",
            "F1 unrelated: 96.842% \n",
            "\n"
          ],
          "name": "stdout"
        }
      ]
    },
    {
      "cell_type": "code",
      "metadata": {
        "id": "6vzotgbs1P6F",
        "colab_type": "code",
        "colab": {
          "base_uri": "https://localhost:8080/",
          "height": 270
        },
        "outputId": "4383865c-cc80-4524-910f-3faf59033bcb"
      },
      "source": [
        "print(class_repo(real_stances['Stance'],logistic_regression['Stance']))"
      ],
      "execution_count": 76,
      "outputs": [
        {
          "output_type": "stream",
          "text": [
            "/usr/local/lib/python3.6/dist-packages/sklearn/metrics/_classification.py:1272: UndefinedMetricWarning: Precision and F-score are ill-defined and being set to 0.0 in labels with no predicted samples. Use `zero_division` parameter to control this behavior.\n",
            "  _warn_prf(average, modifier, msg_start, len(result))\n"
          ],
          "name": "stderr"
        },
        {
          "output_type": "stream",
          "text": [
            "Test report               precision    recall  f1-score   support\n",
            "\n",
            "       agree       0.43      0.06      0.10      1903\n",
            "    disagree       0.00      0.00      0.00       697\n",
            "     discuss       0.62      0.86      0.72      4464\n",
            "   unrelated       0.95      0.99      0.97     18349\n",
            "\n",
            "    accuracy                           0.87     25413\n",
            "   macro avg       0.50      0.48      0.45     25413\n",
            "weighted avg       0.83      0.87      0.83     25413\n",
            "\n",
            "None\n"
          ],
          "name": "stdout"
        }
      ]
    },
    {
      "cell_type": "code",
      "metadata": {
        "id": "klFu7-5sYuvT",
        "colab_type": "code",
        "colab": {
          "base_uri": "https://localhost:8080/",
          "height": 33
        },
        "outputId": "6d3836c0-425f-4d27-8eb7-180fa62554c7"
      },
      "source": [
        "print(\" Accuracy is: \",accuracy_score(real_stances['Stance'],logistic_regression['Stance']))"
      ],
      "execution_count": 77,
      "outputs": [
        {
          "output_type": "stream",
          "text": [
            " Accuracy is:  0.8666037067642545\n"
          ],
          "name": "stdout"
        }
      ]
    },
    {
      "cell_type": "markdown",
      "metadata": {
        "id": "rPJNP7pp1fCG",
        "colab_type": "text"
      },
      "source": [
        "## XGBOOST"
      ]
    },
    {
      "cell_type": "code",
      "metadata": {
        "id": "ewgBjciD1RUv",
        "colab_type": "code",
        "colab": {
          "base_uri": "https://localhost:8080/",
          "height": 233
        },
        "outputId": "5b2f642e-4e9d-4bf9-8221-c3cef0c64f51"
      },
      "source": [
        "report_score(real_stances['Stance'],xgboost['Stance'])"
      ],
      "execution_count": 78,
      "outputs": [
        {
          "output_type": "stream",
          "text": [
            "-------------------------------------------------------------\n",
            "|           |   agree   | disagree  |  discuss  | unrelated |\n",
            "-------------------------------------------------------------\n",
            "|   agree   |    111    |     1     |   1597    |    194    |\n",
            "-------------------------------------------------------------\n",
            "| disagree  |    38     |     0     |    478    |    181    |\n",
            "-------------------------------------------------------------\n",
            "|  discuss  |    129    |     0     |   3880    |    455    |\n",
            "-------------------------------------------------------------\n",
            "| unrelated |     3     |     0     |    299    |   18047   |\n",
            "-------------------------------------------------------------\n",
            "Score: 9063.5 out of 11651.25\t(77.78993670207059%)\n"
          ],
          "name": "stdout"
        },
        {
          "output_type": "execute_result",
          "data": {
            "text/plain": [
              "77.78993670207059"
            ]
          },
          "metadata": {
            "tags": []
          },
          "execution_count": 78
        }
      ]
    },
    {
      "cell_type": "code",
      "metadata": {
        "id": "Gl5MA65z1jmg",
        "colab_type": "code",
        "colab": {
          "base_uri": "https://localhost:8080/",
          "height": 116
        },
        "outputId": "1aaa608b-2008-42dd-be11-4f9e6b84f513"
      },
      "source": [
        "print(calculate_f1_scores(real_stances['Stance'],xgboost['Stance']))"
      ],
      "execution_count": 79,
      "outputs": [
        {
          "output_type": "stream",
          "text": [
            "F1 macro: 44.881% \n",
            "F1 agree: 10.165% \n",
            "F1 disagree: 0.000% \n",
            "F1 discuss: 72.402% \n",
            "F1 unrelated: 96.959% \n",
            "\n"
          ],
          "name": "stdout"
        }
      ]
    },
    {
      "cell_type": "code",
      "metadata": {
        "id": "bQ9QAiJH1qG8",
        "colab_type": "code",
        "colab": {
          "base_uri": "https://localhost:8080/",
          "height": 216
        },
        "outputId": "1c61c17c-ef4c-41e6-f8e8-ff46ce064feb"
      },
      "source": [
        "print(class_repo(real_stances['Stance'],xgboost['Stance']))"
      ],
      "execution_count": 80,
      "outputs": [
        {
          "output_type": "stream",
          "text": [
            "Test report               precision    recall  f1-score   support\n",
            "\n",
            "       agree       0.40      0.06      0.10      1903\n",
            "    disagree       0.00      0.00      0.00       697\n",
            "     discuss       0.62      0.87      0.72      4464\n",
            "   unrelated       0.96      0.98      0.97     18349\n",
            "\n",
            "    accuracy                           0.87     25413\n",
            "   macro avg       0.49      0.48      0.45     25413\n",
            "weighted avg       0.83      0.87      0.83     25413\n",
            "\n",
            "None\n"
          ],
          "name": "stdout"
        }
      ]
    },
    {
      "cell_type": "code",
      "metadata": {
        "id": "jHgCmaHYYx5a",
        "colab_type": "code",
        "colab": {
          "base_uri": "https://localhost:8080/",
          "height": 33
        },
        "outputId": "37fe5028-86d5-49d8-bdf6-a4e8b915eb72"
      },
      "source": [
        "print(\" Accuracy is: \",accuracy_score(real_stances['Stance'],xgboost['Stance']))"
      ],
      "execution_count": 81,
      "outputs": [
        {
          "output_type": "stream",
          "text": [
            " Accuracy is:  0.8671939558493684\n"
          ],
          "name": "stdout"
        }
      ]
    },
    {
      "cell_type": "markdown",
      "metadata": {
        "id": "UbigWieRwul2",
        "colab_type": "text"
      },
      "source": [
        "## Bert classifier "
      ]
    },
    {
      "cell_type": "code",
      "metadata": {
        "id": "wT-OZ69cwxPP",
        "colab_type": "code",
        "colab": {
          "base_uri": "https://localhost:8080/",
          "height": 233
        },
        "outputId": "89a8e1e4-7c82-44ea-f22f-9ddc6b446d1d"
      },
      "source": [
        "report_score(real_stances['Stance'],bert_base['Stance'])"
      ],
      "execution_count": 82,
      "outputs": [
        {
          "output_type": "stream",
          "text": [
            "-------------------------------------------------------------\n",
            "|           |   agree   | disagree  |  discuss  | unrelated |\n",
            "-------------------------------------------------------------\n",
            "|   agree   |    750    |    24     |    400    |    729    |\n",
            "-------------------------------------------------------------\n",
            "| disagree  |    202    |    42     |    113    |    340    |\n",
            "-------------------------------------------------------------\n",
            "|  discuss  |    351    |    39     |   2509    |   1565    |\n",
            "-------------------------------------------------------------\n",
            "| unrelated |    343    |    14     |    921    |   17071   |\n",
            "-------------------------------------------------------------\n",
            "Score: 7851.0 out of 11651.25\t(67.38332796910203%)\n"
          ],
          "name": "stdout"
        },
        {
          "output_type": "execute_result",
          "data": {
            "text/plain": [
              "67.38332796910203"
            ]
          },
          "metadata": {
            "tags": []
          },
          "execution_count": 82
        }
      ]
    },
    {
      "cell_type": "code",
      "metadata": {
        "id": "ygMCxRC4w84d",
        "colab_type": "code",
        "colab": {
          "base_uri": "https://localhost:8080/",
          "height": 116
        },
        "outputId": "3edecd5b-d0f6-4636-fa33-2260985184f5"
      },
      "source": [
        "print(calculate_f1_scores(real_stances['Stance'],bert_base['Stance']))"
      ],
      "execution_count": 83,
      "outputs": [
        {
          "output_type": "stream",
          "text": [
            "F1 macro: 50.492% \n",
            "F1 agree: 42.265% \n",
            "F1 disagree: 10.294% \n",
            "F1 discuss: 59.688% \n",
            "F1 unrelated: 89.720% \n",
            "\n"
          ],
          "name": "stdout"
        }
      ]
    },
    {
      "cell_type": "code",
      "metadata": {
        "id": "0_N9iV_Mw88l",
        "colab_type": "code",
        "colab": {
          "base_uri": "https://localhost:8080/",
          "height": 216
        },
        "outputId": "91961223-c541-45c9-9cd4-5ed4772a6fc0"
      },
      "source": [
        "print(class_repo(real_stances['Stance'],bert_base['Stance']))"
      ],
      "execution_count": 84,
      "outputs": [
        {
          "output_type": "stream",
          "text": [
            "Test report               precision    recall  f1-score   support\n",
            "\n",
            "       agree       0.46      0.39      0.42      1903\n",
            "    disagree       0.35      0.06      0.10       697\n",
            "     discuss       0.64      0.56      0.60      4464\n",
            "   unrelated       0.87      0.93      0.90     18349\n",
            "\n",
            "    accuracy                           0.80     25413\n",
            "   macro avg       0.58      0.49      0.50     25413\n",
            "weighted avg       0.78      0.80      0.79     25413\n",
            "\n",
            "None\n"
          ],
          "name": "stdout"
        }
      ]
    },
    {
      "cell_type": "code",
      "metadata": {
        "id": "QltCU1T0w9cy",
        "colab_type": "code",
        "colab": {
          "base_uri": "https://localhost:8080/",
          "height": 33
        },
        "outputId": "6cbb8c69-15d4-4dea-9a32-405cebf3cdec"
      },
      "source": [
        "print(\" Accuracy is: \",accuracy_score(real_stances['Stance'],bert_base['Stance']))"
      ],
      "execution_count": 85,
      "outputs": [
        {
          "output_type": "stream",
          "text": [
            " Accuracy is:  0.8016369574627159\n"
          ],
          "name": "stdout"
        }
      ]
    },
    {
      "cell_type": "markdown",
      "metadata": {
        "id": "NeSkgRTPxKdt",
        "colab_type": "text"
      },
      "source": [
        "## Resampled Data for training Gradient Boosting | 50% unrelated taken. Undersampling"
      ]
    },
    {
      "cell_type": "code",
      "metadata": {
        "id": "8kMg1oyBxSWA",
        "colab_type": "code",
        "colab": {
          "base_uri": "https://localhost:8080/",
          "height": 233
        },
        "outputId": "ad71992c-189e-4b3d-9b30-823177b4caac"
      },
      "source": [
        "report_score(real_stances['Stance'],gb_undersample['Stance'])"
      ],
      "execution_count": 86,
      "outputs": [
        {
          "output_type": "stream",
          "text": [
            "-------------------------------------------------------------\n",
            "|           |   agree   | disagree  |  discuss  | unrelated |\n",
            "-------------------------------------------------------------\n",
            "|   agree   |    269    |     9     |   1533    |    92     |\n",
            "-------------------------------------------------------------\n",
            "| disagree  |    93     |     6     |    521    |    77     |\n",
            "-------------------------------------------------------------\n",
            "|  discuss  |    328    |    11     |   3952    |    173    |\n",
            "-------------------------------------------------------------\n",
            "| unrelated |    68     |     8     |    948    |   17325   |\n",
            "-------------------------------------------------------------\n",
            "Score: 9182.0 out of 11651.25\t(78.80699495762258%)\n"
          ],
          "name": "stdout"
        },
        {
          "output_type": "execute_result",
          "data": {
            "text/plain": [
              "78.80699495762258"
            ]
          },
          "metadata": {
            "tags": []
          },
          "execution_count": 86
        }
      ]
    },
    {
      "cell_type": "code",
      "metadata": {
        "id": "ausFomFNxSei",
        "colab_type": "code",
        "colab": {
          "base_uri": "https://localhost:8080/",
          "height": 116
        },
        "outputId": "e0301464-4b51-428a-9798-943dcc8cd1db"
      },
      "source": [
        "print(calculate_f1_scores(real_stances['Stance'],gb_undersample['Stance']))"
      ],
      "execution_count": 87,
      "outputs": [
        {
          "output_type": "stream",
          "text": [
            "F1 macro: 46.823% \n",
            "F1 agree: 20.218% \n",
            "F1 disagree: 1.642% \n",
            "F1 discuss: 69.224% \n",
            "F1 unrelated: 96.207% \n",
            "\n"
          ],
          "name": "stdout"
        }
      ]
    },
    {
      "cell_type": "code",
      "metadata": {
        "id": "YOZeC1dexSlk",
        "colab_type": "code",
        "colab": {
          "base_uri": "https://localhost:8080/",
          "height": 216
        },
        "outputId": "7eee1e90-b417-4e87-edb7-4068a436be49"
      },
      "source": [
        "print(class_repo(real_stances['Stance'],gb_undersample['Stance']))"
      ],
      "execution_count": 88,
      "outputs": [
        {
          "output_type": "stream",
          "text": [
            "Test report               precision    recall  f1-score   support\n",
            "\n",
            "       agree       0.35      0.14      0.20      1903\n",
            "    disagree       0.18      0.01      0.02       697\n",
            "     discuss       0.57      0.89      0.69      4464\n",
            "   unrelated       0.98      0.94      0.96     18349\n",
            "\n",
            "    accuracy                           0.85     25413\n",
            "   macro avg       0.52      0.49      0.47     25413\n",
            "weighted avg       0.84      0.85      0.83     25413\n",
            "\n",
            "None\n"
          ],
          "name": "stdout"
        }
      ]
    },
    {
      "cell_type": "code",
      "metadata": {
        "id": "9iZTmddyxSuM",
        "colab_type": "code",
        "colab": {
          "base_uri": "https://localhost:8080/",
          "height": 33
        },
        "outputId": "f4bf30df-b8d7-47c8-8831-1e79109ace88"
      },
      "source": [
        "print(\" Accuracy is: \",accuracy_score(real_stances['Stance'],gb_undersample['Stance']))"
      ],
      "execution_count": 89,
      "outputs": [
        {
          "output_type": "stream",
          "text": [
            " Accuracy is:  0.8480698854916775\n"
          ],
          "name": "stdout"
        }
      ]
    },
    {
      "cell_type": "markdown",
      "metadata": {
        "id": "9G7n5BJKcASC",
        "colab_type": "text"
      },
      "source": [
        "## Bidirectional 2 Nets"
      ]
    },
    {
      "cell_type": "code",
      "metadata": {
        "id": "woeHGGykcDUW",
        "colab_type": "code",
        "colab": {
          "base_uri": "https://localhost:8080/",
          "height": 233
        },
        "outputId": "acc3e3c5-f8b9-45c6-c55e-519b10743854"
      },
      "source": [
        "report_score(real_stances['Stance'],bi_lstm_2_nets['Stance'])"
      ],
      "execution_count": 90,
      "outputs": [
        {
          "output_type": "stream",
          "text": [
            "-------------------------------------------------------------\n",
            "|           |   agree   | disagree  |  discuss  | unrelated |\n",
            "-------------------------------------------------------------\n",
            "|   agree   |    883    |    43     |    828    |    149    |\n",
            "-------------------------------------------------------------\n",
            "| disagree  |    183    |    78     |    291    |    145    |\n",
            "-------------------------------------------------------------\n",
            "|  discuss  |    512    |    62     |   3543    |    347    |\n",
            "-------------------------------------------------------------\n",
            "| unrelated |    84     |    47     |    314    |   17904   |\n",
            "-------------------------------------------------------------\n",
            "Score: 9459.75 out of 11651.25\t(81.19085934985516%)\n"
          ],
          "name": "stdout"
        },
        {
          "output_type": "execute_result",
          "data": {
            "text/plain": [
              "81.19085934985516"
            ]
          },
          "metadata": {
            "tags": []
          },
          "execution_count": 90
        }
      ]
    },
    {
      "cell_type": "code",
      "metadata": {
        "id": "I0gv7oB3cDZE",
        "colab_type": "code",
        "colab": {
          "base_uri": "https://localhost:8080/",
          "height": 116
        },
        "outputId": "d61e2ccc-ed98-4e0b-eb76-5d82b59d8338"
      },
      "source": [
        "print(calculate_f1_scores(real_stances['Stance'],bi_lstm_2_nets['Stance']))"
      ],
      "execution_count": 91,
      "outputs": [
        {
          "output_type": "stream",
          "text": [
            "F1 macro: 59.621% \n",
            "F1 agree: 49.537% \n",
            "F1 disagree: 16.828% \n",
            "F1 discuss: 75.064% \n",
            "F1 unrelated: 97.056% \n",
            "\n"
          ],
          "name": "stdout"
        }
      ]
    },
    {
      "cell_type": "code",
      "metadata": {
        "id": "Nu4kjaG8cDSC",
        "colab_type": "code",
        "colab": {
          "base_uri": "https://localhost:8080/",
          "height": 216
        },
        "outputId": "578560f3-2a25-443a-e568-cd96a30c8f7b"
      },
      "source": [
        "print(class_repo(real_stances['Stance'],bi_lstm_2_nets['Stance']))"
      ],
      "execution_count": 92,
      "outputs": [
        {
          "output_type": "stream",
          "text": [
            "Test report               precision    recall  f1-score   support\n",
            "\n",
            "       agree       0.53      0.46      0.50      1903\n",
            "    disagree       0.34      0.11      0.17       697\n",
            "     discuss       0.71      0.79      0.75      4464\n",
            "   unrelated       0.97      0.98      0.97     18349\n",
            "\n",
            "    accuracy                           0.88     25413\n",
            "   macro avg       0.64      0.59      0.60     25413\n",
            "weighted avg       0.87      0.88      0.87     25413\n",
            "\n",
            "None\n"
          ],
          "name": "stdout"
        }
      ]
    },
    {
      "cell_type": "code",
      "metadata": {
        "id": "Mz2z0zdXcJXS",
        "colab_type": "code",
        "colab": {
          "base_uri": "https://localhost:8080/",
          "height": 33
        },
        "outputId": "8985d0c5-8cfd-4e9c-ca62-b88f05e8af16"
      },
      "source": [
        "print(\" Accuracy is: \",accuracy_score(real_stances['Stance'],bi_lstm_2_nets['Stance']))"
      ],
      "execution_count": 93,
      "outputs": [
        {
          "output_type": "stream",
          "text": [
            " Accuracy is:  0.8817534332821784\n"
          ],
          "name": "stdout"
        }
      ]
    },
    {
      "cell_type": "markdown",
      "metadata": {
        "id": "-sSPwg3lL7Gw",
        "colab_type": "text"
      },
      "source": [
        "## Bidirectional LSTM with resampled dataset"
      ]
    },
    {
      "cell_type": "code",
      "metadata": {
        "id": "6XEiqwmwMO4r",
        "colab_type": "code",
        "colab": {
          "base_uri": "https://localhost:8080/",
          "height": 233
        },
        "outputId": "8c774555-657d-4981-9a0a-49b311cc8a1b"
      },
      "source": [
        "report_score(real_stances['Stance'],bi_lstm_2_undersampled['Stance'])"
      ],
      "execution_count": 94,
      "outputs": [
        {
          "output_type": "stream",
          "text": [
            "-------------------------------------------------------------\n",
            "|           |   agree   | disagree  |  discuss  | unrelated |\n",
            "-------------------------------------------------------------\n",
            "|   agree   |    762    |    48     |    958    |    135    |\n",
            "-------------------------------------------------------------\n",
            "| disagree  |    143    |    72     |    356    |    126    |\n",
            "-------------------------------------------------------------\n",
            "|  discuss  |    334    |    72     |   3797    |    261    |\n",
            "-------------------------------------------------------------\n",
            "| unrelated |    70     |    31     |    598    |   17650   |\n",
            "-------------------------------------------------------------\n",
            "Score: 9521.25 out of 11651.25\t(81.7186997103315%)\n"
          ],
          "name": "stdout"
        },
        {
          "output_type": "execute_result",
          "data": {
            "text/plain": [
              "81.7186997103315"
            ]
          },
          "metadata": {
            "tags": []
          },
          "execution_count": 94
        }
      ]
    },
    {
      "cell_type": "code",
      "metadata": {
        "id": "AftnB-_KMPHx",
        "colab_type": "code",
        "colab": {
          "base_uri": "https://localhost:8080/",
          "height": 116
        },
        "outputId": "064cbfb0-9f70-4d67-86a0-6e1e0e5bf105"
      },
      "source": [
        "print(calculate_f1_scores(real_stances['Stance'],bi_lstm_2_undersampled['Stance']))"
      ],
      "execution_count": 95,
      "outputs": [
        {
          "output_type": "stream",
          "text": [
            "F1 macro: 58.601% \n",
            "F1 agree: 47.447% \n",
            "F1 disagree: 15.652% \n",
            "F1 discuss: 74.649% \n",
            "F1 unrelated: 96.657% \n",
            "\n"
          ],
          "name": "stdout"
        }
      ]
    },
    {
      "cell_type": "code",
      "metadata": {
        "id": "GiHXpnbLMO1q",
        "colab_type": "code",
        "colab": {
          "base_uri": "https://localhost:8080/",
          "height": 216
        },
        "outputId": "273288b4-d5aa-4806-df8c-480e5cfb48ec"
      },
      "source": [
        "print(class_repo(real_stances['Stance'],bi_lstm_2_undersampled['Stance']))"
      ],
      "execution_count": 96,
      "outputs": [
        {
          "output_type": "stream",
          "text": [
            "Test report               precision    recall  f1-score   support\n",
            "\n",
            "       agree       0.58      0.40      0.47      1903\n",
            "    disagree       0.32      0.10      0.16       697\n",
            "     discuss       0.67      0.85      0.75      4464\n",
            "   unrelated       0.97      0.96      0.97     18349\n",
            "\n",
            "    accuracy                           0.88     25413\n",
            "   macro avg       0.64      0.58      0.59     25413\n",
            "weighted avg       0.87      0.88      0.87     25413\n",
            "\n",
            "None\n"
          ],
          "name": "stdout"
        }
      ]
    },
    {
      "cell_type": "code",
      "metadata": {
        "id": "p-XHPy3vMWxe",
        "colab_type": "code",
        "colab": {
          "base_uri": "https://localhost:8080/",
          "height": 33
        },
        "outputId": "5264163e-f41c-4161-eb19-293712693938"
      },
      "source": [
        "print(\" Accuracy is: \",accuracy_score(real_stances['Stance'],bi_lstm_2_undersampled['Stance']))"
      ],
      "execution_count": 97,
      "outputs": [
        {
          "output_type": "stream",
          "text": [
            " Accuracy is:  0.8767559910282139\n"
          ],
          "name": "stdout"
        }
      ]
    },
    {
      "cell_type": "code",
      "metadata": {
        "id": "kFIut_mT1wVg",
        "colab_type": "code",
        "colab": {
          "base_uri": "https://localhost:8080/",
          "height": 404
        },
        "outputId": "47aa48b0-bd90-449b-9d49-2922249d6c3c"
      },
      "source": [
        "# Horizontal Bar plot\n",
        "import numpy as np\n",
        "import matplotlib.pyplot as plt\n",
        "\n",
        "models=['CNN 100 Truncs','CNN 150','LSTM 100 Truncs', 'W2V LSTM 50', 'CNN 50 Truncs', 'LSTM 150 Truncs', 'W2V BI-LSTM 50', 'W2V CNN 50', 'LSTM 50 Truncs', 'BI-LSTM 150 Truncs', 'BI-LSTM 50 Truncs', 'BI-LSTM 100 Truncs', 'Bert Classifier', 'LOGISTIC REGRESSION', 'RANDOM FOREST 50', 'GRADIENT BOOSTING', 'XG BOOST', 'GB Undersampled', 'Bi-LSTM Shared', 'Bi-LSTM undersampled']\n",
        "\n",
        "\n",
        "accuracies=np.asarray([47.2, 47.5, 48.5, 49.2, 50.3, 50.5, 51.2, 51.4, 51.6, 52.4, 53.3, 56.5, 67.4, 77.3, 77.5, 77.8, 77.8, 79.0, 81.2, 81.71])\n",
        "plt.figure(figsize=(7,6))\n",
        "plt.barh(models,accuracies,color=['firebrick', 'black',\n",
        "                    'purple', 'seagreen', 'skyblue','pink','gray','teal'])\n",
        "plt.xlabel(\"Relative Accuracy\")\n",
        "plt.ylabel('Model')\n",
        "plt.title('Relative Accuracies at Test Set')\n",
        "plt.grid(True)\n",
        "plt.rc('grid', linestyle=\"-\", color='grey')\n",
        "plt.show()"
      ],
      "execution_count": 98,
      "outputs": [
        {
          "output_type": "display_data",
          "data": {
            "image/png": "[encoded data removed]",
            "text/plain": [
              "<Figure size 504x432 with 1 Axes>"
            ]
          },
          "metadata": {
            "tags": [],
            "needs_background": "light"
          }
        }
      ]
    },
    {
      "cell_type": "code",
      "metadata": {
        "id": "4sc4TiCZZcjA",
        "colab_type": "code",
        "colab": {}
      },
      "source": [
        "def plots_compare_truncs_accuracy(model1,model2,model3,model4,model5,model6,\n",
        "                              model7,model8,model9):\n",
        "    \n",
        "    \n",
        "    fig, ax = plt.subplots(nrows=1, ncols=3,figsize=(9,4))\n",
        "    \n",
        "    ax[0].plot(model1['val_accuracy'],label='Max len:50')\n",
        "    ax[0].plot(model2['val_accuracy'],label='Max len:100')\n",
        "    ax[0].plot(model3['val_accuracy'],label='Max len:150')\n",
        "    ax[0].legend(loc=\"lower right\")\n",
        "\n",
        "    ax[1].plot(model4['val_accuracy'],label='Max len:50')\n",
        "    ax[1].plot(model5['val_accuracy'],label='Max len:100')\n",
        "    ax[1].plot(model6['val_accuracy'],label='Max len:150')\n",
        "    ax[1].legend(loc=\"upper left\")\n",
        "\n",
        "    ax[2].plot(model7['val_accuracy'],label='Max len:50')\n",
        "    ax[2].plot(model8['val_accuracy'],label='Max len:100')\n",
        "    ax[2].plot(model9['val_accuracy'],label='Max len:150')\n",
        "    ax[2].legend(loc='lower right')\n",
        "\n",
        "\n",
        "  # Set common labels\n",
        "    # fig.text(0.5, 0.04, 'Epochs', ha='center', va='center')\n",
        "    fig.text(0.06, 0.5, 'Accuracy', ha='center', va='center', rotation='vertical')\n",
        "\n",
        "    \n",
        "    ax[0].title.set_text('CNN Validation Accuracy')\n",
        "    ax[1].title.set_text('LSTM Validation Accuracy')\n",
        "    ax[2].title.set_text('Bi-LSTM Validation Accuracy')\n",
        "    \n",
        "    plt.savefig(\"Accuracy_truncs_subplot.png\")\n",
        "    plt.show()\n",
        "\n",
        "def plots_compare_truncs_loss(model1,model2,model3,model4,model5,model6,\n",
        "                              model7,model8,model9):\n",
        "    \n",
        "    \n",
        "    fig, ax = plt.subplots(nrows=1, ncols=3,figsize=(9,4))\n",
        "    \n",
        "    ax[0].plot(model1['val_loss'],label='Max len:50')\n",
        "    ax[0].plot(model2['val_loss'],label='Max len:100')\n",
        "    ax[0].plot(model3['val_loss'],label='Max len:150')\n",
        "    ax[0].legend(loc=\"lower right\")\n",
        "\n",
        "    ax[1].plot(model4['val_loss'],label='Max len:50')\n",
        "    ax[1].plot(model5['val_loss'],label='Max len:100')\n",
        "    ax[1].plot(model6['val_loss'],label='Max len:150')\n",
        "    ax[1].legend(loc=\"upper left\")\n",
        "\n",
        "    ax[2].plot(model7['val_loss'],label='Max len:50')\n",
        "    ax[2].plot(model8['val_loss'],label='Max len:100')\n",
        "    ax[2].plot(model9['val_loss'],label='Max len:150')\n",
        "    ax[2].legend(loc='lower right')\n",
        "\n",
        "\n",
        "  # Set common labels\n",
        "    # fig.text(0.5, 0.04, 'Epochs', ha='center', va='center')\n",
        "    fig.text(0.06, 0.5, 'Accuracy', ha='center', va='center', rotation='vertical')\n",
        "\n",
        "    \n",
        "    ax[0].title.set_text('CNN Validation Loss')\n",
        "    ax[1].title.set_text('LSTM Validation Loss')\n",
        "    ax[2].title.set_text('Bi-LSTM Validation Loss')\n",
        "    \n",
        "    plt.savefig(\"Loss_truncs_subplot.png\")\n",
        "    plt.show()\n",
        "\n",
        "\n",
        "    \n",
        "    "
      ],
      "execution_count": 104,
      "outputs": []
    },
    {
      "cell_type": "code",
      "metadata": {
        "id": "Cd72wLaZHrVM",
        "colab_type": "code",
        "colab": {}
      },
      "source": [
        "import pandas as pd"
      ],
      "execution_count": 105,
      "outputs": []
    },
    {
      "cell_type": "code",
      "metadata": {
        "id": "Zwl6hK9XZjL4",
        "colab_type": "code",
        "colab": {}
      },
      "source": [
        "cnn_50_history=pd.read_csv('/content/drive/My Drive/fnc-1/training_cnn50.log')\n",
        "cnn_100_history=pd.read_csv('/content/drive/My Drive/fnc-1/training_cnn100.log')\n",
        "cnn_150_history=pd.read_csv('/content/drive/My Drive/fnc-1/training_cnn150.log')\n",
        "lstm_50_history=pd.read_csv('/content/drive/My Drive/fnc-1/training_lstm50.log')\n",
        "lstm_100_history=pd.read_csv('/content/drive/My Drive/fnc-1/training_lstm100.log')\n",
        "lstm_150_history=pd.read_csv('/content/drive/My Drive/fnc-1/training_lstm150.log')\n",
        "bi_lstm_50_history=pd.read_csv('/content/drive/My Drive/fnc-1/training_bi_lstm50.log')\n",
        "bi_lstm_100_history=pd.read_csv('/content/drive/My Drive/fnc-1/training_bi_lstm100.log')\n",
        "bi_lstm_150_history=pd.read_csv('/content/drive/My Drive/fnc-1/training_bi_lstm150.log')"
      ],
      "execution_count": 106,
      "outputs": []
    },
    {
      "cell_type": "code",
      "metadata": {
        "id": "u3KJYjTlZcsB",
        "colab_type": "code",
        "colab": {
          "base_uri": "https://localhost:8080/",
          "height": 281
        },
        "outputId": "505327a6-d363-432a-8251-3530f11012fe"
      },
      "source": [
        "plots_compare_truncs_accuracy(cnn_50_history,cnn_100_history,cnn_150_history,\n",
        "                          lstm_50_history,lstm_100_history,lstm_150_history,\n",
        "                          bi_lstm_50_history,bi_lstm_100_history,bi_lstm_150_history)"
      ],
      "execution_count": 107,
      "outputs": [
        {
          "output_type": "display_data",
          "data": {
            "image/png": "[encoded data removed]",
            "text/plain": [
              "<Figure size 648x288 with 3 Axes>"
            ]
          },
          "metadata": {
            "tags": [],
            "needs_background": "light"
          }
        }
      ]
    },
    {
      "cell_type": "code",
      "metadata": {
        "id": "o8MOsHNdJx1W",
        "colab_type": "code",
        "colab": {
          "base_uri": "https://localhost:8080/",
          "height": 281
        },
        "outputId": "bac9a3f7-b9a7-4e44-c6b7-18cb5dae3841"
      },
      "source": [
        "plots_compare_truncs_loss(cnn_50_history,cnn_100_history,cnn_150_history,\n",
        "                          lstm_50_history,lstm_100_history,lstm_150_history,\n",
        "                          bi_lstm_50_history,bi_lstm_100_history,bi_lstm_150_history)"
      ],
      "execution_count": 108,
      "outputs": [
        {
          "output_type": "display_data",
          "data": {
            "image/png": "[encoded data removed]",
            "text/plain": [
              "<Figure size 648x288 with 3 Axes>"
            ]
          },
          "metadata": {
            "tags": [],
            "needs_background": "light"
          }
        }
      ]
    },
    {
      "cell_type": "code",
      "metadata": {
        "id": "EiNy0Y_Ub8f1",
        "colab_type": "code",
        "colab": {
          "base_uri": "https://localhost:8080/",
          "height": 466
        },
        "outputId": "89bb0934-7534-4aa0-df0a-18120f691617"
      },
      "source": [
        "import plotly.graph_objects as graph\n",
        "import matplotlib.pyplot as plt\n",
        "\n",
        "stances=['Baseline','GB','Bert','Robust Bi-LSTM']\n",
        "# plt.figure(figsize=(,6))\n",
        "fig = graph.Figure(data=[\n",
        "    graph.Bar(name='agree', x=stances, y=[14.255,14.236,42.265,49.537]),\n",
        "    \n",
        "    graph.Bar(name='disagree', x=stances, y=[1.907,0.284,10.294,16.828]),\n",
        "    \n",
        "    graph.Bar(name='discuss', x=stances, y=[69.33,72.128,59.688,75.064]),\n",
        "  \n",
        "    graph.Bar(name='unrelated', x=stances, y=[95.79,96.926,75.064,97.056])],\n",
        "\n",
        "    layout = graph.Layout(\n",
        "          plot_bgcolor='rgba(0,0,0,0)',\n",
        "        legend=dict(\n",
        "           orientation=\"h\",\n",
        "    yanchor=\"bottom\",\n",
        "    y=1.02,\n",
        "    xanchor=\"right\",\n",
        "    x=1,\n",
        "        ),\n",
        "        annotations=[\n",
        "            dict(\n",
        "                x=0,\n",
        "                y=0.75,\n",
        "                xref='paper',\n",
        "                yref='paper',\n",
        "                text='',\n",
        "                showarrow=False\n",
        "            )]))\n",
        "\n",
        "\n",
        "\n",
        "\n",
        "\n",
        "# fig = graph.Figure(data = data,\n",
        "#                 layout = layout)\n",
        "\n",
        "fig.update_xaxes(showgrid=True, gridwidth=2, gridcolor='LightGray')\n",
        "fig.update_yaxes(showgrid=True, gridwidth=2, gridcolor='LightGray')\n",
        "# fig.show()\n",
        "\n",
        "# Change the bar mode\n",
        "fig.update_layout(barmode='group')\n",
        "fig.update_layout(\n",
        "    autosize=False,\n",
        "    width=550,\n",
        "    height=450)\n",
        "fig.show()"
      ],
      "execution_count": 109,
      "outputs": [
        {
          "output_type": "display_data",
          "data": {
            "text/html": [
              "<html>\n",
              "<head><meta charset=\"utf-8\" /></head>\n",
              "<body>\n",
              "    <div>\n",
              "            <script src=\"https://cdnjs.cloudflare.com/ajax/libs/mathjax/2.7.5/MathJax.js?config=TeX-AMS-MML_SVG\"></script><script type=\"text/javascript\">if (window.MathJax) {MathJax.Hub.Config({SVG: {font: \"STIX-Web\"}});}</script>\n",
              "                <script type=\"text/javascript\">window.PlotlyConfig = {MathJaxConfig: 'local'};</script>\n",
              "        <script src=\"https://cdn.plot.ly/plotly-latest.min.js\"></script>    \n",
              "            <div id=\"3ef7b9d6-bd29-480c-a45b-f781453b44ec\" class=\"plotly-graph-div\" style=\"height:450px; width:550px;\"></div>\n",
              "            <script type=\"text/javascript\">\n",
              "                \n",
              "                    window.PLOTLYENV=window.PLOTLYENV || {};\n",
              "                    \n",
              "                if (document.getElementById(\"3ef7b9d6-bd29-480c-a45b-f781453b44ec\")) {\n",
              "                    Plotly.newPlot(\n",
              "                        '3ef7b9d6-bd29-480c-a45b-f781453b44ec',\n",
              "                        [{\"name\": \"agree\", \"type\": \"bar\", \"x\": [\"Baseline\", \"GB\", \"Bert\", \"Robust Bi-LSTM\"], \"y\": [14.255, 14.236, 42.265, 49.537]}, {\"name\": \"disagree\", \"type\": \"bar\", \"x\": [\"Baseline\", \"GB\", \"Bert\", \"Robust Bi-LSTM\"], \"y\": [1.907, 0.284, 10.294, 16.828]}, {\"name\": \"discuss\", \"type\": \"bar\", \"x\": [\"Baseline\", \"GB\", \"Bert\", \"Robust Bi-LSTM\"], \"y\": [69.33, 72.128, 59.688, 75.064]}, {\"name\": \"unrelated\", \"type\": \"bar\", \"x\": [\"Baseline\", \"GB\", \"Bert\", \"Robust Bi-LSTM\"], \"y\": [95.79, 96.926, 75.064, 97.056]}],\n",
              "                        {\"annotations\": [{\"showarrow\": false, \"text\": \"\", \"x\": 0, \"xref\": \"paper\", \"y\": 0.75, \"yref\": \"paper\"}], \"autosize\": false, \"barmode\": \"group\", \"height\": 450, \"legend\": {\"orientation\": \"h\", \"x\": 1, \"xanchor\": \"right\", \"y\": 1.02, \"yanchor\": \"bottom\"}, \"plot_bgcolor\": \"rgba(0,0,0,0)\", \"template\": {\"data\": {\"bar\": [{\"error_x\": {\"color\": \"#2a3f5f\"}, \"error_y\": {\"color\": \"#2a3f5f\"}, \"marker\": {\"line\": {\"color\": \"#E5ECF6\", \"width\": 0.5}}, \"type\": \"bar\"}], \"barpolar\": [{\"marker\": {\"line\": {\"color\": \"#E5ECF6\", \"width\": 0.5}}, \"type\": \"barpolar\"}], \"carpet\": [{\"aaxis\": {\"endlinecolor\": \"#2a3f5f\", \"gridcolor\": \"white\", \"linecolor\": \"white\", \"minorgridcolor\": \"white\", \"startlinecolor\": \"#2a3f5f\"}, \"baxis\": {\"endlinecolor\": \"#2a3f5f\", \"gridcolor\": \"white\", \"linecolor\": \"white\", \"minorgridcolor\": \"white\", \"startlinecolor\": \"#2a3f5f\"}, \"type\": \"carpet\"}], \"choropleth\": [{\"colorbar\": {\"outlinewidth\": 0, \"ticks\": \"\"}, \"type\": \"choropleth\"}], \"contour\": [{\"colorbar\": {\"outlinewidth\": 0, \"ticks\": \"\"}, \"colorscale\": [[0.0, \"#0d0887\"], [0.1111111111111111, \"#46039f\"], [0.2222222222222222, \"#7201a8\"], [0.3333333333333333, \"#9c179e\"], [0.4444444444444444, \"#bd3786\"], [0.5555555555555556, \"#d8576b\"], [0.6666666666666666, \"#ed7953\"], [0.7777777777777778, \"#fb9f3a\"], [0.8888888888888888, \"#fdca26\"], [1.0, \"#f0f921\"]], \"type\": \"contour\"}], \"contourcarpet\": [{\"colorbar\": {\"outlinewidth\": 0, \"ticks\": \"\"}, \"type\": \"contourcarpet\"}], \"heatmap\": [{\"colorbar\": {\"outlinewidth\": 0, \"ticks\": \"\"}, \"colorscale\": [[0.0, \"#0d0887\"], [0.1111111111111111, \"#46039f\"], [0.2222222222222222, \"#7201a8\"], [0.3333333333333333, \"#9c179e\"], [0.4444444444444444, \"#bd3786\"], [0.5555555555555556, \"#d8576b\"], [0.6666666666666666, \"#ed7953\"], [0.7777777777777778, \"#fb9f3a\"], [0.8888888888888888, \"#fdca26\"], [1.0, \"#f0f921\"]], \"type\": \"heatmap\"}], \"heatmapgl\": [{\"colorbar\": {\"outlinewidth\": 0, \"ticks\": \"\"}, \"colorscale\": [[0.0, \"#0d0887\"], [0.1111111111111111, \"#46039f\"], [0.2222222222222222, \"#7201a8\"], [0.3333333333333333, \"#9c179e\"], [0.4444444444444444, \"#bd3786\"], [0.5555555555555556, \"#d8576b\"], [0.6666666666666666, \"#ed7953\"], [0.7777777777777778, \"#fb9f3a\"], [0.8888888888888888, \"#fdca26\"], [1.0, \"#f0f921\"]], \"type\": \"heatmapgl\"}], \"histogram\": [{\"marker\": {\"colorbar\": {\"outlinewidth\": 0, \"ticks\": \"\"}}, \"type\": \"histogram\"}], \"histogram2d\": [{\"colorbar\": {\"outlinewidth\": 0, \"ticks\": \"\"}, \"colorscale\": [[0.0, \"#0d0887\"], [0.1111111111111111, \"#46039f\"], [0.2222222222222222, \"#7201a8\"], [0.3333333333333333, \"#9c179e\"], [0.4444444444444444, \"#bd3786\"], [0.5555555555555556, \"#d8576b\"], [0.6666666666666666, \"#ed7953\"], [0.7777777777777778, \"#fb9f3a\"], [0.8888888888888888, \"#fdca26\"], [1.0, \"#f0f921\"]], \"type\": \"histogram2d\"}], \"histogram2dcontour\": [{\"colorbar\": {\"outlinewidth\": 0, \"ticks\": \"\"}, \"colorscale\": [[0.0, \"#0d0887\"], [0.1111111111111111, \"#46039f\"], [0.2222222222222222, \"#7201a8\"], [0.3333333333333333, \"#9c179e\"], [0.4444444444444444, \"#bd3786\"], [0.5555555555555556, \"#d8576b\"], [0.6666666666666666, \"#ed7953\"], [0.7777777777777778, \"#fb9f3a\"], [0.8888888888888888, \"#fdca26\"], [1.0, \"#f0f921\"]], \"type\": \"histogram2dcontour\"}], \"mesh3d\": [{\"colorbar\": {\"outlinewidth\": 0, \"ticks\": \"\"}, \"type\": \"mesh3d\"}], \"parcoords\": [{\"line\": {\"colorbar\": {\"outlinewidth\": 0, \"ticks\": \"\"}}, \"type\": \"parcoords\"}], \"pie\": [{\"automargin\": true, \"type\": \"pie\"}], \"scatter\": [{\"marker\": {\"colorbar\": {\"outlinewidth\": 0, \"ticks\": \"\"}}, \"type\": \"scatter\"}], \"scatter3d\": [{\"line\": {\"colorbar\": {\"outlinewidth\": 0, \"ticks\": \"\"}}, \"marker\": {\"colorbar\": {\"outlinewidth\": 0, \"ticks\": \"\"}}, \"type\": \"scatter3d\"}], \"scattercarpet\": [{\"marker\": {\"colorbar\": {\"outlinewidth\": 0, \"ticks\": \"\"}}, \"type\": \"scattercarpet\"}], \"scattergeo\": [{\"marker\": {\"colorbar\": {\"outlinewidth\": 0, \"ticks\": \"\"}}, \"type\": \"scattergeo\"}], \"scattergl\": [{\"marker\": {\"colorbar\": {\"outlinewidth\": 0, \"ticks\": \"\"}}, \"type\": \"scattergl\"}], \"scattermapbox\": [{\"marker\": {\"colorbar\": {\"outlinewidth\": 0, \"ticks\": \"\"}}, \"type\": \"scattermapbox\"}], \"scatterpolar\": [{\"marker\": {\"colorbar\": {\"outlinewidth\": 0, \"ticks\": \"\"}}, \"type\": \"scatterpolar\"}], \"scatterpolargl\": [{\"marker\": {\"colorbar\": {\"outlinewidth\": 0, \"ticks\": \"\"}}, \"type\": \"scatterpolargl\"}], \"scatterternary\": [{\"marker\": {\"colorbar\": {\"outlinewidth\": 0, \"ticks\": \"\"}}, \"type\": \"scatterternary\"}], \"surface\": [{\"colorbar\": {\"outlinewidth\": 0, \"ticks\": \"\"}, \"colorscale\": [[0.0, \"#0d0887\"], [0.1111111111111111, \"#46039f\"], [0.2222222222222222, \"#7201a8\"], [0.3333333333333333, \"#9c179e\"], [0.4444444444444444, \"#bd3786\"], [0.5555555555555556, \"#d8576b\"], [0.6666666666666666, \"#ed7953\"], [0.7777777777777778, \"#fb9f3a\"], [0.8888888888888888, \"#fdca26\"], [1.0, \"#f0f921\"]], \"type\": \"surface\"}], \"table\": [{\"cells\": {\"fill\": {\"color\": \"#EBF0F8\"}, \"line\": {\"color\": \"white\"}}, \"header\": {\"fill\": {\"color\": \"#C8D4E3\"}, \"line\": {\"color\": \"white\"}}, \"type\": \"table\"}]}, \"layout\": {\"annotationdefaults\": {\"arrowcolor\": \"#2a3f5f\", \"arrowhead\": 0, \"arrowwidth\": 1}, \"coloraxis\": {\"colorbar\": {\"outlinewidth\": 0, \"ticks\": \"\"}}, \"colorscale\": {\"diverging\": [[0, \"#8e0152\"], [0.1, \"#c51b7d\"], [0.2, \"#de77ae\"], [0.3, \"#f1b6da\"], [0.4, \"#fde0ef\"], [0.5, \"#f7f7f7\"], [0.6, \"#e6f5d0\"], [0.7, \"#b8e186\"], [0.8, \"#7fbc41\"], [0.9, \"#4d9221\"], [1, \"#276419\"]], \"sequential\": [[0.0, \"#0d0887\"], [0.1111111111111111, \"#46039f\"], [0.2222222222222222, \"#7201a8\"], [0.3333333333333333, \"#9c179e\"], [0.4444444444444444, \"#bd3786\"], [0.5555555555555556, \"#d8576b\"], [0.6666666666666666, \"#ed7953\"], [0.7777777777777778, \"#fb9f3a\"], [0.8888888888888888, \"#fdca26\"], [1.0, \"#f0f921\"]], \"sequentialminus\": [[0.0, \"#0d0887\"], [0.1111111111111111, \"#46039f\"], [0.2222222222222222, \"#7201a8\"], [0.3333333333333333, \"#9c179e\"], [0.4444444444444444, \"#bd3786\"], [0.5555555555555556, \"#d8576b\"], [0.6666666666666666, \"#ed7953\"], [0.7777777777777778, \"#fb9f3a\"], [0.8888888888888888, \"#fdca26\"], [1.0, \"#f0f921\"]]}, \"colorway\": [\"#636efa\", \"#EF553B\", \"#00cc96\", \"#ab63fa\", \"#FFA15A\", \"#19d3f3\", \"#FF6692\", \"#B6E880\", \"#FF97FF\", \"#FECB52\"], \"font\": {\"color\": \"#2a3f5f\"}, \"geo\": {\"bgcolor\": \"white\", \"lakecolor\": \"white\", \"landcolor\": \"#E5ECF6\", \"showlakes\": true, \"showland\": true, \"subunitcolor\": \"white\"}, \"hoverlabel\": {\"align\": \"left\"}, \"hovermode\": \"closest\", \"mapbox\": {\"style\": \"light\"}, \"paper_bgcolor\": \"white\", \"plot_bgcolor\": \"#E5ECF6\", \"polar\": {\"angularaxis\": {\"gridcolor\": \"white\", \"linecolor\": \"white\", \"ticks\": \"\"}, \"bgcolor\": \"#E5ECF6\", \"radialaxis\": {\"gridcolor\": \"white\", \"linecolor\": \"white\", \"ticks\": \"\"}}, \"scene\": {\"xaxis\": {\"backgroundcolor\": \"#E5ECF6\", \"gridcolor\": \"white\", \"gridwidth\": 2, \"linecolor\": \"white\", \"showbackground\": true, \"ticks\": \"\", \"zerolinecolor\": \"white\"}, \"yaxis\": {\"backgroundcolor\": \"#E5ECF6\", \"gridcolor\": \"white\", \"gridwidth\": 2, \"linecolor\": \"white\", \"showbackground\": true, \"ticks\": \"\", \"zerolinecolor\": \"white\"}, \"zaxis\": {\"backgroundcolor\": \"#E5ECF6\", \"gridcolor\": \"white\", \"gridwidth\": 2, \"linecolor\": \"white\", \"showbackground\": true, \"ticks\": \"\", \"zerolinecolor\": \"white\"}}, \"shapedefaults\": {\"line\": {\"color\": \"#2a3f5f\"}}, \"ternary\": {\"aaxis\": {\"gridcolor\": \"white\", \"linecolor\": \"white\", \"ticks\": \"\"}, \"baxis\": {\"gridcolor\": \"white\", \"linecolor\": \"white\", \"ticks\": \"\"}, \"bgcolor\": \"#E5ECF6\", \"caxis\": {\"gridcolor\": \"white\", \"linecolor\": \"white\", \"ticks\": \"\"}}, \"title\": {\"x\": 0.05}, \"xaxis\": {\"automargin\": true, \"gridcolor\": \"white\", \"linecolor\": \"white\", \"ticks\": \"\", \"title\": {\"standoff\": 15}, \"zerolinecolor\": \"white\", \"zerolinewidth\": 2}, \"yaxis\": {\"automargin\": true, \"gridcolor\": \"white\", \"linecolor\": \"white\", \"ticks\": \"\", \"title\": {\"standoff\": 15}, \"zerolinecolor\": \"white\", \"zerolinewidth\": 2}}}, \"width\": 550, \"xaxis\": {\"gridcolor\": \"LightGray\", \"gridwidth\": 2, \"showgrid\": true}, \"yaxis\": {\"gridcolor\": \"LightGray\", \"gridwidth\": 2, \"showgrid\": true}},\n",
              "                        {\"responsive\": true}\n",
              "                    ).then(function(){\n",
              "                            \n",
              "var gd = document.getElementById('3ef7b9d6-bd29-480c-a45b-f781453b44ec');\n",
              "var x = new MutationObserver(function (mutations, observer) {{\n",
              "        var display = window.getComputedStyle(gd).display;\n",
              "        if (!display || display === 'none') {{\n",
              "            console.log([gd, 'removed!']);\n",
              "            Plotly.purge(gd);\n",
              "            observer.disconnect();\n",
              "        }}\n",
              "}});\n",
              "\n",
              "// Listen for the removal of the full notebook cells\n",
              "var notebookContainer = gd.closest('#notebook-container');\n",
              "if (notebookContainer) {{\n",
              "    x.observe(notebookContainer, {childList: true});\n",
              "}}\n",
              "\n",
              "// Listen for the clearing of the current output cell\n",
              "var outputEl = gd.closest('.output');\n",
              "if (outputEl) {{\n",
              "    x.observe(outputEl, {childList: true});\n",
              "}}\n",
              "\n",
              "                        })\n",
              "                };\n",
              "                \n",
              "            </script>\n",
              "        </div>\n",
              "</body>\n",
              "</html>"
            ]
          },
          "metadata": {
            "tags": []
          }
        }
      ]
    },
    {
      "cell_type": "code",
      "metadata": {
        "id": "vYic4b4C9H5C",
        "colab_type": "code",
        "colab": {
          "base_uri": "https://localhost:8080/",
          "height": 683
        },
        "outputId": "dde877f4-a916-4ecf-a11d-959fa2b68519"
      },
      "source": [
        "import plotly.graph_objects as graph\n",
        "import matplotlib.pyplot as plt\n",
        "\n",
        "models=['CNN 100 Truncs','CNN 150','LSTM 100 Truncs', 'W2V LSTM 50', 'CNN 50 Truncs', 'LSTM 150 Truncs', 'W2V BI-LSTM 50', 'W2V CNN 50', 'LSTM 50 Truncs', 'BI-LSTM 150 Truncs', 'BI-LSTM 50 Truncs', 'BI-LSTM 100 Truncs', 'Bert Classifier', 'LOGISTIC REGRESSION', 'RANDOM FOREST 50', 'GRADIENT BOOSTING', 'XG BOOST', 'GB Undersampled', 'Bi-LSTM Shared', 'Bi-LSTM undersampled']\n",
        "\n",
        "plt.figure(figsize=(6,6))\n",
        "fig = graph.Figure(data=[\n",
        "    graph.Bar(name='accuracy', x=models, y=[47.2, 47.5, 48.5, 49.2, 50.3, 50.5, 51.2, 51.4, 51.6, 52.4, 53.3, 56.5, 67.4, 77.3, 77.5, 77.8, 77.8, 79.0, 81.2, 81.71]),\n",
        "    \n",
        "  graph.Bar(name='unbiased-accuracy', x=models, y=[67.70157006256641,64.14433557627985,66.9735961909259,70.33408098217447,65.58454334395781,66.38728209971274,68.38625900129854,64.0813756738677,70.57805060402156,72.6124424507142,71.60901900602054,73.0295518041947,80.16369574627159,86.66037067642545,86.71939558493684,86.68004564592925,86.71939558493684,84.80698854916775, 88.17534332821784,87.67559910282139  ]),\n",
        "    \n",
        "    \n",
        "    \n",
        "\n",
        "])\n",
        "# Change the bar mode\n",
        "fig.update_layout(barmode='group')\n",
        "fig.update_layout(\n",
        "    autosize=False,\n",
        "    width=650,\n",
        "    height=650)\n",
        "fig.show()\n",
        "models=['CNN 100 Truncs','CNN 150','LSTM 100 Truncs', 'W2V LSTM 50', 'CNN 50 Truncs', 'LSTM 150 Truncs', 'W2V BI-LSTM 50', 'W2V CNN 50', 'LSTM 50 Truncs', 'BI-LSTM 150 Truncs', 'BI-LSTM 50 Truncs', 'BI-LSTM 100 Truncs', 'Bert Classifier', 'LOGISTIC REGRESSION', 'RANDOM FOREST 50', 'GRADIENT BOOSTING', 'XG BOOST', 'GB Undersampled', 'Bi-LSTM Shared', 'Bi-LSTM undersampled']\n"
      ],
      "execution_count": 110,
      "outputs": [
        {
          "output_type": "display_data",
          "data": {
            "text/html": [
              "<html>\n",
              "<head><meta charset=\"utf-8\" /></head>\n",
              "<body>\n",
              "    <div>\n",
              "            <script src=\"https://cdnjs.cloudflare.com/ajax/libs/mathjax/2.7.5/MathJax.js?config=TeX-AMS-MML_SVG\"></script><script type=\"text/javascript\">if (window.MathJax) {MathJax.Hub.Config({SVG: {font: \"STIX-Web\"}});}</script>\n",
              "                <script type=\"text/javascript\">window.PlotlyConfig = {MathJaxConfig: 'local'};</script>\n",
              "        <script src=\"https://cdn.plot.ly/plotly-latest.min.js\"></script>    \n",
              "            <div id=\"f3374cdb-bd03-4fd4-8b7a-47f1dd73d290\" class=\"plotly-graph-div\" style=\"height:650px; width:650px;\"></div>\n",
              "            <script type=\"text/javascript\">\n",
              "                \n",
              "                    window.PLOTLYENV=window.PLOTLYENV || {};\n",
              "                    \n",
              "                if (document.getElementById(\"f3374cdb-bd03-4fd4-8b7a-47f1dd73d290\")) {\n",
              "                    Plotly.newPlot(\n",
              "                        'f3374cdb-bd03-4fd4-8b7a-47f1dd73d290',\n",
              "                        [{\"name\": \"accuracy\", \"type\": \"bar\", \"x\": [\"CNN 100 Truncs\", \"CNN 150\", \"LSTM 100 Truncs\", \"W2V LSTM 50\", \"CNN 50 Truncs\", \"LSTM 150 Truncs\", \"W2V BI-LSTM 50\", \"W2V CNN 50\", \"LSTM 50 Truncs\", \"BI-LSTM 150 Truncs\", \"BI-LSTM 50 Truncs\", \"BI-LSTM 100 Truncs\", \"Bert Classifier\", \"LOGISTIC REGRESSION\", \"RANDOM FOREST 50\", \"GRADIENT BOOSTING\", \"XG BOOST\", \"GB Undersampled\", \"Bi-LSTM Shared\", \"Bi-LSTM undersampled\"], \"y\": [47.2, 47.5, 48.5, 49.2, 50.3, 50.5, 51.2, 51.4, 51.6, 52.4, 53.3, 56.5, 67.4, 77.3, 77.5, 77.8, 77.8, 79.0, 81.2, 81.71]}, {\"name\": \"unbiased-accuracy\", \"type\": \"bar\", \"x\": [\"CNN 100 Truncs\", \"CNN 150\", \"LSTM 100 Truncs\", \"W2V LSTM 50\", \"CNN 50 Truncs\", \"LSTM 150 Truncs\", \"W2V BI-LSTM 50\", \"W2V CNN 50\", \"LSTM 50 Truncs\", \"BI-LSTM 150 Truncs\", \"BI-LSTM 50 Truncs\", \"BI-LSTM 100 Truncs\", \"Bert Classifier\", \"LOGISTIC REGRESSION\", \"RANDOM FOREST 50\", \"GRADIENT BOOSTING\", \"XG BOOST\", \"GB Undersampled\", \"Bi-LSTM Shared\", \"Bi-LSTM undersampled\"], \"y\": [67.7015700625664, 64.14433557627984, 66.9735961909259, 70.33408098217447, 65.5845433439578, 66.38728209971273, 68.38625900129854, 64.0813756738677, 70.57805060402156, 72.6124424507142, 71.60901900602055, 73.0295518041947, 80.16369574627159, 86.66037067642544, 86.71939558493683, 86.68004564592925, 86.71939558493683, 84.80698854916776, 88.17534332821783, 87.6755991028214]}],\n",
              "                        {\"autosize\": false, \"barmode\": \"group\", \"height\": 650, \"template\": {\"data\": {\"bar\": [{\"error_x\": {\"color\": \"#2a3f5f\"}, \"error_y\": {\"color\": \"#2a3f5f\"}, \"marker\": {\"line\": {\"color\": \"#E5ECF6\", \"width\": 0.5}}, \"type\": \"bar\"}], \"barpolar\": [{\"marker\": {\"line\": {\"color\": \"#E5ECF6\", \"width\": 0.5}}, \"type\": \"barpolar\"}], \"carpet\": [{\"aaxis\": {\"endlinecolor\": \"#2a3f5f\", \"gridcolor\": \"white\", \"linecolor\": \"white\", \"minorgridcolor\": \"white\", \"startlinecolor\": \"#2a3f5f\"}, \"baxis\": {\"endlinecolor\": \"#2a3f5f\", \"gridcolor\": \"white\", \"linecolor\": \"white\", \"minorgridcolor\": \"white\", \"startlinecolor\": \"#2a3f5f\"}, \"type\": \"carpet\"}], \"choropleth\": [{\"colorbar\": {\"outlinewidth\": 0, \"ticks\": \"\"}, \"type\": \"choropleth\"}], \"contour\": [{\"colorbar\": {\"outlinewidth\": 0, \"ticks\": \"\"}, \"colorscale\": [[0.0, \"#0d0887\"], [0.1111111111111111, \"#46039f\"], [0.2222222222222222, \"#7201a8\"], [0.3333333333333333, \"#9c179e\"], [0.4444444444444444, \"#bd3786\"], [0.5555555555555556, \"#d8576b\"], [0.6666666666666666, \"#ed7953\"], [0.7777777777777778, \"#fb9f3a\"], [0.8888888888888888, \"#fdca26\"], [1.0, \"#f0f921\"]], \"type\": \"contour\"}], \"contourcarpet\": [{\"colorbar\": {\"outlinewidth\": 0, \"ticks\": \"\"}, \"type\": \"contourcarpet\"}], \"heatmap\": [{\"colorbar\": {\"outlinewidth\": 0, \"ticks\": \"\"}, \"colorscale\": [[0.0, \"#0d0887\"], [0.1111111111111111, \"#46039f\"], [0.2222222222222222, \"#7201a8\"], [0.3333333333333333, \"#9c179e\"], [0.4444444444444444, \"#bd3786\"], [0.5555555555555556, \"#d8576b\"], [0.6666666666666666, \"#ed7953\"], [0.7777777777777778, \"#fb9f3a\"], [0.8888888888888888, \"#fdca26\"], [1.0, \"#f0f921\"]], \"type\": \"heatmap\"}], \"heatmapgl\": [{\"colorbar\": {\"outlinewidth\": 0, \"ticks\": \"\"}, \"colorscale\": [[0.0, \"#0d0887\"], [0.1111111111111111, \"#46039f\"], [0.2222222222222222, \"#7201a8\"], [0.3333333333333333, \"#9c179e\"], [0.4444444444444444, \"#bd3786\"], [0.5555555555555556, \"#d8576b\"], [0.6666666666666666, \"#ed7953\"], [0.7777777777777778, \"#fb9f3a\"], [0.8888888888888888, \"#fdca26\"], [1.0, \"#f0f921\"]], \"type\": \"heatmapgl\"}], \"histogram\": [{\"marker\": {\"colorbar\": {\"outlinewidth\": 0, \"ticks\": \"\"}}, \"type\": \"histogram\"}], \"histogram2d\": [{\"colorbar\": {\"outlinewidth\": 0, \"ticks\": \"\"}, \"colorscale\": [[0.0, \"#0d0887\"], [0.1111111111111111, \"#46039f\"], [0.2222222222222222, \"#7201a8\"], [0.3333333333333333, \"#9c179e\"], [0.4444444444444444, \"#bd3786\"], [0.5555555555555556, \"#d8576b\"], [0.6666666666666666, \"#ed7953\"], [0.7777777777777778, \"#fb9f3a\"], [0.8888888888888888, \"#fdca26\"], [1.0, \"#f0f921\"]], \"type\": \"histogram2d\"}], \"histogram2dcontour\": [{\"colorbar\": {\"outlinewidth\": 0, \"ticks\": \"\"}, \"colorscale\": [[0.0, \"#0d0887\"], [0.1111111111111111, \"#46039f\"], [0.2222222222222222, \"#7201a8\"], [0.3333333333333333, \"#9c179e\"], [0.4444444444444444, \"#bd3786\"], [0.5555555555555556, \"#d8576b\"], [0.6666666666666666, \"#ed7953\"], [0.7777777777777778, \"#fb9f3a\"], [0.8888888888888888, \"#fdca26\"], [1.0, \"#f0f921\"]], \"type\": \"histogram2dcontour\"}], \"mesh3d\": [{\"colorbar\": {\"outlinewidth\": 0, \"ticks\": \"\"}, \"type\": \"mesh3d\"}], \"parcoords\": [{\"line\": {\"colorbar\": {\"outlinewidth\": 0, \"ticks\": \"\"}}, \"type\": \"parcoords\"}], \"pie\": [{\"automargin\": true, \"type\": \"pie\"}], \"scatter\": [{\"marker\": {\"colorbar\": {\"outlinewidth\": 0, \"ticks\": \"\"}}, \"type\": \"scatter\"}], \"scatter3d\": [{\"line\": {\"colorbar\": {\"outlinewidth\": 0, \"ticks\": \"\"}}, \"marker\": {\"colorbar\": {\"outlinewidth\": 0, \"ticks\": \"\"}}, \"type\": \"scatter3d\"}], \"scattercarpet\": [{\"marker\": {\"colorbar\": {\"outlinewidth\": 0, \"ticks\": \"\"}}, \"type\": \"scattercarpet\"}], \"scattergeo\": [{\"marker\": {\"colorbar\": {\"outlinewidth\": 0, \"ticks\": \"\"}}, \"type\": \"scattergeo\"}], \"scattergl\": [{\"marker\": {\"colorbar\": {\"outlinewidth\": 0, \"ticks\": \"\"}}, \"type\": \"scattergl\"}], \"scattermapbox\": [{\"marker\": {\"colorbar\": {\"outlinewidth\": 0, \"ticks\": \"\"}}, \"type\": \"scattermapbox\"}], \"scatterpolar\": [{\"marker\": {\"colorbar\": {\"outlinewidth\": 0, \"ticks\": \"\"}}, \"type\": \"scatterpolar\"}], \"scatterpolargl\": [{\"marker\": {\"colorbar\": {\"outlinewidth\": 0, \"ticks\": \"\"}}, \"type\": \"scatterpolargl\"}], \"scatterternary\": [{\"marker\": {\"colorbar\": {\"outlinewidth\": 0, \"ticks\": \"\"}}, \"type\": \"scatterternary\"}], \"surface\": [{\"colorbar\": {\"outlinewidth\": 0, \"ticks\": \"\"}, \"colorscale\": [[0.0, \"#0d0887\"], [0.1111111111111111, \"#46039f\"], [0.2222222222222222, \"#7201a8\"], [0.3333333333333333, \"#9c179e\"], [0.4444444444444444, \"#bd3786\"], [0.5555555555555556, \"#d8576b\"], [0.6666666666666666, \"#ed7953\"], [0.7777777777777778, \"#fb9f3a\"], [0.8888888888888888, \"#fdca26\"], [1.0, \"#f0f921\"]], \"type\": \"surface\"}], \"table\": [{\"cells\": {\"fill\": {\"color\": \"#EBF0F8\"}, \"line\": {\"color\": \"white\"}}, \"header\": {\"fill\": {\"color\": \"#C8D4E3\"}, \"line\": {\"color\": \"white\"}}, \"type\": \"table\"}]}, \"layout\": {\"annotationdefaults\": {\"arrowcolor\": \"#2a3f5f\", \"arrowhead\": 0, \"arrowwidth\": 1}, \"coloraxis\": {\"colorbar\": {\"outlinewidth\": 0, \"ticks\": \"\"}}, \"colorscale\": {\"diverging\": [[0, \"#8e0152\"], [0.1, \"#c51b7d\"], [0.2, \"#de77ae\"], [0.3, \"#f1b6da\"], [0.4, \"#fde0ef\"], [0.5, \"#f7f7f7\"], [0.6, \"#e6f5d0\"], [0.7, \"#b8e186\"], [0.8, \"#7fbc41\"], [0.9, \"#4d9221\"], [1, \"#276419\"]], \"sequential\": [[0.0, \"#0d0887\"], [0.1111111111111111, \"#46039f\"], [0.2222222222222222, \"#7201a8\"], [0.3333333333333333, \"#9c179e\"], [0.4444444444444444, \"#bd3786\"], [0.5555555555555556, \"#d8576b\"], [0.6666666666666666, \"#ed7953\"], [0.7777777777777778, \"#fb9f3a\"], [0.8888888888888888, \"#fdca26\"], [1.0, \"#f0f921\"]], \"sequentialminus\": [[0.0, \"#0d0887\"], [0.1111111111111111, \"#46039f\"], [0.2222222222222222, \"#7201a8\"], [0.3333333333333333, \"#9c179e\"], [0.4444444444444444, \"#bd3786\"], [0.5555555555555556, \"#d8576b\"], [0.6666666666666666, \"#ed7953\"], [0.7777777777777778, \"#fb9f3a\"], [0.8888888888888888, \"#fdca26\"], [1.0, \"#f0f921\"]]}, \"colorway\": [\"#636efa\", \"#EF553B\", \"#00cc96\", \"#ab63fa\", \"#FFA15A\", \"#19d3f3\", \"#FF6692\", \"#B6E880\", \"#FF97FF\", \"#FECB52\"], \"font\": {\"color\": \"#2a3f5f\"}, \"geo\": {\"bgcolor\": \"white\", \"lakecolor\": \"white\", \"landcolor\": \"#E5ECF6\", \"showlakes\": true, \"showland\": true, \"subunitcolor\": \"white\"}, \"hoverlabel\": {\"align\": \"left\"}, \"hovermode\": \"closest\", \"mapbox\": {\"style\": \"light\"}, \"paper_bgcolor\": \"white\", \"plot_bgcolor\": \"#E5ECF6\", \"polar\": {\"angularaxis\": {\"gridcolor\": \"white\", \"linecolor\": \"white\", \"ticks\": \"\"}, \"bgcolor\": \"#E5ECF6\", \"radialaxis\": {\"gridcolor\": \"white\", \"linecolor\": \"white\", \"ticks\": \"\"}}, \"scene\": {\"xaxis\": {\"backgroundcolor\": \"#E5ECF6\", \"gridcolor\": \"white\", \"gridwidth\": 2, \"linecolor\": \"white\", \"showbackground\": true, \"ticks\": \"\", \"zerolinecolor\": \"white\"}, \"yaxis\": {\"backgroundcolor\": \"#E5ECF6\", \"gridcolor\": \"white\", \"gridwidth\": 2, \"linecolor\": \"white\", \"showbackground\": true, \"ticks\": \"\", \"zerolinecolor\": \"white\"}, \"zaxis\": {\"backgroundcolor\": \"#E5ECF6\", \"gridcolor\": \"white\", \"gridwidth\": 2, \"linecolor\": \"white\", \"showbackground\": true, \"ticks\": \"\", \"zerolinecolor\": \"white\"}}, \"shapedefaults\": {\"line\": {\"color\": \"#2a3f5f\"}}, \"ternary\": {\"aaxis\": {\"gridcolor\": \"white\", \"linecolor\": \"white\", \"ticks\": \"\"}, \"baxis\": {\"gridcolor\": \"white\", \"linecolor\": \"white\", \"ticks\": \"\"}, \"bgcolor\": \"#E5ECF6\", \"caxis\": {\"gridcolor\": \"white\", \"linecolor\": \"white\", \"ticks\": \"\"}}, \"title\": {\"x\": 0.05}, \"xaxis\": {\"automargin\": true, \"gridcolor\": \"white\", \"linecolor\": \"white\", \"ticks\": \"\", \"title\": {\"standoff\": 15}, \"zerolinecolor\": \"white\", \"zerolinewidth\": 2}, \"yaxis\": {\"automargin\": true, \"gridcolor\": \"white\", \"linecolor\": \"white\", \"ticks\": \"\", \"title\": {\"standoff\": 15}, \"zerolinecolor\": \"white\", \"zerolinewidth\": 2}}}, \"width\": 650},\n",
              "                        {\"responsive\": true}\n",
              "                    ).then(function(){\n",
              "                            \n",
              "var gd = document.getElementById('f3374cdb-bd03-4fd4-8b7a-47f1dd73d290');\n",
              "var x = new MutationObserver(function (mutations, observer) {{\n",
              "        var display = window.getComputedStyle(gd).display;\n",
              "        if (!display || display === 'none') {{\n",
              "            console.log([gd, 'removed!']);\n",
              "            Plotly.purge(gd);\n",
              "            observer.disconnect();\n",
              "        }}\n",
              "}});\n",
              "\n",
              "// Listen for the removal of the full notebook cells\n",
              "var notebookContainer = gd.closest('#notebook-container');\n",
              "if (notebookContainer) {{\n",
              "    x.observe(notebookContainer, {childList: true});\n",
              "}}\n",
              "\n",
              "// Listen for the clearing of the current output cell\n",
              "var outputEl = gd.closest('.output');\n",
              "if (outputEl) {{\n",
              "    x.observe(outputEl, {childList: true});\n",
              "}}\n",
              "\n",
              "                        })\n",
              "                };\n",
              "                \n",
              "            </script>\n",
              "        </div>\n",
              "</body>\n",
              "</html>"
            ]
          },
          "metadata": {
            "tags": []
          }
        },
        {
          "output_type": "display_data",
          "data": {
            "text/plain": [
              "<Figure size 432x432 with 0 Axes>"
            ]
          },
          "metadata": {
            "tags": []
          }
        }
      ]
    },
    {
      "cell_type": "code",
      "metadata": {
        "id": "c7zXkCuGbNFU",
        "colab_type": "code",
        "colab": {
          "base_uri": "https://localhost:8080/",
          "height": 457
        },
        "outputId": "ce111d0b-e693-4368-aa2e-4d2e474b31af"
      },
      "source": [
        "import numpy as np\n",
        "import matplotlib.pyplot as plt\n",
        "\n",
        "\n",
        "N = 20\n",
        "Actual_accuracy = (67.70157006256641,64.14433557627985,66.9735961909259,70.33408098217447,65.58454334395781,66.38728209971274,68.38625900129854,\n",
        "                   64.0813756738677,70.57805060402156,72.6124424507142,71.60901900602054,73.0295518041947,80.16369574627159,86.66037067642545,\n",
        "                   86.71939558493684,86.68004564592925,86.71939558493684,84.80698854916775, 88.17534332821784,87.67559910282139)\n",
        "Comp_accuracy=(47.2, 47.5, 48.5, 49.2, 50.3, 50.5, 51.2, 51.4, 51.6, 52.4, 53.3, 56.5, 67.4, 77.3, 77.5, 77.8, 77.8, 79.0, 81.2, 81.71)\n",
        "\n",
        "\n",
        "plt.figure(figsize=(7,6))\n",
        "\n",
        "width = 0.70       # the width of the bars: can also be len(x) sequence\n",
        "\n",
        "p1 = plt.bar(np.arange(20), Actual_accuracy, width,color='r')\n",
        "p2 = plt.bar(np.arange(20), Comp_accuracy, width,color='black'\n",
        "             )\n",
        "plt.ylabel('Scores')\n",
        "# plt.title('Scores by group and gender')\n",
        "plt.xticks(np.arange(20), ('CNN 100','CNN 150','LSTM 100', 'W2V LSTM 50', 'CNN 50', 'LSTM 150', 'W2V BI-LSTM 50', 'W2V CNN 50', 'LSTM 50', 'BI-LSTM 150', 'BI-LSTM 50', 'BI-LSTM 100', 'Bert Classifier', 'LOG REGRESSION', 'RANDOM FOREST', 'G. BOOSTING', 'XG BOOST', 'GB Resample', 'Robust Bi-LSTM', 'Bi-LSTM Resample'))\n",
        "plt.yticks(np.arange(0, 101, 10))\n",
        "plt.legend((p1[0], p2[0]), ('Actual Accuracy', 'Competition Accuracy'),loc=2)\n",
        "plt.xticks(rotation=70)\n",
        "\n",
        "plt.show()"
      ],
      "execution_count": 111,
      "outputs": [
        {
          "output_type": "display_data",
          "data": {
            "image/png": "[encoded data removed]",
            "text/plain": [
              "<Figure size 504x432 with 1 Axes>"
            ]
          },
          "metadata": {
            "tags": [],
            "needs_background": "light"
          }
        }
      ]
    }
  ]
}