{
  "nbformat": 4,
  "nbformat_minor": 0,
  "metadata": {
    "colab": {
      "name": "G_boosting_resampled_data.ipynb",
      "provenance": [],
      "collapsed_sections": [],
      "toc_visible": true
    },
    "kernelspec": {
      "name": "python3",
      "display_name": "Python 3"
    }
  },
  "cells": [
    {
      "cell_type": "markdown",
      "metadata": {
        "id": "bIBdI8ZdCLtZ",
        "colab_type": "text"
      },
      "source": [
        "### Importing libraries"
      ]
    },
    {
      "cell_type": "markdown",
      "metadata": {
        "id": "UxDwUFdVowqN",
        "colab_type": "text"
      },
      "source": [
        "### Reading Resampled train stances "
      ]
    },
    {
      "cell_type": "code",
      "metadata": {
        "id": "IKDziZErvCNI",
        "colab_type": "code",
        "colab": {
          "base_uri": "https://localhost:8080/",
          "height": 83
        },
        "outputId": "1c6328e5-d302-485a-f5a4-6d8fb703bc84"
      },
      "source": [
        "import sys\n",
        "import numpy as np\n",
        "import nltk\n",
        "import os\n",
        "import re\n",
        "_wnl = nltk.WordNetLemmatizer()\n",
        "from tqdm import tqdm\n",
        "import scipy\n",
        "from csv import DictReader\n",
        "import pandas as pd\n",
        "nltk.download('punkt')\n",
        "nltk.download('wordnet')\n",
        "# sklearn dependencies\n",
        "from sklearn import feature_extraction\n",
        "from sklearn.ensemble import GradientBoostingClassifier\n",
        "from sklearn import preprocessing\n",
        "from sklearn.ensemble import RandomForestClassifier\n",
        "import xgboost as xgb\n",
        "from sklearn.linear_model import LogisticRegression\n",
        "from sklearn.feature_extraction.text import TfidfVectorizer\n",
        "import random\n",
        "from collections import defaultdict\n",
        "import collections\n",
        "import matplotlib.pyplot as plt\n",
        "\n",
        "# Function for reading the dataset\n",
        "class DataSet():\n",
        "    def __init__(self, name=\"train\", path=\"/content/drive/My Drive/fnc-1\"):\n",
        "        self.path = path\n",
        "\n",
        "        print(\"Reading dataset\")\n",
        "        bodies = name+\"_bodies.csv\"\n",
        "        if name== 'train':\n",
        "          stances = name+\"_stances_resampled.csv\"  \n",
        "        else:\n",
        "          stances = name+\"_stances.csv\"\n",
        "          \n",
        "        self.stances = self.read(stances)\n",
        "       \n",
        "        articles = self.read(bodies)\n",
        "       \n",
        "        self.articles = dict()\n",
        "\n",
        "        #make the body ID an integer value\n",
        "        for s in self.stances:\n",
        "            s['Body ID'] = int(s['Body ID'])\n",
        "        \n",
        "        #copy all bodies into a dictionary\n",
        "        for article in articles:\n",
        "            self.articles[int(article['Body ID'])] = article['articleBody']\n",
        "\n",
        "        print(\"Total stances: \" + str(len(self.stances)))\n",
        "        print(\"Total bodies: \" + str(len(self.articles)))\n",
        "\n",
        "    \n",
        "\n",
        "    def read(self,filename):\n",
        "        rows = []\n",
        "        with open(self.path + \"/\" + filename, \"r\", encoding='utf-8') as table:\n",
        "            r = DictReader(table)\n",
        "\n",
        "            for line in r:\n",
        "                rows.append(line)\n",
        "        return rows\n"
      ],
      "execution_count": 117,
      "outputs": [
        {
          "output_type": "stream",
          "text": [
            "[nltk_data] Downloading package punkt to /root/nltk_data...\n",
            "[nltk_data]   Package punkt is already up-to-date!\n",
            "[nltk_data] Downloading package wordnet to /root/nltk_data...\n",
            "[nltk_data]   Package wordnet is already up-to-date!\n"
          ],
          "name": "stdout"
        }
      ]
    },
    {
      "cell_type": "markdown",
      "metadata": {
        "id": "qijfJB73bRhu",
        "colab_type": "text"
      },
      "source": [
        "### Solving the problem of imbalanced data"
      ]
    },
    {
      "cell_type": "code",
      "metadata": {
        "id": "4Et61kn7bQqU",
        "colab_type": "code",
        "colab": {
          "base_uri": "https://localhost:8080/",
          "height": 197
        },
        "outputId": "2f817b4e-353e-4674-e704-63245f6e1d92"
      },
      "source": [
        "train_stances=pd.read_csv('/content/drive/My Drive/fnc-1/train_stances.csv')\n",
        "train_stances.head()"
      ],
      "execution_count": 118,
      "outputs": [
        {
          "output_type": "execute_result",
          "data": {
            "text/html": [
              "<div>\n",
              "<style scoped>\n",
              "    .dataframe tbody tr th:only-of-type {\n",
              "        vertical-align: middle;\n",
              "    }\n",
              "\n",
              "    .dataframe tbody tr th {\n",
              "        vertical-align: top;\n",
              "    }\n",
              "\n",
              "    .dataframe thead th {\n",
              "        text-align: right;\n",
              "    }\n",
              "</style>\n",
              "<table border=\"1\" class=\"dataframe\">\n",
              "  <thead>\n",
              "    <tr style=\"text-align: right;\">\n",
              "      <th></th>\n",
              "      <th>Headline</th>\n",
              "      <th>Body ID</th>\n",
              "      <th>Stance</th>\n",
              "    </tr>\n",
              "  </thead>\n",
              "  <tbody>\n",
              "    <tr>\n",
              "      <th>0</th>\n",
              "      <td>Police find mass graves with at least '15 bodi...</td>\n",
              "      <td>712</td>\n",
              "      <td>unrelated</td>\n",
              "    </tr>\n",
              "    <tr>\n",
              "      <th>1</th>\n",
              "      <td>Hundreds of Palestinians flee floods in Gaza a...</td>\n",
              "      <td>158</td>\n",
              "      <td>agree</td>\n",
              "    </tr>\n",
              "    <tr>\n",
              "      <th>2</th>\n",
              "      <td>Christian Bale passes on role of Steve Jobs, a...</td>\n",
              "      <td>137</td>\n",
              "      <td>unrelated</td>\n",
              "    </tr>\n",
              "    <tr>\n",
              "      <th>3</th>\n",
              "      <td>HBO and Apple in Talks for $15/Month Apple TV ...</td>\n",
              "      <td>1034</td>\n",
              "      <td>unrelated</td>\n",
              "    </tr>\n",
              "    <tr>\n",
              "      <th>4</th>\n",
              "      <td>Spider burrowed through tourist's stomach and ...</td>\n",
              "      <td>1923</td>\n",
              "      <td>disagree</td>\n",
              "    </tr>\n",
              "  </tbody>\n",
              "</table>\n",
              "</div>"
            ],
            "text/plain": [
              "                                            Headline  Body ID     Stance\n",
              "0  Police find mass graves with at least '15 bodi...      712  unrelated\n",
              "1  Hundreds of Palestinians flee floods in Gaza a...      158      agree\n",
              "2  Christian Bale passes on role of Steve Jobs, a...      137  unrelated\n",
              "3  HBO and Apple in Talks for $15/Month Apple TV ...     1034  unrelated\n",
              "4  Spider burrowed through tourist's stomach and ...     1923   disagree"
            ]
          },
          "metadata": {
            "tags": []
          },
          "execution_count": 118
        }
      ]
    },
    {
      "cell_type": "code",
      "metadata": {
        "id": "BKWumaHZhJ4b",
        "colab_type": "code",
        "colab": {
          "base_uri": "https://localhost:8080/",
          "height": 33
        },
        "outputId": "da95b2fa-abc3-4ae7-e1c8-0fd89f74a322"
      },
      "source": [
        "print(train_stances.shape)"
      ],
      "execution_count": 119,
      "outputs": [
        {
          "output_type": "stream",
          "text": [
            "(49972, 3)\n"
          ],
          "name": "stdout"
        }
      ]
    },
    {
      "cell_type": "code",
      "metadata": {
        "id": "kp19-3PYhUCb",
        "colab_type": "code",
        "colab": {
          "base_uri": "https://localhost:8080/",
          "height": 33
        },
        "outputId": "e6b939d8-c0ce-4ea9-f854-2d7ce3a30b3d"
      },
      "source": [
        "print(\"Train Data Distribution: \",collections.Counter(train_stances['Stance']))"
      ],
      "execution_count": 120,
      "outputs": [
        {
          "output_type": "stream",
          "text": [
            "Train Data Distribution:  Counter({'unrelated': 36545, 'discuss': 8909, 'agree': 3678, 'disagree': 840})\n"
          ],
          "name": "stdout"
        }
      ]
    },
    {
      "cell_type": "code",
      "metadata": {
        "id": "gn_CY0E-hUF0",
        "colab_type": "code",
        "colab": {
          "base_uri": "https://localhost:8080/",
          "height": 294
        },
        "outputId": "ffbd07e7-9faf-49fb-e9b9-17dc67d93b56"
      },
      "source": [
        "plt.bar(collections.Counter(train_stances['Stance']).keys(),collections.Counter(train_stances['Stance']).values(),color=[\n",
        "                     'seagreen', 'skyblue','pink','gray'])\n",
        "plt.xlabel(\"Stance\")\n",
        "plt.ylabel('Frequency')\n",
        "plt.title('Stance Distribution at Train set')\n",
        "plt.show()"
      ],
      "execution_count": 121,
      "outputs": [
        {
          "output_type": "display_data",
          "data": {
            "image/png": "[encoded data removed]",
            "text/plain": [
              "<Figure size 432x288 with 1 Axes>"
            ]
          },
          "metadata": {
            "tags": [],
            "needs_background": "light"
          }
        }
      ]
    },
    {
      "cell_type": "code",
      "metadata": {
        "id": "3vkPeaCMhdu-",
        "colab_type": "code",
        "colab": {}
      },
      "source": [
        "train_stances_unrelated=train_stances[train_stances['Stance']=='unrelated']\n",
        "train_stances_agree=train_stances[train_stances['Stance']=='agree']\n",
        "train_stances_disagree=train_stances[train_stances['Stance']=='disagree']\n",
        "train_stances_discuss=train_stances[train_stances['Stance']=='discuss']"
      ],
      "execution_count": 122,
      "outputs": []
    },
    {
      "cell_type": "code",
      "metadata": {
        "id": "ViEqjDKRhdy5",
        "colab_type": "code",
        "colab": {
          "base_uri": "https://localhost:8080/",
          "height": 83
        },
        "outputId": "1cec499e-1d4b-4e41-f6b4-f3f1e0656bc3"
      },
      "source": [
        "print(train_stances_unrelated.shape)\n",
        "print(train_stances_agree.shape)\n",
        "print(train_stances_disagree.shape)\n",
        "print(train_stances_discuss.shape)"
      ],
      "execution_count": 123,
      "outputs": [
        {
          "output_type": "stream",
          "text": [
            "(36545, 3)\n",
            "(3678, 3)\n",
            "(840, 3)\n",
            "(8909, 3)\n"
          ],
          "name": "stdout"
        }
      ]
    },
    {
      "cell_type": "markdown",
      "metadata": {
        "id": "0Wgmgmj_lekQ",
        "colab_type": "text"
      },
      "source": [
        "- Total stances: 49972\n",
        "  - unrelated: 73.1%\n",
        "  - agree: 7.3%\n",
        "  - disagree:1.6%\n",
        "  - discuss:17.8%"
      ]
    },
    {
      "cell_type": "markdown",
      "metadata": {
        "id": "ftYBUAWflln3",
        "colab_type": "text"
      },
      "source": [
        "### Taking 50% of unrelated only | undersampling the abundant class \n",
        "##### https://www.kdnuggets.com/2017/06/7-techniques-handle-imbalanced-data.html"
      ]
    },
    {
      "cell_type": "code",
      "metadata": {
        "id": "J_8574OLi3oG",
        "colab_type": "code",
        "colab": {}
      },
      "source": [
        "train_stances_unrelated=train_stances_unrelated.sample(frac=1).reset_index(drop=True)[0:18272]"
      ],
      "execution_count": 124,
      "outputs": []
    },
    {
      "cell_type": "code",
      "metadata": {
        "id": "-xNjMBK4mH18",
        "colab_type": "code",
        "colab": {
          "base_uri": "https://localhost:8080/",
          "height": 406
        },
        "outputId": "f6dd85e8-f615-407f-cf49-76b3368237d1"
      },
      "source": [
        "train_stances_unrelated"
      ],
      "execution_count": 125,
      "outputs": [
        {
          "output_type": "execute_result",
          "data": {
            "text/html": [
              "<div>\n",
              "<style scoped>\n",
              "    .dataframe tbody tr th:only-of-type {\n",
              "        vertical-align: middle;\n",
              "    }\n",
              "\n",
              "    .dataframe tbody tr th {\n",
              "        vertical-align: top;\n",
              "    }\n",
              "\n",
              "    .dataframe thead th {\n",
              "        text-align: right;\n",
              "    }\n",
              "</style>\n",
              "<table border=\"1\" class=\"dataframe\">\n",
              "  <thead>\n",
              "    <tr style=\"text-align: right;\">\n",
              "      <th></th>\n",
              "      <th>Headline</th>\n",
              "      <th>Body ID</th>\n",
              "      <th>Stance</th>\n",
              "    </tr>\n",
              "  </thead>\n",
              "  <tbody>\n",
              "    <tr>\n",
              "      <th>0</th>\n",
              "      <td>Managua explosion not a meteorite, NASA suggests</td>\n",
              "      <td>1795</td>\n",
              "      <td>unrelated</td>\n",
              "    </tr>\n",
              "    <tr>\n",
              "      <th>1</th>\n",
              "      <td>Say 'eh-oh!' to the Teletubbies SUN BABY - can...</td>\n",
              "      <td>470</td>\n",
              "      <td>unrelated</td>\n",
              "    </tr>\n",
              "    <tr>\n",
              "      <th>2</th>\n",
              "      <td>Senior Western Intelligence Official Confirms ...</td>\n",
              "      <td>1252</td>\n",
              "      <td>unrelated</td>\n",
              "    </tr>\n",
              "    <tr>\n",
              "      <th>3</th>\n",
              "      <td>Christian Bale Is Steve Jobs</td>\n",
              "      <td>1839</td>\n",
              "      <td>unrelated</td>\n",
              "    </tr>\n",
              "    <tr>\n",
              "      <th>4</th>\n",
              "      <td>This Man Paid Off His Parents' Mortgage for Ch...</td>\n",
              "      <td>1459</td>\n",
              "      <td>unrelated</td>\n",
              "    </tr>\n",
              "    <tr>\n",
              "      <th>...</th>\n",
              "      <td>...</td>\n",
              "      <td>...</td>\n",
              "      <td>...</td>\n",
              "    </tr>\n",
              "    <tr>\n",
              "      <th>18267</th>\n",
              "      <td>Everyone chill! Banksy has NOT been arrested</td>\n",
              "      <td>1269</td>\n",
              "      <td>unrelated</td>\n",
              "    </tr>\n",
              "    <tr>\n",
              "      <th>18268</th>\n",
              "      <td>MPs credit sergeant-at-arms for saving lives i...</td>\n",
              "      <td>2410</td>\n",
              "      <td>unrelated</td>\n",
              "    </tr>\n",
              "    <tr>\n",
              "      <th>18269</th>\n",
              "      <td>Jordan king cites Clint Eastwood in revenge vow</td>\n",
              "      <td>803</td>\n",
              "      <td>unrelated</td>\n",
              "    </tr>\n",
              "    <tr>\n",
              "      <th>18270</th>\n",
              "      <td>#Hairgate: iPhone 6 users say device pulls out...</td>\n",
              "      <td>304</td>\n",
              "      <td>unrelated</td>\n",
              "    </tr>\n",
              "    <tr>\n",
              "      <th>18271</th>\n",
              "      <td>Batmobile stolen in Detroit? Good one, joker!</td>\n",
              "      <td>972</td>\n",
              "      <td>unrelated</td>\n",
              "    </tr>\n",
              "  </tbody>\n",
              "</table>\n",
              "<p>18272 rows × 3 columns</p>\n",
              "</div>"
            ],
            "text/plain": [
              "                                                Headline  Body ID     Stance\n",
              "0       Managua explosion not a meteorite, NASA suggests     1795  unrelated\n",
              "1      Say 'eh-oh!' to the Teletubbies SUN BABY - can...      470  unrelated\n",
              "2      Senior Western Intelligence Official Confirms ...     1252  unrelated\n",
              "3                           Christian Bale Is Steve Jobs     1839  unrelated\n",
              "4      This Man Paid Off His Parents' Mortgage for Ch...     1459  unrelated\n",
              "...                                                  ...      ...        ...\n",
              "18267       Everyone chill! Banksy has NOT been arrested     1269  unrelated\n",
              "18268  MPs credit sergeant-at-arms for saving lives i...     2410  unrelated\n",
              "18269    Jordan king cites Clint Eastwood in revenge vow      803  unrelated\n",
              "18270  #Hairgate: iPhone 6 users say device pulls out...      304  unrelated\n",
              "18271      Batmobile stolen in Detroit? Good one, joker!      972  unrelated\n",
              "\n",
              "[18272 rows x 3 columns]"
            ]
          },
          "metadata": {
            "tags": []
          },
          "execution_count": 125
        }
      ]
    },
    {
      "cell_type": "code",
      "metadata": {
        "id": "6_XV_f9emSdp",
        "colab_type": "code",
        "colab": {}
      },
      "source": [
        "train_stances_resampled=pd.concat([train_stances_unrelated,train_stances_agree\n",
        "                                   ,train_stances_disagree,train_stances_discuss],axis=0)"
      ],
      "execution_count": 126,
      "outputs": []
    },
    {
      "cell_type": "code",
      "metadata": {
        "id": "g20j4NstnCXh",
        "colab_type": "code",
        "colab": {}
      },
      "source": [
        "train_stances_resampled=train_stances_resampled.sample(frac=1).reset_index(drop=True)"
      ],
      "execution_count": 127,
      "outputs": []
    },
    {
      "cell_type": "code",
      "metadata": {
        "id": "cDCjzlMaZ8oN",
        "colab_type": "code",
        "colab": {
          "base_uri": "https://localhost:8080/",
          "height": 406
        },
        "outputId": "57845d9f-bf65-4e78-a403-1158545ffd2b"
      },
      "source": [
        "train_stances_resampled"
      ],
      "execution_count": 128,
      "outputs": [
        {
          "output_type": "execute_result",
          "data": {
            "text/html": [
              "<div>\n",
              "<style scoped>\n",
              "    .dataframe tbody tr th:only-of-type {\n",
              "        vertical-align: middle;\n",
              "    }\n",
              "\n",
              "    .dataframe tbody tr th {\n",
              "        vertical-align: top;\n",
              "    }\n",
              "\n",
              "    .dataframe thead th {\n",
              "        text-align: right;\n",
              "    }\n",
              "</style>\n",
              "<table border=\"1\" class=\"dataframe\">\n",
              "  <thead>\n",
              "    <tr style=\"text-align: right;\">\n",
              "      <th></th>\n",
              "      <th>Headline</th>\n",
              "      <th>Body ID</th>\n",
              "      <th>Stance</th>\n",
              "    </tr>\n",
              "  </thead>\n",
              "  <tbody>\n",
              "    <tr>\n",
              "      <th>0</th>\n",
              "      <td>Developer quits using the app he was hired to ...</td>\n",
              "      <td>2458</td>\n",
              "      <td>discuss</td>\n",
              "    </tr>\n",
              "    <tr>\n",
              "      <th>1</th>\n",
              "      <td>Meteorite Strikes Nicaraguan Capital, Creates ...</td>\n",
              "      <td>1073</td>\n",
              "      <td>discuss</td>\n",
              "    </tr>\n",
              "    <tr>\n",
              "      <th>2</th>\n",
              "      <td>Dead for 48 minutes, Catholic Priest claims Go...</td>\n",
              "      <td>2240</td>\n",
              "      <td>agree</td>\n",
              "    </tr>\n",
              "    <tr>\n",
              "      <th>3</th>\n",
              "      <td>Spider burrowed into appendix scar, crawled th...</td>\n",
              "      <td>1848</td>\n",
              "      <td>unrelated</td>\n",
              "    </tr>\n",
              "    <tr>\n",
              "      <th>4</th>\n",
              "      <td>The Internet Tried To Make Axl Rose Its Latest...</td>\n",
              "      <td>144</td>\n",
              "      <td>unrelated</td>\n",
              "    </tr>\n",
              "    <tr>\n",
              "      <th>...</th>\n",
              "      <td>...</td>\n",
              "      <td>...</td>\n",
              "      <td>...</td>\n",
              "    </tr>\n",
              "    <tr>\n",
              "      <th>31694</th>\n",
              "      <td>Eyewitness: Viral Video That Netted $130K in D...</td>\n",
              "      <td>1429</td>\n",
              "      <td>discuss</td>\n",
              "    </tr>\n",
              "    <tr>\n",
              "      <th>31695</th>\n",
              "      <td>Banksy arrest hoax: US website claims street a...</td>\n",
              "      <td>1437</td>\n",
              "      <td>unrelated</td>\n",
              "    </tr>\n",
              "    <tr>\n",
              "      <th>31696</th>\n",
              "      <td>US drones hunt Isis leader in Syria</td>\n",
              "      <td>304</td>\n",
              "      <td>unrelated</td>\n",
              "    </tr>\n",
              "    <tr>\n",
              "      <th>31697</th>\n",
              "      <td>Soldier shot at war memorial in Canada</td>\n",
              "      <td>892</td>\n",
              "      <td>unrelated</td>\n",
              "    </tr>\n",
              "    <tr>\n",
              "      <th>31698</th>\n",
              "      <td>KFC Marijuana Sales To Begin In Colorado? It’s...</td>\n",
              "      <td>1933</td>\n",
              "      <td>agree</td>\n",
              "    </tr>\n",
              "  </tbody>\n",
              "</table>\n",
              "<p>31699 rows × 3 columns</p>\n",
              "</div>"
            ],
            "text/plain": [
              "                                                Headline  Body ID     Stance\n",
              "0      Developer quits using the app he was hired to ...     2458    discuss\n",
              "1      Meteorite Strikes Nicaraguan Capital, Creates ...     1073    discuss\n",
              "2      Dead for 48 minutes, Catholic Priest claims Go...     2240      agree\n",
              "3      Spider burrowed into appendix scar, crawled th...     1848  unrelated\n",
              "4      The Internet Tried To Make Axl Rose Its Latest...      144  unrelated\n",
              "...                                                  ...      ...        ...\n",
              "31694  Eyewitness: Viral Video That Netted $130K in D...     1429    discuss\n",
              "31695  Banksy arrest hoax: US website claims street a...     1437  unrelated\n",
              "31696                US drones hunt Isis leader in Syria      304  unrelated\n",
              "31697             Soldier shot at war memorial in Canada      892  unrelated\n",
              "31698  KFC Marijuana Sales To Begin In Colorado? It’s...     1933      agree\n",
              "\n",
              "[31699 rows x 3 columns]"
            ]
          },
          "metadata": {
            "tags": []
          },
          "execution_count": 128
        }
      ]
    },
    {
      "cell_type": "code",
      "metadata": {
        "id": "PRmFdmwUyio9",
        "colab_type": "code",
        "colab": {}
      },
      "source": [
        "train_stances_resampled.to_csv('/content/drive/My Drive/fnc-1/train_stances_resampled.csv',index=False)"
      ],
      "execution_count": 129,
      "outputs": []
    },
    {
      "cell_type": "markdown",
      "metadata": {
        "id": "SimEgIk-C1H1",
        "colab_type": "text"
      },
      "source": [
        "### Functions to form various features "
      ]
    },
    {
      "cell_type": "code",
      "metadata": {
        "id": "yXG88TCotLR6",
        "colab_type": "code",
        "colab": {}
      },
      "source": [
        "# Feature Functions(taken from baseline and added cosine similarity)\n",
        "def normalize_word(w):\n",
        "    return _wnl.lemmatize(w).lower()\n",
        "\n",
        "\n",
        "def get_tokenized_lemmas(s):\n",
        "    return [normalize_word(t) for t in nltk.word_tokenize(s)]\n",
        "\n",
        "\n",
        "def clean(s):\n",
        "    # Cleans a string: Lowercasing, trimming, removing non-alphanumeric\n",
        "\n",
        "    return \" \".join(re.findall(r'\\w+', s, flags=re.UNICODE)).lower()\n",
        "\n",
        "\n",
        "def remove_stopwords(l):\n",
        "    # Removes stopwords from a list of tokens\n",
        "    return [w for w in l if w not in feature_extraction.text.ENGLISH_STOP_WORDS]\n",
        "\n",
        "\n",
        "def gen_or_load_feats(feat_fn, headlines, bodies, feature_file):\n",
        "  # if not os.path.isfile(feature_file):\n",
        "    feats = feat_fn(headlines, bodies)\n",
        "    np.save(feature_file, feats)\n",
        "    return np.load(feature_file)\n",
        "\n",
        "def word_overlap_features(headlines, bodies):\n",
        "    X = []\n",
        "    for i, (headline, body) in tqdm(enumerate(zip(headlines, bodies))):\n",
        "        clean_headline = clean(headline)\n",
        "        clean_body = clean(body)\n",
        "        clean_headline = get_tokenized_lemmas(clean_headline)\n",
        "        clean_body = get_tokenized_lemmas(clean_body)\n",
        "        features = [\n",
        "            len(set(clean_headline).intersection(clean_body)) / float(len(set(clean_headline).union(clean_body)))]\n",
        "        X.append(features)\n",
        "    return X\n",
        "\n",
        "\n",
        "def refuting_features(headlines, bodies):\n",
        "    _refuting_words = [\n",
        "        'fake',\n",
        "        'fraud',\n",
        "        'hoax',\n",
        "        'false',\n",
        "        'deny', 'denies',\n",
        "        # 'refute',\n",
        "        'not',\n",
        "        'despite',\n",
        "        'nope',\n",
        "        'doubt', 'doubts',\n",
        "        'bogus',\n",
        "        'debunk',\n",
        "        'pranks',\n",
        "        'retract'\n",
        "    ]\n",
        "    X = []\n",
        "    for i, (headline, body) in tqdm(enumerate(zip(headlines, bodies))):\n",
        "        clean_headline = clean(headline)\n",
        "        clean_headline = get_tokenized_lemmas(clean_headline)\n",
        "        features = [1 if word in clean_headline else 0 for word in _refuting_words]\n",
        "        X.append(features)\n",
        "    return X\n",
        "\n",
        "\n",
        "def polarity_features(headlines, bodies):\n",
        "    _refuting_words = [\n",
        "        'fake',\n",
        "        'fraud',\n",
        "        'hoax',\n",
        "        'false',\n",
        "        'deny', 'denies',\n",
        "        'not',\n",
        "        'despite',\n",
        "        'nope',\n",
        "        'doubt', 'doubts',\n",
        "        'bogus',\n",
        "        'debunk',\n",
        "        'pranks',\n",
        "        'retract'\n",
        "    ]\n",
        "\n",
        "    def calculate_polarity(text):\n",
        "        tokens = get_tokenized_lemmas(text)\n",
        "        return sum([t in _refuting_words for t in tokens]) % 2\n",
        "    X = []\n",
        "    for i, (headline, body) in tqdm(enumerate(zip(headlines, bodies))):\n",
        "        clean_headline = clean(headline)\n",
        "        clean_body = clean(body)\n",
        "        features = []\n",
        "        features.append(calculate_polarity(clean_headline))\n",
        "        features.append(calculate_polarity(clean_body))\n",
        "        X.append(features)\n",
        "    return np.array(X)\n",
        "\n",
        "\n",
        "def ngrams(input, n):\n",
        "    input = input.split(' ')\n",
        "    output = []\n",
        "    for i in range(len(input) - n + 1):\n",
        "        output.append(input[i:i + n])\n",
        "    return output\n",
        "\n",
        "\n",
        "def chargrams(input, n):\n",
        "    output = []\n",
        "    for i in range(len(input) - n + 1):\n",
        "        output.append(input[i:i + n])\n",
        "    return output\n",
        "\n",
        "\n",
        "def append_chargrams(features, text_headline, text_body, size):\n",
        "    grams = [' '.join(x) for x in chargrams(\" \".join(remove_stopwords(text_headline.split())), size)]\n",
        "    grams_hits = 0\n",
        "    grams_early_hits = 0\n",
        "    grams_first_hits = 0\n",
        "    for gram in grams:\n",
        "        if gram in text_body:\n",
        "            grams_hits += 1\n",
        "        if gram in text_body[:255]:\n",
        "            grams_early_hits += 1\n",
        "        if gram in text_body[:100]:\n",
        "            grams_first_hits += 1\n",
        "    features.append(grams_hits)\n",
        "    features.append(grams_early_hits)\n",
        "    features.append(grams_first_hits)\n",
        "    return features\n",
        "\n",
        "\n",
        "def append_ngrams(features, text_headline, text_body, size):\n",
        "    grams = [' '.join(x) for x in ngrams(text_headline, size)]\n",
        "    grams_hits = 0\n",
        "    grams_early_hits = 0\n",
        "    for gram in grams:\n",
        "        if gram in text_body:\n",
        "            grams_hits += 1\n",
        "        if gram in text_body[:255]:\n",
        "            grams_early_hits += 1\n",
        "    features.append(grams_hits)\n",
        "    features.append(grams_early_hits)\n",
        "    return features\n",
        "\n",
        "def cosine_similarity_h(headlines, bodies):\n",
        "\tvectorizer = TfidfVectorizer(ngram_range=(1,2), lowercase=True, stop_words='english')#, max_features=1024)\n",
        "\n",
        "\tcos_sim_features = []\n",
        "\tfor i in range(0, len(bodies)):\n",
        "\t\tbody_headline = []\n",
        "\t\tbody_headline.append(bodies[i])\n",
        "\t\tbody_headline.append(headlines[i])\n",
        "\t\ttfidf = vectorizer.fit_transform(body_headline)\n",
        "\n",
        "\t\tcosine_similarity = (tfidf * tfidf.T).A\n",
        "\t\tcos_sim_features.append(cosine_similarity[0][1])\n",
        "\n",
        "\t\n",
        "\tcos_sim_array = np.array(cos_sim_features) \n",
        "\n",
        "\treturn cos_sim_array\n",
        "\n",
        "def hand_features(headlines, bodies):\n",
        "\n",
        "    def binary_co_occurence(headline, body):\n",
        "        # Count how many times a token in the title\n",
        "        # appears in the body text.\n",
        "        bin_count = 0\n",
        "        bin_count_early = 0\n",
        "        for headline_token in clean(headline).split(\" \"):\n",
        "            if headline_token in clean(body):\n",
        "                bin_count += 1\n",
        "            if headline_token in clean(body)[:255]:\n",
        "                bin_count_early += 1\n",
        "        return [bin_count, bin_count_early]\n",
        "\n",
        "    def binary_co_occurence_stops(headline, body):\n",
        "        # Count how many times a token in the title\n",
        "        # appears in the body text. Stopwords in the title\n",
        "        # are ignored.\n",
        "        bin_count = 0\n",
        "        bin_count_early = 0\n",
        "        for headline_token in remove_stopwords(clean(headline).split(\" \")):\n",
        "            if headline_token in clean(body):\n",
        "                bin_count += 1\n",
        "                bin_count_early += 1\n",
        "        return [bin_count, bin_count_early]\n",
        "\n",
        "    def count_grams(headline, body):\n",
        "        # Count how many times an n-gram of the title\n",
        "        # appears in the entire body, and intro paragraph\n",
        "\n",
        "        clean_body = clean(body)\n",
        "        clean_headline = clean(headline)\n",
        "        features = []\n",
        "        features = append_chargrams(features, clean_headline, clean_body, 2)\n",
        "        features = append_chargrams(features, clean_headline, clean_body, 8)\n",
        "        features = append_chargrams(features, clean_headline, clean_body, 4)\n",
        "        features = append_chargrams(features, clean_headline, clean_body, 16)\n",
        "        features = append_ngrams(features, clean_headline, clean_body, 2)\n",
        "        features = append_ngrams(features, clean_headline, clean_body, 3)\n",
        "        features = append_ngrams(features, clean_headline, clean_body, 4)\n",
        "        features = append_ngrams(features, clean_headline, clean_body, 5)\n",
        "        features = append_ngrams(features, clean_headline, clean_body, 6)\n",
        "        return features\n",
        "\n",
        "    X = []\n",
        "    for i, (headline, body) in tqdm(enumerate(zip(headlines, bodies))):\n",
        "        X.append(binary_co_occurence(headline, body)\n",
        "                 + binary_co_occurence_stops(headline, body)\n",
        "                 + count_grams(headline, body))\n",
        "\n",
        "\n",
        "    return X\n"
      ],
      "execution_count": 130,
      "outputs": []
    },
    {
      "cell_type": "markdown",
      "metadata": {
        "id": "ntlcxEiDDLsv",
        "colab_type": "text"
      },
      "source": [
        "### Functions to generate splits"
      ]
    },
    {
      "cell_type": "code",
      "metadata": {
        "id": "iRuNhRARuq3y",
        "colab_type": "code",
        "colab": {}
      },
      "source": [
        "\n",
        "# Functions to generate splits\n",
        "\n",
        "def generate_hold_out_split (dataset, training = 0.8, base_dir=\"/content/drive/My Drive/fnc-1/\"):\n",
        "    r = random.Random()\n",
        "    r.seed(1489215)\n",
        "\n",
        "    article_ids = list(dataset.articles.keys())  # get a list of article ids\n",
        "    r.shuffle(article_ids)  # and shuffle that list\n",
        "\n",
        "\n",
        "    training_ids = article_ids[:int(training * len(article_ids))]\n",
        "    hold_out_ids = article_ids[int(training * len(article_ids)):]\n",
        "\n",
        "    # write the split body ids out to files for future use\n",
        "    with open(base_dir+ \"/\"+ \"training_ids.txt\", \"w+\") as f:\n",
        "        f.write(\"\\n\".join([str(id) for id in training_ids]))\n",
        "\n",
        "    with open(base_dir+ \"/\"+ \"hold_out_ids.txt\", \"w+\") as f:\n",
        "        f.write(\"\\n\".join([str(id) for id in hold_out_ids]))\n",
        "\n",
        "\n",
        "\n",
        "def read_ids(file,base):\n",
        "    ids = []\n",
        "    with open(base+\"/\"+file,\"r\") as f:\n",
        "        for line in f:\n",
        "           ids.append(int(line))\n",
        "        return ids\n",
        "\n",
        "\n",
        "def kfold_split(dataset, training = 0.8, n_folds = 10, base_dir=\"/content/drive/My Drive/fnc-1\"):\n",
        "    if not (os.path.exists(base_dir+ \"/\"+ \"training_ids.txt\")\n",
        "            and os.path.exists(base_dir+ \"/\"+ \"hold_out_ids.txt\")):\n",
        "        generate_hold_out_split(dataset,training,base_dir)\n",
        "\n",
        "    training_ids = read_ids(\"training_ids.txt\", base_dir)\n",
        "    hold_out_ids = read_ids(\"hold_out_ids.txt\", base_dir)\n",
        "\n",
        "    folds = []\n",
        "    for k in range(n_folds):\n",
        "        folds.append(training_ids[int(k*len(training_ids)/n_folds):int((k+1)*len(training_ids)/n_folds)])\n",
        "\n",
        "    return folds,hold_out_ids\n",
        "\n",
        "\n",
        "def get_stances_for_folds(dataset,folds,hold_out):\n",
        "    stances_folds = defaultdict(list)\n",
        "    stances_hold_out = []\n",
        "    for stance in dataset.stances:\n",
        "        if stance['Body ID'] in hold_out:\n",
        "            stances_hold_out.append(stance)\n",
        "        else:\n",
        "            fold_id = 0\n",
        "            for fold in folds:\n",
        "                if stance['Body ID'] in fold:\n",
        "                    stances_folds[fold_id].append(stance)\n",
        "                fold_id += 1\n",
        "\n",
        "    return stances_folds,stances_hold_out\n"
      ],
      "execution_count": 131,
      "outputs": []
    },
    {
      "cell_type": "markdown",
      "metadata": {
        "id": "M1-wXahADS4t",
        "colab_type": "text"
      },
      "source": [
        "### Functions to generate the score"
      ]
    },
    {
      "cell_type": "code",
      "metadata": {
        "id": "ctcVfMkpvN7r",
        "colab_type": "code",
        "colab": {}
      },
      "source": [
        "# Score functions\n",
        "LABELS = ['agree', 'disagree', 'discuss', 'unrelated']\n",
        "LABELS_RELATED = ['unrelated','related']\n",
        "RELATED = LABELS[0:3]\n",
        "\n",
        "def score_submission(gold_labels, test_labels):\n",
        "    score = 0.0\n",
        "    cm = [[0, 0, 0, 0],\n",
        "          [0, 0, 0, 0],\n",
        "          [0, 0, 0, 0],\n",
        "          [0, 0, 0, 0]]\n",
        "\n",
        "    for i, (g, t) in enumerate(zip(gold_labels, test_labels)):\n",
        "        g_stance, t_stance = g, t\n",
        "        if g_stance == t_stance:\n",
        "            score += 0.25\n",
        "            if g_stance != 'unrelated':\n",
        "                score += 0.50\n",
        "        if g_stance in RELATED and t_stance in RELATED:\n",
        "            score += 0.25\n",
        "\n",
        "        cm[LABELS.index(g_stance)][LABELS.index(t_stance)] += 1\n",
        "\n",
        "    return score, cm\n",
        "\n",
        "# function for printing confusion Matrix\n",
        "def print_confusion_matrix(cm):\n",
        "    lines = []\n",
        "    header = \"|{:^11}|{:^11}|{:^11}|{:^11}|{:^11}|\".format('', *LABELS)\n",
        "    line_len = len(header)\n",
        "    lines.append(\"-\"*line_len)\n",
        "    lines.append(header)\n",
        "    lines.append(\"-\"*line_len)\n",
        "\n",
        "    hit = 0\n",
        "    total = 0\n",
        "    for i, row in enumerate(cm):\n",
        "        hit += row[i]\n",
        "        total += sum(row)\n",
        "        lines.append(\"|{:^11}|{:^11}|{:^11}|{:^11}|{:^11}|\".format(LABELS[i],\n",
        "                                                                   *row))\n",
        "        lines.append(\"-\"*line_len)\n",
        "    print('\\n'.join(lines))\n",
        "\n",
        "\n",
        "def report_score(actual,predicted):\n",
        "    score,cm = score_submission(actual,predicted)\n",
        "    best_score, _ = score_submission(actual,actual)\n",
        "\n",
        "    print_confusion_matrix(cm)\n",
        "    print(\"Score: \" +str(score) + \" out of \" + str(best_score) + \"\\t(\"+str(score*100/best_score) + \"%)\")\n",
        "    return score*100/best_score\n",
        "\n",
        "\n"
      ],
      "execution_count": 132,
      "outputs": []
    },
    {
      "cell_type": "markdown",
      "metadata": {
        "id": "vTtqx_CJDi0B",
        "colab_type": "text"
      },
      "source": [
        "### Generating Features"
      ]
    },
    {
      "cell_type": "code",
      "metadata": {
        "id": "fjdeIHR5vclZ",
        "colab_type": "code",
        "colab": {
          "base_uri": "https://localhost:8080/",
          "height": 916
        },
        "outputId": "553acd2b-f953-4651-c602-156469bb7590"
      },
      "source": [
        "\n",
        "\n",
        "def generate_features(stances,dataset,name):\n",
        "    h, b, y = [],[],[]\n",
        "\n",
        "    for stance in stances:\n",
        "        y.append(LABELS.index(stance['Stance']))\n",
        "        h.append(stance['Headline'])\n",
        "        b.append(dataset.articles[stance['Body ID']])\n",
        "\n",
        "    X_overlap = gen_or_load_feats(word_overlap_features, h, b, \"overlap.\"+name+\".npy\")\n",
        "    X_refuting = gen_or_load_feats(refuting_features, h, b, \"refuting.\"+name+\".npy\")\n",
        "    X_polarity = gen_or_load_feats(polarity_features, h, b, \"polarity.\"+name+\".npy\")\n",
        "    X_hand = gen_or_load_feats(hand_features, h, b, \"hand.\"+name+\".npy\")\n",
        "    X_cosine=gen_or_load_feats(cosine_similarity_h,h,b,\"cosine.\"+name+\".npy\")\n",
        "\n",
        "    X = np.c_[X_hand, X_polarity, X_refuting, X_overlap,X_cosine]\n",
        "    X = preprocessing.scale(X)\n",
        "    return X,y\n",
        "    \n",
        "\n",
        "\n",
        "\n",
        "    \n",
        "#Load the training dataset and generate folds\n",
        "d = DataSet()\n",
        "folds,hold_out = kfold_split(d,n_folds=10)\n",
        "fold_stances, hold_out_stances = get_stances_for_folds(d,folds,hold_out)\n",
        "\n",
        "# Load the competition dataset\n",
        "competition_dataset = DataSet(\"competition_test\")\n",
        "X_competition, y_competition = generate_features(competition_dataset.stances, competition_dataset, \"competition\")\n",
        "    \n",
        "  \n",
        "Xs = dict()\n",
        "ys = dict()\n",
        "\n",
        "# Load/Precompute all features now\n",
        "X_holdout,y_holdout = generate_features(hold_out_stances,d,\"holdout\")\n",
        "for fold in fold_stances:\n",
        "    Xs[fold],ys[fold] = generate_features(fold_stances[fold],d,str(fold))\n",
        "\n",
        "\n",
        "best_score = 0\n",
        "best_fold = None\n",
        "\n",
        "    \n",
        "\n",
        "\n",
        "\n",
        "\n",
        "\n",
        "    \n",
        "# print(predicted)\n",
        "\n",
        "\n"
      ],
      "execution_count": 133,
      "outputs": [
        {
          "output_type": "stream",
          "text": [
            "Reading dataset\n",
            "Total stances: 31699\n",
            "Total bodies: 1683\n"
          ],
          "name": "stdout"
        },
        {
          "output_type": "stream",
          "text": [
            "\r0it [00:00, ?it/s]"
          ],
          "name": "stderr"
        },
        {
          "output_type": "stream",
          "text": [
            "Reading dataset\n",
            "Total stances: 25413\n",
            "Total bodies: 904\n"
          ],
          "name": "stdout"
        },
        {
          "output_type": "stream",
          "text": [
            "25413it [01:28, 287.29it/s]\n",
            "25413it [00:05, 4888.25it/s]\n",
            "25413it [01:29, 282.58it/s]\n",
            "25413it [01:34, 268.84it/s]\n",
            "6143it [00:22, 273.35it/s]\n",
            "6143it [00:01, 4867.26it/s]\n",
            "6143it [00:22, 267.55it/s]\n",
            "6143it [00:24, 248.77it/s]\n",
            "2528it [00:09, 273.12it/s]\n",
            "2528it [00:00, 5009.29it/s]\n",
            "2528it [00:09, 266.10it/s]\n",
            "2528it [00:09, 254.88it/s]\n",
            "2847it [00:10, 271.88it/s]\n",
            "2847it [00:00, 5141.40it/s]\n",
            "2847it [00:10, 261.60it/s]\n",
            "2847it [00:11, 250.97it/s]\n",
            "2959it [00:11, 266.81it/s]\n",
            "2959it [00:00, 4875.83it/s]\n",
            "2959it [00:11, 261.51it/s]\n",
            "2959it [00:11, 246.65it/s]\n",
            "2395it [00:09, 265.98it/s]\n",
            "2395it [00:00, 4997.53it/s]\n",
            "2395it [00:09, 259.93it/s]\n",
            "2395it [00:09, 246.33it/s]\n",
            "2498it [00:08, 281.75it/s]\n",
            "2498it [00:00, 5014.32it/s]\n",
            "2498it [00:08, 288.82it/s]\n",
            "2498it [00:09, 266.00it/s]\n",
            "2603it [00:09, 284.38it/s]\n",
            "2603it [00:00, 5102.10it/s]\n",
            "2603it [00:09, 280.17it/s]\n",
            "2603it [00:09, 266.45it/s]\n",
            "2499it [00:09, 257.39it/s]\n",
            "2499it [00:00, 5176.26it/s]\n",
            "2499it [00:09, 251.62it/s]\n",
            "2499it [00:10, 239.72it/s]\n",
            "2530it [00:09, 274.74it/s]\n",
            "2530it [00:00, 5036.70it/s]\n",
            "2530it [00:09, 270.45it/s]\n",
            "2530it [00:09, 253.61it/s]\n",
            "2275it [00:08, 265.48it/s]\n",
            "2275it [00:00, 5059.58it/s]\n",
            "2275it [00:08, 262.24it/s]\n",
            "2275it [00:09, 245.33it/s]\n",
            "2422it [00:07, 306.24it/s]\n",
            "2422it [00:00, 5090.73it/s]\n",
            "2422it [00:08, 297.51it/s]\n",
            "2422it [00:08, 279.30it/s]\n"
          ],
          "name": "stderr"
        }
      ]
    },
    {
      "cell_type": "code",
      "metadata": {
        "id": "ngEaQBn2Pzcj",
        "colab_type": "code",
        "colab": {
          "base_uri": "https://localhost:8080/",
          "height": 1000
        },
        "outputId": "32cd5b9d-ef62-400d-9480-cab40a5b73fb"
      },
      "source": [
        "# Classifier for each fold\n",
        "for fold in fold_stances:\n",
        "    ids = list(range(len(folds)))\n",
        "    del ids[fold]\n",
        "\n",
        "    X_train = np.vstack(tuple([Xs[i] for i in ids]))\n",
        "    y_train = np.hstack(tuple([ys[i] for i in ids]))\n",
        "\n",
        "    X_test = Xs[fold]\n",
        "    y_test = ys[fold]\n",
        "            \n",
        "            \n",
        "    gradientboosting = GradientBoostingClassifier( n_estimators=100, random_state=42,verbose=True,subsample=0.9)\n",
        "    gradientboosting.fit(X_train, y_train)\n",
        "            \n",
        "              \n",
        "    predicted = [LABELS[int(a)] for a in gradientboosting.predict(X_test)]   \n",
        "          \n",
        "            \n",
        "    actual = [LABELS[int(a)] for a in y_test]\n",
        "\n",
        "    fold_score, _ = score_submission(actual, predicted)\n",
        "    max_fold_score, _ = score_submission(actual, actual)\n",
        "\n",
        "    score = fold_score/max_fold_score\n",
        "\n",
        "    print(\"Score for fold \"+ str(fold) + \" was - \" + str(score))\n",
        "    if score > best_score:\n",
        "        best_score = score\n",
        "        best_fold = gradientboosting\n",
        "\n",
        "\n",
        "\n",
        "#Run on Holdout set and report the final score on the holdout set\n",
        "predicted = [LABELS[int(a)] for a in best_fold.predict(X_holdout)]\n",
        "    \n",
        "    \n",
        "actual = [LABELS[int(a)] for a in y_holdout]\n",
        "\n",
        "    \n",
        "report_score(actual,predicted)\n",
        "print(\"\")\n",
        "print(\"\")\n",
        "#Run on competition dataset\n",
        "   \n",
        "predicted = [LABELS[int(a)] for a in best_fold.predict(X_competition)]\n",
        "actual = [LABELS[int(a)] for a in y_competition]\n",
        "    \n",
        "    \n",
        "a=report_score(actual,predicted)"
      ],
      "execution_count": 134,
      "outputs": [
        {
          "output_type": "stream",
          "text": [
            "      Iter       Train Loss      OOB Improve   Remaining Time \n",
            "         1       18685.0352         264.6474           32.22s\n",
            "         2       16929.2196         197.1368           31.59s\n",
            "         3       15569.1233         147.4879           31.70s\n",
            "         4       14478.9138         118.4680           31.18s\n",
            "         5       13562.1310          98.3605           30.57s\n",
            "         6       12778.9238          81.1998           30.26s\n",
            "         7       12209.8036          64.6610           29.97s\n",
            "         8       11703.1468          54.7491           29.80s\n",
            "         9       11288.3237          46.3221           29.61s\n",
            "        10       10923.6287          38.9961           29.43s\n",
            "        20        9122.5592           7.5908           25.94s\n",
            "        30        8575.7122           2.8342           22.59s\n",
            "        40        8253.7819           0.3899           19.28s\n",
            "        50        8125.1535          -0.0561           15.99s\n",
            "        60        8012.6254          -0.0954           12.76s\n",
            "        70        7761.4553          -0.6123            9.55s\n",
            "        80        7645.8474          -0.4157            6.36s\n",
            "        90        7638.1982          -0.3529            3.18s\n",
            "       100        7475.5433          -0.5701            0.00s\n",
            "Score for fold 6 was - 0.7409616101379053\n",
            "      Iter       Train Loss      OOB Improve   Remaining Time \n",
            "         1       18619.5007         253.2856           31.26s\n",
            "         2       16843.2450         190.6008           30.56s\n",
            "         3       15500.9038         144.5075           30.06s\n",
            "         4       14459.2478         116.1055           29.92s\n",
            "         5       13554.2442          95.2831           29.68s\n",
            "         6       12850.0174          77.9039           29.28s\n",
            "         7       12224.9544          65.5217           28.86s\n",
            "         8       11726.1952          53.6327           28.61s\n",
            "         9       11341.8711          46.1812           28.34s\n",
            "        10       10903.9417          36.9731           27.98s\n",
            "        20        9161.3202           9.4376           24.59s\n",
            "        30        8549.2828           3.8671           21.53s\n",
            "        40        8298.6159           1.0029           18.61s\n",
            "        50        8048.5473           0.0688           15.52s\n",
            "        60        7894.3623           0.4053           12.43s\n",
            "        70        7751.1720           0.1634            9.32s\n",
            "        80        7691.0576          -0.2177            6.21s\n",
            "        90        7523.4770          -0.0527            3.11s\n",
            "       100        7455.5993          -0.4668            0.00s\n",
            "Score for fold 8 was - 0.807502467917078\n",
            "      Iter       Train Loss      OOB Improve   Remaining Time \n",
            "         1       18511.6058         252.1691           30.66s\n",
            "         2       16815.3432         183.8272           30.43s\n",
            "         3       15458.6885         142.8856           29.89s\n",
            "         4       14294.9684         118.4387           29.70s\n",
            "         5       13425.1806          93.5681           29.36s\n",
            "         6       12704.3753          77.7704           29.07s\n",
            "         7       12158.2170          64.3563           28.86s\n",
            "         8       11666.5748          55.2394           28.54s\n",
            "         9       11296.4775          45.6248           28.21s\n",
            "        10       10823.9462          36.2568           27.89s\n",
            "        20        9044.6169           8.3790           24.52s\n",
            "        30        8518.4278           2.8528           21.48s\n",
            "        40        8227.7949           0.4659           18.50s\n",
            "        50        8027.1956          -0.0096           15.55s\n",
            "        60        7829.1756           0.3323           12.45s\n",
            "        70        7765.4025          -0.0036            9.34s\n",
            "        80        7722.5299          -0.4321            6.23s\n",
            "        90        7534.6632           0.0121            3.12s\n",
            "       100        7470.7282          -0.3480            0.00s\n",
            "Score for fold 0 was - 0.7984195847536412\n",
            "      Iter       Train Loss      OOB Improve   Remaining Time \n",
            "         1       18865.8732         259.7070           30.79s\n",
            "         2       17059.4056         192.3072           30.46s\n",
            "         3       15682.8818         149.9245           30.76s\n",
            "         4       14601.2704         118.9003           30.42s\n",
            "         5       13739.0465          99.1324           30.12s\n",
            "         6       12971.0486          79.7592           29.96s\n",
            "         7       12358.1248          67.9449           29.75s\n",
            "         8       11820.7131          55.4528           29.46s\n",
            "         9       11402.0075          45.1989           29.21s\n",
            "        10       11013.9361          38.6761           28.87s\n",
            "        20        9255.0844           9.1081           25.29s\n",
            "        30        8662.5629           3.2171           22.28s\n",
            "        40        8302.2631           0.9189           19.22s\n",
            "        50        8209.3346           0.4072           16.18s\n",
            "        60        7947.7826          -0.3567           13.04s\n",
            "        70        7907.8437           0.2413            9.83s\n",
            "        80        7737.3457          -0.3256            6.57s\n",
            "        90        7666.2454          -0.4460            3.29s\n",
            "       100        7555.4347          -0.2701            0.00s\n",
            "Score for fold 2 was - 0.8120447681648606\n",
            "      Iter       Train Loss      OOB Improve   Remaining Time \n",
            "         1       18767.2625         257.6246           33.87s\n",
            "         2       16984.2230         191.4256           33.24s\n",
            "         3       15732.1611         147.8826           32.62s\n",
            "         4       14526.8828         118.8950           32.20s\n",
            "         5       13682.5503          97.3539           31.60s\n",
            "         6       12890.7082          78.5623           30.96s\n",
            "         7       12352.4930          65.6639           30.58s\n",
            "         8       11850.9451          55.6801           30.16s\n",
            "         9       11400.3778          45.0602           29.67s\n",
            "        10       10975.2926          37.9680           29.24s\n",
            "        20        9237.7148           8.1377           25.44s\n",
            "        30        8636.2921           2.9002           22.12s\n",
            "        40        8333.8892           0.5451           18.98s\n",
            "        50        8141.6389           0.3848           15.85s\n",
            "        60        7995.9246          -0.2005           12.71s\n",
            "        70        7940.8654          -0.1333            9.55s\n",
            "        80        7751.1009          -0.5907            6.36s\n",
            "        90        7702.0265           0.3806            3.18s\n",
            "       100        7539.6983          -0.5103            0.00s\n",
            "Score for fold 4 was - 0.7759336099585062\n",
            "      Iter       Train Loss      OOB Improve   Remaining Time \n",
            "         1       18714.7124         251.9106           32.23s\n",
            "         2       16950.4846         187.9041           31.26s\n",
            "         3       15618.7252         150.2752           30.88s\n",
            "         4       14491.3152         119.8587           30.53s\n",
            "         5       13628.3427          95.0356           30.10s\n",
            "         6       12944.0138          77.9778           29.73s\n",
            "         7       12284.3390          66.8184           29.38s\n",
            "         8       11776.6743          55.7420           28.99s\n",
            "         9       11329.4141          45.5760           28.61s\n",
            "        10       10971.5265          37.9090           28.39s\n",
            "        20        9202.8195           7.2980           25.04s\n",
            "        30        8594.4177           3.2639           21.88s\n",
            "        40        8288.9854           0.2707           18.74s\n",
            "        50        8057.8526           0.1590           15.62s\n",
            "        60        7916.7619          -0.6175           12.53s\n",
            "        70        7827.7400          -0.0714            9.42s\n",
            "        80        7702.8818          -0.7012            6.28s\n",
            "        90        7623.2209          -0.7734            3.14s\n",
            "       100        7564.7006          -0.8324            0.00s\n",
            "Score for fold 3 was - 0.7974220519073332\n",
            "      Iter       Train Loss      OOB Improve   Remaining Time \n",
            "         1       18697.3666         259.6386           30.99s\n",
            "         2       16899.9804         185.5014           30.57s\n",
            "         3       15534.8230         148.6186           30.44s\n",
            "         4       14473.0482         119.7223           30.36s\n",
            "         5       13628.8500          96.6773           29.98s\n",
            "         6       12880.1449          77.8580           29.63s\n",
            "         7       12247.8664          66.0551           29.40s\n",
            "         8       11714.6635          54.1787           29.12s\n",
            "         9       11332.0610          46.3349           28.85s\n",
            "        10       10960.7469          37.7788           28.61s\n",
            "        20        9130.1954           8.6602           25.29s\n",
            "        30        8542.0729           2.0016           22.15s\n",
            "        40        8261.7552           1.6967           18.97s\n",
            "        50        8080.0820           0.2946           15.90s\n",
            "        60        7973.3587           0.0588           12.73s\n",
            "        70        7870.9807           0.0125            9.56s\n",
            "        80        7718.4736          -0.3449            6.37s\n",
            "        90        7671.4962          -0.5606            3.18s\n",
            "       100        7506.7638          -0.6193            0.00s\n",
            "Score for fold 9 was - 0.7804710331786144\n",
            "      Iter       Train Loss      OOB Improve   Remaining Time \n",
            "         1       18692.1232         252.5569           31.27s\n",
            "         2       16966.0692         191.3334           30.82s\n",
            "         3       15649.3425         149.5454           31.06s\n",
            "         4       14561.3081         117.1631           30.64s\n",
            "         5       13661.6667          97.1407           30.25s\n",
            "         6       12914.2773          80.1672           29.92s\n",
            "         7       12356.8705          65.5883           29.67s\n",
            "         8       11753.5500          54.3564           29.28s\n",
            "         9       11422.2433          46.7191           29.10s\n",
            "        10       10998.4423          37.8954           28.78s\n",
            "        20        9259.5120           8.3446           25.31s\n",
            "        30        8621.4031           3.1200           22.01s\n",
            "        40        8352.5331           1.5274           18.95s\n",
            "        50        8095.3618           0.6404           15.80s\n",
            "        60        7986.2308          -0.0761           12.68s\n",
            "        70        7807.1418          -0.0593            9.50s\n",
            "        80        7687.0135          -0.5643            6.33s\n",
            "        90        7612.7017          -0.2202            3.16s\n",
            "       100        7563.6379           0.0605            0.00s\n",
            "Score for fold 1 was - 0.7978761061946903\n",
            "      Iter       Train Loss      OOB Improve   Remaining Time \n",
            "         1       18741.1064         263.0572           31.82s\n",
            "         2       17013.1647         193.2325           32.05s\n",
            "         3       15583.3850         154.9383           31.35s\n",
            "         4       14449.1750         125.0117           30.97s\n",
            "         5       13594.1364          98.4979           30.72s\n",
            "         6       12838.9674          80.7447           30.28s\n",
            "         7       12186.3935          64.2831           29.93s\n",
            "         8       11693.3821          57.5302           29.69s\n",
            "         9       11223.7723          45.2746           29.31s\n",
            "        10       10863.7721          38.7781           28.93s\n",
            "        20        9005.3080           7.4859           25.52s\n",
            "        30        8464.7057           1.9212           22.26s\n",
            "        40        8146.5585           1.1431           19.07s\n",
            "        50        7964.5083           0.1134           15.94s\n",
            "        60        7811.9598           0.0399           12.77s\n",
            "        70        7728.5801          -0.4566            9.58s\n",
            "        80        7582.0076           0.0583            6.40s\n",
            "        90        7503.6112          -0.3436            3.20s\n",
            "       100        7431.2469          -0.5322            0.00s\n",
            "Score for fold 5 was - 0.7546239210850801\n",
            "      Iter       Train Loss      OOB Improve   Remaining Time \n",
            "         1       18793.9400         262.8706           31.44s\n",
            "         2       16978.2799         194.0599           30.91s\n",
            "         3       15577.5890         149.7517           30.47s\n",
            "         4       14515.1966         120.9764           30.09s\n",
            "         5       13583.1267          98.3968           29.80s\n",
            "         6       12875.0789          79.0574           29.57s\n",
            "         7       12250.8505          67.7863           29.34s\n",
            "         8       11660.6422          56.0693           29.04s\n",
            "         9       11260.1321          46.1744           28.66s\n",
            "        10       10961.3300          38.3012           28.32s\n",
            "        20        9147.6468           7.5781           25.01s\n",
            "        30        8533.7920           2.6103           21.89s\n",
            "        40        8177.3655           1.1805           18.81s\n",
            "        50        7984.0355           0.2032           15.70s\n",
            "        60        7841.0165           0.1790           12.58s\n",
            "        70        7788.0740           0.0126            9.43s\n",
            "        80        7674.2084           0.0377            6.30s\n",
            "        90        7554.6805           0.1161            3.17s\n",
            "       100        7389.1698           0.0531            0.00s\n",
            "Score for fold 7 was - 0.7968476357267951\n",
            "-------------------------------------------------------------\n",
            "|           |   agree   | disagree  |  discuss  | unrelated |\n",
            "-------------------------------------------------------------\n",
            "|   agree   |    103    |     4     |    618    |    37     |\n",
            "-------------------------------------------------------------\n",
            "| disagree  |    14     |     2     |    143    |     3     |\n",
            "-------------------------------------------------------------\n",
            "|  discuss  |    60     |     4     |   1641    |    95     |\n",
            "-------------------------------------------------------------\n",
            "| unrelated |     2     |     2     |    51     |   3364    |\n",
            "-------------------------------------------------------------\n",
            "Score: 2797.75 out of 3578.75\t(78.17673768774013%)\n",
            "\n",
            "\n",
            "-------------------------------------------------------------\n",
            "|           |   agree   | disagree  |  discuss  | unrelated |\n",
            "-------------------------------------------------------------\n",
            "|   agree   |    269    |     9     |   1533    |    92     |\n",
            "-------------------------------------------------------------\n",
            "| disagree  |    93     |     6     |    521    |    77     |\n",
            "-------------------------------------------------------------\n",
            "|  discuss  |    328    |    11     |   3952    |    173    |\n",
            "-------------------------------------------------------------\n",
            "| unrelated |    68     |     8     |    948    |   17325   |\n",
            "-------------------------------------------------------------\n",
            "Score: 9182.0 out of 11651.25\t(78.80699495762258%)\n"
          ],
          "name": "stdout"
        }
      ]
    },
    {
      "cell_type": "code",
      "metadata": {
        "id": "TZRdgLDIn_ZE",
        "colab_type": "code",
        "colab": {}
      },
      "source": [
        "\n",
        "data = {'Iterations':  [1, 2,3,4,5,6,7,8,9,10,20,30,40,50,60,70,80,90,100],\n",
        "        'Loss': [22194.4070,19779.9174,17959.4557,16603.5056,15511.8594, 14602.8131,13910.4883,13208.1117,12633.8252,12271.9072,10183.7280,9568.5745,9206.9733,9001.6804,8825.1934,\n",
        "                8716.2480, 8578.4964,8487.2534,8403.3948],\n",
        "        \n",
        "        }\n",
        "df_bert = pd.DataFrame (data, columns = ['Iterations','Loss'])"
      ],
      "execution_count": 135,
      "outputs": []
    },
    {
      "cell_type": "code",
      "metadata": {
        "id": "mAQYg3Iepj_2",
        "colab_type": "code",
        "colab": {
          "base_uri": "https://localhost:8080/",
          "height": 294
        },
        "outputId": "c6c954fe-2976-4aff-ccf5-4a1ec0f467c9"
      },
      "source": [
        "# Plotting train loss vs Iterations\n",
        "import matplotlib.pyplot as plt\n",
        "\n",
        "plt.plot(df_bert['Loss'])\n",
        "plt.xlabel('Iterations')\n",
        "plt.xticks([1,3,5,7,9,11,13,15,17,20])\n",
        "plt.ylabel('Loss')\n",
        "plt.title('Train Loss')\n",
        "plt.legend(['Training Loss'])\n",
        "plt.savefig('Gradient_loss.png')\n",
        "plt.show()"
      ],
      "execution_count": 136,
      "outputs": [
        {
          "output_type": "display_data",
          "data": {
            "image/png": "[encoded data removed]",
            "text/plain": [
              "<Figure size 432x288 with 1 Axes>"
            ]
          },
          "metadata": {
            "tags": [],
            "needs_background": "light"
          }
        }
      ]
    },
    {
      "cell_type": "code",
      "metadata": {
        "id": "uVSj0M3ms5dg",
        "colab_type": "code",
        "colab": {}
      },
      "source": [
        "comp_test=pd.read_csv('/content/drive/My Drive/fnc-1/competition_test_stances.csv')"
      ],
      "execution_count": 137,
      "outputs": []
    },
    {
      "cell_type": "code",
      "metadata": {
        "id": "LLlbonFrsRnp",
        "colab_type": "code",
        "colab": {
          "base_uri": "https://localhost:8080/",
          "height": 33
        },
        "outputId": "ab7f8298-d3f7-4698-9c29-042d6f7583fa"
      },
      "source": [
        "#General Loss\n",
        "from sklearn.metrics import accuracy_score\n",
        "accuracy_score(comp_test['Stance'],predicted)"
      ],
      "execution_count": 138,
      "outputs": [
        {
          "output_type": "execute_result",
          "data": {
            "text/plain": [
              "0.8480698854916775"
            ]
          },
          "metadata": {
            "tags": []
          },
          "execution_count": 138
        }
      ]
    },
    {
      "cell_type": "code",
      "metadata": {
        "id": "zHhexcLk6p3v",
        "colab_type": "code",
        "colab": {
          "base_uri": "https://localhost:8080/",
          "height": 116
        },
        "outputId": "6d808028-149f-4455-ad0e-34ebb8553a8f"
      },
      "source": [
        "#Generating answers.csv\n",
        "body_id = []\n",
        "headlines = []\n",
        "stances = np.copy(np.array(predicted))\n",
        "\n",
        "for i in range(len(competition_dataset.stances)):\n",
        "    body_id.append(competition_dataset.stances[i]['Body ID'])\n",
        "    headlines.append(competition_dataset.stances[i]['Headline'])\n",
        "test_data = pd.DataFrame(columns=['Headline', 'Body ID', 'Stance'])\n",
        "test_data['Headline'] = headlines\n",
        "test_data['Body ID'] = body_id\n",
        "test_data['Stance'] = stances\n",
        "print(test_data.head())\n",
        "\n",
        "test_data.to_csv('gradientboost_100.csv', index=False, encoding='utf-8')\n"
      ],
      "execution_count": 139,
      "outputs": [
        {
          "output_type": "stream",
          "text": [
            "                                            Headline  Body ID     Stance\n",
            "0  Ferguson riots: Pregnant woman loses eye after...     2008  unrelated\n",
            "1  Crazy Conservatives Are Sure a Gitmo Detainee ...     1550  unrelated\n",
            "2  A Russian Guy Says His Justin Bieber Ringtone ...        2  unrelated\n",
            "3  Zombie Cat: Buried Kitty Believed Dead, Meows ...     1793  unrelated\n",
            "4  Argentina's President Adopts Boy to End Werewo...       37  unrelated\n"
          ],
          "name": "stdout"
        }
      ]
    },
    {
      "cell_type": "code",
      "metadata": {
        "id": "cFB-fXWMQqwn",
        "colab_type": "code",
        "colab": {
          "base_uri": "https://localhost:8080/",
          "height": 116
        },
        "outputId": "73beb3f7-4a6f-4b95-c80c-77a476d3f53b"
      },
      "source": [
        "#Calculating f1 score of individual stances type(Competition set)\n",
        "from sklearn.metrics import f1_score\n",
        "\n",
        "def calculate_f1scores(y_true, y_predicted):\n",
        "    \n",
        "    f1_macro = f1_score(y_true, y_predicted, average='macro')\n",
        "    f1_classwise = f1_score(y_true, y_predicted, average=None, labels=[\"agree\", \"disagree\", \"discuss\", \"unrelated\"])\n",
        "\n",
        "    result = \"F1 macro: {:.3f}\".format(f1_macro * 100) + \"% \\n\"\n",
        "    result += \"F1 agree: {:.3f}\".format(f1_classwise[0] * 100) + \"% \\n\"\n",
        "    result += \"F1 disagree: {:.3f}\".format(f1_classwise[1] * 100) + \"% \\n\"\n",
        "    result += \"F1 discuss: {:.3f}\".format(f1_classwise[2] * 100) + \"% \\n\"\n",
        "    result += \"F1 unrelated: {:.3f}\".format(f1_classwise[3] * 100) + \"% \\n\"\n",
        "    return result\n",
        "print(calculate_f1scores(predicted,actual))"
      ],
      "execution_count": 140,
      "outputs": [
        {
          "output_type": "stream",
          "text": [
            "F1 macro: 46.823% \n",
            "F1 agree: 20.218% \n",
            "F1 disagree: 1.642% \n",
            "F1 discuss: 69.224% \n",
            "F1 unrelated: 96.207% \n",
            "\n"
          ],
          "name": "stdout"
        }
      ]
    },
    {
      "cell_type": "code",
      "metadata": {
        "id": "MmQT6ieurblj",
        "colab_type": "code",
        "colab": {
          "base_uri": "https://localhost:8080/",
          "height": 200
        },
        "outputId": "3061403d-38b0-4982-d510-cba18b471c78"
      },
      "source": [
        "# calculating precision,recall,f1-score,support for Competition set\n",
        "from sklearn.metrics import classification_report\n",
        "\n",
        "eval_report = classification_report(predicted,actual)\n",
        "print('Test report', eval_report)"
      ],
      "execution_count": 141,
      "outputs": [
        {
          "output_type": "stream",
          "text": [
            "Test report               precision    recall  f1-score   support\n",
            "\n",
            "       agree       0.14      0.35      0.20       758\n",
            "    disagree       0.01      0.18      0.02        34\n",
            "     discuss       0.89      0.57      0.69      6954\n",
            "   unrelated       0.94      0.98      0.96     17667\n",
            "\n",
            "    accuracy                           0.85     25413\n",
            "   macro avg       0.49      0.52      0.47     25413\n",
            "weighted avg       0.90      0.85      0.86     25413\n",
            "\n"
          ],
          "name": "stdout"
        }
      ]
    }
  ]
}